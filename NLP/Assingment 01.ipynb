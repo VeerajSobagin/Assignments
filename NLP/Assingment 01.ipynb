{
 "cells": [
  {
   "cell_type": "markdown",
   "id": "ddcc3384",
   "metadata": {},
   "source": [
    "### 1. Explain One-Hot Encoding\n",
    "One-Hot Encoding: It is a technique used to convert categorical data into numerical form for machine learning models. In this technique, each categorical variable is transformed into a binary vector of zeros and ones. Each value of the categorical variable is assigned a unique integer, and then the integer is converted into a binary vector where the value of the corresponding integer is set to 1, and all other values are set to 0."
   ]
  },
  {
   "cell_type": "markdown",
   "id": "1ae69f59",
   "metadata": {},
   "source": [
    "### 2. Explain Bag of Words\n",
    "Bag of Words: It is a technique used to represent text data in numerical form for machine learning models. In this technique, each document is represented as a bag (multiset) of its words, disregarding grammar and word order, but keeping track of the frequency of each word."
   ]
  },
  {
   "cell_type": "markdown",
   "id": "7cec2a86",
   "metadata": {},
   "source": [
    "### 3. Explain Bag of N-Grams\n",
    "Bag of N-Grams: It is a technique similar to Bag of Words, but instead of considering individual words, it considers sequences of N words (N-grams) as features. For example, a bigram (N=2) representation of the sentence \"The quick brown fox jumps over the lazy dog\" would be {The quick, quick brown, brown fox, fox jumps, jumps over, over the, the lazy, lazy dog}."
   ]
  },
  {
   "cell_type": "markdown",
   "id": "b2073b04",
   "metadata": {},
   "source": [
    "### 4. Explain TF-IDF\n",
    "TF-IDF: Term Frequency-Inverse Document Frequency is a technique used to weigh the importance of words in a text corpus. It is calculated by multiplying the frequency of a word in a document by the logarithm of the total number of documents in the corpus divided by the number of documents containing the word."
   ]
  },
  {
   "cell_type": "markdown",
   "id": "abea585f",
   "metadata": {},
   "source": [
    "### 5. What is OOV problem?\n",
    "OOV problem: Out of Vocabulary problem occurs when a word is encountered in the test data that was not present in the training data. This problem can be challenging as it is not possible to predict the meaning of the word from the training data."
   ]
  },
  {
   "cell_type": "markdown",
   "id": "e2fc7bd0",
   "metadata": {},
   "source": [
    "### 6. What are word embeddings?\n",
    "Word Embeddings: It is a technique used to represent words in a continuous vector space. Each word is represented as a high-dimensional vector, where the position of the vector in the space is learned based on the co-occurrence patterns of the word with other words in a large corpus."
   ]
  },
  {
   "cell_type": "markdown",
   "id": "ddc09a26",
   "metadata": {},
   "source": [
    "### 7. Explain Continuous bag of words (CBOW)\n",
    "Continuous Bag of Words (CBOW): It is a type of neural network architecture used to learn word embeddings. In this architecture, the model predicts the current word given its context (surrounding words), i.e., it predicts the center word based on the surrounding words."
   ]
  },
  {
   "cell_type": "markdown",
   "id": "b2e31166",
   "metadata": {},
   "source": [
    "### 8. Explain SkipGram\n",
    "SkipGram: It is another type of neural network architecture used to learn word embeddings. In this architecture, the model predicts the surrounding words given the current word, i.e., it predicts the surrounding words based on the center word."
   ]
  },
  {
   "cell_type": "markdown",
   "id": "098ac78c",
   "metadata": {},
   "source": [
    "### 9. Explain Glove Embeddings.\n",
    "Glove Embeddings: Global Vectors for Word Representation is a technique used to learn word embeddings. It combines the advantages of both CBOW and SkipGram by constructing a co-occurrence matrix of words based on their frequency of co-occurrence in a large corpus, and then factorizing the matrix to obtain low-dimensional word embeddings."
   ]
  }
 ],
 "metadata": {
  "kernelspec": {
   "display_name": "Python 3 (ipykernel)",
   "language": "python",
   "name": "python3"
  },
  "language_info": {
   "codemirror_mode": {
    "name": "ipython",
    "version": 3
   },
   "file_extension": ".py",
   "mimetype": "text/x-python",
   "name": "python",
   "nbconvert_exporter": "python",
   "pygments_lexer": "ipython3",
   "version": "3.9.12"
  }
 },
 "nbformat": 4,
 "nbformat_minor": 5
}
