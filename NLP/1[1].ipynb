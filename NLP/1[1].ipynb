{
 "cells": [
  {
   "cell_type": "code",
   "execution_count": 1,
   "id": "d4990cf9",
   "metadata": {},
   "outputs": [
    {
     "name": "stdout",
     "output_type": "stream",
     "text": [
      "1\n",
      "fizz\n",
      "buzz\n",
      "fizz\n",
      "5\n",
      "fizzbuzz\n",
      "7\n",
      "fizz\n",
      "buzz\n",
      "fizz\n",
      "11\n",
      "fizzbuzz\n",
      "13\n",
      "fizz\n",
      "buzz\n",
      "fizz\n",
      "17\n",
      "fizzbuzz\n",
      "19\n",
      "fizz\n",
      "buzz\n",
      "fizz\n",
      "23\n",
      "fizzbuzz\n",
      "25\n",
      "fizz\n",
      "buzz\n",
      "fizz\n",
      "29\n",
      "fizzbuzz\n",
      "31\n",
      "fizz\n",
      "buzz\n",
      "fizz\n",
      "35\n",
      "fizzbuzz\n",
      "37\n",
      "fizz\n",
      "buzz\n",
      "fizz\n",
      "41\n",
      "fizzbuzz\n",
      "43\n",
      "fizz\n",
      "buzz\n",
      "fizz\n",
      "47\n",
      "fizzbuzz\n",
      "49\n",
      "fizz\n"
     ]
    }
   ],
   "source": [
    "def fizzbuzz_1_to_50():\n",
    "    for num in range(1, 51):\n",
    "        print('fizzbuzz' if num % 2 == 0 and num % 3 == 0 else 'fizz' if num % 2 == 0 else 'buzz' if num % 3 == 0 else num)\n",
    "\n",
    "fizzbuzz_1_to_50()"
   ]
  },
  {
   "cell_type": "code",
   "execution_count": null,
   "id": "6d133e06",
   "metadata": {},
   "outputs": [],
   "source": []
  }
 ],
 "metadata": {
  "kernelspec": {
   "display_name": "Python 3 (ipykernel)",
   "language": "python",
   "name": "python3"
  },
  "language_info": {
   "codemirror_mode": {
    "name": "ipython",
    "version": 3
   },
   "file_extension": ".py",
   "mimetype": "text/x-python",
   "name": "python",
   "nbconvert_exporter": "python",
   "pygments_lexer": "ipython3",
   "version": "3.9.12"
  }
 },
 "nbformat": 4,
 "nbformat_minor": 5
}
