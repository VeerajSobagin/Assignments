{
 "cells": [
  {
   "cell_type": "markdown",
   "id": "d8a0906e",
   "metadata": {},
   "source": [
    "### 1. What are Corpora?\n",
    "Corpora: Corpora refer to a collection of written or spoken texts, usually in electronic format, that is used as a source of linguistic data for natural language processing (NLP) tasks."
   ]
  },
  {
   "cell_type": "markdown",
   "id": "2bed9d95",
   "metadata": {},
   "source": [
    "### 2. What are Tokens?\n",
    "Tokens: Tokens are the basic units of text that are used for NLP tasks. A token can be a word, a punctuation mark, a number, or any other meaningful unit of text."
   ]
  },
  {
   "cell_type": "markdown",
   "id": "854dcefd",
   "metadata": {},
   "source": [
    "### 3. What are Unigrams, Bigrams, Trigrams?\n",
    "Unigrams, Bigrams, Trigrams: Unigrams, bigrams, and trigrams are types of n-grams used in NLP. Unigrams are single words, bigrams are two adjacent words, and trigrams are three adjacent words."
   ]
  },
  {
   "cell_type": "markdown",
   "id": "e39e30e3",
   "metadata": {},
   "source": [
    "### 4. How to generate n-grams from text?\n",
    "To generate n-grams from text, we can use a simple sliding window approach where we slide a window of size n over the text and generate n-grams at each position. For example, to generate bigrams, we slide a window of size 2 over the text and generate all adjacent pairs of words."
   ]
  },
  {
   "cell_type": "markdown",
   "id": "661acd10",
   "metadata": {},
   "source": [
    "### 5. Explain Lemmatization\n",
    "Lemmatization: It is the process of reducing a word to its base or dictionary form, known as the lemma. For example, the lemma of the word \"running\" is \"run\". It is usually performed using a morphological analysis of the word."
   ]
  },
  {
   "cell_type": "markdown",
   "id": "2781d098",
   "metadata": {},
   "source": [
    "### 6. Explain Stemming\n",
    "Stemming: It is the process of reducing a word to its stem or root form by removing the suffixes or prefixes. For example, the stem of the word \"running\" is \"run\". It is a simpler and faster technique than lemmatization but may not always produce accurate results."
   ]
  },
  {
   "cell_type": "markdown",
   "id": "b31d4dac",
   "metadata": {},
   "source": [
    "### 7. Explain Part-of-speech (POS) tagging\n",
    "Part-of-speech (POS) tagging: It is the process of assigning grammatical tags to each word in a sentence, based on its role and function in the sentence. Common tags include noun, verb, adjective, adverb, pronoun, preposition, conjunction, and interjection."
   ]
  },
  {
   "cell_type": "markdown",
   "id": "c1dd892b",
   "metadata": {},
   "source": [
    "### 8. Explain Chunking or shallow parsing\n",
    "Chunking or shallow parsing: It is the process of identifying and grouping together the syntactically related words in a sentence, such as noun phrases, verb phrases, and prepositional phrases. It is called shallow parsing because it only involves identifying the immediate constituents of a sentence and does not consider the deeper structures."
   ]
  },
  {
   "cell_type": "markdown",
   "id": "35716d61",
   "metadata": {},
   "source": [
    "### 9. Explain Noun Phrase (NP) chunking\n",
    "Noun Phrase (NP) chunking: It is a type of chunking that involves identifying and grouping together the noun phrases in a sentence. A noun phrase is a group of words that functions as a noun in a sentence, such as \"the red car\" or \"a beautiful day\"."
   ]
  },
  {
   "cell_type": "markdown",
   "id": "c18ac767",
   "metadata": {},
   "source": [
    "### 10. Explain Named Entity Recognition\n",
    "Named Entity Recognition (NER): It is the process of identifying and classifying named entities in a text, such as names of persons, organizations, locations, and dates. It involves recognizing the boundaries of the named entities and classifying them into predefined categories."
   ]
  }
 ],
 "metadata": {
  "kernelspec": {
   "display_name": "Python 3 (ipykernel)",
   "language": "python",
   "name": "python3"
  },
  "language_info": {
   "codemirror_mode": {
    "name": "ipython",
    "version": 3
   },
   "file_extension": ".py",
   "mimetype": "text/x-python",
   "name": "python",
   "nbconvert_exporter": "python",
   "pygments_lexer": "ipython3",
   "version": "3.9.12"
  }
 },
 "nbformat": 4,
 "nbformat_minor": 5
}
