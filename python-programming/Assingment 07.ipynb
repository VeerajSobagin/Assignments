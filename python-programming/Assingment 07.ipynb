{
 "cells": [
  {
   "cell_type": "markdown",
   "id": "ec8c1482",
   "metadata": {},
   "source": [
    "### 1. Write a Python Program to find sum of array?"
   ]
  },
  {
   "cell_type": "code",
   "execution_count": 1,
   "id": "69469d41",
   "metadata": {},
   "outputs": [
    {
     "name": "stdout",
     "output_type": "stream",
     "text": [
      "Sum of the array is: 15\n"
     ]
    }
   ],
   "source": [
    "arr = [1, 2, 3, 4, 5]\n",
    "sum = 0\n",
    "\n",
    "for i in arr:\n",
    "    sum += i\n",
    "\n",
    "print(\"Sum of the array is:\", sum)"
   ]
  },
  {
   "cell_type": "markdown",
   "id": "5cc9c150",
   "metadata": {},
   "source": [
    "### 2. Write a Python Program to find largest element in an array?"
   ]
  },
  {
   "cell_type": "code",
   "execution_count": 2,
   "id": "debd22ea",
   "metadata": {},
   "outputs": [
    {
     "name": "stdout",
     "output_type": "stream",
     "text": [
      "Largest element in the array is: 5\n"
     ]
    }
   ],
   "source": [
    "arr = [1, 5, 3, 4, 2]\n",
    "max = arr[0]\n",
    "\n",
    "for i in range(1, len(arr)):\n",
    "    if arr[i] > max:\n",
    "        max = arr[i]\n",
    "\n",
    "print(\"Largest element in the array is:\", max)"
   ]
  },
  {
   "cell_type": "markdown",
   "id": "7e2363e0",
   "metadata": {},
   "source": [
    "### 3. Write a Python Program for array rotation?"
   ]
  },
  {
   "cell_type": "code",
   "execution_count": 3,
   "id": "d6f71b82",
   "metadata": {},
   "outputs": [
    {
     "name": "stdout",
     "output_type": "stream",
     "text": [
      "Rotated array: [4, 5, 1, 2, 3]\n"
     ]
    }
   ],
   "source": [
    "arr = [1, 2, 3, 4, 5]\n",
    "n = 3 # Number of rotations\n",
    "\n",
    "# Using slicing to rotate the array\n",
    "arr = arr[n:] + arr[:n]\n",
    "\n",
    "print(\"Rotated array:\", arr)"
   ]
  },
  {
   "cell_type": "markdown",
   "id": "955cbc3b",
   "metadata": {},
   "source": [
    "### 4. Write a Python Program to Split the array and add the first part to the end?"
   ]
  },
  {
   "cell_type": "code",
   "execution_count": 4,
   "id": "9e4e80e3",
   "metadata": {},
   "outputs": [
    {
     "name": "stdout",
     "output_type": "stream",
     "text": [
      "Split and rotated array: [3, 4, 5, 1, 2]\n"
     ]
    }
   ],
   "source": [
    "arr = [1, 2, 3, 4, 5]\n",
    "n = 2 # Split position\n",
    "\n",
    "# Using slicing to split the array and adding the first part to the end\n",
    "arr = arr[n:] + arr[:n]\n",
    "\n",
    "print(\"Split and rotated array:\", arr)"
   ]
  },
  {
   "cell_type": "markdown",
   "id": "385316c7",
   "metadata": {},
   "source": [
    "### 5. Write a Python Program to check if given array is Monotonic?"
   ]
  },
  {
   "cell_type": "code",
   "execution_count": 5,
   "id": "f1fecb4b",
   "metadata": {},
   "outputs": [
    {
     "name": "stdout",
     "output_type": "stream",
     "text": [
      "True\n",
      "True\n",
      "False\n"
     ]
    }
   ],
   "source": [
    "def is_monotonic(arr):\n",
    "    return all(arr[i] <= arr[i+1] for i in range(len(arr)-1)) or all(arr[i] >= arr[i+1] for i in range(len(arr)-1))\n",
    "\n",
    "arr1 = [1, 2, 3, 4, 5]\n",
    "arr2 = [5, 4, 3, 2, 1]\n",
    "arr3 = [1, 2, 3, 2, 1]\n",
    "\n",
    "print(is_monotonic(arr1)) # True\n",
    "print(is_monotonic(arr2)) # True\n",
    "print(is_monotonic(arr3)) # False"
   ]
  }
 ],
 "metadata": {
  "kernelspec": {
   "display_name": "Python 3 (ipykernel)",
   "language": "python",
   "name": "python3"
  },
  "language_info": {
   "codemirror_mode": {
    "name": "ipython",
    "version": 3
   },
   "file_extension": ".py",
   "mimetype": "text/x-python",
   "name": "python",
   "nbconvert_exporter": "python",
   "pygments_lexer": "ipython3",
   "version": "3.9.12"
  }
 },
 "nbformat": 4,
 "nbformat_minor": 5
}
