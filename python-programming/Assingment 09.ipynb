{
 "cells": [
  {
   "cell_type": "markdown",
   "id": "6e735b03",
   "metadata": {},
   "source": [
    "### 1. Write a Python program to check if the given number is a Disarium Number?"
   ]
  },
  {
   "cell_type": "code",
   "execution_count": 1,
   "id": "123ca564",
   "metadata": {},
   "outputs": [
    {
     "name": "stdout",
     "output_type": "stream",
     "text": [
      "Enter a number: 4564\n",
      "4564 is not a Disarium Number\n"
     ]
    }
   ],
   "source": [
    "num = int(input(\"Enter a number: \"))\n",
    "temp = num\n",
    "count = 0\n",
    "while temp > 0:\n",
    "    count += 1\n",
    "    temp //= 10\n",
    "sum = 0\n",
    "temp = num\n",
    "while temp > 0:\n",
    "    digit = temp % 10\n",
    "    sum += digit ** count\n",
    "    temp //= 10\n",
    "if num == sum:\n",
    "    print(num, \"is a Disarium Number\")\n",
    "else:\n",
    "    print(num, \"is not a Disarium Number\")"
   ]
  },
  {
   "cell_type": "markdown",
   "id": "9dd77fe0",
   "metadata": {},
   "source": [
    "### 2. Write a Python program to print all disarium numbers between 1 to 100?"
   ]
  },
  {
   "cell_type": "code",
   "execution_count": 2,
   "id": "1ac905eb",
   "metadata": {},
   "outputs": [
    {
     "name": "stdout",
     "output_type": "stream",
     "text": [
      "1\n",
      "2\n",
      "3\n",
      "4\n",
      "5\n",
      "6\n",
      "7\n",
      "8\n",
      "9\n"
     ]
    }
   ],
   "source": [
    "for i in range(1, 101):\n",
    "    temp = i\n",
    "    count = 0\n",
    "    while temp > 0:\n",
    "        count += 1\n",
    "        temp //= 10\n",
    "    sum = 0\n",
    "    temp = i\n",
    "    while temp > 0:\n",
    "        digit = temp % 10\n",
    "        sum += digit ** count\n",
    "        temp //= 10\n",
    "    if i == sum:\n",
    "        print(i)"
   ]
  },
  {
   "cell_type": "markdown",
   "id": "60d525d6",
   "metadata": {},
   "source": [
    "### 3. Write a Python program to check if the given number is Happy Number?"
   ]
  },
  {
   "cell_type": "code",
   "execution_count": 3,
   "id": "768b9896",
   "metadata": {},
   "outputs": [
    {
     "name": "stdout",
     "output_type": "stream",
     "text": [
      "Enter a number: 655\n",
      "655 is a Happy Number\n"
     ]
    }
   ],
   "source": [
    "def isHappy(num):\n",
    "    while True:\n",
    "        sum = 0\n",
    "        while num > 0:\n",
    "            digit = num % 10\n",
    "            sum += digit ** 2\n",
    "            num //= 10\n",
    "        if sum == 1:\n",
    "            return True\n",
    "        elif sum == 4:\n",
    "            return False\n",
    "        else:\n",
    "            num = sum\n",
    "\n",
    "num = int(input(\"Enter a number: \"))\n",
    "if isHappy(num):\n",
    "    print(num, \"is a Happy Number\")\n",
    "else:\n",
    "    print(num, \"is not a Happy Number\")"
   ]
  },
  {
   "cell_type": "markdown",
   "id": "6c8ceae8",
   "metadata": {},
   "source": [
    "### 4. Write a Python program to print all happy numbers between 1 and 100?"
   ]
  },
  {
   "cell_type": "code",
   "execution_count": 4,
   "id": "5bf196e7",
   "metadata": {},
   "outputs": [
    {
     "name": "stdout",
     "output_type": "stream",
     "text": [
      "1\n",
      "7\n",
      "10\n",
      "13\n",
      "19\n",
      "23\n",
      "28\n",
      "31\n",
      "32\n",
      "44\n",
      "49\n",
      "68\n",
      "70\n",
      "79\n",
      "82\n",
      "86\n",
      "91\n",
      "94\n",
      "97\n",
      "100\n"
     ]
    }
   ],
   "source": [
    "def isHappy(num):\n",
    "    while True:\n",
    "        sum = 0\n",
    "        while num > 0:\n",
    "            digit = num % 10\n",
    "            sum += digit ** 2\n",
    "            num //= 10\n",
    "        if sum == 1:\n",
    "            return True\n",
    "        elif sum == 4:\n",
    "            return False\n",
    "        else:\n",
    "            num = sum\n",
    "\n",
    "for i in range(1, 101):\n",
    "    if isHappy(i):\n",
    "        print(i)"
   ]
  },
  {
   "cell_type": "markdown",
   "id": "9e5a5557",
   "metadata": {},
   "source": [
    "### 5. Write a Python program to determine whether the given number is a Harshad Number?"
   ]
  },
  {
   "cell_type": "code",
   "execution_count": 5,
   "id": "56419cc7",
   "metadata": {},
   "outputs": [
    {
     "name": "stdout",
     "output_type": "stream",
     "text": [
      "Enter a number: 56489\n",
      "56489 is not a Harshad Number\n"
     ]
    }
   ],
   "source": [
    "num = int(input(\"Enter a number: \"))\n",
    "sum = 0\n",
    "temp = num\n",
    "while temp > 0:\n",
    "    digit = temp % 10\n",
    "    sum += digit\n",
    "    temp //= 10\n",
    "if num % sum == 0:\n",
    "    print(num, \"is a Harshad Number\")\n",
    "else:\n",
    "    print(num, \"is not a Harshad Number\")"
   ]
  },
  {
   "cell_type": "markdown",
   "id": "b24565f1",
   "metadata": {},
   "source": [
    "### 6. Write a Python program to print all pronic numbers between 1 and 100?"
   ]
  },
  {
   "cell_type": "code",
   "execution_count": 6,
   "id": "d9568d99",
   "metadata": {},
   "outputs": [
    {
     "name": "stdout",
     "output_type": "stream",
     "text": [
      "2\n",
      "6\n",
      "12\n",
      "20\n",
      "30\n",
      "42\n",
      "56\n",
      "72\n",
      "90\n"
     ]
    }
   ],
   "source": [
    "for i in range(1, 101):\n",
    "    flag = False\n",
    "    for j in range(1, i):\n",
    "        if j * (j + 1) == i:\n",
    "            flag = True\n",
    "            break\n",
    "    if flag:\n",
    "        print(i)"
   ]
  }
 ],
 "metadata": {
  "kernelspec": {
   "display_name": "Python 3 (ipykernel)",
   "language": "python",
   "name": "python3"
  },
  "language_info": {
   "codemirror_mode": {
    "name": "ipython",
    "version": 3
   },
   "file_extension": ".py",
   "mimetype": "text/x-python",
   "name": "python",
   "nbconvert_exporter": "python",
   "pygments_lexer": "ipython3",
   "version": "3.9.12"
  }
 },
 "nbformat": 4,
 "nbformat_minor": 5
}
