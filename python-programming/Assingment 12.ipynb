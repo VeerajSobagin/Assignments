{
 "cells": [
  {
   "cell_type": "markdown",
   "id": "ad7ff8f1",
   "metadata": {},
   "source": [
    "### 1. Write a Python program to Extract Unique values dictionary values?"
   ]
  },
  {
   "cell_type": "code",
   "execution_count": 1,
   "id": "ac23d8f8",
   "metadata": {},
   "outputs": [
    {
     "name": "stdout",
     "output_type": "stream",
     "text": [
      "{1, 2, 3, 4, 5}\n"
     ]
    }
   ],
   "source": [
    "my_dict = {'a': 1, 'b': 2, 'c': 3, 'd': 2, 'e': 4, 'f': 5, 'g': 3}\n",
    "\n",
    "unique_values = set(my_dict.values())\n",
    "\n",
    "print(unique_values)"
   ]
  },
  {
   "cell_type": "markdown",
   "id": "ccc6b7f8",
   "metadata": {},
   "source": [
    "### 2. Write a Python program to find the sum of all items in a dictionary?"
   ]
  },
  {
   "cell_type": "code",
   "execution_count": 2,
   "id": "8d87c9a9",
   "metadata": {},
   "outputs": [
    {
     "name": "stdout",
     "output_type": "stream",
     "text": [
      "The sum of all items in the dictionary is: 15\n"
     ]
    }
   ],
   "source": [
    "my_dict = {'a': 1, 'b': 2, 'c': 3, 'd': 4, 'e': 5}\n",
    "\n",
    "sum = 0\n",
    "for value in my_dict.values():\n",
    "    sum += value\n",
    "\n",
    "print(\"The sum of all items in the dictionary is:\", sum)"
   ]
  },
  {
   "cell_type": "markdown",
   "id": "1d699e97",
   "metadata": {},
   "source": [
    "### 3. Write a Python program to Merging two Dictionaries?"
   ]
  },
  {
   "cell_type": "code",
   "execution_count": 3,
   "id": "f4d2484b",
   "metadata": {},
   "outputs": [
    {
     "name": "stdout",
     "output_type": "stream",
     "text": [
      "Merged dictionary: {'a': 1, 'b': 2, 'c': 3, 'd': 4, 'e': 5, 'f': 6}\n"
     ]
    }
   ],
   "source": [
    "dict1 = {'a': 1, 'b': 2, 'c': 3}\n",
    "dict2 = {'d': 4, 'e': 5, 'f': 6}\n",
    "\n",
    "dict1.update(dict2)\n",
    "\n",
    "print(\"Merged dictionary:\", dict1)"
   ]
  },
  {
   "cell_type": "markdown",
   "id": "ed3b4157",
   "metadata": {},
   "source": [
    "### 4. Write a Python program to convert key-values list to flat dictionary?"
   ]
  },
  {
   "cell_type": "code",
   "execution_count": 4,
   "id": "f02bd740",
   "metadata": {},
   "outputs": [
    {
     "name": "stdout",
     "output_type": "stream",
     "text": [
      "Flat dictionary: {'a': 1, 'b': 2, 'c': 3}\n"
     ]
    }
   ],
   "source": [
    "keys = ['a', 'b', 'c']\n",
    "values = [1, 2, 3]\n",
    "\n",
    "my_dict = dict(zip(keys, values))\n",
    "\n",
    "print(\"Flat dictionary:\", my_dict)"
   ]
  },
  {
   "cell_type": "markdown",
   "id": "d1eeaebd",
   "metadata": {},
   "source": [
    "### 5. Write a Python program to insertion at the beginning in OrderedDict?"
   ]
  },
  {
   "cell_type": "code",
   "execution_count": 5,
   "id": "e016f87a",
   "metadata": {},
   "outputs": [
    {
     "name": "stdout",
     "output_type": "stream",
     "text": [
      "Updated OrderedDict: OrderedDict([('d', 4), ('a', 1), ('b', 2), ('c', 3)])\n"
     ]
    }
   ],
   "source": [
    "from collections import OrderedDict\n",
    "\n",
    "my_dict = OrderedDict([('a', 1), ('b', 2), ('c', 3)])\n",
    "\n",
    "my_dict.update({'d': 4})\n",
    "my_dict.move_to_end('d', last=False)\n",
    "\n",
    "print(\"Updated OrderedDict:\", my_dict)"
   ]
  },
  {
   "cell_type": "markdown",
   "id": "b40b74c3",
   "metadata": {},
   "source": [
    "### 6. Write a Python program to check order of character in string using OrderedDict()?"
   ]
  },
  {
   "cell_type": "code",
   "execution_count": 6,
   "id": "6a67d406",
   "metadata": {},
   "outputs": [
    {
     "name": "stdout",
     "output_type": "stream",
     "text": [
      "False\n",
      "True\n",
      "True\n",
      "False\n"
     ]
    }
   ],
   "source": [
    "from collections import OrderedDict\n",
    "\n",
    "def check_order(string):\n",
    "    # Create an OrderedDict with the character as key and index as value\n",
    "    char_dict = OrderedDict()\n",
    "    for i, char in enumerate(string):\n",
    "        if char not in char_dict:\n",
    "            char_dict[char] = i\n",
    "    \n",
    "    # Check if the values in the OrderedDict are in ascending order\n",
    "    return list(char_dict.values()) == list(range(len(char_dict)))\n",
    "\n",
    "# Example usage\n",
    "print(check_order(\"hello\")) # True\n",
    "print(check_order(\"world\")) # False\n",
    "print(check_order(\"python\")) # True\n",
    "print(check_order(\"programming\")) # False"
   ]
  },
  {
   "cell_type": "markdown",
   "id": "c56c677e",
   "metadata": {},
   "source": [
    "### 7. Write a Python program to sort Python Dictionaries by Key or Value?"
   ]
  },
  {
   "cell_type": "code",
   "execution_count": 7,
   "id": "8fc1aab5",
   "metadata": {},
   "outputs": [
    {
     "name": "stdout",
     "output_type": "stream",
     "text": [
      "Sorted by key: {1: 'a', 2: 'b', 3: 'c'}\n",
      "Sorted by value: {'cherry': 1, 'banana': 2, 'apple': 3}\n"
     ]
    }
   ],
   "source": [
    "# Sample dictionaries\n",
    "dict1 = {3: 'c', 2: 'b', 1: 'a'}\n",
    "dict2 = {'apple': 3, 'banana': 2, 'cherry': 1}\n",
    "\n",
    "# Sort by key\n",
    "sorted_dict1 = dict(sorted(dict1.items()))\n",
    "print('Sorted by key:', sorted_dict1)\n",
    "\n",
    "# Sort by value\n",
    "sorted_dict2 = dict(sorted(dict2.items(), key=lambda x: x[1]))\n",
    "print('Sorted by value:', sorted_dict2)"
   ]
  }
 ],
 "metadata": {
  "kernelspec": {
   "display_name": "Python 3 (ipykernel)",
   "language": "python",
   "name": "python3"
  },
  "language_info": {
   "codemirror_mode": {
    "name": "ipython",
    "version": 3
   },
   "file_extension": ".py",
   "mimetype": "text/x-python",
   "name": "python",
   "nbconvert_exporter": "python",
   "pygments_lexer": "ipython3",
   "version": "3.9.12"
  }
 },
 "nbformat": 4,
 "nbformat_minor": 5
}
