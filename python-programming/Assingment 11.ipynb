{
 "cells": [
  {
   "cell_type": "markdown",
   "id": "099bae7e",
   "metadata": {},
   "source": [
    "### 1. Write a Python program to find words which are greater than given length k?"
   ]
  },
  {
   "cell_type": "code",
   "execution_count": 1,
   "id": "c92954cf",
   "metadata": {},
   "outputs": [
    {
     "name": "stdout",
     "output_type": "stream",
     "text": [
      "Words with length greater than 4 are: ['sample', 'string', 'testing']\n"
     ]
    }
   ],
   "source": [
    "def find_words(string, k):\n",
    "    words = string.split()\n",
    "    long_words = [word for word in words if len(word) > k]\n",
    "    return long_words\n",
    "\n",
    "string = \"This is a sample string for testing\"\n",
    "k = 4\n",
    "long_words = find_words(string, k)\n",
    "print(\"Words with length greater than\", k, \"are:\", long_words)"
   ]
  },
  {
   "cell_type": "markdown",
   "id": "acaaf862",
   "metadata": {},
   "source": [
    "### 2. Write a Python program for removing i-th character from a string?"
   ]
  },
  {
   "cell_type": "code",
   "execution_count": 2,
   "id": "aca4232d",
   "metadata": {},
   "outputs": [
    {
     "name": "stdout",
     "output_type": "stream",
     "text": [
      "New string after removing character at index 3 : Pyton\n"
     ]
    }
   ],
   "source": [
    "def remove_char(string, i):\n",
    "    new_string = string[:i] + string[i+1:]\n",
    "    return new_string\n",
    "\n",
    "string = \"Python\"\n",
    "i = 3\n",
    "new_string = remove_char(string, i)\n",
    "print(\"New string after removing character at index\", i, \":\", new_string)"
   ]
  },
  {
   "cell_type": "markdown",
   "id": "c9091e14",
   "metadata": {},
   "source": [
    "### 3. Write a Python program to split and join a string?"
   ]
  },
  {
   "cell_type": "code",
   "execution_count": 3,
   "id": "010a756b",
   "metadata": {},
   "outputs": [
    {
     "name": "stdout",
     "output_type": "stream",
     "text": [
      "Original string: This is a sample string\n",
      "New string: This-is-a-sample-string\n"
     ]
    }
   ],
   "source": [
    "def split_join(string):\n",
    "    words = string.split()\n",
    "    new_string = \"-\".join(words)\n",
    "    return new_string\n",
    "\n",
    "string = \"This is a sample string\"\n",
    "new_string = split_join(string)\n",
    "print(\"Original string:\", string)\n",
    "print(\"New string:\", new_string)"
   ]
  },
  {
   "cell_type": "markdown",
   "id": "7be8e7a4",
   "metadata": {},
   "source": [
    "### 4. Write a Python to check if a given string is binary string or not?"
   ]
  },
  {
   "cell_type": "code",
   "execution_count": 4,
   "id": "6174f352",
   "metadata": {},
   "outputs": [
    {
     "name": "stdout",
     "output_type": "stream",
     "text": [
      "The string is a binary string.\n"
     ]
    }
   ],
   "source": [
    "def is_binary(string):\n",
    "    for char in string:\n",
    "        if char != '0' and char != '1':\n",
    "            return False\n",
    "    return True\n",
    "\n",
    "string = \"10101010\"\n",
    "if is_binary(string):\n",
    "    print(\"The string is a binary string.\")\n",
    "else:\n",
    "    print(\"The string is not a binary string.\")"
   ]
  },
  {
   "cell_type": "markdown",
   "id": "2d91d6eb",
   "metadata": {},
   "source": [
    "### 5. Write a Python program to find uncommon words from two Strings?"
   ]
  },
  {
   "cell_type": "code",
   "execution_count": 5,
   "id": "f5ccc303",
   "metadata": {},
   "outputs": [
    {
     "name": "stdout",
     "output_type": "stream",
     "text": [
      "['over', 'dog', 'quick', 'jumps', 'lazy']\n"
     ]
    }
   ],
   "source": [
    "def uncommon_words(str1, str2):\n",
    "    # Split the strings into words\n",
    "    words1 = str1.split()\n",
    "    words2 = str2.split()\n",
    "\n",
    "    # Find the words unique to each string\n",
    "    unique_words1 = set(words1) - set(words2)\n",
    "    unique_words2 = set(words2) - set(words1)\n",
    "\n",
    "    # Return the uncommon words\n",
    "    return list(unique_words1.union(unique_words2))\n",
    "\n",
    "# Example usage\n",
    "str1 = \"the quick brown fox\"\n",
    "str2 = \"the lazy dog jumps over the brown fox\"\n",
    "print(uncommon_words(str1, str2)) # Output: ['jumps', 'lazy', 'dog']"
   ]
  },
  {
   "cell_type": "markdown",
   "id": "4ce5bae1",
   "metadata": {},
   "source": [
    "### 6. Write a Python to find all duplicate characters in string?"
   ]
  },
  {
   "cell_type": "code",
   "execution_count": 6,
   "id": "051976ca",
   "metadata": {},
   "outputs": [
    {
     "name": "stdout",
     "output_type": "stream",
     "text": [
      "['l', 'o']\n"
     ]
    }
   ],
   "source": [
    "def find_duplicate_chars(s):\n",
    "    # Initialize an empty dictionary to keep track of counts\n",
    "    char_count = {}\n",
    "\n",
    "    # Iterate through each character in the string\n",
    "    for char in s:\n",
    "        # Increment the count of this character in the dictionary\n",
    "        char_count[char] = char_count.get(char, 0) + 1\n",
    "\n",
    "    # Find the characters that appeared more than once\n",
    "    duplicates = [char for char, count in char_count.items() if count > 1]\n",
    "\n",
    "    # Return the list of duplicate characters\n",
    "    return duplicates\n",
    "\n",
    "# Example usage\n",
    "s = \"hello world\"\n",
    "print(find_duplicate_chars(s)) # Output: ['l', 'o']"
   ]
  },
  {
   "cell_type": "markdown",
   "id": "6418ec03",
   "metadata": {},
   "source": [
    "### 7. Write a Python Program to check if a string contains any special character?"
   ]
  },
  {
   "cell_type": "code",
   "execution_count": 7,
   "id": "b374b16b",
   "metadata": {},
   "outputs": [
    {
     "name": "stdout",
     "output_type": "stream",
     "text": [
      "True\n",
      "True\n"
     ]
    }
   ],
   "source": [
    "def has_special_chars(s):\n",
    "    # Iterate through each character in the string\n",
    "    for char in s:\n",
    "        # Check if the character is alphanumeric\n",
    "        if not char.isalnum():\n",
    "            return True\n",
    "\n",
    "    # If no special characters were found, return False\n",
    "    return False\n",
    "\n",
    "# Example usage\n",
    "s1 = \"Hello World 123\"\n",
    "s2 = \"Hello@World123\"\n",
    "print(has_special_chars(s1)) # Output: False\n",
    "print(has_special_chars(s2)) # Output: True"
   ]
  }
 ],
 "metadata": {
  "kernelspec": {
   "display_name": "Python 3 (ipykernel)",
   "language": "python",
   "name": "python3"
  },
  "language_info": {
   "codemirror_mode": {
    "name": "ipython",
    "version": 3
   },
   "file_extension": ".py",
   "mimetype": "text/x-python",
   "name": "python",
   "nbconvert_exporter": "python",
   "pygments_lexer": "ipython3",
   "version": "3.9.12"
  }
 },
 "nbformat": 4,
 "nbformat_minor": 5
}
