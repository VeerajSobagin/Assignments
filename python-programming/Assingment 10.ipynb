{
 "cells": [
  {
   "cell_type": "markdown",
   "id": "a9dcc52c",
   "metadata": {},
   "source": [
    "### 1. Write a Python program to find sum of elements in list?"
   ]
  },
  {
   "cell_type": "code",
   "execution_count": 1,
   "id": "6b3c7165",
   "metadata": {},
   "outputs": [
    {
     "name": "stdout",
     "output_type": "stream",
     "text": [
      "Sum of elements in list: 15\n"
     ]
    }
   ],
   "source": [
    "def sumList(lst):\n",
    "    sum = 0\n",
    "    for i in lst:\n",
    "        sum += i\n",
    "    return sum\n",
    "\n",
    "lst = [1, 2, 3, 4, 5]\n",
    "print(\"Sum of elements in list:\", sumList(lst))"
   ]
  },
  {
   "cell_type": "markdown",
   "id": "4d3bcc4a",
   "metadata": {},
   "source": [
    "### 2. Write a Python program to Multiply all numbers in the list?"
   ]
  },
  {
   "cell_type": "code",
   "execution_count": 2,
   "id": "4f11c803",
   "metadata": {},
   "outputs": [
    {
     "name": "stdout",
     "output_type": "stream",
     "text": [
      "Multiplication of elements in list: 120\n"
     ]
    }
   ],
   "source": [
    "def multiplyList(lst):\n",
    "    result = 1\n",
    "    for i in lst:\n",
    "        result *= i\n",
    "    return result\n",
    "\n",
    "lst = [1, 2, 3, 4, 5]\n",
    "print(\"Multiplication of elements in list:\", multiplyList(lst))"
   ]
  },
  {
   "cell_type": "markdown",
   "id": "4078b86c",
   "metadata": {},
   "source": [
    "### 3. Write a Python program to find smallest number in a list?"
   ]
  },
  {
   "cell_type": "code",
   "execution_count": 3,
   "id": "9f0dbe4a",
   "metadata": {},
   "outputs": [
    {
     "name": "stdout",
     "output_type": "stream",
     "text": [
      "Smallest number in list: 1\n"
     ]
    }
   ],
   "source": [
    "def smallestNumber(lst):\n",
    "    min = lst[0]\n",
    "    for i in lst:\n",
    "        if i < min:\n",
    "            min = i\n",
    "    return min\n",
    "\n",
    "lst = [5, 3, 2, 7, 1]\n",
    "print(\"Smallest number in list:\", smallestNumber(lst))"
   ]
  },
  {
   "cell_type": "markdown",
   "id": "86a45a54",
   "metadata": {},
   "source": [
    "### 4. Write a Python program to find largest number in a list?"
   ]
  },
  {
   "cell_type": "code",
   "execution_count": 4,
   "id": "05084a16",
   "metadata": {},
   "outputs": [
    {
     "name": "stdout",
     "output_type": "stream",
     "text": [
      "Largest number in list: 7\n"
     ]
    }
   ],
   "source": [
    "def largestNumber(lst):\n",
    "    max = lst[0]\n",
    "    for i in lst:\n",
    "        if i > max:\n",
    "            max = i\n",
    "    return max\n",
    "\n",
    "lst = [5, 3, 2, 7, 1]\n",
    "print(\"Largest number in list:\", largestNumber(lst))"
   ]
  },
  {
   "cell_type": "markdown",
   "id": "7370bbbe",
   "metadata": {},
   "source": [
    "### 5. Write a Python program to find second largest number in a list?"
   ]
  },
  {
   "cell_type": "code",
   "execution_count": 5,
   "id": "58f9614a",
   "metadata": {},
   "outputs": [
    {
     "name": "stdout",
     "output_type": "stream",
     "text": [
      "Second largest number in list: 5\n"
     ]
    }
   ],
   "source": [
    "def secondLargestNumber(lst):\n",
    "    max = lst[0]\n",
    "    secMax = lst[1]\n",
    "    for i in lst:\n",
    "        if i > max:\n",
    "            secMax = max\n",
    "            max = i\n",
    "        elif i > secMax and i != max:\n",
    "            secMax = i\n",
    "    return secMax\n",
    "\n",
    "lst = [5, 3, 2, 7, 1]\n",
    "print(\"Second largest number in list:\", secondLargestNumber(lst))"
   ]
  },
  {
   "cell_type": "markdown",
   "id": "2e189a2d",
   "metadata": {},
   "source": [
    "### 6. Write a Python program to find N largest elements from a list?"
   ]
  },
  {
   "cell_type": "code",
   "execution_count": 6,
   "id": "129d0ef7",
   "metadata": {},
   "outputs": [
    {
     "name": "stdout",
     "output_type": "stream",
     "text": [
      "N largest elements from list: [7, 5, 3]\n"
     ]
    }
   ],
   "source": [
    "def largestElements(lst, n):\n",
    "    lst.sort(reverse=True)\n",
    "    return lst[:n]\n",
    "\n",
    "lst = [5, 3, 2, 7, 1]\n",
    "n = 3\n",
    "print(\"N largest elements from list:\", largestElements(lst, n))"
   ]
  },
  {
   "cell_type": "markdown",
   "id": "004c6cc3",
   "metadata": {},
   "source": [
    "### 7. Write a Python program to print even numbers in a list?"
   ]
  },
  {
   "cell_type": "code",
   "execution_count": 7,
   "id": "08e32615",
   "metadata": {},
   "outputs": [
    {
     "name": "stdout",
     "output_type": "stream",
     "text": [
      "Even numbers in list: [2, 4]\n"
     ]
    }
   ],
   "source": [
    "def evenNumbers(lst):\n",
    "    result = []\n",
    "    for i in lst:\n",
    "        if i % 2 == 0:\n",
    "            result.append(i)\n",
    "    return result\n",
    "\n",
    "lst = [1, 2, 3, 4, 5]\n",
    "print(\"Even numbers in list:\", evenNumbers(lst))"
   ]
  },
  {
   "cell_type": "markdown",
   "id": "182a1dc7",
   "metadata": {},
   "source": [
    "### 8. Write a Python program to print odd numbers in a List?"
   ]
  },
  {
   "cell_type": "code",
   "execution_count": 8,
   "id": "5625346c",
   "metadata": {},
   "outputs": [
    {
     "name": "stdout",
     "output_type": "stream",
     "text": [
      "Odd numbers in list: [1, 3, 5]\n"
     ]
    }
   ],
   "source": [
    "def oddNumbers(lst):\n",
    "    result = []\n",
    "    for i in lst:\n",
    "        if i % 2 != 0:\n",
    "            result.append(i)\n",
    "    return result\n",
    "\n",
    "lst = [1, 2, 3, 4, 5]\n",
    "print(\"Odd numbers in list:\", oddNumbers(lst))"
   ]
  },
  {
   "cell_type": "markdown",
   "id": "b2d933bd",
   "metadata": {},
   "source": [
    "### 9. Write a Python program to Remove empty List from List?"
   ]
  },
  {
   "cell_type": "code",
   "execution_count": 9,
   "id": "c7d29590",
   "metadata": {},
   "outputs": [
    {
     "name": "stdout",
     "output_type": "stream",
     "text": [
      "List after removing empty lists: [[1, 2], [3, 4, 5]]\n"
     ]
    }
   ],
   "source": [
    "lst = [[], [1, 2], [], [], [3, 4, 5], []]\n",
    "lst = [i for i in lst if i]\n",
    "print(\"List after removing empty lists:\", lst)"
   ]
  },
  {
   "cell_type": "markdown",
   "id": "2c8c17a2",
   "metadata": {},
   "source": [
    "### 10. Write a Python program to Cloning or Copying a list?"
   ]
  },
  {
   "cell_type": "code",
   "execution_count": 10,
   "id": "2aad2d59",
   "metadata": {},
   "outputs": [
    {
     "name": "stdout",
     "output_type": "stream",
     "text": [
      "Original List: [1, 2, 3, 4, 5]\n",
      "Copied List: [1, 2, 3, 4, 5]\n"
     ]
    }
   ],
   "source": [
    "lst1 = [1, 2, 3, 4, 5]\n",
    "lst2 = lst1.copy()\n",
    "print(\"Original List:\", lst1)\n",
    "print(\"Copied List:\", lst2)"
   ]
  },
  {
   "cell_type": "markdown",
   "id": "c4b66dc8",
   "metadata": {},
   "source": [
    "### 11. Write a Python program to Count occurrences of an element in a list?"
   ]
  },
  {
   "cell_type": "code",
   "execution_count": 11,
   "id": "0f28e10e",
   "metadata": {},
   "outputs": [
    {
     "name": "stdout",
     "output_type": "stream",
     "text": [
      "The number of times 2 appears in the list: 3\n"
     ]
    }
   ],
   "source": [
    "lst = [1, 2, 3, 4, 2, 5, 2]\n",
    "elem = 2\n",
    "count = lst.count(elem)\n",
    "print(\"The number of times\", elem, \"appears in the list:\", count)"
   ]
  }
 ],
 "metadata": {
  "kernelspec": {
   "display_name": "Python 3 (ipykernel)",
   "language": "python",
   "name": "python3"
  },
  "language_info": {
   "codemirror_mode": {
    "name": "ipython",
    "version": 3
   },
   "file_extension": ".py",
   "mimetype": "text/x-python",
   "name": "python",
   "nbconvert_exporter": "python",
   "pygments_lexer": "ipython3",
   "version": "3.9.12"
  }
 },
 "nbformat": 4,
 "nbformat_minor": 5
}
