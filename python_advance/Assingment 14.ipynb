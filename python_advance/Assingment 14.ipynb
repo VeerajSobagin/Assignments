{
 "cells": [
  {
   "cell_type": "markdown",
   "id": "49e06a0d",
   "metadata": {},
   "source": [
    "### Q1. Is an assignment operator like += only for show? Is it possible that it would lead to faster results at the runtime?\n",
    "An assignment operator like += is not only for show, it can lead to faster results at runtime in certain situations. For mutable objects like lists, using += to append elements is generally faster than using the + operator to concatenate two lists because the former modifies the original list in place, while the latter creates a new list."
   ]
  },
  {
   "cell_type": "markdown",
   "id": "4c1309a2",
   "metadata": {},
   "source": [
    "### Q2. What is the smallest number of statements you'd have to write in most programming languages to replace the Python expression a, b = a + b, a?\n",
    "In most programming languages, you would need to write three statements to replace the Python expression a, b = a + b, a:\n",
    "\n",
    "`temp = a + b\n",
    "a = b\n",
    "b = temp`"
   ]
  },
  {
   "cell_type": "markdown",
   "id": "aac9b018",
   "metadata": {},
   "source": [
    "### Q3. In Python, what is the most effective way to set a list of 100 integers to 0?\n",
    "The most effective way to set a list of 100 integers to 0 in Python is to use a list comprehension:\n",
    "\n",
    "`my_list = [0] * 100`"
   ]
  },
  {
   "cell_type": "markdown",
   "id": "a0419dc1",
   "metadata": {},
   "source": [
    "### Q4. What is the most effective way to initialise a list of 99 integers that repeats the sequence 1, 2, 3? S If necessary, show step-by-step instructions on how to accomplish this.\n",
    "The most effective way to initialize a list of 99 integers that repeats the sequence 1, 2, 3 is to use a list comprehension:\n",
    "\n",
    "`my_list = [i % 3 + 1 for i in range(99)]`"
   ]
  },
  {
   "cell_type": "markdown",
   "id": "88a138b1",
   "metadata": {},
   "source": [
    "### Q5. If you're using IDLE to run a Python application, explain how to print a multidimensional list as efficiently?\n",
    "To print a multidimensional list efficiently in IDLE, you can use the pprint module:\n",
    "\n",
    "\n",
    "`import pprint\n",
    "my_list = [[1, 2, 3], [4, 5, 6], [7, 8, 9]]\n",
    "pprint.pprint(my_list)`"
   ]
  },
  {
   "cell_type": "markdown",
   "id": "b8e455cd",
   "metadata": {},
   "source": [
    "### Q6. Is it possible to use list comprehension with a string? If so, how can you go about doing it?\n",
    "Yes, it is possible to use list comprehension with a string. For example, you can create a list of the ASCII codes of the characters in a string using:\n",
    "\n",
    "`my_string = \"hello\"\n",
    "ascii_list = [ord(c) for c in my_string]`"
   ]
  },
  {
   "cell_type": "markdown",
   "id": "9bd371e4",
   "metadata": {},
   "source": [
    "### Q7. From the command line, how do you get support with a user-written Python programme? Is this possible from inside IDLE?\n",
    "From the command line, you can get support with a user-written Python program by running the program with the -h or --help option, which will display the program's help message if it has one. You can also import the program as a module in the Python interactive shell and use the help() function to get information on its functions and classes. In IDLE, you can use the same method to get help on functions and classes, or you can use the integrated help system by pressing F1 on a selected function or class."
   ]
  },
  {
   "cell_type": "markdown",
   "id": "a13071b0",
   "metadata": {},
   "source": [
    "### Q8. Functions are said to be “first-class objects” in Python but not in most other languages, such as C++ or Java. What can you do in Python with a function (callable object) that you can't do in C or C++?\n",
    "In Python, functions are first-class objects, which means they can be passed as arguments to other functions, returned as values from functions, and assigned to variables. This enables many powerful programming paradigms, such as functional programming and closures, that are not possible or difficult to implement in C or C++."
   ]
  },
  {
   "cell_type": "markdown",
   "id": "a5a59753",
   "metadata": {},
   "source": [
    "### Q9. How do you distinguish between a wrapper, a wrapped feature, and a decorator?\n",
    "In Python, a wrapper is a function that takes another function as an argument and adds some functionality to it without modifying its source code. A wrapped feature is the original function being wrapped. A decorator is a special kind of wrapper that uses the @ symbol and is applied directly to the function being decorated."
   ]
  },
  {
   "cell_type": "markdown",
   "id": "508d0c6e",
   "metadata": {},
   "source": [
    "### Q10. If a function is a generator function, what does it return?\n",
    "If a function is a generator function, it does not return a value like a regular function. Instead, it returns a generator object, which is an iterator that generates a sequence of values when iterated over using a for loop or the next() function."
   ]
  },
  {
   "cell_type": "markdown",
   "id": "765ab081",
   "metadata": {},
   "source": [
    "### Q11. What is the one improvement that must be made to a function in order for it to become a generator function in the Python language?\n",
    "The one improvement that must be made to a function in order for it to become a generator function in Python is to use the yield keyword instead of the return keyword to generate values one at a time."
   ]
  },
  {
   "cell_type": "markdown",
   "id": "01fcce95",
   "metadata": {},
   "source": [
    "### Q12. Identify at least one benefit of generators.\n",
    "One benefit of generators is that they allow you to generate and process large sequences of values without creating them all in memory at once. This can save memory and increase performance, especially when dealing with large data sets or infinite sequences. Additionally, generators can be composed and pipelined together to create complex data processing pipelines with minimal memory overhead."
   ]
  }
 ],
 "metadata": {
  "kernelspec": {
   "display_name": "Python 3 (ipykernel)",
   "language": "python",
   "name": "python3"
  },
  "language_info": {
   "codemirror_mode": {
    "name": "ipython",
    "version": 3
   },
   "file_extension": ".py",
   "mimetype": "text/x-python",
   "name": "python",
   "nbconvert_exporter": "python",
   "pygments_lexer": "ipython3",
   "version": "3.9.12"
  }
 },
 "nbformat": 4,
 "nbformat_minor": 5
}
