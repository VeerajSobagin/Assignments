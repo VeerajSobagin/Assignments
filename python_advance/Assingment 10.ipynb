{
 "cells": [
  {
   "cell_type": "markdown",
   "id": "3a3146e8",
   "metadata": {},
   "source": [
    "### Q1. What is the difference between __getattr__ and __getattribute__?\n",
    "The main difference between `__getattr__` and `__getattribute__` is that `__getattr__` is called when an attribute is not found by looking up the instance and its class, whereas `__getattribute__` is called every time an attribute is accessed. `__getattr__` is called only when the attribute is not found by any other means, whereas `__getattribute__` is called every time an attribute is accessed, regardless of whether or not it exists."
   ]
  },
  {
   "cell_type": "markdown",
   "id": "4719fb47",
   "metadata": {},
   "source": [
    "### Q2. What is the difference between properties and descriptors?\n",
    "Both properties and descriptors are ways to define computed attributes in Python. The key difference between the two is that properties are defined at the class level, whereas descriptors are defined at the instance level. Properties are defined using the `@property` decorator, whereas descriptors are defined by implementing the `__get__`, `__set__`, and/or `__delete__` methods."
   ]
  },
  {
   "cell_type": "markdown",
   "id": "6a49a8d3",
   "metadata": {},
   "source": [
    "### Q3. What are the key differences in functionality between __getattr__ and __getattribute__, as well as properties and descriptors?\n",
    "`__getattr__` and `__getattribute__` both provide a way to customize attribute access in Python, but they differ in their behavior. `__getattr__` is only called when an attribute cannot be found through normal attribute lookup, whereas `__getattribute__` is called on every attribute access, even if the attribute exists. Properties and descriptors are both ways to define computed attributes, but they differ in how they are defined and how they are accessed. Properties are defined at the class level and accessed using dot notation, whereas descriptors are defined at the instance level and accessed using attribute access notation. Descriptors also allow more fine-grained control over attribute access, as they define the behavior of the `__get__`, `__set__`, and `__delete__` methods."
   ]
  }
 ],
 "metadata": {
  "kernelspec": {
   "display_name": "Python 3 (ipykernel)",
   "language": "python",
   "name": "python3"
  },
  "language_info": {
   "codemirror_mode": {
    "name": "ipython",
    "version": 3
   },
   "file_extension": ".py",
   "mimetype": "text/x-python",
   "name": "python",
   "nbconvert_exporter": "python",
   "pygments_lexer": "ipython3",
   "version": "3.9.12"
  }
 },
 "nbformat": 4,
 "nbformat_minor": 5
}
