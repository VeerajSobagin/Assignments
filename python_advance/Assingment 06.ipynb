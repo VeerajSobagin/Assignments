{
 "cells": [
  {
   "cell_type": "markdown",
   "id": "ce0c9e73",
   "metadata": {},
   "source": [
    "### Q1. Describe three applications for exception processing.\n",
    "Exception processing is used in three main applications:\n",
    "\n",
    "- To detect and handle errors that occur during program execution\n",
    "- To signal events and conditions that require attention and handling\n",
    "- To implement control flow constructs that deviate from the normal execution path\n"
   ]
  },
  {
   "cell_type": "markdown",
   "id": "10f39579",
   "metadata": {},
   "source": [
    "### Q2. What happens if you don't do something extra to treat an exception?\n",
    "If you don't do something extra to treat an exception, it will propagate up the call stack until it is caught by a handler or it reaches the top-level of the program, causing the program to terminate and displaying an error message."
   ]
  },
  {
   "cell_type": "markdown",
   "id": "380f89cb",
   "metadata": {},
   "source": [
    "### Q3. What are your options for recovering from an exception in your script?\n",
    "- Handling the exception using a try-except block\n",
    "- Raising a new exception with a different message or type\n",
    "- Continuing with the program's normal execution path if the exception is non-fatal\n",
    "- Terminating the program if the exception is fatal or if the program cannot recover from it"
   ]
  },
  {
   "cell_type": "markdown",
   "id": "d8ed2778",
   "metadata": {},
   "source": [
    "### Q4. Describe two methods for triggering exceptions in your script.\n",
    " Two methods for triggering exceptions in your script are:\n",
    "\n",
    "- Using the raise statement to raise an exception explicitly\n",
    "- Calling a function or method that raises an exception as a result of invalid input or other error conditions"
   ]
  },
  {
   "cell_type": "markdown",
   "id": "398dfbdb",
   "metadata": {},
   "source": [
    "### Q5. Identify two methods for specifying actions to be executed at termination time, regardless of whether or not an exception exists.\n",
    "Two methods for specifying actions to be executed at termination time, regardless of whether or not an exception exists are:\n",
    "\n",
    "- Using the finally clause of a try-except block to specify cleanup code that should be executed even if an exception occurs\n",
    "- Using the atexit module to register functions that should be executed when the program terminates normally"
   ]
  }
 ],
 "metadata": {
  "kernelspec": {
   "display_name": "Python 3 (ipykernel)",
   "language": "python",
   "name": "python3"
  },
  "language_info": {
   "codemirror_mode": {
    "name": "ipython",
    "version": 3
   },
   "file_extension": ".py",
   "mimetype": "text/x-python",
   "name": "python",
   "nbconvert_exporter": "python",
   "pygments_lexer": "ipython3",
   "version": "3.9.12"
  }
 },
 "nbformat": 4,
 "nbformat_minor": 5
}
