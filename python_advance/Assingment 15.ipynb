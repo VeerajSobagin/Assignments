{
 "cells": [
  {
   "cell_type": "markdown",
   "id": "d2eb9e23",
   "metadata": {},
   "source": [
    "### 1. What are the new features added in Python 3.8 version?\n",
    "Python 3.8 introduced several new features and improvements, some of which are:\n",
    "\n",
    "- The assignment expressions (also known as the \"walrus operator\") :=, which allows assignment inside expressions\n",
    "- Positional-only parameters in functions, using the / syntax\n",
    "- f-strings now support = for specifying the string format specifier\n",
    "- The math.prod() function, which returns the product of all the elements in an iterable\n",
    "- Improved performance for various built-in operations such as dictionary lookups and string methods\n",
    "- Syntax for specifying a generic type using the typing module, such as List[str] or Dict[str, int]\n",
    "- Support for using the importlib.metadata module to access distribution metadata for installed packages\n",
    "- Support for using the asyncio.run() function to run a coroutine as the main entry point of a Python application"
   ]
  },
  {
   "cell_type": "markdown",
   "id": "997c30bc",
   "metadata": {},
   "source": [
    "### 2. What is monkey patching in Python?\n",
    "Monkey patching is a technique in Python that allows you to modify the behavior of a module, class, or object at runtime by replacing or adding attributes or methods. This is typically done by assigning a new value to an attribute or method of the module, class, or object after it has been defined.\n",
    "\n",
    "While monkey patching can be a powerful tool for extending or customizing the behavior of Python code, it can also be a dangerous practice if used improperly, as it can lead to unexpected behavior and difficult-to-debug issues."
   ]
  },
  {
   "cell_type": "markdown",
   "id": "9ada5243",
   "metadata": {},
   "source": [
    "### 3. What is the difference between a shallow copy and deep copy?\n",
    "In Python, a shallow copy of a list, dictionary, or other mutable object creates a new object that contains references to the same items as the original object. This means that changes made to the items in the original object will be reflected in the copy, and vice versa. On the other hand, a deep copy creates a new object that contains copies of the items in the original object, so changes made to the items in one object will not affect the other."
   ]
  },
  {
   "cell_type": "markdown",
   "id": "f9bd13f1",
   "metadata": {},
   "source": [
    "### 4. What is the maximum possible length of an identifier?\n",
    "In Python, the maximum length of an identifier (i.e., a variable, function, or class name) is implementation-dependent and can vary based on the Python interpreter being used. However, most implementations have a limit of at least a few thousand characters."
   ]
  },
  {
   "cell_type": "markdown",
   "id": "27f5e7b9",
   "metadata": {},
   "source": [
    "### 5. What is generator comprehension?\n",
    "Generator comprehension is a compact way of creating a generator object in Python using a single line of code. It is similar to list comprehension, but instead of creating a list, it creates a generator that can be used to lazily produce a sequence of values.\n",
    "\n",
    "The syntax for generator comprehension is similar to that of list comprehension, but uses parentheses instead of square brackets"
   ]
  }
 ],
 "metadata": {
  "kernelspec": {
   "display_name": "Python 3 (ipykernel)",
   "language": "python",
   "name": "python3"
  },
  "language_info": {
   "codemirror_mode": {
    "name": "ipython",
    "version": 3
   },
   "file_extension": ".py",
   "mimetype": "text/x-python",
   "name": "python",
   "nbconvert_exporter": "python",
   "pygments_lexer": "ipython3",
   "version": "3.9.12"
  }
 },
 "nbformat": 4,
 "nbformat_minor": 5
}
