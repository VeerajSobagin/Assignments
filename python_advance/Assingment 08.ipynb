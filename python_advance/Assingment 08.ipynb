{
 "cells": [
  {
   "cell_type": "markdown",
   "id": "78b31fb5",
   "metadata": {},
   "source": [
    "### Q1. What are the two latest user-defined exception constraints in Python 3.X?\n",
    "The two latest user-defined exception constraints in Python 3.X are:\n",
    "\n",
    "- All exceptions must be derived from the BaseException class or one of its subclasses.\n",
    "- All exception classes should define a str or repr method to provide a string representation of the exception."
   ]
  },
  {
   "cell_type": "markdown",
   "id": "d35464a2",
   "metadata": {},
   "source": [
    "### Q2. How are class-based exceptions that have been raised matched to handlers?\n",
    "Class-based exceptions that have been raised are matched to handlers based on their type hierarchy. When an exception is raised, Python searches for the closest handler that can handle the exception by looking at the handler's except clause. If the exception type matches the type of the raised exception or is a superclass of the raised exception, the handler is considered a match and its associated code is executed."
   ]
  },
  {
   "cell_type": "markdown",
   "id": "39357a0d",
   "metadata": {},
   "source": [
    "### Q3. Describe two methods for attaching context information to exception artefacts.\n",
    "Two methods for attaching context information to exception artifacts are:\n",
    "\n",
    "- Adding custom attributes to the exception object: You can add custom attributes to the exception object using the init method of the exception class. This can be useful for providing additional context information about the error.\n",
    "- Using the contextlib.contextmanager decorator: You can use this decorator to create a context manager that can attach context information to the exception object. This can be useful for providing additional context information that is specific to a particular block of code."
   ]
  },
  {
   "cell_type": "markdown",
   "id": "75ffc82c",
   "metadata": {},
   "source": [
    "### Q4. Describe two methods for specifying the text of an exception object's error message.\n",
    "Two methods for specifying the text of an exception object's error message are:\n",
    "\n",
    "- Passing a string message to the exception constructor: You can pass a string message to the exception constructor when you raise the exception. This message will be included in the exception object's error message.\n",
    "- Defining a str method in the exception class: You can define a str method in the exception class to provide a string representation of the exception. This can be useful for customizing the error message."
   ]
  },
  {
   "cell_type": "markdown",
   "id": "87ec720f",
   "metadata": {},
   "source": [
    "### Q5. Why do you no longer use string-based exceptions?\n",
    "String-based exceptions are no longer used in Python because they are not as flexible or expressive as class-based exceptions. With string-based exceptions, you can only match exceptions based on their string representation, which can be error-prone and not very informative. Class-based exceptions provide a more structured and extensible way of defining and handling exceptions. They also allow for more precise exception handling based on the type hierarchy of the exception classes."
   ]
  }
 ],
 "metadata": {
  "kernelspec": {
   "display_name": "Python 3 (ipykernel)",
   "language": "python",
   "name": "python3"
  },
  "language_info": {
   "codemirror_mode": {
    "name": "ipython",
    "version": 3
   },
   "file_extension": ".py",
   "mimetype": "text/x-python",
   "name": "python",
   "nbconvert_exporter": "python",
   "pygments_lexer": "ipython3",
   "version": "3.9.12"
  }
 },
 "nbformat": 4,
 "nbformat_minor": 5
}
