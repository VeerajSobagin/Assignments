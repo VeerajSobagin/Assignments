{
 "cells": [
  {
   "cell_type": "markdown",
   "id": "bb46800d",
   "metadata": {},
   "source": [
    "### 1. What is the concept of an abstract superclass?\n",
    "An abstract superclass is a class that is designed to be inherited by other classes. It defines the basic structure and behavior that all of its subclasses should follow, but it does not provide a complete implementation of all of its methods. Instead, it leaves some methods as abstract or \"empty\" methods, which are intended to be overridden by its subclasses. Abstract superclasses are used to create a consistent and reusable set of functionality that can be shared by multiple related classes."
   ]
  },
  {
   "cell_type": "markdown",
   "id": "f116bafe",
   "metadata": {},
   "source": [
    "### 2. What happens when a class statement's top level contains a basic assignment statement?\n",
    "When a class statement's top level contains a basic assignment statement, the name that is assigned becomes a class attribute. This means that the name is shared by all instances of the class, and can be accessed using either the class name or the instance name. However, if the assignment statement is inside a method or other nested scope, then the name becomes a local variable that is only accessible within that scope."
   ]
  },
  {
   "cell_type": "markdown",
   "id": "8aa67d53",
   "metadata": {},
   "source": [
    "### 3. Why does a class need to manually call a superclass's __init__ method?\n",
    "A class needs to manually call a superclass's init method in order to ensure that the superclass's initialization code is run when creating an instance of the subclass. If the subclass does not call the superclass's init method, then the superclass's initialization code will not be executed, and the subclass may not function correctly. The superclass's init method can be called using the super() function, which returns a temporary object of the superclass that can be used to call its methods."
   ]
  },
  {
   "cell_type": "markdown",
   "id": "f09b69f1",
   "metadata": {},
   "source": [
    "### 4. How can you augment, instead of completely replacing, an inherited method?\n",
    "To augment an inherited method, you can define a new method in the subclass with the same name as the inherited method. Within the new method, you can call the inherited method using the super() function, and then modify the result as needed. This allows you to reuse the existing behavior of the inherited method, while also adding new functionality specific to the subclass."
   ]
  },
  {
   "cell_type": "markdown",
   "id": "e1453ffb",
   "metadata": {},
   "source": [
    "### 5. How is the local scope of a class different from that of a function?\n",
    "The local scope of a class is different from that of a function in several ways. First, a class's local scope includes all of the class's methods and attributes, as well as any variables defined inside those methods. Second, a class's local scope is shared by all instances of the class, whereas a function's local scope is created anew each time the function is called. Finally, a class's local scope can be accessed using either the class name or an instance name, whereas a function's local scope can only be accessed using the function's name."
   ]
  }
 ],
 "metadata": {
  "kernelspec": {
   "display_name": "Python 3 (ipykernel)",
   "language": "python",
   "name": "python3"
  },
  "language_info": {
   "codemirror_mode": {
    "name": "ipython",
    "version": 3
   },
   "file_extension": ".py",
   "mimetype": "text/x-python",
   "name": "python",
   "nbconvert_exporter": "python",
   "pygments_lexer": "ipython3",
   "version": "3.9.12"
  }
 },
 "nbformat": 4,
 "nbformat_minor": 5
}
