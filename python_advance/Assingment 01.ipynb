{
 "cells": [
  {
   "cell_type": "markdown",
   "id": "4bd6a0e9",
   "metadata": {},
   "source": [
    "### Q1. What is the purpose of Python's OOP?\n",
    "The purpose of Python's Object-Oriented Programming (OOP) is to organize and structure code into objects, which have attributes (variables) and methods (functions). OOP allows developers to create reusable and modular code, making it easier to maintain and update."
   ]
  },
  {
   "cell_type": "markdown",
   "id": "c7835501",
   "metadata": {},
   "source": [
    "### Q2. Where does an inheritance search look for an attribute?\n",
    "Inheritance search looks for an attribute in the current class, and if it's not found, it looks in the parent class or superclasses, following the inheritance chain until it finds the attribute or reaches the top of the hierarchy."
   ]
  },
  {
   "cell_type": "markdown",
   "id": "677b9952",
   "metadata": {},
   "source": [
    "### Q3. How do you distinguish between a class object and an instance object?\n",
    "A class object is a blueprint for creating instances, while an instance object is a specific occurrence of a class, with its own set of attributes and methods."
   ]
  },
  {
   "cell_type": "markdown",
   "id": "74059e2b",
   "metadata": {},
   "source": [
    "### Q4. What makes the first argument in a class’s method function special?\n",
    "The first argument in a class's method function (usually named `self`) refers to the instance object that the method is called on. It allows access to the instance's attributes and methods."
   ]
  },
  {
   "cell_type": "markdown",
   "id": "9c2b1aa8",
   "metadata": {},
   "source": [
    "### Q5. What is the purpose of the __init__ method?\n",
    "The `__init__` method is a special method in Python classes that is called when a new instance is created. It initializes the instance's attributes and can take arguments to set their initial values."
   ]
  },
  {
   "cell_type": "markdown",
   "id": "6f1aabea",
   "metadata": {},
   "source": [
    "### Q6. What is the process for creating a class instance?\n",
    "To create a class instance, you first create an object of the class by calling the class with any required arguments. For example, `my_instance = MyClass(arg1, arg2)` creates an instance object of the `MyClass` class with initial attribute values set by the `__init__` method."
   ]
  },
  {
   "cell_type": "markdown",
   "id": "36386751",
   "metadata": {},
   "source": [
    "### Q7. What is the process for creating a class?\n",
    "To create a class in Python, you use the `class` keyword followed by the class name and a colon. Within the class block, you define the class's attributes and methods using regular Python syntax."
   ]
  },
  {
   "cell_type": "markdown",
   "id": "5ce0b16f",
   "metadata": {},
   "source": [
    "### Q8. How would you define the superclasses of a class?\n",
    "The superclasses of a class are defined in the class header using parentheses and a comma-separated list of superclass names. For example, `class MyClass(MyParentClass, MyOtherParentClass):` defines `MyParentClass` and `MyOtherParentClass` as the two superclasses of `MyClass`."
   ]
  }
 ],
 "metadata": {
  "kernelspec": {
   "display_name": "Python 3 (ipykernel)",
   "language": "python",
   "name": "python3"
  },
  "language_info": {
   "codemirror_mode": {
    "name": "ipython",
    "version": 3
   },
   "file_extension": ".py",
   "mimetype": "text/x-python",
   "name": "python",
   "nbconvert_exporter": "python",
   "pygments_lexer": "ipython3",
   "version": "3.9.12"
  }
 },
 "nbformat": 4,
 "nbformat_minor": 5
}
