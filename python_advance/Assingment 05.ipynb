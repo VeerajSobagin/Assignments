{
 "cells": [
  {
   "cell_type": "markdown",
   "id": "16bdd972",
   "metadata": {},
   "source": [
    "### Q1. What is the meaning of multiple inheritance?\n",
    "Multiple inheritance is a feature of some object-oriented programming languages, including Python, which allows a class to inherit from more than one superclass. This means that a subclass can inherit attributes and methods from multiple superclasses, providing a more flexible and powerful way to reuse code."
   ]
  },
  {
   "cell_type": "markdown",
   "id": "ffe4716c",
   "metadata": {},
   "source": [
    "### Q2. What is the concept of delegation?\n",
    "Delegation is a technique in object-oriented programming where an object forwards a method call to another object that has the appropriate implementation for that method. This is often used when a class needs to provide functionality that is already implemented by another class, but it does not want to inherit that functionality directly."
   ]
  },
  {
   "cell_type": "markdown",
   "id": "36db77e5",
   "metadata": {},
   "source": [
    "### Q3. What is the concept of composition?\n",
    "Composition is a technique in object-oriented programming where a class is composed of one or more instances of other classes, rather than inheriting behavior from those classes. This allows for greater flexibility and modularity in design, as classes can be combined and reused in different ways."
   ]
  },
  {
   "cell_type": "markdown",
   "id": "8aa6c2d3",
   "metadata": {},
   "source": [
    "### Q4. What are bound methods and how do we use them?\n",
    "Bound methods are methods that have been bound to a specific object instance. When a method is called on an object instance, the object is passed as the first argument to the method automatically, allowing the method to access the object's data and behavior."
   ]
  },
  {
   "cell_type": "markdown",
   "id": "40b3992d",
   "metadata": {},
   "source": [
    "### Q5. What is the purpose of pseudoprivate attributes?\n",
    "Pseudoprivate attributes are attributes in a class that are prefixed with two underscores (e.g. \"__attribute\"). These attributes are not truly private, but are instead name-mangled to avoid naming conflicts with other attributes in subclasses. The purpose of pseudoprivate attributes is to prevent accidental name clashes with other attributes, while still allowing subclasses to override or extend the behavior of the class."
   ]
  }
 ],
 "metadata": {
  "kernelspec": {
   "display_name": "Python 3 (ipykernel)",
   "language": "python",
   "name": "python3"
  },
  "language_info": {
   "codemirror_mode": {
    "name": "ipython",
    "version": 3
   },
   "file_extension": ".py",
   "mimetype": "text/x-python",
   "name": "python",
   "nbconvert_exporter": "python",
   "pygments_lexer": "ipython3",
   "version": "3.9.12"
  }
 },
 "nbformat": 4,
 "nbformat_minor": 5
}
