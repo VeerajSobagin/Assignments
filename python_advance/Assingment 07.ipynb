{
 "cells": [
  {
   "cell_type": "markdown",
   "id": "3529ecaf",
   "metadata": {},
   "source": [
    "### Q1. What is the purpose of the try statement?\n",
    "The purpose of the try statement in Python is to identify a block of code for which you want to control error handling. The block is followed by one or more except clauses which describe what to do if a specific exception is raised in the try block."
   ]
  },
  {
   "cell_type": "markdown",
   "id": "e07d761f",
   "metadata": {},
   "source": [
    "### Q2. What are the two most popular try statement variations?\n",
    "The two most popular try statement variations are the try/except/else and the try/finally statements. The try/except/else statement allows you to specify code that should be executed only if no exceptions were raised, while the try/finally statement allows you to specify code that should be executed no matter what, even if an exception is raised."
   ]
  },
  {
   "cell_type": "markdown",
   "id": "5e48bdca",
   "metadata": {},
   "source": [
    "### Q3. What is the purpose of the raise statement?\n",
    "The raise statement in Python is used to explicitly raise an exception. It is followed by the type of exception to be raised, and optionally a message describing the exception."
   ]
  },
  {
   "cell_type": "markdown",
   "id": "db65bdec",
   "metadata": {},
   "source": [
    "### Q4. What does the assert statement do, and what other statement is it like?\n",
    "The assert statement in Python is used to check whether a certain condition is true, and triggers an AssertionError if the condition is false. It is similar to an if statement, but it terminates the program if the condition is false."
   ]
  },
  {
   "cell_type": "markdown",
   "id": "6953a887",
   "metadata": {},
   "source": [
    "### Q5. What is the purpose of the with/as argument, and what other statement is it like?\n",
    "The purpose of the with/as argument is to simplify the process of opening and closing files or network connections. The with statement sets up a temporary context in which an object is bound to a local variable, and automatically closes the object when the block is exited. The with statement is similar to a try/finally statement in that it ensures that certain code is always executed, but with/as provides a more concise syntax for resource management."
   ]
  }
 ],
 "metadata": {
  "kernelspec": {
   "display_name": "Python 3 (ipykernel)",
   "language": "python",
   "name": "python3"
  },
  "language_info": {
   "codemirror_mode": {
    "name": "ipython",
    "version": 3
   },
   "file_extension": ".py",
   "mimetype": "text/x-python",
   "name": "python",
   "nbconvert_exporter": "python",
   "pygments_lexer": "ipython3",
   "version": "3.9.12"
  }
 },
 "nbformat": 4,
 "nbformat_minor": 5
}
