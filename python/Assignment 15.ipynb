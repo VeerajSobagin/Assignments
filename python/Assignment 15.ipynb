{
 "cells": [
  {
   "cell_type": "markdown",
   "id": "a92c91e1",
   "metadata": {},
   "source": [
    "### 1.How many seconds are in an hour? Use the interactive interpreter as a calculator and multiply the number of seconds in a minute (60) by the number of minutes in an hour (also 60). sol. 60\n",
    "There are actually 3600 seconds in an hour, not 60. The correct calculation would be:\n",
    "\n",
    "60 seconds/minute * 60 minutes/hour = 3600 seconds/hour"
   ]
  },
  {
   "cell_type": "markdown",
   "id": "f2fdfde2",
   "metadata": {},
   "source": [
    "### 2. Assign the result from the previous task (seconds in an hour) to a variable called seconds_per_hour.\n",
    "`seconds_per_hour = 60 * 60`"
   ]
  },
  {
   "cell_type": "markdown",
   "id": "265b0c05",
   "metadata": {},
   "source": [
    "### 3. How many seconds do you think there are in a day? Make use of the variables seconds per hour and minutes per hour.\n",
    "There are 86400 seconds in a day (24 hours x 60 minutes x 60 seconds)."
   ]
  },
  {
   "cell_type": "markdown",
   "id": "17a5f160",
   "metadata": {},
   "source": [
    "### 4. Calculate seconds per day again, but this time save the result in a variable called seconds_per_day\n",
    "`seconds_per_day = 24 * seconds_per_hour`"
   ]
  },
  {
   "cell_type": "markdown",
   "id": "8db69b5f",
   "metadata": {},
   "source": [
    "### 5. Divide seconds_per_day by seconds_per_hour. Use floating-point (/) division.\n",
    "`seconds_per_day / seconds_per_hour` is equal to 24.0, as it should be since there are 24 hours in a day."
   ]
  },
  {
   "cell_type": "markdown",
   "id": "5c7aa333",
   "metadata": {},
   "source": [
    "### 6. Divide seconds_per_day by seconds_per_hour, using integer (//) division. Did this number agree with the floating-point value from the previous question, aside from the final .0?\n",
    "`seconds_per_day // seconds_per_hour` is equal to 24, which is the integer number of hours in a day. It does not include any decimal places, so it is not the same as the result from the previous question."
   ]
  },
  {
   "cell_type": "markdown",
   "id": "9843828d",
   "metadata": {},
   "source": [
    "### 7. Write a generator, genPrimes, that returns the sequence of prime numbers on successive calls to its next() method: 2, 3, 5, 7, 11, ..."
   ]
  },
  {
   "cell_type": "code",
   "execution_count": null,
   "id": "ab882034",
   "metadata": {},
   "outputs": [],
   "source": [
    "def genPrimes():\n",
    "    primes = []\n",
    "    n = 2\n",
    "    while True:\n",
    "        if all(n % p != 0 for p in primes):\n",
    "            primes.append(n)\n",
    "            yield n\n",
    "        n += 1"
   ]
  },
  {
   "cell_type": "markdown",
   "id": "74da44d3",
   "metadata": {},
   "source": [
    "This generator maintains a list of all the prime numbers it has found so far, and checks whether each new number it generates is divisible by any of them. If not, it adds the new number to the list of primes and yields it. The all() function returns True if all the conditions in its argument are True, and False otherwise."
   ]
  }
 ],
 "metadata": {
  "kernelspec": {
   "display_name": "Python 3 (ipykernel)",
   "language": "python",
   "name": "python3"
  },
  "language_info": {
   "codemirror_mode": {
    "name": "ipython",
    "version": 3
   },
   "file_extension": ".py",
   "mimetype": "text/x-python",
   "name": "python",
   "nbconvert_exporter": "python",
   "pygments_lexer": "ipython3",
   "version": "3.9.12"
  }
 },
 "nbformat": 4,
 "nbformat_minor": 5
}
