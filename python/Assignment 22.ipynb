{
 "cells": [
  {
   "cell_type": "markdown",
   "id": "f5c9d1d8",
   "metadata": {},
   "source": [
    "### 1. What is the result of the code, and explain?\n",
    "\n",
    "&gt;&gt;&gt; X = &#39;iNeuron&#39;\n",
    "&gt;&gt;&gt; def func():\n",
    "print(X)\n",
    "\n",
    "&gt;&gt;&gt; func()\n",
    "\n",
    "The code creates a variable X with the value 'iNeuron' and a function called func that prints the value of X. When func is called, it prints 'iNeuron' because it is accessing the value of X defined in the global namespace."
   ]
  },
  {
   "cell_type": "markdown",
   "id": "b1a40646",
   "metadata": {},
   "source": [
    "### 2. What is the result of the code, and explain?\n",
    "\n",
    "&gt;&gt;&gt; X = &#39;iNeuron&#39;\n",
    "&gt;&gt;&gt; def func():\n",
    "X = &#39;NI!&#39;\n",
    "\n",
    "&gt;&gt;&gt; func()\n",
    "&gt;&gt;&gt; print(X)\n",
    "\n",
    "The code creates a variable X with the value 'iNeuron' and a function called func that creates a local variable X with the value 'NI!'. When func is called, it does not print anything because there is no print statement. When print(X) is called after the function call, it prints 'iNeuron' because the local variable X defined inside the function does not affect the value of the global variable X."
   ]
  },
  {
   "cell_type": "markdown",
   "id": "4a7f4504",
   "metadata": {},
   "source": [
    "### 3. What does this code print, and why?\n",
    "\n",
    "&gt;&gt;&gt; X = &#39;iNeuron&#39;\n",
    "&gt;&gt;&gt; def func():\n",
    "X = &#39;NI&#39;\n",
    "print(X)\n",
    "\n",
    "&gt;&gt;&gt; func()\n",
    "&gt;&gt;&gt; print(X)\n",
    "\n",
    "The code creates a variable X with the value 'iNeuron' and a function called func that creates a local variable X with the value 'NI' and then prints it. When func is called, it prints 'NI' because it is accessing the value of the local variable X defined inside the function. When print(X) is called after the function call, it prints 'iNeuron' because the local variable X defined inside the function does not affect the value of the global variable X."
   ]
  },
  {
   "cell_type": "markdown",
   "id": "494fdfb5",
   "metadata": {},
   "source": [
    "### 4. What output does this code produce? Why?\n",
    "\n",
    "&gt;&gt;&gt; X = &#39;iNeuron&#39;\n",
    "&gt;&gt;&gt; def func():\n",
    "global X\n",
    "X = &#39;NI&#39;\n",
    "\n",
    "&gt;&gt;&gt; func()\n",
    "&gt;&gt;&gt; print(X)\n",
    "\n",
    "The output of this code is 'NI'.\n",
    "\n",
    "This is because the function `func()` is using the `global` keyword to indicate that it wants to modify the global variable X instead of creating a new local variable with the same name. So when `func()` is called, it sets the value of the global variable X to 'NI'.\n",
    "\n",
    "When `print(X)` is called after `func()` is executed, it prints the current value of the global variable `X`, which is 'NI'."
   ]
  },
  {
   "cell_type": "markdown",
   "id": "29ee2bc6",
   "metadata": {},
   "source": [
    "### 5. What about this code—what’s the output, and why?\n",
    "\n",
    "&gt;&gt;&gt; X = &#39;iNeuron&#39;\n",
    "&gt;&gt;&gt; def func():\n",
    "X = &#39;NI&#39;\n",
    "def nested():\n",
    "print(X)\n",
    "nested()\n",
    "\n",
    "&gt;&gt;&gt; func()\n",
    "&gt;&gt;&gt; X\n",
    "\n",
    "The output of the code would be 'NI' followed by 'iNeuron' on the next line.\n",
    "\n",
    "When `func()` is called, it creates a local variable `X` with the value 'NI', which is then printed by the nested function `nested()`. After the `nested()` function is called, `func()` returns and the value of the global variable `X` ('iNeuron') is printed."
   ]
  },
  {
   "cell_type": "markdown",
   "id": "fedad84e",
   "metadata": {},
   "source": [
    "### 6. How about this code: what is its output in Python 3, and explain?\n",
    "\n",
    "&gt;&gt;&gt; def func():\n",
    "X = &#39;NI&#39;\n",
    "def nested():\n",
    "nonlocal X\n",
    "X = &#39;Spam&#39;\n",
    "nested()\n",
    "print(X)\n",
    "\n",
    "&gt;&gt;&gt; func()\n",
    "\n",
    "This code will raise a `SyntaxError` in Python 2 since the `nonlocal` keyword is not supported. In Python 3, the output will be `Spam`, since the `nonlocal` keyword allows the `nested` function to modify the variable `X` in the outer scope of `func`. The `nested` function is called within `func`, and it changes the value of `X` to `'Spam'`. The modified value of `X` is then printed outside the `nested` function, which results in `Spam` being printed to the console."
   ]
  }
 ],
 "metadata": {
  "kernelspec": {
   "display_name": "Python 3 (ipykernel)",
   "language": "python",
   "name": "python3"
  },
  "language_info": {
   "codemirror_mode": {
    "name": "ipython",
    "version": 3
   },
   "file_extension": ".py",
   "mimetype": "text/x-python",
   "name": "python",
   "nbconvert_exporter": "python",
   "pygments_lexer": "ipython3",
   "version": "3.9.12"
  }
 },
 "nbformat": 4,
 "nbformat_minor": 5
}
