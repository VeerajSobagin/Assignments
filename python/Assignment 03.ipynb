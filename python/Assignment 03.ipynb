{
 "cells": [
  {
   "cell_type": "markdown",
   "id": "b7715761",
   "metadata": {},
   "source": [
    "### 1. Why are functions advantageous to have in your programs?\n",
    "Functions allow for code reusability, improve code organization and modularity, reduce code redundancy, and make it easier to read and maintain code."
   ]
  },
  {
   "cell_type": "markdown",
   "id": "655dd21d",
   "metadata": {},
   "source": [
    "### 2. When does the code in a function run: when it's specified or when it's called?\n",
    "The code in a function runs when it's called, not when it's specified."
   ]
  },
  {
   "cell_type": "markdown",
   "id": "30015667",
   "metadata": {},
   "source": [
    "### 3. What statement creates a function?\n",
    "The `def` statement creates a function in Python."
   ]
  },
  {
   "cell_type": "markdown",
   "id": "42fb7957",
   "metadata": {},
   "source": [
    "### 4. What is the difference between a function and a function call?\n",
    "A function is a block of code that performs a specific task, whereas a function call is the code used to execute a function. In other words, a function is a defined set of instructions, and a function call is a request to execute those instructions."
   ]
  },
  {
   "cell_type": "markdown",
   "id": "9b9606e8",
   "metadata": {},
   "source": [
    "### 5. How many global scopes are there in a Python program? How many local scopes?\n",
    "In a Python program, there is only one global scope, which is accessible from any part of the code. However, there can be any number of local scopes created within a function when it's called. Each function call creates a new local scope, which is destroyed when the function returns."
   ]
  },
  {
   "cell_type": "markdown",
   "id": "99889e97",
   "metadata": {},
   "source": [
    "### 6. What happens to variables in a local scope when the function call returns?\n",
    "When a function call returns, the local scope is destroyed, and all the variables in it are forgotten. The values of those variables are no longer accessible outside the function. If the same variable name is used in the global scope, it will have its original value before the function call."
   ]
  },
  {
   "cell_type": "markdown",
   "id": "759e3f26",
   "metadata": {},
   "source": [
    "### 7. What is the concept of a return value? Is it possible to have a return value in an expression?\n",
    "A return value is the output or result of a function that is returned to the caller of the function when the function is executed. It is possible to have a return value in an expression, as a function can be used within an expression and its return value can be used to perform some operation."
   ]
  },
  {
   "cell_type": "markdown",
   "id": "38d6aab6",
   "metadata": {},
   "source": [
    "### 8. If a function does not have a return statement, what is the return value of a call to that function?\n",
    "If a function does not have a return statement, the return value of a call to that function is `None`."
   ]
  },
  {
   "cell_type": "markdown",
   "id": "b79ed1aa",
   "metadata": {},
   "source": [
    "### 9. How do you make a function variable refer to the global variable?\n",
    "To make a function variable refer to a global variable, we need to use the global keyword before the variable name inside the function."
   ]
  },
  {
   "cell_type": "markdown",
   "id": "b54a8b14",
   "metadata": {},
   "source": [
    "### 10. What is the data type of None?\n",
    "The data type of `None` is `NoneType`."
   ]
  },
  {
   "cell_type": "markdown",
   "id": "361b7058",
   "metadata": {},
   "source": [
    "### 11. What does the sentence import areallyourpetsnamederic do?\n",
    "The sentence `import areallyourpetsnamederic` tries to import a Python module named `areallyourpetsnamederic`."
   ]
  },
  {
   "cell_type": "markdown",
   "id": "04807bcc",
   "metadata": {},
   "source": [
    "### 12. If you had a bacon() feature in a spam module, what would you call it after importing spam?\n",
    "\n",
    "`import spam\n",
    "spam.bacon()`"
   ]
  },
  {
   "cell_type": "markdown",
   "id": "fd46a694",
   "metadata": {},
   "source": [
    "### 13. What can you do to save a programme from crashing if it encounters an error?\n",
    "we can use exception handling to save a program from crashing if it encounters an error. By wrapping the code that may raise an error in a try block, and handling the error in an except block, we can gracefully recover from the error and continue the program's execution."
   ]
  },
  {
   "cell_type": "markdown",
   "id": "2e09bf66",
   "metadata": {},
   "source": [
    "### 14. What is the purpose of the try clause? What is the purpose of the except clause?\n",
    "The try clause allows you to test a block of code for errors, while the except clause allows us to handle the error if one occurs, preventing the program from crashing."
   ]
  }
 ],
 "metadata": {
  "kernelspec": {
   "display_name": "Python 3 (ipykernel)",
   "language": "python",
   "name": "python3"
  },
  "language_info": {
   "codemirror_mode": {
    "name": "ipython",
    "version": 3
   },
   "file_extension": ".py",
   "mimetype": "text/x-python",
   "name": "python",
   "nbconvert_exporter": "python",
   "pygments_lexer": "ipython3",
   "version": "3.9.12"
  }
 },
 "nbformat": 4,
 "nbformat_minor": 5
}
