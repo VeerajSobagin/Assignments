{
 "cells": [
  {
   "cell_type": "markdown",
   "id": "6e8ac763",
   "metadata": {},
   "source": [
    "### 1. What is the result of the code, and why?\n",
    "&gt;&gt;&gt; def func(a, b=6, c=8):\n",
    "print(a, b, c)\n",
    "&gt;&gt;&gt; func(1, 2)\n",
    "\n",
    "The result of the code is `1 2 8`. In this function, `a` is a required parameter, while `b` and `c` are optional parameters with default values of `6` and `8`, respectively. When the function is called with `func(1, 2)`, `a` gets the value of `1`, `b` gets the value of `2`, and `c` retains its default value of `8`."
   ]
  },
  {
   "cell_type": "markdown",
   "id": "ba5e72cf",
   "metadata": {},
   "source": [
    "### 2. What is the result of this code, and why?\n",
    "&gt;&gt;&gt; def func(a, b, c=5):\n",
    "print(a, b, c)\n",
    "&gt;&gt;&gt; func(1, c=3, b=2)\n",
    "\n",
    "The result of this code is `1 2 3`. The function `func()` is defined with three parameters, where `c` has a default value of `5`. When the function is called with arguments `1`, `c=3`, and `b=2`, the values of `a` and `b` are assigned as `1` and `2`, respectively, and the value of `c` is overridden by 3."
   ]
  },
  {
   "cell_type": "markdown",
   "id": "1df150d3",
   "metadata": {},
   "source": [
    "### 3. How about this code: what is its result, and why?\n",
    "&gt;&gt;&gt; def func(a, *pargs):\n",
    "print(a, pargs)\n",
    "&gt;&gt;&gt; func(1, 2, 3)\n",
    "\n",
    "\n",
    "The output of the code will be `1, (2, 3)`.\n",
    "\n",
    "This is because `*pargs` in the function definition allows the function to accept any number of positional arguments after the first argument, which is `a` in this case. When `func(1, 2, 3)` is called, `a` is assigned the value `1`, and `2` and `3` are collected into a tuple `(2, 3)` and assigned to `pargs`. The print statement in the function then outputs `a` and `pargs`."
   ]
  },
  {
   "cell_type": "markdown",
   "id": "5f3d045d",
   "metadata": {},
   "source": [
    "### 4. What does this code print, and why?\n",
    "&gt;&gt;&gt; def func(a, **kargs):\n",
    "print(a, kargs)\n",
    "&gt;&gt;&gt; func(a=1, c=3, b=2)\n",
    "\n",
    "\n",
    "The code will print `1` as the value of `a` and a dictionary `{'c': 3, 'b': 2}` as the value of `kargs`.\n",
    "\n",
    "The `**kargs` parameter in the function definition means that any keyword arguments that are passed to the function will be collected into a dictionary named `kargs`. In this case, `a=1`, `c=3`, and `b=2` are all keyword arguments, so they are collected into the dictionary `{'c': 3, 'b': 2}`."
   ]
  },
  {
   "cell_type": "markdown",
   "id": "0ed5894d",
   "metadata": {},
   "source": [
    "### 5. What gets printed by this, and explain?\n",
    "&gt;&gt;&gt; def func(a, b, c=8, d=5): print(a, b, c, d)\n",
    "&gt;&gt;&gt; func(1, *(5, 6))\n",
    "\n",
    "\n",
    "The output of the code will be: `1 5 6 5`\n",
    "\n",
    "The `*` operator in the argument list of the `func()` call is used to unpack the tuple `(5, 6)` into two separate arguments `b` and `c`. The first argument `a` is passed the value `1` as-is, and the default value `d=5` is used for the fourth argument. Therefore, the output shows the values of all four parameters."
   ]
  },
  {
   "cell_type": "markdown",
   "id": "380685d4",
   "metadata": {},
   "source": [
    "### 6. what is the result of this, and explain?\n",
    "&gt;&gt;&gt; def func(a, b, c): a = 2; b[0] = &#39;x&#39;; c[&#39;a&#39;] = &#39;y&#39;\n",
    "&gt;&gt;&gt; l=1; m=[1]; n={&#39;a&#39;:0}\n",
    "&gt;&gt;&gt; func(l, m, n)\n",
    "\n",
    "&gt;&gt;&gt; l, m, n\n",
    "\n",
    "\n",
    "The output of the code will be:`(1, ['x'], {'a': 'y'})`\n",
    "\n",
    "In the function `func()`, the arguments `a, b, and c` are passed by reference, so any changes made to them within the function will reflect outside the function as well.\n",
    "\n",
    "When the function is called with `func(l, m, n)`, `l` is an integer, so it is passed by value, and any changes made to `a` inside the function do not affect the value of `l` outside the function.\n",
    "\n",
    "However, `m` and `n` are passed by reference. Therefore, the statement `b[0] = 'x'` changes the first element of `m `to `'x'`, and the statement `c['a'] = 'y'` changes the value of the key `'a'` in the dictionary `n` to `'y'`.\n",
    "\n",
    "Thus, after calling the function, the values of `l`, `m`, and `n` are `(1, ['x'], {'a': 'y'})`."
   ]
  }
 ],
 "metadata": {
  "kernelspec": {
   "display_name": "Python 3 (ipykernel)",
   "language": "python",
   "name": "python3"
  },
  "language_info": {
   "codemirror_mode": {
    "name": "ipython",
    "version": 3
   },
   "file_extension": ".py",
   "mimetype": "text/x-python",
   "name": "python",
   "nbconvert_exporter": "python",
   "pygments_lexer": "ipython3",
   "version": "3.9.12"
  }
 },
 "nbformat": 4,
 "nbformat_minor": 5
}
