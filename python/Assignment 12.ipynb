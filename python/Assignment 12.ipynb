{
 "cells": [
  {
   "cell_type": "markdown",
   "id": "74aa549b",
   "metadata": {},
   "source": [
    "### 1. In what modes should the PdfFileReader() and PdfFileWriter() File objects will be opened?\n",
    "The PdfFileReader() and PdfFileWriter() File objects should be opened in binary mode ('rb' and 'wb' respectively)."
   ]
  },
  {
   "cell_type": "markdown",
   "id": "0d7ee73d",
   "metadata": {},
   "source": [
    "### 2. From a PdfFileReader object, how do you get a Page object for page 5?\n",
    "You can get a Page object for page 5 from a PdfFileReader object using the getPage() method with an argument of 4 (since page numbering starts at 0)."
   ]
  },
  {
   "cell_type": "markdown",
   "id": "8fbc5186",
   "metadata": {},
   "source": [
    "### 3. What PdfFileReader variable stores the number of pages in the PDF document?\n",
    "The numPages variable stores the number of pages in the PDF document for a PdfFileReader object."
   ]
  },
  {
   "cell_type": "markdown",
   "id": "7e41131d",
   "metadata": {},
   "source": [
    "### 4. If a PdfFileReader object’s PDF is encrypted with the password swordfish, what must you do before you can obtain Page objects from it?\n",
    "Before you can obtain Page objects from an encrypted PDF using a PdfFileReader object, you must call the decrypt() method with the correct password ('swordfish' in this case)."
   ]
  },
  {
   "cell_type": "markdown",
   "id": "5a03d12e",
   "metadata": {},
   "source": [
    "### 5. What methods do you use to rotate a page?\n",
    "You can use the rotateClockwise() and rotateCounterClockwise() methods to rotate a page in a PdfFileWriter object."
   ]
  },
  {
   "cell_type": "markdown",
   "id": "0a9365b6",
   "metadata": {},
   "source": [
    "### 6. What is the difference between a Run object and a Paragraph object?\n",
    "A Paragraph object represents a single paragraph of text, while a Run object represents a contiguous run of text with the same formatting."
   ]
  },
  {
   "cell_type": "markdown",
   "id": "b599662c",
   "metadata": {},
   "source": [
    "### 7. How do you obtain a list of Paragraph objects for a Document object that’s stored in a variable named doc?\n",
    "You can obtain a list of Paragraph objects for a Document object stored in a variable named doc by calling the doc.paragraphs attribute."
   ]
  },
  {
   "cell_type": "markdown",
   "id": "3e212898",
   "metadata": {},
   "source": [
    "### 8. What type of object has bold, underline, italic, strike, and outline variables?\n",
    "A Run object has bold, underline, italic, strike, and outline variables."
   ]
  },
  {
   "cell_type": "markdown",
   "id": "7905e354",
   "metadata": {},
   "source": [
    "### 9. What is the difference between False, True, and None for the bold variable?\n",
    "The bold variable can be set to True or False to indicate whether the text should be bolded or not. If it is set to None, then the text will inherit the bold setting from its containing paragraph."
   ]
  },
  {
   "cell_type": "markdown",
   "id": "36e3c8a0",
   "metadata": {},
   "source": [
    "### 10. How do you create a Document object for a new Word document?\n",
    "You can create a Document object for a new Word document using the Document() constructor with no arguments."
   ]
  },
  {
   "cell_type": "markdown",
   "id": "ef42117d",
   "metadata": {},
   "source": [
    "### 11. How do you add a paragraph with the text 'Hello, there!' to a Document object stored in a variable named doc?\n",
    "You can add a paragraph with the text 'Hello, there!' to a Document object stored in a variable named doc by calling the doc.add_paragraph() method with the text as an argument."
   ]
  },
  {
   "cell_type": "markdown",
   "id": "e659e965",
   "metadata": {},
   "source": [
    "### 12. What integers represent the levels of headings available in Word documents?\n",
    "The integers 0 through 8 represent the levels of headings available in Word documents, with 0 being the highest level (main title) and 8 being the lowest level (sub-sub-sub-sub-sub-sub-subheading)."
   ]
  }
 ],
 "metadata": {
  "kernelspec": {
   "display_name": "Python 3 (ipykernel)",
   "language": "python",
   "name": "python3"
  },
  "language_info": {
   "codemirror_mode": {
    "name": "ipython",
    "version": 3
   },
   "file_extension": ".py",
   "mimetype": "text/x-python",
   "name": "python",
   "nbconvert_exporter": "python",
   "pygments_lexer": "ipython3",
   "version": "3.9.12"
  }
 },
 "nbformat": 4,
 "nbformat_minor": 5
}
