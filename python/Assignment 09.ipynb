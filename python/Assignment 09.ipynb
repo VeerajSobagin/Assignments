{
 "cells": [
  {
   "cell_type": "markdown",
   "id": "7d4eb3ae",
   "metadata": {},
   "source": [
    "### 1. To what does a relative path refer?\n",
    "A relative path refers to the path of a file or directory relative to the current working directory."
   ]
  },
  {
   "cell_type": "markdown",
   "id": "928c5b47",
   "metadata": {},
   "source": [
    "### 2. What does an absolute path start with your operating system?\n",
    "An absolute path starts with the root directory of the operating system, such as C:/ or / on Unix-based systems."
   ]
  },
  {
   "cell_type": "markdown",
   "id": "4f1ff8bd",
   "metadata": {},
   "source": [
    "### 3. What do the functions os.getcwd() and os.chdir() do?\n",
    "os.getcwd() returns the current working directory, while os.chdir() changes the current working directory to the specified directory."
   ]
  },
  {
   "cell_type": "markdown",
   "id": "8d758ef4",
   "metadata": {},
   "source": [
    "### 4. What are the . and .. folders?\n",
    "The . folder refers to the current directory, while the .. folder refers to the parent directory."
   ]
  },
  {
   "cell_type": "markdown",
   "id": "d9d4e075",
   "metadata": {},
   "source": [
    "### 5. In C:\\bacon\\eggs\\spam.txt, which part is the dir name, and which part is the base name?\n",
    "\"C:\\bacon\\eggs\" is the dir name, and \"spam.txt\" is the base name."
   ]
  },
  {
   "cell_type": "markdown",
   "id": "51568da7",
   "metadata": {},
   "source": [
    "### 6. What are the three “mode” arguments that can be passed to the open() function?\n",
    "The three mode arguments are \"r\" for reading, \"w\" for writing, and \"a\" for appending."
   ]
  },
  {
   "cell_type": "markdown",
   "id": "dd961e81",
   "metadata": {},
   "source": [
    "### 7. What happens if an existing file is opened in write mode?\n",
    "If an existing file is opened in write mode, its contents will be overwritten."
   ]
  },
  {
   "cell_type": "markdown",
   "id": "013e9e87",
   "metadata": {},
   "source": [
    "### 8. How do you tell the difference between read() and readlines()?\n",
    "read() returns the entire contents of a file as a string, while readlines() returns the contents of a file as a list of strings, where each string represents a line in the file."
   ]
  },
  {
   "cell_type": "markdown",
   "id": "cc7db31b",
   "metadata": {},
   "source": [
    "### 9. What data structure does a shelf value resemble?\n",
    "A shelf value resembles a dictionary in that it contains key-value pairs, but it is stored as a file on disk and supports only string keys and values."
   ]
  }
 ],
 "metadata": {
  "kernelspec": {
   "display_name": "Python 3 (ipykernel)",
   "language": "python",
   "name": "python3"
  },
  "language_info": {
   "codemirror_mode": {
    "name": "ipython",
    "version": 3
   },
   "file_extension": ".py",
   "mimetype": "text/x-python",
   "name": "python",
   "nbconvert_exporter": "python",
   "pygments_lexer": "ipython3",
   "version": "3.9.12"
  }
 },
 "nbformat": 4,
 "nbformat_minor": 5
}
