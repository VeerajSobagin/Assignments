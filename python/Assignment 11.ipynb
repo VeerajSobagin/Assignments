{
 "cells": [
  {
   "cell_type": "markdown",
   "id": "3c06d074",
   "metadata": {},
   "source": [
    "### 1. Create an assert statement that throws an AssertionError if the variable spam is a negative integer.\n",
    "`assert spam >= 0, 'The value of spam should be non-negative.'`"
   ]
  },
  {
   "cell_type": "markdown",
   "id": "81797107",
   "metadata": {},
   "source": [
    "### 2. Write an assert statement that triggers an AssertionError if the variables eggs and bacon contain strings that are the same as each other, even if their cases are different (that is, 'hello' and 'hello' are considered the same, and 'goodbye' and 'GOODbye' are also considered the same).\n",
    "`assert eggs.lower() != bacon.lower(), 'eggs and bacon should have different values.'`"
   ]
  },
  {
   "cell_type": "markdown",
   "id": "cf14972a",
   "metadata": {},
   "source": [
    "### 3. Create an assert statement that throws an AssertionError every time.\n",
    "`assert False, 'This assertion always fails.'`"
   ]
  },
  {
   "cell_type": "markdown",
   "id": "4538e8b4",
   "metadata": {},
   "source": [
    "### 4. What are the two lines that must be present in your software in order to call logging.debug()?\n",
    "`import logging` and `logging.basicConfig(level=logging.DEBUG)`"
   ]
  },
  {
   "cell_type": "markdown",
   "id": "bdba66df",
   "metadata": {},
   "source": [
    "### 5. What are the two lines that your program must have in order to have logging.debug() send a logging message to a file named programLog.txt?\n",
    "`import logging` and `logging.basicConfig(filename='programLog.txt', level=logging.DEBUG)`"
   ]
  },
  {
   "cell_type": "markdown",
   "id": "aea39a20",
   "metadata": {},
   "source": [
    "### 6. What are the five levels of logging?\n",
    "The five levels of logging are: DEBUG, INFO, WARNING, ERROR, and CRITICAL."
   ]
  },
  {
   "cell_type": "markdown",
   "id": "5d8e2fce",
   "metadata": {},
   "source": [
    "### 7. What line of code would you add to your software to disable all logging messages?\n",
    "`logging.disable(logging.CRITICAL)`"
   ]
  },
  {
   "cell_type": "markdown",
   "id": "eafc6b91",
   "metadata": {},
   "source": [
    "### 8.Why is using logging messages better than using print() to display the same message?\n",
    "Using logging messages allows for more control and flexibility in managing log messages. Logging allows messages to be filtered by level, output to different destinations, and customized formatting."
   ]
  },
  {
   "cell_type": "markdown",
   "id": "7b3faf53",
   "metadata": {},
   "source": [
    "### 9. What are the differences between the Step Over, Step In, and Step Out buttons in the debugger?\n",
    "The Step Over button executes the current line and advances to the next line, treating function calls as a single line of code. The Step In button executes the current line and enters any function calls on that line. The Step Out button continues execution until the current function returns."
   ]
  },
  {
   "cell_type": "markdown",
   "id": "9fc66893",
   "metadata": {},
   "source": [
    "### 10.After you click Continue, when will the debugger stop ?\n",
    "The debugger will stop at the next breakpoint encountered or when the program execution completes."
   ]
  },
  {
   "cell_type": "markdown",
   "id": "41e1450a",
   "metadata": {},
   "source": [
    "### 11. What is the concept of a breakpoint?\n",
    "A breakpoint is a designated point in the code where program execution will pause, allowing for inspection of the program's state at that point. Breakpoints can be used for debugging and troubleshooting purposes."
   ]
  }
 ],
 "metadata": {
  "kernelspec": {
   "display_name": "Python 3 (ipykernel)",
   "language": "python",
   "name": "python3"
  },
  "language_info": {
   "codemirror_mode": {
    "name": "ipython",
    "version": 3
   },
   "file_extension": ".py",
   "mimetype": "text/x-python",
   "name": "python",
   "nbconvert_exporter": "python",
   "pygments_lexer": "ipython3",
   "version": "3.9.12"
  }
 },
 "nbformat": 4,
 "nbformat_minor": 5
}
