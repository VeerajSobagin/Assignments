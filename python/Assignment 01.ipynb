{
 "cells": [
  {
   "cell_type": "markdown",
   "id": "2160b3cf",
   "metadata": {},
   "source": [
    "### 1. In the below elements which of them are values or an expression? eg:- values can be integer or string and expressions will be mathematical operators.\n",
    "`*,'hello', -87.8,-,/,+,6`\n",
    "\n",
    "`Values:` 'hello', -87.8, 6\n",
    "\n",
    "`Expressions:` *, -, /, +"
   ]
  },
  {
   "cell_type": "markdown",
   "id": "1d26014f",
   "metadata": {},
   "source": [
    "### 2. What is the difference between string and variable?\n",
    "A string is a sequence of characters enclosed within quotes, while a variable is a named container that holds a value or reference to an object."
   ]
  },
  {
   "cell_type": "markdown",
   "id": "ec30d530",
   "metadata": {},
   "source": [
    "### 3. Describe three different data types.\n",
    "1. Integer: Integers are whole numbers, positive or negative, without a decimal point. For example, 5 and -10 are both integers.\n",
    "\n",
    "2. String: Strings are sequences of characters, enclosed in either single or double quotes. For example, \"hello\" and 'world' are both strings.\n",
    "\n",
    "3. Boolean: Booleans are a data type that has two possible values: True or False. They are often used in conditional statements to control the flow of a program. For example, 5 > 3 would evaluate to True, while 2 == 8 would evaluate to False."
   ]
  },
  {
   "cell_type": "markdown",
   "id": "8ee09bd2",
   "metadata": {},
   "source": [
    "### 4. What is an expression made up of? What do all expressions do?\n",
    "An expression is made up of values, variables, and operators that are combined in a specific order to carry out a specific computation. Expressions are used to calculate values, perform operations, and create more complex expressions. All expressions in Python ultimately evaluate to a single value."
   ]
  },
  {
   "cell_type": "markdown",
   "id": "6f3a19cd",
   "metadata": {},
   "source": [
    "### 5. This assignment statements, like spam = 10. What is the difference between an expression and a statement?\n",
    "An expression evaluates to a value, while a statement performs an action. In the given example, spam = 10 is a statement that assigns the value 10 to the variable spam. On the other hand, an expression could be something like spam + 5."
   ]
  },
  {
   "cell_type": "markdown",
   "id": "3586cb4a",
   "metadata": {},
   "source": [
    "### 6. After running the following code, what does the variable bacon contain?\n",
    "`bacon = 22\n",
    " bacon + 1`\n",
    "\n",
    "23"
   ]
  },
  {
   "cell_type": "markdown",
   "id": "6f4178e5",
   "metadata": {},
   "source": [
    "### 7. What should the values of the following two terms be?\n",
    "`'spam' + 'spamspam' ,'spam' * 3`\n",
    "\n",
    "1. 'spam' + 'spamspam' = 'spamspamspam'\n",
    "2. 'spam' * 3 = 'spamspamspam'"
   ]
  },
  {
   "cell_type": "markdown",
   "id": "390a64a9",
   "metadata": {},
   "source": [
    "### 8. Why is eggs a valid variable name while 100 is invalid?\n",
    "Variable names in Python cannot start with a number, they must start with a letter or underscore. Therefore, 'eggs' is a valid variable name while 100 is invalid."
   ]
  },
  {
   "cell_type": "markdown",
   "id": "8c968735",
   "metadata": {},
   "source": [
    "### 9. What three functions can be used to get the integer, floating-point number, or string version of a value?\n",
    "The int(), float(), and str() functions can be used to get the integer, floating-point number, or string version of a value, respectively."
   ]
  },
  {
   "cell_type": "markdown",
   "id": "9aaf6a54",
   "metadata": {},
   "source": [
    "### 10. Why does this expression cause an error? How can you fix it?\n",
    "`'I have eaten ' + 99 + ' burritos.'`\n",
    "\n",
    "The expression causes an error because it's trying to concatenate a string and an integer. To fix it, we can convert the integer to a string using the str() function as follows:\n",
    "\n",
    "'I have eaten ' + str(99) + ' burritos.'\n",
    "\n",
    "This will produce the string: `'I have eaten 99 burritos.'`"
   ]
  }
 ],
 "metadata": {
  "kernelspec": {
   "display_name": "Python 3 (ipykernel)",
   "language": "python",
   "name": "python3"
  },
  "language_info": {
   "codemirror_mode": {
    "name": "ipython",
    "version": 3
   },
   "file_extension": ".py",
   "mimetype": "text/x-python",
   "name": "python",
   "nbconvert_exporter": "python",
   "pygments_lexer": "ipython3",
   "version": "3.9.12"
  }
 },
 "nbformat": 4,
 "nbformat_minor": 5
}
