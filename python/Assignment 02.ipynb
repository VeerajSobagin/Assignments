{
 "cells": [
  {
   "cell_type": "markdown",
   "id": "04f2ab5c",
   "metadata": {},
   "source": [
    "### 1.What are the two values of the Boolean data type? How do you write them?\n",
    "The two values of the Boolean data type are True and False. They are written exactly as shown, with the first letter capitalized."
   ]
  },
  {
   "cell_type": "markdown",
   "id": "a8a3c583",
   "metadata": {},
   "source": [
    "### 2. What are the three different types of Boolean operators?\n",
    "`AND operator:` It returns True if both operands are True, else it returns False.\n",
    "`OR operator:` It returns True if at least one of the operands is True, else it returns False.\n",
    "`NOT operator:` It returns the opposite of the operand's Boolean value. If the operand is True, it returns False, and vice versa."
   ]
  },
  {
   "cell_type": "markdown",
   "id": "55136fee",
   "metadata": {},
   "source": [
    "### 3. Make a list of each Boolean operator's truth tables (i.e. every possible combination of Boolean values for the operator and what it evaluate ).\n",
    "\n",
    "#### Truth Table for AND operaotor\n",
    "True and True is True\n",
    "True and False is False\n",
    "False and True is False\n",
    "False and False is False\n",
    "\n",
    "#### Truth Table for OR operaotor\n",
    "True and True is True\n",
    "True and False is True\n",
    "False and True is True\n",
    "False and False is False\n",
    "\n",
    "#### Truth Table for NOT operaotor\n",
    "True not is False False not is True"
   ]
  },
  {
   "cell_type": "markdown",
   "id": "6de7d14c",
   "metadata": {},
   "source": [
    "### 4. What are the values of the following expressions?\n",
    "1. (5 > 4) and (3 == 5)\n",
    "2. not (5 > 4)\n",
    "3. (5 > 4) or (3 == 5)\n",
    "4. not ((5 > 4) or (3 == 5))\n",
    "6. (True and True) and (True == False)\n",
    "7. (not False) or (not True)"
   ]
  },
  {
   "cell_type": "code",
   "execution_count": 1,
   "id": "c97ce6a4",
   "metadata": {},
   "outputs": [
    {
     "name": "stdout",
     "output_type": "stream",
     "text": [
      "(5>4)and(3==5) =  False\n",
      "not(5>4) =  False\n",
      "(5>4)or(3==5) =  True\n",
      "not((5>4)or(3==5)) =  False\n",
      "(True and True)and(True==False) =  False\n",
      "(not False)or(not True) =  True\n"
     ]
    }
   ],
   "source": [
    "print('(5>4)and(3==5) = ', (5>4)and(3==5)) \n",
    "print('not(5>4) = ',not(5>4)) \n",
    "print('(5>4)or(3==5) = ',(5>4)or(3==5)) \n",
    "print('not((5>4)or(3==5)) = ',not((5>4)or(3==5))) \n",
    "print('(True and True)and(True==False) = ', (True and True)and(True==False))\n",
    "print('(not False)or(not True) = ',(not False)or(not True))"
   ]
  },
  {
   "cell_type": "markdown",
   "id": "8c47b136",
   "metadata": {},
   "source": [
    "### 5. What are the six comparison operators?\n",
    "\n",
    "`== , != , < , > , <= , =>`"
   ]
  },
  {
   "cell_type": "markdown",
   "id": "51bee7e8",
   "metadata": {},
   "source": [
    "### 6. How do you tell the difference between the equal to and assignment operators?Describe a condition and when you would use one.\n",
    "`==` is the equal to operator that compares two values and evaluates to a Boolean, while `=` is that assignment operator that stores a value in a variable."
   ]
  },
  {
   "cell_type": "code",
   "execution_count": 2,
   "id": "2cbaaca4",
   "metadata": {},
   "outputs": [
    {
     "name": "stdout",
     "output_type": "stream",
     "text": [
      "6\n"
     ]
    }
   ],
   "source": [
    "a=6 # Assigning operator that stores 3 value in a variable a\n",
    "if a==6:#comparing values of a varible value and 3\n",
    "    print(a)  "
   ]
  },
  {
   "cell_type": "markdown",
   "id": "2674e163",
   "metadata": {},
   "source": [
    "### 7. Identify the three blocks in this code:\n",
    "\n",
    "`spam = 0\n",
    "if spam == 10:\n",
    "print('eggs')\n",
    "if spam > 5:\n",
    "print('bacon')\n",
    "else:\n",
    "print('ham')\n",
    "print('spam')\n",
    "print('spam')`\n",
    "\n",
    "\n",
    "1. first block if spam == 10:\n",
    "2. first block if spam > 5:\n",
    "3. first block if else:"
   ]
  },
  {
   "cell_type": "markdown",
   "id": "a0238db7",
   "metadata": {},
   "source": [
    "### 8. Write code that prints Hello if 1 is stored in spam, prints Howdy if 2 is stored in spam, and prints Greetings! if anything else is stored in spam."
   ]
  },
  {
   "cell_type": "code",
   "execution_count": 3,
   "id": "a2363a88",
   "metadata": {},
   "outputs": [
    {
     "name": "stdout",
     "output_type": "stream",
     "text": [
      "Greetings!\n"
     ]
    }
   ],
   "source": [
    "spam= 4\n",
    "\n",
    "if spam == 1:\n",
    "    print('Hello')\n",
    "elif spam == 2:\n",
    "    print('Howdy')\n",
    "else:\n",
    "    print('Greetings!')"
   ]
  },
  {
   "cell_type": "markdown",
   "id": "13403c94",
   "metadata": {},
   "source": [
    "### 9.If your programme is stuck in an endless loop, what keys you’ll press?\n",
    "Press Ctrl-c to stop a program stuck in an infinite loop"
   ]
  },
  {
   "cell_type": "markdown",
   "id": "ff5e9a02",
   "metadata": {},
   "source": [
    "### 10. How can you tell the difference between break and continue?\n",
    "`break` and `continue` are both flow control statements used in loops. break is used to exit the loop altogether while continue is used to skip over a particular iteration of the loop and move on to the next iteration."
   ]
  },
  {
   "cell_type": "markdown",
   "id": "f4093903",
   "metadata": {},
   "source": [
    "### 11. In a for loop, what is the difference between range(10), range(0, 10), and range(0, 10, 1)?\n",
    "In a for loop, range(10) generates a sequence of numbers from 0 to 9 (10 numbers in total). range(0, 10) also generates the same sequence of numbers from 0 to 9. Finally, range(0, 10, 1) generates the same sequence of numbers from 0 to 9 with a step size of 1."
   ]
  },
  {
   "cell_type": "markdown",
   "id": "53153b03",
   "metadata": {},
   "source": [
    "### 12. Write a short program that prints the numbers 1 to 10 using a for loop. Then write an equivalent program that prints the numbers 1 to 10 using a while loop."
   ]
  },
  {
   "cell_type": "code",
   "execution_count": 4,
   "id": "5f476d2b",
   "metadata": {},
   "outputs": [
    {
     "name": "stdout",
     "output_type": "stream",
     "text": [
      "1 2 3 4 5 6 7 8 9 10 "
     ]
    }
   ],
   "source": [
    "for i in range(1, 11):\n",
    "    print(i, end=' ')"
   ]
  },
  {
   "cell_type": "code",
   "execution_count": 5,
   "id": "322f7f11",
   "metadata": {},
   "outputs": [
    {
     "name": "stdout",
     "output_type": "stream",
     "text": [
      "1 2 3 4 5 6 7 8 9 10 "
     ]
    }
   ],
   "source": [
    "i = 1\n",
    "while i <= 10:\n",
    "    print(i,  end=' ')\n",
    "    i += 1"
   ]
  },
  {
   "cell_type": "markdown",
   "id": "32fd460a",
   "metadata": {},
   "source": [
    "### 13. If you had a function named bacon() inside a module named spam, how would you call it after importing spam?\n",
    "\n",
    "`import spam\n",
    "spam.bacon()`"
   ]
  }
 ],
 "metadata": {
  "kernelspec": {
   "display_name": "Python 3 (ipykernel)",
   "language": "python",
   "name": "python3"
  },
  "language_info": {
   "codemirror_mode": {
    "name": "ipython",
    "version": 3
   },
   "file_extension": ".py",
   "mimetype": "text/x-python",
   "name": "python",
   "nbconvert_exporter": "python",
   "pygments_lexer": "ipython3",
   "version": "3.9.12"
  }
 },
 "nbformat": 4,
 "nbformat_minor": 5
}
