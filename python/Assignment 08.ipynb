{
 "cells": [
  {
   "cell_type": "markdown",
   "id": "984d5774",
   "metadata": {},
   "source": [
    "### 1. Is the Python Standard Library included with PyInputPlus?\n",
    "No, the Python Standard Library is not included with PyInputPlus. PyInputPlus is a third-party library for input validation and processing."
   ]
  },
  {
   "cell_type": "markdown",
   "id": "a11f21c0",
   "metadata": {},
   "source": [
    "### 2. Why is PyInputPlus commonly imported with import pyinputplus as pypi?\n",
    "PyInputPlus is commonly imported with import pyinputplus as pypi to shorten the name of the library when calling its functions, making the code more concise and easier to read."
   ]
  },
  {
   "cell_type": "markdown",
   "id": "4e9a2220",
   "metadata": {},
   "source": [
    "### 3. How do you distinguish between inputInt() and inputFloat()?\n",
    "inputInt() is used to prompt the user for an integer input and returns an integer value, while inputFloat() is used to prompt the user for a floating-point number input and returns a float value."
   ]
  },
  {
   "cell_type": "markdown",
   "id": "6da58c1f",
   "metadata": {},
   "source": [
    "### 4. Using PyInputPlus, how do you ensure that the user enters a whole number between 0 and 99?\n",
    "To ensure that the user enters a whole number between 0 and 99 using PyInputPlus, you can use the following code: response = pyip.inputInt(min=0, max=99)."
   ]
  },
  {
   "cell_type": "markdown",
   "id": "0dd7a1a1",
   "metadata": {},
   "source": [
    "### 5. What is transferred to the keyword arguments allowRegexes and blockRegexes?\n",
    "allowRegexes and blockRegexes are keyword arguments in PyInputPlus functions that allow the user to specify regular expressions to allow or block certain types of input."
   ]
  },
  {
   "cell_type": "markdown",
   "id": "970d0091",
   "metadata": {},
   "source": [
    "### 6. If a blank input is entered three times, what does inputStr(limit=3) do?\n",
    "If a blank input is entered three times using inputStr(limit=3), the function will raise a TimeoutException error indicating that the user has exceeded the maximum number of allowed tries."
   ]
  },
  {
   "cell_type": "markdown",
   "id": "1ff38f79",
   "metadata": {},
   "source": [
    "### 7. If blank input is entered three times, what does inputStr(limit=3, default='hello') do?\n",
    "If blank input is entered three times using inputStr(limit=3, default='hello'), the function will return the default value 'hello' after the third attempt, indicating that the user has not provided a valid input within the maximum number of allowed tries."
   ]
  }
 ],
 "metadata": {
  "kernelspec": {
   "display_name": "Python 3 (ipykernel)",
   "language": "python",
   "name": "python3"
  },
  "language_info": {
   "codemirror_mode": {
    "name": "ipython",
    "version": 3
   },
   "file_extension": ".py",
   "mimetype": "text/x-python",
   "name": "python",
   "nbconvert_exporter": "python",
   "pygments_lexer": "ipython3",
   "version": "3.9.12"
  }
 },
 "nbformat": 4,
 "nbformat_minor": 5
}
