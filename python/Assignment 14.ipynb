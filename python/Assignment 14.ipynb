{
 "cells": [
  {
   "cell_type": "markdown",
   "id": "1f09a195",
   "metadata": {},
   "source": [
    "### 1. What does RGBA stand for?\n",
    "RGBA stands for Red Green Blue Alpha, where the Alpha component represents the transparency level of the color."
   ]
  },
  {
   "cell_type": "markdown",
   "id": "50627dd6",
   "metadata": {},
   "source": [
    "### 2. From the Pillow module, how do you get the RGBA value of any images?\n",
    "To get the RGBA value of an image using Pillow module, you can use the `getpixel()` method on the Image object. For example, `image.getpixel((x, y))` will return a tuple of RGBA values at the specified location (x, y) in the image."
   ]
  },
  {
   "cell_type": "markdown",
   "id": "cb2c3c05",
   "metadata": {},
   "source": [
    "### 3. What is a box tuple, and how does it work?\n",
    "A box tuple is a tuple of four integers representing a rectangular region in an image. The tuple is of the form (left, upper, right, lower), where left and upper are the coordinates of the top-left corner of the rectangular region, and right and lower are the coordinates of the bottom-right corner of the region. This tuple can be used to crop, paste, or resize a rectangular region in an image."
   ]
  },
  {
   "cell_type": "markdown",
   "id": "73eb59ef",
   "metadata": {},
   "source": [
    "### 4. Use your image and load in notebook then, How can you find out the width and height of an Image object?\n",
    "To find out the width and height of an Image object, you can use the `size` attribute. For example, `image.size` will return a tuple of (width, height) of the image."
   ]
  },
  {
   "cell_type": "markdown",
   "id": "fce7c53e",
   "metadata": {},
   "source": [
    "### 5. What method would you call to get Image object for a 100×100 image, excluding the lower-left quarter of it?\n",
    "To get an Image object for a 100x100 image, excluding the lower-left quarter, you can use the `crop()` method. For example, `image.crop((0, 0, 50, 50))` will crop the image from the top-left corner to halfway across and halfway down the image."
   ]
  },
  {
   "cell_type": "markdown",
   "id": "e12f914b",
   "metadata": {},
   "source": [
    "### 6. After making changes to an Image object, how could you save it as an image file?\n",
    "To save an Image object as an image file, you can use the `save()` method. For example, `image.save(\"output.png\")` will save the image object as a PNG file named output.png in the current working directory."
   ]
  },
  {
   "cell_type": "markdown",
   "id": "f3ea616b",
   "metadata": {},
   "source": [
    "### 7. What module contains Pillow’s shape-drawing code?\n",
    "Pillow's shape-drawing code is contained in the ImageDraw module."
   ]
  },
  {
   "cell_type": "markdown",
   "id": "0aeecc9f",
   "metadata": {},
   "source": [
    "### 8. Image objects do not have drawing methods. What kind of object does? How do you get this kind of object?\n",
    "ImageDraw objects have drawing methods, such as `point()`, `line()`, `rectangle()`, `ellipse()`, etc. To get an ImageDraw object, you can use the `ImageDraw.Draw()` function and pass in an Image object. For example, `draw = ImageDraw.Draw(image)` will create an ImageDraw object for the image."
   ]
  }
 ],
 "metadata": {
  "kernelspec": {
   "display_name": "Python 3 (ipykernel)",
   "language": "python",
   "name": "python3"
  },
  "language_info": {
   "codemirror_mode": {
    "name": "ipython",
    "version": 3
   },
   "file_extension": ".py",
   "mimetype": "text/x-python",
   "name": "python",
   "nbconvert_exporter": "python",
   "pygments_lexer": "ipython3",
   "version": "3.9.12"
  }
 },
 "nbformat": 4,
 "nbformat_minor": 5
}
