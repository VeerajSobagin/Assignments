{
 "cells": [
  {
   "cell_type": "markdown",
   "id": "861d9d2b",
   "metadata": {},
   "source": [
    "### 1. Add the current date to the text file today.txt as a string.\n"
   ]
  },
  {
   "cell_type": "code",
   "execution_count": null,
   "id": "d750a472",
   "metadata": {},
   "outputs": [],
   "source": [
    "from datetime import date\n",
    "\n",
    "today = date.today().strftime(\"%Y-%m-%d\")\n",
    "with open(\"today.txt\", \"w\") as f:\n",
    "    f.write(today)"
   ]
  },
  {
   "cell_type": "markdown",
   "id": "4f7ad265",
   "metadata": {},
   "source": [
    "### 2. Read the text file today.txt into the string today_string\n"
   ]
  },
  {
   "cell_type": "code",
   "execution_count": null,
   "id": "dc6d5bf8",
   "metadata": {},
   "outputs": [],
   "source": [
    "with open(\"today.txt\", \"r\") as f:\n",
    "    today_string = f.read()\n",
    "print(today_string)"
   ]
  },
  {
   "cell_type": "markdown",
   "id": "7887571c",
   "metadata": {},
   "source": [
    "### 3. Parse the date from today_string.\n"
   ]
  },
  {
   "cell_type": "code",
   "execution_count": null,
   "id": "2002de0e",
   "metadata": {},
   "outputs": [],
   "source": [
    "from datetime import datetime\n",
    "\n",
    "today_date = datetime.strptime(today_string, \"%Y-%m-%d\").date()\n",
    "print(today_date)"
   ]
  },
  {
   "cell_type": "markdown",
   "id": "08081429",
   "metadata": {},
   "source": [
    "### 4. List the files in your current directory\n"
   ]
  },
  {
   "cell_type": "code",
   "execution_count": null,
   "id": "b1e9513a",
   "metadata": {},
   "outputs": [],
   "source": [
    "import os\n",
    "\n",
    "files = os.listdir(\".\")\n",
    "print(files)"
   ]
  },
  {
   "cell_type": "markdown",
   "id": "5d82752a",
   "metadata": {},
   "source": [
    "### 5. Create a list of all of the files in your parent directory (minimum five files should be available).\n"
   ]
  },
  {
   "cell_type": "code",
   "execution_count": null,
   "id": "1b05a80f",
   "metadata": {},
   "outputs": [],
   "source": [
    "import os\n",
    "\n",
    "parent_dir = os.path.abspath(os.path.join(os.getcwd(), \"..\"))\n",
    "file_list = os.listdir(parent_dir)\n",
    "\n",
    "print(\"Files in parent directory:\")\n",
    "for file in file_list:\n",
    "    print(file)"
   ]
  },
  {
   "cell_type": "markdown",
   "id": "e8bc3b28",
   "metadata": {},
   "source": [
    "### 6. Use multiprocessing to create three separate processes. Make each one wait a random number of seconds between one and five, print the current time, and then exit.\n"
   ]
  },
  {
   "cell_type": "code",
   "execution_count": null,
   "id": "36551070",
   "metadata": {},
   "outputs": [],
   "source": [
    "import multiprocessing\n",
    "import random\n",
    "import time\n",
    "from datetime import datetime\n",
    "\n",
    "def print_time():\n",
    "    wait_time = random.randint(1, 5)\n",
    "    time.sleep(wait_time)\n",
    "    print(f\"Process {multiprocessing.current_process().name} waited for {wait_time} seconds and printed this at {datetime.now()}\")\n",
    "\n",
    "if __name__ == \"__main__\":\n",
    "    processes = []\n",
    "    for i in range(3):\n",
    "        p = multiprocessing.Process(target=print_time)\n",
    "        processes.append(p)\n",
    "        p.start()\n",
    "    \n",
    "    for process in processes:\n",
    "        process.join()"
   ]
  },
  {
   "cell_type": "markdown",
   "id": "4cb16825",
   "metadata": {},
   "source": [
    "### 7. Create a date object of your day of birth.\n"
   ]
  },
  {
   "cell_type": "code",
   "execution_count": 3,
   "id": "3f3cbbe4",
   "metadata": {},
   "outputs": [
    {
     "name": "stdout",
     "output_type": "stream",
     "text": [
      "1997-03-08\n"
     ]
    }
   ],
   "source": [
    "import datetime\n",
    "\n",
    "birthday = datetime.datetime(year=1997, month=3, day=8)\n",
    "\n",
    "birthday_date = birthday.date()\n",
    "print(birthday_date)"
   ]
  },
  {
   "cell_type": "markdown",
   "id": "53cf9c55",
   "metadata": {},
   "source": [
    "### 8. What day of the week was your day of birth?\n"
   ]
  },
  {
   "cell_type": "code",
   "execution_count": 4,
   "id": "2c7cf756",
   "metadata": {},
   "outputs": [
    {
     "name": "stdout",
     "output_type": "stream",
     "text": [
      "Saturday\n"
     ]
    }
   ],
   "source": [
    "weekday_name = birthday_date.strftime(\"%A\")\n",
    "print(weekday_name)"
   ]
  },
  {
   "cell_type": "markdown",
   "id": "58519079",
   "metadata": {},
   "source": [
    "### 9. When will you be (or when were you) 10,000 days old?\n"
   ]
  },
  {
   "cell_type": "code",
   "execution_count": 5,
   "id": "1393ff51",
   "metadata": {},
   "outputs": [
    {
     "name": "stdout",
     "output_type": "stream",
     "text": [
      "2024-07-24\n"
     ]
    }
   ],
   "source": [
    "ten_thousand_days = datetime.timedelta(days=10000)\n",
    "ten_thousand_days_from_birthday = birthday + ten_thousand_days\n",
    "print(ten_thousand_days_from_birthday.date())"
   ]
  }
 ],
 "metadata": {
  "kernelspec": {
   "display_name": "Python 3 (ipykernel)",
   "language": "python",
   "name": "python3"
  },
  "language_info": {
   "codemirror_mode": {
    "name": "ipython",
    "version": 3
   },
   "file_extension": ".py",
   "mimetype": "text/x-python",
   "name": "python",
   "nbconvert_exporter": "python",
   "pygments_lexer": "ipython3",
   "version": "3.9.12"
  }
 },
 "nbformat": 4,
 "nbformat_minor": 5
}
