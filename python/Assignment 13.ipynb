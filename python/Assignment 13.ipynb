{
 "cells": [
  {
   "cell_type": "markdown",
   "id": "388fc32d",
   "metadata": {},
   "source": [
    "### 1. What advantages do Excel spreadsheets have over CSV spreadsheets?\n",
    "Excel spreadsheets have more features, such as formatting options, charts, and formulas, that are not available in CSV spreadsheets. They also support multiple sheets within a single file."
   ]
  },
  {
   "cell_type": "markdown",
   "id": "a4af0f49",
   "metadata": {},
   "source": [
    "### 2.What do you pass to csv.reader() and csv.writer() to create reader and writer objects?\n",
    "To create reader and writer objects with csv.reader() and csv.writer(), you pass a File object as the first argument and optionally a delimiter character for the writer object."
   ]
  },
  {
   "cell_type": "markdown",
   "id": "bb21a04b",
   "metadata": {},
   "source": [
    "### 3. What modes do File objects for reader and writer objects need to be opened in?\n",
    "File objects for reader and writer objects need to be opened in 'r' mode for reading and 'w' mode for writing, respectively."
   ]
  },
  {
   "cell_type": "markdown",
   "id": "2c46220a",
   "metadata": {},
   "source": [
    "### 4. What method takes a list argument and writes it to a CSV file?\n",
    "The writerow() method takes a list argument and writes it as a row in the CSV file."
   ]
  },
  {
   "cell_type": "markdown",
   "id": "532dfac4",
   "metadata": {},
   "source": [
    "### 5. What do the keyword arguments delimiter and line terminator do?\n",
    "The delimiter argument specifies the character used to separate values in the CSV file (default is ','). The lineterminator argument specifies the character used to end each row in the CSV file (default is '\\n')."
   ]
  },
  {
   "cell_type": "markdown",
   "id": "e5fd6e3a",
   "metadata": {},
   "source": [
    "### 6. What function takes a string of JSON data and returns a Python data structure?\n",
    "The json.loads() function takes a string of JSON data and returns a Python data structure, such as a dictionary or list."
   ]
  },
  {
   "cell_type": "markdown",
   "id": "2f8d4c38",
   "metadata": {},
   "source": [
    "### 7. What function takes a Python data structure and returns a string of JSON data?\n",
    "The json.dumps() function takes a Python data structure, such as a dictionary or list, and returns a string of JSON data."
   ]
  }
 ],
 "metadata": {
  "kernelspec": {
   "display_name": "Python 3 (ipykernel)",
   "language": "python",
   "name": "python3"
  },
  "language_info": {
   "codemirror_mode": {
    "name": "ipython",
    "version": 3
   },
   "file_extension": ".py",
   "mimetype": "text/x-python",
   "name": "python",
   "nbconvert_exporter": "python",
   "pygments_lexer": "ipython3",
   "version": "3.9.12"
  }
 },
 "nbformat": 4,
 "nbformat_minor": 5
}
