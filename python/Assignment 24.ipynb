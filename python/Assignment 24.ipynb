{
 "cells": [
  {
   "cell_type": "markdown",
   "id": "f67a5a59",
   "metadata": {},
   "source": [
    "### 1. What is the relationship between def statements and lambda expressions ?\n",
    "Def statements are used to define a function in Python with a specific name and a set of parameters that define its inputs. Lambda expressions, on the other hand, are used to create anonymous functions that can be passed around as arguments or returned from other functions. In other words, lambda expressions are a shorthand way to define small, one-off functions without giving them a specific name."
   ]
  },
  {
   "cell_type": "markdown",
   "id": "a5a2fc58",
   "metadata": {},
   "source": [
    "### 2. What is the benefit of lambda?\n",
    "The primary benefit of using a lambda function is its conciseness and readability. Lambda functions can be defined in a single line, which makes them useful for tasks such as sorting and filtering lists. They are also useful for passing simple functions as arguments to other functions, which can reduce the amount of code needed to perform a specific task."
   ]
  },
  {
   "cell_type": "markdown",
   "id": "1eaa51ee",
   "metadata": {},
   "source": [
    "### 3. Compare and contrast map, filter, and reduce.\n",
    "Map, filter, and reduce are all built-in functions in Python used for processing iterables such as lists, tuples, and dictionaries.\n",
    "\n",
    ". `map` takes a function and an iterable as input and applies the function to each element in the iterable, returning a new iterable containing the results. For example, `map(lambda x: x**2, [1, 2, 3])` would return `[1, 4, 9]`.\n",
    "\n",
    ". `filter` takes a function and an iterable as input and applies the function to each element in the iterable, returning a new iterable containing only the elements for which the function returns True. For example, `filter(lambda x: x % 2 == 0, [1, 2, 3, 4])` would return `[2, 4]`.\n",
    "\n",
    ". `reduce` takes a function and an iterable as input and applies the function cumulatively to the elements of the iterable, returning a single value. For example, `reduce(lambda x, y: x+y, [1, 2, 3, 4])` would return `10` (which is equivalent to `(1+2+3+4)`)."
   ]
  },
  {
   "cell_type": "markdown",
   "id": "64b930c1",
   "metadata": {},
   "source": [
    "### 4. What are function annotations, and how are they used?\n",
    "Function annotations in Python are a way to provide metadata about the types of arguments and return values that a function expects or returns. They are specified using a colon after the parameter name or return type, followed by the type itself. For example:"
   ]
  },
  {
   "cell_type": "code",
   "execution_count": 1,
   "id": "8e31a53f",
   "metadata": {},
   "outputs": [],
   "source": [
    "def greet(name: str) -> str:\n",
    "    return f\"Hello, {name}!\""
   ]
  },
  {
   "cell_type": "markdown",
   "id": "0090d26e",
   "metadata": {},
   "source": [
    "In this example, the function greet takes a parameter called name of type str, and returns a value of type str. Function annotations are not enforced by the Python interpreter, but they can be useful for documentation and debugging purposes."
   ]
  },
  {
   "cell_type": "markdown",
   "id": "70523a26",
   "metadata": {},
   "source": [
    "### 5. What are recursive functions, and how are they used?\n",
    "A recursive function is a function that calls itself during its execution. It is a powerful technique for solving problems that can be broken down into smaller sub-problems. A recursive function typically consists of two parts: a base case that specifies when the function should stop calling itself, and a recursive case that breaks down the problem into smaller sub-problems.\n",
    "For example, a common use case for recursive functions is to calculate factorials:"
   ]
  },
  {
   "cell_type": "code",
   "execution_count": 2,
   "id": "09e8b346",
   "metadata": {},
   "outputs": [],
   "source": [
    "def factorial(n):\n",
    "    if n == 0:\n",
    "        return 1\n",
    "    else:\n",
    "        return n * factorial(n-1)"
   ]
  },
  {
   "cell_type": "markdown",
   "id": "584916a1",
   "metadata": {},
   "source": [
    "### 6. What are some general design guidelines for coding functions?\n",
    "Some general design guidelines for coding functions include:\n",
    "- Keeping functions simple and focused on a single task\n",
    "- Using descriptive and concise function names\n",
    "- Writing functions that are reusable and not specific to a particular use case or context\n",
    "- Avoiding global variables and side effects\n",
    "- Using default arguments and keyword arguments appropriately\n",
    "- Following consistent naming and coding conventions"
   ]
  },
  {
   "cell_type": "markdown",
   "id": "e1ed0db8",
   "metadata": {},
   "source": [
    "### 7. Name three or more ways that functions can communicate results to a caller.\n",
    "Three ways that functions can communicate results to a caller are:\n",
    "- Return values: Functions can use the return statement to send a value back to the caller.\n",
    "- Output parameters: Functions can use parameters passed by reference to modify values in the caller's scope.\n",
    "- Exceptions: Functions can raise exceptions to signal errors or exceptional conditions to the caller."
   ]
  }
 ],
 "metadata": {
  "kernelspec": {
   "display_name": "Python 3 (ipykernel)",
   "language": "python",
   "name": "python3"
  },
  "language_info": {
   "codemirror_mode": {
    "name": "ipython",
    "version": 3
   },
   "file_extension": ".py",
   "mimetype": "text/x-python",
   "name": "python",
   "nbconvert_exporter": "python",
   "pygments_lexer": "ipython3",
   "version": "3.9.12"
  }
 },
 "nbformat": 4,
 "nbformat_minor": 5
}
