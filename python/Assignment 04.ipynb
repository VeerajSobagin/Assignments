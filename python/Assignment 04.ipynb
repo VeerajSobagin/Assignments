{
 "cells": [
  {
   "cell_type": "markdown",
   "id": "f2e859f3",
   "metadata": {},
   "source": [
    "### 1. What exactly is []?\n",
    " The empty list represented by [] is a list that contains no items. "
   ]
  },
  {
   "cell_type": "markdown",
   "id": "24f475a7",
   "metadata": {},
   "source": [
    "### 2. In a list of values stored in a variable called spam, how would you assign the value 'hello' as the third value?\n",
    "(Assume [2, 4, 6, 8, 10] are in spam.) Let's pretend the spam includes the list ['a', 'b', 'c', 'd'] for the next three queries.\n",
    "\n",
    "`spam[2]='hello'`"
   ]
  },
  {
   "cell_type": "code",
   "execution_count": 1,
   "id": "06a86290",
   "metadata": {},
   "outputs": [
    {
     "name": "stdout",
     "output_type": "stream",
     "text": [
      "[2, 4, 6, 8, 10]\n",
      "[2, 4, 'hello', 8, 10]\n"
     ]
    }
   ],
   "source": [
    "spam=[2,4,6,8,10]\n",
    "print(spam)\n",
    "spam[2]='hello'\n",
    "print(spam)"
   ]
  },
  {
   "cell_type": "markdown",
   "id": "e34b1d2c",
   "metadata": {},
   "source": [
    "### 3. What is the value of spam[int(int('3' * 2) / 11)]?\n",
    "\n",
    "`[3]`"
   ]
  },
  {
   "cell_type": "markdown",
   "id": "29cece18",
   "metadata": {},
   "source": [
    "### 4. What is the value of spam[-1]?\n",
    "The expression `spam[-1]` means the last element of the list `spam`."
   ]
  },
  {
   "cell_type": "markdown",
   "id": "032139af",
   "metadata": {},
   "source": [
    "### 5. What is the value of spam[:2]?\n",
    "\n",
    "It will return the elements of the spam list from the beginning up to index 2."
   ]
  },
  {
   "cell_type": "markdown",
   "id": "91e10581",
   "metadata": {},
   "source": [
    "## Let's pretend bacon has the list [3.14,'cat',11,'cat',True] for the next three question"
   ]
  },
  {
   "cell_type": "markdown",
   "id": "a64cd4ea",
   "metadata": {},
   "source": [
    "### 6. What is the value of bacon.index('cat')?\n",
    "The value of bacon.index('cat') is 1, which is the index of the first occurrence of 'cat' in the list."
   ]
  },
  {
   "cell_type": "markdown",
   "id": "ea5a0df0",
   "metadata": {},
   "source": [
    "### 7. How does bacon.append(99) change the look of the list value in bacon?\n",
    "After the execution of bacon.append(99), the list value in bacon will be `[3.14, 'cat', 11, 'cat', True, 99]`"
   ]
  },
  {
   "cell_type": "markdown",
   "id": "b1d62ffe",
   "metadata": {},
   "source": [
    "### 8. How does bacon.remove('cat') change the look of the list in bacon?\n",
    "\n",
    "`[3.14, 11, 'cat', True]`"
   ]
  },
  {
   "cell_type": "markdown",
   "id": "0f033d61",
   "metadata": {},
   "source": [
    "### 9. What are the list concatenation and list replication operators?\n",
    "The list concatenation operator is the + symbol, which concatenates two lists into a new list. "
   ]
  },
  {
   "cell_type": "markdown",
   "id": "b6636ad6",
   "metadata": {},
   "source": [
    "### 10. What is difference between the list methods append() and insert()?\n",
    "The append() method adds an element to the end of a list, whereas the insert() method inserts an element at a specified index."
   ]
  },
  {
   "cell_type": "markdown",
   "id": "f3f350f4",
   "metadata": {},
   "source": [
    "### 11. What are the two methods for removing items from a list?\n",
    "1. The remove() method - It removes the first occurrence of a given element from the list.\n",
    "2. The pop() method - It removes and returns the element at a given index position or the last element if no index is specified."
   ]
  },
  {
   "cell_type": "markdown",
   "id": "957e1d56",
   "metadata": {},
   "source": [
    "### 12. Describe how list values and string values are identical.\n",
    "List and string values are both sequences of characters. They can be indexed, sliced, concatenated, and have their length determined using the same methods and operators."
   ]
  },
  {
   "cell_type": "markdown",
   "id": "5fd8b911",
   "metadata": {},
   "source": [
    "### 13. What's the difference between tuples and lists?\n",
    "Tuples and lists are both used to store a collection of values in Python, but there are several differences between them:\n",
    "\n",
    "1. Mutability: Lists are mutable, which means their elements can be changed after creation. Tuples are immutable, which means their elements cannot be changed after creation.\n",
    "2. Syntax: Lists are defined using square brackets [] and elements are separated by commas, while tuples are defined using parentheses () and elements are separated by commas.\n",
    "3. Length: Lists can grow or shrink in size as needed, while tuples have a fixed size once they are created.\n",
    "4. Performance: Tuples are generally more efficient than lists for simple operations, such as indexing or iterating over elements."
   ]
  },
  {
   "cell_type": "markdown",
   "id": "6e71ff77",
   "metadata": {},
   "source": [
    "### 14. How do you type a tuple value that only contains the integer 42?\n",
    " `(42,)`"
   ]
  },
  {
   "cell_type": "markdown",
   "id": "c4a95231",
   "metadata": {},
   "source": [
    "### 15. How do you get a list value's tuple form? How do you get a tuple value's list form?\n",
    "\n",
    "`my_list = [1, 2, 3]\n",
    "my_tuple = tuple(my_list)`\n",
    "\n",
    "`my_tuple = (1, 2, 3)\n",
    "my_list = list(my_tuple)`"
   ]
  },
  {
   "cell_type": "markdown",
   "id": "f1385d8c",
   "metadata": {},
   "source": [
    "### 16. Variables that  \"contain\" list values are not necessarily lists themselves. Instead, what do they contain?\n",
    "Variables that \"contain\" list values in Python are actually storing a reference to the list object in memory. This means that the variable contains the memory address of the list object rather than the list itself."
   ]
  },
  {
   "cell_type": "markdown",
   "id": "a8fe84c9",
   "metadata": {},
   "source": [
    "### 17. How do you distinguish between copy.copy() and copy.deepcopy()?\n",
    "\n",
    "`copy.copy()` creates a shallow copy of the object, meaning it creates a new object with a new memory address, but the elements inside the object still refer to the same objects as the original object.\n",
    "\n",
    "`copy.deepcopy()` creates a deep copy of the object, meaning it creates a new object with a new memory address, and also creates copies of all the elements inside the object, including nested objects."
   ]
  }
 ],
 "metadata": {
  "kernelspec": {
   "display_name": "Python 3 (ipykernel)",
   "language": "python",
   "name": "python3"
  },
  "language_info": {
   "codemirror_mode": {
    "name": "ipython",
    "version": 3
   },
   "file_extension": ".py",
   "mimetype": "text/x-python",
   "name": "python",
   "nbconvert_exporter": "python",
   "pygments_lexer": "ipython3",
   "version": "3.9.12"
  }
 },
 "nbformat": 4,
 "nbformat_minor": 5
}
