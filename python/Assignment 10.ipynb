{
 "cells": [
  {
   "cell_type": "markdown",
   "id": "de0fcd1e",
   "metadata": {},
   "source": [
    "### 1. How do you distinguish between shutil.copy() and shutil.copytree()?\n",
    "The shutil.copy() function is used to copy a single file from one location to another, while shutil.copytree() function is used to copy an entire directory (including all of its files and subdirectories) from one location to another."
   ]
  },
  {
   "cell_type": "markdown",
   "id": "975459c5",
   "metadata": {},
   "source": [
    "### 2. What function is used to rename files??\n",
    "The os.rename() function is used to rename files in Python."
   ]
  },
  {
   "cell_type": "markdown",
   "id": "d82e0a4d",
   "metadata": {},
   "source": [
    "### 3. What is the difference between the delete functions in the send2trash and shutil modules?\n",
    "The send2trash module’s send2trash() function sends files and folders to the system’s trash or recycle bin, while the shutil module’s functions permanently delete files and folders."
   ]
  },
  {
   "cell_type": "markdown",
   "id": "d8bb2eb3",
   "metadata": {},
   "source": [
    "### 4.ZipFile objects have a close() method just like File objects’ close() method. What ZipFile method is equivalent to File objects’ open() method?\n",
    "The ZipFile method equivalent to File objects’ open() method is the ZipFile() method, which is used to open a ZIP archive and read or write its contents."
   ]
  },
  {
   "cell_type": "markdown",
   "id": "00f9935c",
   "metadata": {},
   "source": [
    "### 5. Create a programme that searches a folder tree for files with a certain file extension (such as .pdf or .jpg). Copy these files from whatever location they are in to a new folder."
   ]
  },
  {
   "cell_type": "code",
   "execution_count": null,
   "id": "47f00f5c",
   "metadata": {},
   "outputs": [],
   "source": [
    "import os\n",
    "import shutil\n",
    "\n",
    "# Source directory to search for PDF files\n",
    "src_dir = 'path/to/source/directory'\n",
    "\n",
    "# Destination directory to copy PDF files to\n",
    "dst_dir = 'path/to/destination/directory'\n",
    "\n",
    "# Search for PDF files in the source directory and its subdirectories\n",
    "for root, dirs, files in os.walk(src_dir):\n",
    "    for file in files:\n",
    "        if file.endswith('.pdf'):\n",
    "            # Construct the source and destination paths for the PDF file\n",
    "            src_path = os.path.join(root, file)\n",
    "            dst_path = os.path.join(dst_dir, file)\n",
    "            # Copy the PDF file to the destination directory\n",
    "            shutil.copy(src_path, dst_path)"
   ]
  }
 ],
 "metadata": {
  "kernelspec": {
   "display_name": "Python 3 (ipykernel)",
   "language": "python",
   "name": "python3"
  },
  "language_info": {
   "codemirror_mode": {
    "name": "ipython",
    "version": 3
   },
   "file_extension": ".py",
   "mimetype": "text/x-python",
   "name": "python",
   "nbconvert_exporter": "python",
   "pygments_lexer": "ipython3",
   "version": "3.9.12"
  }
 },
 "nbformat": 4,
 "nbformat_minor": 5
}
