{
 "cells": [
  {
   "cell_type": "markdown",
   "id": "b9020e08",
   "metadata": {},
   "source": [
    "### 1. What are escape characters, and how do you use them?\n",
    "Escape characters are special characters that are used to represent certain characters in a string that cannot be directly typed or interpreted by the computer. They are denoted by a backslash () followed by a character or sequence of characters. For example, '\\n' represents a new line character."
   ]
  },
  {
   "cell_type": "markdown",
   "id": "75993b3d",
   "metadata": {},
   "source": [
    "### 2. What do the escape characters n and t stand for?\n",
    "The escape character '\\n' stands for a new line, and '\\t' stands for a tab."
   ]
  },
  {
   "cell_type": "markdown",
   "id": "27093c49",
   "metadata": {},
   "source": [
    "### 3. What is the way to include backslash characters in a string?\n",
    "To include a backslash character in a string, it must be escaped by another backslash. For example, to include the character '' in a string, it should be written as '\\'."
   ]
  },
  {
   "cell_type": "markdown",
   "id": "792d82c9",
   "metadata": {},
   "source": [
    "### 4. The string \"Howl's Moving Castle\" is a correct value. Why isn't the single quote character in the word Howl's not escaped a problem?\n",
    "The single quote character in the word \"Howl's\" is not a problem because the string is enclosed in double quotes. Alternatively, the single quote could be escaped with a backslash."
   ]
  },
  {
   "cell_type": "markdown",
   "id": "4af1b0b8",
   "metadata": {},
   "source": [
    "### 5. How do you write a string of newlines if you don't want to use the n character?\n",
    "A string of newlines can be created by concatenating multiple newline characters together. For example, '\\n\\n\\n' would produce three consecutive newlines."
   ]
  },
  {
   "cell_type": "markdown",
   "id": "076d28c5",
   "metadata": {},
   "source": [
    "### 6. What are the values of the given expressions?\n",
    "`'Hello, world!'[1]\n",
    "'Hello, world!'[0:5]\n",
    "'Hello, world!'[:5] \n",
    "'Hello, world!'[3:]`\n",
    "\n",
    "1. 'e'\n",
    "2. 'Hello'\n",
    "3. 'Hello'\n",
    "4. 'lo, world!'"
   ]
  },
  {
   "cell_type": "markdown",
   "id": "37d2720e",
   "metadata": {},
   "source": [
    "### 7. What are the values of the following expressions?\n",
    "`'Hello'.upper() \n",
    "'Hello'.upper().isupper() \n",
    "'Hello'.upper().lower()`\n",
    "\n",
    "1. 'HELLO'\n",
    "2. True\n",
    "3. 'hello'"
   ]
  },
  {
   "cell_type": "markdown",
   "id": "c830260e",
   "metadata": {},
   "source": [
    "### 8. What are the values of the following expressions?\n",
    "`'Remember, remember, the fifth of July.'.split()\n",
    "'-'.join('There can only one.'.split())`\n",
    "\n",
    "1. ['Remember,', 'remember,', 'the', 'fifth', 'of', 'July.']\n",
    "2. 'There-can-only-one.'"
   ]
  },
  {
   "cell_type": "markdown",
   "id": "b1b9c052",
   "metadata": {},
   "source": [
    "### 9. What are the methods for right-justifying, left-justifying, and centering a string?\n",
    "1. Right-justifying: use the rjust() method\n",
    "2. Left-justifying: use the ljust() method\n",
    "3. Centering: use the center() method"
   ]
  },
  {
   "cell_type": "markdown",
   "id": "27ff22c8",
   "metadata": {},
   "source": [
    "### 10. What is the best way to remove whitespace characters from the start or end?\n",
    "The best way to remove whitespace characters from the start or end of a string is to use the strip() method. The lstrip() method removes whitespace from the left side of the string, and the rstrip() method removes whitespace from the right side of the string."
   ]
  }
 ],
 "metadata": {
  "kernelspec": {
   "display_name": "Python 3 (ipykernel)",
   "language": "python",
   "name": "python3"
  },
  "language_info": {
   "codemirror_mode": {
    "name": "ipython",
    "version": 3
   },
   "file_extension": ".py",
   "mimetype": "text/x-python",
   "name": "python",
   "nbconvert_exporter": "python",
   "pygments_lexer": "ipython3",
   "version": "3.9.12"
  }
 },
 "nbformat": 4,
 "nbformat_minor": 5
}
