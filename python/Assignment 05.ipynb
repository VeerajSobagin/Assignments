{
 "cells": [
  {
   "cell_type": "markdown",
   "id": "037acb8c",
   "metadata": {},
   "source": [
    "### 1. What does an empty dictionary's code look like?\n",
    "An empty dictionary's code is simply two curly braces with nothing in between: {}."
   ]
  },
  {
   "cell_type": "markdown",
   "id": "60673cb2",
   "metadata": {},
   "source": [
    "### 2. What is the value of a dictionary value with the key 'foo' and the value 42?\n",
    "The value of a dictionary value with the key 'foo' and the value 42 would be {'foo': 42}."
   ]
  },
  {
   "cell_type": "markdown",
   "id": "fae9aa23",
   "metadata": {},
   "source": [
    "### 3. What is the most significant distinction between a dictionary and a list?\n",
    "The most significant distinction between a dictionary and a list is that a dictionary uses key-value pairs to store data, while a list uses a sequence of elements."
   ]
  },
  {
   "cell_type": "markdown",
   "id": "611b0dd3",
   "metadata": {},
   "source": [
    "### 4. What happens if you try to access spam['foo'] if spam is {'bar': 100}?\n",
    "If you try to access spam['foo'] if spam is {'bar': 100}, you will get a KeyError, because the key 'foo' is not in the dictionary."
   ]
  },
  {
   "cell_type": "markdown",
   "id": "d62f8e24",
   "metadata": {},
   "source": [
    "### 5. If a dictionary is stored in spam, what is the difference between the expressions 'cat' in spam and 'cat' in spam.keys()?\n",
    "If a dictionary is stored in spam, 'cat' in spam checks whether 'cat' is a key in the dictionary, while 'cat' in spam.keys() does the same thing explicitly by checking whether 'cat' is in the list of keys in the dictionary."
   ]
  },
  {
   "cell_type": "markdown",
   "id": "0f841084",
   "metadata": {},
   "source": [
    "### 6. If a dictionary is stored in spam, what is the difference between the expressions 'cat' in spam and 'cat' in spam.values()?\n",
    "If a dictionary is stored in spam, 'cat' in spam checks whether 'cat' is a key in the dictionary, while 'cat' in spam.values() checks whether 'cat' is a value in the dictionary."
   ]
  },
  {
   "cell_type": "markdown",
   "id": "c7b7c47c",
   "metadata": {},
   "source": [
    "### 7. What is a shortcut for the following code?\n",
    "if 'color' not in spam: spam['color'] = 'black'\n",
    "\n",
    "The shortcut for the following code is spam.setdefault('color', 'black')."
   ]
  },
  {
   "cell_type": "markdown",
   "id": "5fe3f595",
   "metadata": {},
   "source": [
    "### 8. How do you \"pretty print\" dictionary values using which module and function?\n",
    "You can \"pretty print\" dictionary values using the pprint module and the pprint() function."
   ]
  }
 ],
 "metadata": {
  "kernelspec": {
   "display_name": "Python 3 (ipykernel)",
   "language": "python",
   "name": "python3"
  },
  "language_info": {
   "codemirror_mode": {
    "name": "ipython",
    "version": 3
   },
   "file_extension": ".py",
   "mimetype": "text/x-python",
   "name": "python",
   "nbconvert_exporter": "python",
   "pygments_lexer": "ipython3",
   "version": "3.9.12"
  }
 },
 "nbformat": 4,
 "nbformat_minor": 5
}
