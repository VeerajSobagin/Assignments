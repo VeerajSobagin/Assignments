{
 "cells": [
  {
   "cell_type": "markdown",
   "id": "2b899a14",
   "metadata": {},
   "source": [
    "### 1. What is the difference between enclosing a list comprehension in square brackets and parentheses?\n",
    "The main difference between enclosing a list comprehension in square brackets and parentheses is that using square brackets creates a list, whereas using parentheses creates a generator object. List comprehension is a syntactic construct that creates a new list from an iterable, whereas a generator is an iterator that generates items on the fly."
   ]
  },
  {
   "cell_type": "markdown",
   "id": "53006230",
   "metadata": {},
   "source": [
    "### 2. What is the relationship between generators and iterators?\n",
    "Generators are a special type of iterator that produce a sequence of values on the fly, as opposed to creating and returning a list or other data structure all at once. They are a way to write iterative code that is more memory-efficient and faster than using traditional iteration techniques."
   ]
  },
  {
   "cell_type": "markdown",
   "id": "0231cfae",
   "metadata": {},
   "source": [
    "### 3. What are the signs that a function is a generator function?\n",
    "The sign that a function is a generator function is the presence of the yield statement. A function that contains at least one yield statement is a generator function. When a generator function is called, it returns a generator object that can be iterated over."
   ]
  },
  {
   "cell_type": "markdown",
   "id": "6796b88c",
   "metadata": {},
   "source": [
    "### 4. What is the purpose of a yield statement?\n",
    "The purpose of a yield statement is to produce a value from a generator function and temporarily suspend the function's execution. When the generator function is resumed, it continues executing from where it left off, remembering its state (including variable values) until it hits the next yield statement."
   ]
  },
  {
   "cell_type": "markdown",
   "id": "2b898c18",
   "metadata": {},
   "source": [
    "### 5. What is the relationship between map calls and list comprehensions? Make a comparison and contrast between the two.\n",
    "Both map calls and list comprehensions are used to apply a function to each element of an iterable. The main difference is that map returns an iterator that applies the function lazily, while a list comprehension returns a list of the results. List comprehensions are generally more concise and easier to read, but may be slower and consume more memory than using map, especially for large iterables. Map calls are generally more memory-efficient, but may be less intuitive to read."
   ]
  }
 ],
 "metadata": {
  "kernelspec": {
   "display_name": "Python 3 (ipykernel)",
   "language": "python",
   "name": "python3"
  },
  "language_info": {
   "codemirror_mode": {
    "name": "ipython",
    "version": 3
   },
   "file_extension": ".py",
   "mimetype": "text/x-python",
   "name": "python",
   "nbconvert_exporter": "python",
   "pygments_lexer": "ipython3",
   "version": "3.9.12"
  }
 },
 "nbformat": 4,
 "nbformat_minor": 5
}
