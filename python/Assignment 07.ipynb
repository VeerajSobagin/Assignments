{
 "cells": [
  {
   "cell_type": "markdown",
   "id": "46732264",
   "metadata": {},
   "source": [
    "### 1. What is the name of the feature responsible for generating Regex objects?\n",
    "The 're' module in Python is responsible for generating Regex objects."
   ]
  },
  {
   "cell_type": "markdown",
   "id": "d2abc383",
   "metadata": {},
   "source": [
    "### 2. Why do raw strings often appear in Regex objects?\n",
    "Raw strings are often used in Regex objects because they allow special characters to be interpreted literally, without the need for escape characters."
   ]
  },
  {
   "cell_type": "markdown",
   "id": "f7407e51",
   "metadata": {},
   "source": [
    "### 3. What is the return value of the search() method?\n",
    "The search() method returns a Match object if the pattern is found in the searched string, otherwise it returns None."
   ]
  },
  {
   "cell_type": "markdown",
   "id": "6033f5e1",
   "metadata": {},
   "source": [
    "### 4. From a Match item, how do you get the actual strings that match the pattern?\n",
    "You can use the group() method on a Match object to get the actual strings that match the pattern."
   ]
  },
  {
   "cell_type": "markdown",
   "id": "ad447fc9",
   "metadata": {},
   "source": [
    "### 5. In the regex which created from the r'(\\d\\d\\d)-(\\d\\d\\d-\\d\\d\\d\\d)', what does group zero cover? Group 2? Group 1?\n",
    "Group 0 covers the entire matched string, group 1 covers the first set of digits in the pattern, and group 2 covers the second set of digits in the pattern."
   ]
  },
  {
   "cell_type": "markdown",
   "id": "2284ea65",
   "metadata": {},
   "source": [
    "### 6. In standard expression syntax, parentheses and intervals have distinct meanings. How can you tell a regex that you want it to fit real parentheses and periods?\n",
    "To tell a regex that you want to match real parentheses and periods, you can use the escape character () before the parentheses or period."
   ]
  },
  {
   "cell_type": "markdown",
   "id": "05ec417e",
   "metadata": {},
   "source": [
    "### 7. The findall() method returns a string list or a list of string tuples. What causes it to return one of the two options?\n",
    "If the regular expression used in findall() has one or more groups in it, then findall() returns a list of tuples, where each tuple represents a match and contains the matched groups. If there are no groups in the regular expression, then findall() returns a list of strings."
   ]
  },
  {
   "cell_type": "markdown",
   "id": "4a5a7df6",
   "metadata": {},
   "source": [
    "### 8. In standard expressions, what does the | character mean?\n",
    "The | character in a regular expression means \"or\". It is used to match either the expression before or after it."
   ]
  },
  {
   "cell_type": "markdown",
   "id": "ae09d030",
   "metadata": {},
   "source": [
    "### 9. In regular expressions, what does the character stand for?\n",
    "The dot (.) character in a regular expression matches any character except for a newline."
   ]
  },
  {
   "cell_type": "markdown",
   "id": "6d750751",
   "metadata": {},
   "source": [
    "### 10.In regular expressions, what is the difference between the + and * characters?\n",
    "The + character matches one or more occurrences of the preceding character or group, while the * character matches zero or more occurrences of the preceding character or group."
   ]
  },
  {
   "cell_type": "markdown",
   "id": "9d8e9add",
   "metadata": {},
   "source": [
    "### 11. What is the difference between {4} and {4,5} in regular expression?\n",
    "{4} in a regular expression matches exactly four occurrences of the preceding character or group, while {4,5} matches between four and five occurrences of the preceding character or group."
   ]
  },
  {
   "cell_type": "markdown",
   "id": "051d5e7e",
   "metadata": {},
   "source": [
    "### 12. What do you mean by the \\d, \\w, and \\s shorthand character classes signify in regular expressions?\n",
    "\\d matches any digit (0-9), \\w matches any word character (a-z, A-Z, 0-9, and underscore), and \\s matches any whitespace character (space, tab, newline, etc.)."
   ]
  },
  {
   "cell_type": "markdown",
   "id": "8ca09c47",
   "metadata": {},
   "source": [
    "### 13. What do means by \\D, \\W, and \\S shorthand character classes signify in regular expressions?\n",
    "\\D matches any non-digit character, \\W matches any non-word character, and \\S matches any non-whitespace character."
   ]
  },
  {
   "cell_type": "markdown",
   "id": "16e86885",
   "metadata": {},
   "source": [
    "### 14. What is the difference between .? and .?\n",
    "The .? matches zero or one occurrence of any character except for a newline, while . matches any character except for a newline."
   ]
  },
  {
   "cell_type": "markdown",
   "id": "6636ed13",
   "metadata": {},
   "source": [
    "### 15. What is the syntax for matching both numbers and lowercase letters with a character class?\n",
    "The syntax for matching both numbers and lowercase letters with a character class is [0-9a-z]."
   ]
  },
  {
   "cell_type": "markdown",
   "id": "316091e9",
   "metadata": {},
   "source": [
    "### 16. What is the procedure for making a normal expression in regax case insensitive?\n",
    "To make a regular expression case-insensitive, you can pass re.IGNORECASE or re.I as the second argument to re.compile()."
   ]
  },
  {
   "cell_type": "markdown",
   "id": "df7fcb18",
   "metadata": {},
   "source": [
    "### 17. What does the . character normally match? What does it match if re.DOTALL is passed as 2nd argument in re.compile()?\n",
    "The . character normally matches any character except for a newline. If re.DOTALL is passed as the second argument to re.compile(), then the . character will match any character, including newlines."
   ]
  },
  {
   "cell_type": "markdown",
   "id": "d539a7d3",
   "metadata": {},
   "source": [
    "### 18. If numReg = re.compile(r'\\d+'), what will numRegex.sub('X', '11 drummers, 10 pipers, five rings, 4 hen') return?\n",
    "numRegex.sub('X', '11 drummers, 10 pipers, five rings, 4 hen') will return the string 'X drummers, X pipers, five rings, X hen'."
   ]
  },
  {
   "cell_type": "markdown",
   "id": "364f58e6",
   "metadata": {},
   "source": [
    "### 19. What does passing re.VERBOSE as the 2nd argument to re.compile() allow to do?\n",
    "Passing re.VERBOSE as the second argument to re.compile() allows you to add comments and whitespace to the regular expression to make it more readable. Comments can be included with the # character, and whitespace can be added with spaces or newlines."
   ]
  },
  {
   "cell_type": "markdown",
   "id": "43febe24",
   "metadata": {},
   "source": [
    "### 20. How would you write a regex that match a number with comma for every three digits? It must match the given following:\n",
    "'42' '1,234' '6,368,745'\n",
    "\n",
    "but not the following: '12,34,567' (which has only two digits between the commas) '1234' (which lacks commas)\n",
    "\n",
    "You can write a regex that matches a number with commas for every three digits as follows: r'^\\d{1,3}(,\\d{3})*$'. This regex uses the ^ and $ characters to match the beginning and end of the string, respectively. It matches one to three digits (\\d{1,3}) at the beginning of the string, followed by zero or more groups of a comma and three digits (,\\d{3})*."
   ]
  },
  {
   "cell_type": "markdown",
   "id": "e266f264",
   "metadata": {},
   "source": [
    "### 21. How would you write a regex that matches the full name of someone whose last name is Watanabe? You can assume that the first name that comes before it will always be one word that begins with a capital letter. The regex must match the following:\n",
    "'Haruto Watanabe' 'Alice Watanabe' 'RoboCop Watanabe' but not the following: 'haruto Watanabe' (where the first name is not capitalized) 'Mr. Watanabe' (where the preceding word has a nonletter character) 'Watanabe' (which has no first name) 'Haruto watanabe' (where Watanabe is not capitalized)\n",
    "\n",
    "You can write a regex that matches the full name of someone whose last name is Watanabe as follows: r'[A-Z][a-z]*\\sWatanabe'. This regex matches a capital letter followed by zero or more lowercase letters ([A-Z][a-z]*) for the first name, followed by a space and the last name Watanabe."
   ]
  },
  {
   "cell_type": "markdown",
   "id": "391965ab",
   "metadata": {},
   "source": [
    "### 22. How would you write a regex that matches a sentence where the first word is either Alice, Bob, or Carol; the second word is either eats, pets, or throws; the third word is apples, cats, or baseballs; and the sentence ends with a period? This regex should be case-insensitive. It must match the following:\n",
    "'Alice eats apples.' 'Bob pets cats.' 'Carol throws baseballs.' 'Alice throws Apples.' 'BOB EATS CATS.' but not the following: 'RoboCop eats apples.' 'ALICE THROWS FOOTBALLS.' 'Carol eats 7 cats.'\n",
    "\n",
    "You can write a regex that matches the described sentence as follows: r'^(Alice|Bob|Carol)\\s(eats|pets|throws)\\s(apples|cats|baseballs)\\.$'. This regex matches the start of the string ^, followed by one of the three possible first words (Alice|Bob|Carol), a space \\s, one of the three possible second words (eats|pets|throws), another space \\s, one of the three possible third words (apples|cats|baseballs), and a period \\. at the end of the string $. The re.IGNORECASE or re.I flag can be passed as the second argument to make it case-insensitive."
   ]
  },
  {
   "cell_type": "code",
   "execution_count": null,
   "id": "d525d29a",
   "metadata": {},
   "outputs": [],
   "source": []
  }
 ],
 "metadata": {
  "kernelspec": {
   "display_name": "Python 3 (ipykernel)",
   "language": "python",
   "name": "python3"
  },
  "language_info": {
   "codemirror_mode": {
    "name": "ipython",
    "version": 3
   },
   "file_extension": ".py",
   "mimetype": "text/x-python",
   "name": "python",
   "nbconvert_exporter": "python",
   "pygments_lexer": "ipython3",
   "version": "3.9.12"
  }
 },
 "nbformat": 4,
 "nbformat_minor": 5
}
