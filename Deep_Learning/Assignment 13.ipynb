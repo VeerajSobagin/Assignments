{
 "cells": [
  {
   "cell_type": "markdown",
   "id": "5d28d3f9",
   "metadata": {},
   "source": [
    "### 1. Why is it generally preferable to use a Logistic Regression classifier rather than a classical Perceptron (i.e., a single layer of linear threshold units trained using the Perceptron training algorithm)? How can you tweak a Perceptron to make it equivalent to a Logistic Regression classifier?\n",
    "Logistic Regression is generally preferable to a classical Perceptron because it can output class probabilities and handle non-linearly separable data through the use of a logistic activation function. To make a Perceptron equivalent to a Logistic Regression classifier, you can replace the step activation function with a logistic function and use gradient descent to minimize the cross-entropy loss."
   ]
  },
  {
   "cell_type": "markdown",
   "id": "fd85d11d",
   "metadata": {},
   "source": [
    "### 2. Why was the logistic activation function a key ingredient in training the first MLPs?\n",
    "The logistic activation function was a key ingredient in training the first MLPs because it allowed for non-linear transformations of the input data and smooth gradients that made backpropagation feasible. The logistic function is also differentiable, allowing for the use of gradient descent optimization."
   ]
  },
  {
   "cell_type": "markdown",
   "id": "a00b8037",
   "metadata": {},
   "source": [
    "### 3. Name three popular activation functions. Can you draw them?\n",
    "Three popular activation functions are the sigmoid function, ReLU (rectified linear unit) function, and tanh (hyperbolic tangent) function. The sigmoid function is a smooth S-shaped curve that outputs values between 0 and 1. ReLU is a piecewise linear function that outputs 0 for negative inputs and the input itself for positive inputs. tanh is similar to sigmoid, but outputs values between -1 and 1."
   ]
  },
  {
   "cell_type": "markdown",
   "id": "036205a2",
   "metadata": {},
   "source": [
    "### 4. Suppose you have an MLP composed of one input layer with 10 passthrough neurons, followed by one hidden layer with 50 artificial neurons, and finally one output layer with 3 artificial neurons. All artificial neurons use the ReLU activation function.\n",
    "\n",
    " What is the shape of the input matrix X?\n",
    "\n",
    " What about the shape of the hidden layer’s weight vector Wh, and the shape of its bias vector bh?\n",
    "\n",
    " What is the shape of the output layer’s weight vector Wo, and its bias vector bo?\n",
    "\n",
    " What is the shape of the network’s output matrix Y?\n",
    "\n",
    " Write the equation that computes the network’s output matrix Y as a function of X, Wh, bh, Wo and bo.\n",
    "\n",
    "1. The input matrix X has a shape of (m, 10), where m is the number of training examples and 10 is the number of input features.\n",
    "2. The hidden layer's weight vector Wh has a shape of (10, 50), where 10 is the number of inputs and 50 is the number of neurons in the hidden layer. The bias vector bh has a shape of (50,), where 50 is the number of neurons in the hidden layer.\n",
    "3. The output layer's weight vector Wo has a shape of (50, 3), where 50 is the number of neurons in the hidden layer and 3 is the number of neurons in the output layer. The bias vector bo has a shape of (3,), where 3 is the number of neurons in the output layer.\n",
    "4. The network's output matrix Y has a shape of (m, 3), where m is the number of training examples and 3 is the number of output neurons.\n",
    "5. The equation that computes the network's output matrix Y as a function of X, Wh, bh, Wo, and bo is:\n",
    "Y = ReLU(ReLU(X.dot(Wh) + bh).dot(Wo) + bo)\n",
    "\n",
    "Here, the dot product (dot) represents matrix multiplication, and ReLU is the rectified linear activation function applied element-wise to the input matrix.\n"
   ]
  },
  {
   "cell_type": "markdown",
   "id": "7ada7301",
   "metadata": {},
   "source": [
    "### 5. How many neurons do you need in the output layer if you want to classify email into spam or ham? What activation function should you use in the output layer? If instead you want to tackle MNIST, how many neurons do you need in the output layer, using what activation function?\n",
    "For binary classification of spam/ham emails, you only need one neuron in the output layer with a sigmoid activation function that outputs a probability between 0 and 1. For MNIST, you need 10 neurons in the output layer (one for each class) with a softmax activation function to output a probability distribution over the 10 classes."
   ]
  },
  {
   "cell_type": "markdown",
   "id": "cf34af15",
   "metadata": {},
   "source": [
    "### 6. What is backpropagation and how does it work? What is the difference between backpropagation and reverse-mode autodiff?\n",
    "Backpropagation is an algorithm used to calculate the gradients of the loss function with respect to the weights in a neural network. It works by recursively applying the chain rule of calculus to compute the derivatives of the output with respect to each weight. Reverse-mode autodiff is a more general technique used to calculate gradients of arbitrary functions, but it is equivalent to backpropagation in neural networks."
   ]
  },
  {
   "cell_type": "markdown",
   "id": "1ca17343",
   "metadata": {},
   "source": [
    "### 7. Can you list all the hyperparameters you can tweak in an MLP? If the MLP overfits the training data, how could you tweak these hyperparameters to try to solve the problem?\n",
    "Some of the hyperparameters that can be tuned in a multi-layer perceptron (MLP) include the number of hidden layers, the number of neurons in each layer, the activation function for each layer, the learning rate, the optimization algorithm, and the regularization strength. If the MLP overfits the training data, you can try reducing the number of neurons or layers, increasing regularization, or applying dropout regularization to prevent overfitting."
   ]
  },
  {
   "cell_type": "markdown",
   "id": "44e1e55b",
   "metadata": {},
   "source": [
    "### 8. Train a deep MLP on the MNIST dataset and see if you can get over 98% precision. Try adding all the bells and whistles (i.e., save checkpoints, restore the last checkpoint in case of an interruption, add summaries, plot learning curves using TensorBoard, and so on).\n"
   ]
  }
 ],
 "metadata": {
  "kernelspec": {
   "display_name": "Python 3 (ipykernel)",
   "language": "python",
   "name": "python3"
  },
  "language_info": {
   "codemirror_mode": {
    "name": "ipython",
    "version": 3
   },
   "file_extension": ".py",
   "mimetype": "text/x-python",
   "name": "python",
   "nbconvert_exporter": "python",
   "pygments_lexer": "ipython3",
   "version": "3.9.12"
  }
 },
 "nbformat": 4,
 "nbformat_minor": 5
}
