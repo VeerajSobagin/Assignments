{
 "cells": [
  {
   "cell_type": "markdown",
   "id": "811212ed",
   "metadata": {},
   "source": [
    "### 1. How does unsqueeze help us to solve certain broadcasting problems?\n",
    "unsqueeze adds a new dimension to a tensor, which allows broadcasting to be applied more easily. For example, unsqueeze(a, 0) creates a new dimension at the beginning of the tensor, allowing it to be broadcast with another tensor with a different number of dimensions."
   ]
  },
  {
   "cell_type": "markdown",
   "id": "122aba23",
   "metadata": {},
   "source": [
    "### 2. How can we use indexing to do the same operation as unsqueeze?\n",
    "We can use slicing to do the same operation as unsqueeze, by creating a new dimension at the beginning or end of the tensor."
   ]
  },
  {
   "cell_type": "markdown",
   "id": "b9d4782e",
   "metadata": {},
   "source": [
    "### 3. How do we show the actual contents of the memory used for a tensor?\n",
    "To show the actual contents of the memory used for a tensor, we can use the storage attribute of the tensor, which returns a flattened version of the tensor."
   ]
  },
  {
   "cell_type": "markdown",
   "id": "4416c30d",
   "metadata": {},
   "source": [
    "### 4. When adding a vector of size 3 to a matrix of size 3×3, are the elements of the vector added to each row or each column of the matrix? (Be sure to check your answer by running this code in a notebook.)\n",
    "When adding a vector of size 3 to a matrix of size 3×3, the elements of the vector are added to each column of the matrix. This is because broadcasting is applied along the rows of the matrix."
   ]
  },
  {
   "cell_type": "markdown",
   "id": "24522df6",
   "metadata": {},
   "source": [
    "### 5. Do broadcasting and expand_as result in increased memory use? Why or why not?\n",
    "Broadcasting and expand_as do not result in increased memory use, as they do not create new tensors. They simply change the way the existing tensors are broadcast and combined."
   ]
  },
  {
   "cell_type": "markdown",
   "id": "2dea3041",
   "metadata": {},
   "source": [
    "### 7. What does a repeated index letter represent on the lefthand side of einsum?\n",
    "A repeated index letter on the lefthand side of einsum represents a summation over that index. For example, if the lefthand side is 'ij,jk->ik', then the repeated index letter j indicates that the summation is over the j index.\n",
    "\n"
   ]
  },
  {
   "cell_type": "markdown",
   "id": "90029c15",
   "metadata": {},
   "source": [
    "### 8. What are the three rules of Einstein summation notation? Why?\n",
    "The three rules of Einstein summation notation are:\n",
    "\n",
    "Repeated indices are summed over.\n",
    "Indices that appear only once are left unchanged.\n",
    "The order of the indices can be changed as long as the order is the same on both the lefthand and righthand sides."
   ]
  },
  {
   "cell_type": "markdown",
   "id": "f7490ef6",
   "metadata": {},
   "source": [
    "### 9. What are the forward pass and backward pass of a neural network?\n",
    "The forward pass is the process of feeding input data through a neural network to generate an output. During the forward pass, each neuron in the network receives input and applies an activation function to produce an output, which is then passed to the next layer until the final output is generated. The backward pass (also called backpropagation) is the process of computing the gradients of the loss function with respect to the weights of the neural network, which is used to update the weights through optimization algorithms such as stochastic gradient descent."
   ]
  },
  {
   "cell_type": "markdown",
   "id": "fad29b37",
   "metadata": {},
   "source": [
    "### 10. Why do we need to store some of the activations calculated for intermediate layers in the forward pass?\n",
    "Storing activations from intermediate layers during the forward pass is necessary for computing the gradients during the backward pass. The gradients are computed by backpropagating errors from the output layer to the input layer through the chain rule, which involves calculating the derivative of the activation function at each layer. The intermediate activations are needed to compute these derivatives accurately."
   ]
  },
  {
   "cell_type": "markdown",
   "id": "aaddcf60",
   "metadata": {},
   "source": [
    "### 11. What is the downside of having activations with a standard deviation too far away from 1?\n",
    "If the standard deviation of the activations in a neural network is too far away from 1, it can lead to vanishing or exploding gradients. Vanishing gradients occur when the gradient signal becomes too small, making it difficult for the optimizer to update the weights. Exploding gradients occur when the gradient signal becomes too large, causing the optimization algorithm to overshoot the optimal weights."
   ]
  },
  {
   "cell_type": "markdown",
   "id": "841f1257",
   "metadata": {},
   "source": [
    "### 12. How can weight initialization help avoid this problem?\n",
    "Proper weight initialization can help avoid the problem of vanishing or exploding gradients. One common technique is to use Xavier or He initialization, which initializes the weights with a Gaussian distribution that takes into account the size of the input and output layers of each neuron. This helps to balance the initial scale of the activations, preventing them from becoming too small or too large during training."
   ]
  }
 ],
 "metadata": {
  "kernelspec": {
   "display_name": "Python 3 (ipykernel)",
   "language": "python",
   "name": "python3"
  },
  "language_info": {
   "codemirror_mode": {
    "name": "ipython",
    "version": 3
   },
   "file_extension": ".py",
   "mimetype": "text/x-python",
   "name": "python",
   "nbconvert_exporter": "python",
   "pygments_lexer": "ipython3",
   "version": "3.9.12"
  }
 },
 "nbformat": 4,
 "nbformat_minor": 5
}
