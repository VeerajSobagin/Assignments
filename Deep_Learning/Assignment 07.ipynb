{
 "cells": [
  {
   "cell_type": "markdown",
   "id": "b247517a",
   "metadata": {},
   "source": [
    "### 1. Can you think of a few applications for a sequence-to-sequence RNN? What about a sequence-to-vector RNN, and a vector-to-sequence RNN?\n",
    "Applications for a sequence-to-sequence RNN include machine translation, speech recognition, and video captioning. A sequence-to-vector RNN can be used for sentiment analysis and image captioning, while a vector-to-sequence RNN is useful for tasks such as text generation and music composition."
   ]
  },
  {
   "cell_type": "markdown",
   "id": "d1a75aaf",
   "metadata": {},
   "source": [
    "### 2. How many dimensions must the inputs of an RNN layer have? What does each dimension represent? What about its outputs?\n",
    "The inputs of an RNN layer must have at least two dimensions: the batch size and the sequence length. Each dimension represents a different aspect of the input data. The outputs of an RNN layer also have at least two dimensions, but the last dimension may represent different things depending on the layer's configuration."
   ]
  },
  {
   "cell_type": "markdown",
   "id": "e30e68d4",
   "metadata": {},
   "source": [
    "### 3. If you want to build a deep sequence-to-sequence RNN, which RNN layers should have return_sequences=True? What about a sequence-to-vector RNN?\n",
    "In a deep sequence-to-sequence RNN, all layers except the last one should have return_sequences=True. In a sequence-to-vector RNN, only the last layer should have this parameter set to True."
   ]
  },
  {
   "cell_type": "markdown",
   "id": "248d5db6",
   "metadata": {},
   "source": [
    "### 4. Suppose you have a daily univariate time series, and you want to forecast the next seven days. Which RNN architecture should you use?\n",
    "A many-to-one RNN architecture is appropriate for this task, where the input sequence consists of daily data and the output is a single forecast value for the next seven days."
   ]
  },
  {
   "cell_type": "markdown",
   "id": "6c0e181b",
   "metadata": {},
   "source": [
    "### 5. What are the main difficulties when training RNNs? How can you handle them?\n",
    "The main difficulties when training RNNs include vanishing gradients, exploding gradients, and overfitting. To handle them, you can use techniques such as gradient clipping, dropout regularization, and early stopping."
   ]
  },
  {
   "cell_type": "markdown",
   "id": "f47ae65c",
   "metadata": {},
   "source": [
    "### 6. Can you sketch the LSTM cell’s architecture?\n",
    "The LSTM cell architecture consists of a cell state, an input gate, a forget gate, an output gate, and a hidden state. The cell state is updated based on the input and the previous state, while the gates control the flow of information through the cell."
   ]
  },
  {
   "cell_type": "markdown",
   "id": "551d008f",
   "metadata": {},
   "source": [
    "### 7. Why would you want to use 1D convolutional layers in an RNN?\n",
    "1D convolutional layers can be used in an RNN to help capture local patterns in the input sequence. This can be useful in tasks such as speech recognition and text classification."
   ]
  },
  {
   "cell_type": "markdown",
   "id": "e29e7315",
   "metadata": {},
   "source": [
    "### 8. Which neural network architecture could you use to classify videos?\n",
    "A 3D convolutional neural network (CNN) can be used to classify videos. This type of network takes in video frames as input and can capture both spatial and temporal features to classify actions or scenes in the video."
   ]
  },
  {
   "cell_type": "markdown",
   "id": "1e645a5c",
   "metadata": {},
   "source": [
    "### 9. Train a classification model for the SketchRNN dataset, available in TensorFlow Datasets.\n"
   ]
  }
 ],
 "metadata": {
  "kernelspec": {
   "display_name": "Python 3 (ipykernel)",
   "language": "python",
   "name": "python3"
  },
  "language_info": {
   "codemirror_mode": {
    "name": "ipython",
    "version": 3
   },
   "file_extension": ".py",
   "mimetype": "text/x-python",
   "name": "python",
   "nbconvert_exporter": "python",
   "pygments_lexer": "ipython3",
   "version": "3.9.12"
  }
 },
 "nbformat": 4,
 "nbformat_minor": 5
}
