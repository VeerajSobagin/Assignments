{
 "cells": [
  {
   "cell_type": "markdown",
   "id": "c8c3f278",
   "metadata": {},
   "source": [
    "### 1. What does a SavedModel contain? How do you inspect its content?\n",
    "A SavedModel contains a trained TensorFlow model and its associated variables, assets, and metadata. You can inspect its content using the saved_model_cli command-line interface."
   ]
  },
  {
   "cell_type": "markdown",
   "id": "b2323c8b",
   "metadata": {},
   "source": [
    "### 2. When should you use TF Serving? What are its main features? What are some tools you can use to deploy it?\n",
    "TF Serving is used to serve TensorFlow models at scale in production environments. Its main features include high performance, versioning, model rollback, and monitoring. Tools to deploy it include Docker and Kubernetes."
   ]
  },
  {
   "cell_type": "markdown",
   "id": "2a638aba",
   "metadata": {},
   "source": [
    "### 3. How do you deploy a model across multiple TF Serving instances?\n",
    "You can deploy a model across multiple TF Serving instances using Kubernetes and Istio for service mesh."
   ]
  },
  {
   "cell_type": "markdown",
   "id": "138f72eb",
   "metadata": {},
   "source": [
    "### 4. When should you use the gRPC API rather than the REST API to query a model served by TF Serving?\n",
    "You should use the gRPC API rather than the REST API to query a model served by TF Serving when you need low latency and high throughput."
   ]
  },
  {
   "cell_type": "markdown",
   "id": "ecd9f758",
   "metadata": {},
   "source": [
    "### 5. What are the different ways TFLite reduces a model’s size to make it run on a mobile or embedded device?\n",
    "TFLite reduces a model's size for mobile or embedded devices by quantization, pruning, and compression."
   ]
  },
  {
   "cell_type": "markdown",
   "id": "11841a57",
   "metadata": {},
   "source": [
    "### 6. What is quantization-aware training, and why would you need it?\n",
    "Quantization-aware training is a technique to train a model that is robust to low-precision inference by simulating the quantization effects during training."
   ]
  },
  {
   "cell_type": "markdown",
   "id": "d85002a9",
   "metadata": {},
   "source": [
    "### 7. What are model parallelism and data parallelism? Why is the latter generally recommended?\n",
    "Model parallelism and data parallelism are ways to distribute the computation of a model across multiple devices or servers. Data parallelism is generally recommended because it is simpler and can handle larger batch sizes."
   ]
  },
  {
   "cell_type": "markdown",
   "id": "ef2e4ac1",
   "metadata": {},
   "source": [
    "### 8. When training a model across multiple servers, what distribution strategies can you use? How do you choose which one to use?\n",
    "Distribution strategies to train a model across multiple servers include synchronous, asynchronous, and parameter server. The choice depends on the size of the model, the number of servers, the network bandwidth, and the communication latency."
   ]
  }
 ],
 "metadata": {
  "kernelspec": {
   "display_name": "Python 3 (ipykernel)",
   "language": "python",
   "name": "python3"
  },
  "language_info": {
   "codemirror_mode": {
    "name": "ipython",
    "version": 3
   },
   "file_extension": ".py",
   "mimetype": "text/x-python",
   "name": "python",
   "nbconvert_exporter": "python",
   "pygments_lexer": "ipython3",
   "version": "3.9.12"
  }
 },
 "nbformat": 4,
 "nbformat_minor": 5
}
