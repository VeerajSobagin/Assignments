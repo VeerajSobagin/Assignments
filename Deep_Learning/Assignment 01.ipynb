{
 "cells": [
  {
   "cell_type": "markdown",
   "id": "68af9342",
   "metadata": {},
   "source": [
    "### 1. What is the function of a summation junction of a neuron? What is threshold activation function?\n",
    "The summation junction of a neuron receives input signals from other neurons or environmental factors and computes the weighted sum of these inputs to determine whether to activate the neuron or not. The threshold activation function is a function that determines whether a neuron will fire or not based on the input signal it receives."
   ]
  },
  {
   "cell_type": "markdown",
   "id": "ae19be0b",
   "metadata": {},
   "source": [
    "### 2. What is a step function? What is the difference of step function with threshold function?\n",
    "A step function is a function that maps all input values below a certain threshold to one value and all input values above that threshold to another value. The difference between a step function and a threshold function is that a step function has a discontinuity at the threshold while a threshold function can have a smooth transition."
   ]
  },
  {
   "cell_type": "markdown",
   "id": "44563b86",
   "metadata": {},
   "source": [
    "### 3. Explain the McCulloch–Pitts model of neuron.\n",
    "The McCulloch-Pitts model is a simplified model of a neuron that takes binary inputs and generates a binary output. It consists of a set of input neurons, a summation junction that sums the inputs, and an activation function that determines whether to activate the neuron based on the threshold."
   ]
  },
  {
   "cell_type": "markdown",
   "id": "eaf581b3",
   "metadata": {},
   "source": [
    "### 4. Explain the ADALINE network model.\n",
    "ADALINE (Adaptive Linear Neuron) is a neural network model that uses linear activation functions and the least mean squares (LMS) algorithm to adjust its weights. It is used for linear classification tasks."
   ]
  },
  {
   "cell_type": "markdown",
   "id": "05df3a5d",
   "metadata": {},
   "source": [
    "### 5. What is the constraint of a simple perceptron? Why it may fail with a real-world data set?\n",
    "The constraint of a simple perceptron is that it can only separate data that is linearly separable. It may fail with real-world datasets that have non-linear decision boundaries or have overlapping classes."
   ]
  },
  {
   "cell_type": "markdown",
   "id": "fdf7f810",
   "metadata": {},
   "source": [
    "### 6. What is linearly inseparable problem? What is the role of the hidden layer?\n",
    "Linearly inseparable problem is a problem where the classes cannot be separated by a linear boundary. The role of the hidden layer in a neural network is to learn non-linear representations of the input data that can help to separate the classes."
   ]
  },
  {
   "cell_type": "markdown",
   "id": "8bc5e85f",
   "metadata": {},
   "source": [
    "### 7. Explain XOR problem in case of a simple perceptron.\n",
    "The XOR problem is a problem where the classes cannot be separated by a linear boundary. A simple perceptron cannot solve this problem because it can only learn linear boundaries."
   ]
  },
  {
   "cell_type": "markdown",
   "id": "6302e502",
   "metadata": {},
   "source": [
    "### 8. Design a multi-layer perceptron to implement A XOR B.\n",
    "A multi-layer perceptron with two input neurons, two hidden neurons, and one output neuron can implement A XOR B. Each input neuron is connected to both hidden neurons, each hidden neuron is connected to the output neuron, and bias neurons are added to both hidden and output layers."
   ]
  },
  {
   "cell_type": "markdown",
   "id": "4e30fc12",
   "metadata": {},
   "source": [
    "### 9. Explain the single-layer feed forward architecture of ANN.\n",
    "The single-layer feedforward architecture of an artificial neural network consists of an input layer, an output layer, and no hidden layers. The input layer receives the input data, the output layer generates the output, and the connections between them have weights that are adjusted during training."
   ]
  },
  {
   "cell_type": "markdown",
   "id": "adbf1523",
   "metadata": {},
   "source": [
    "### 10. Explain the competitive network architecture of ANN.\n",
    "The competitive network architecture of an artificial neural network consists of multiple neurons that compete with each other to become activated based on the input data. The activated neuron represents the winner-takes-all output of the network."
   ]
  },
  {
   "cell_type": "markdown",
   "id": "f6bb8867",
   "metadata": {},
   "source": [
    "### 11. Consider a multi-layer feed forward neural network. Enumerate and explain steps in the backpropagation algorithm used to train the network.\n",
    "The steps in the backpropagation algorithm for training a multi-layer feedforward neural network are: 1) Forward pass: calculate the output of each neuron in the network given the input data, 2) Calculate the error between the predicted output and the true output, 3) Backward pass: propagate the error backwards through the network and update the weights to minimize the error, 4) Repeat steps 1-3 for multiple epochs until the error is minimized."
   ]
  },
  {
   "cell_type": "markdown",
   "id": "00267ca1",
   "metadata": {},
   "source": [
    "### 12. What are the advantages and disadvantages of neural networks?\n",
    "The advantages of neural networks include their ability to learn complex non-linear relationships in data, their ability to generalize to new data, and their ability to handle noisy data. The disadvantages include their black box nature, the difficulty in interpreting their results, and the possibility of overfitting"
   ]
  },
  {
   "cell_type": "markdown",
   "id": "573a9c49",
   "metadata": {},
   "source": [
    "### 13. Write short notes on any two of the following:\n",
    "\n",
    "    1. Biological neuron\n",
    "    2. ReLU function\n",
    "    3. Single-layer feed forward ANN\n",
    "    4. Gradient descent\n",
    "    5. Recurrent networks\n",
    "    \n",
    "Biological neuron: A biological neuron is the fundamental unit of the nervous system that processes and transmits information. It consists of a cell body, dendrites, and an axon. The dendrites receive inputs, and the axon transmits outputs to other neurons or muscles. When inputs are strong enough, the neuron fires an action potential, which is a brief electrical signal that propagates along the axon.\n",
    "\n",
    "ReLU function: The Rectified Linear Unit (ReLU) function is a popular activation function used in neural networks. It maps any negative input to zero and leaves positive inputs unchanged. The function is computationally efficient, easy to optimize, and can avoid the vanishing gradient problem in deep neural networks. ReLU has been successful in many applications, including image recognition, speech recognition, and natural language processing."
   ]
  }
 ],
 "metadata": {
  "kernelspec": {
   "display_name": "Python 3 (ipykernel)",
   "language": "python",
   "name": "python3"
  },
  "language_info": {
   "codemirror_mode": {
    "name": "ipython",
    "version": 3
   },
   "file_extension": ".py",
   "mimetype": "text/x-python",
   "name": "python",
   "nbconvert_exporter": "python",
   "pygments_lexer": "ipython3",
   "version": "3.9.12"
  }
 },
 "nbformat": 4,
 "nbformat_minor": 5
}
