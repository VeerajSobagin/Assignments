{
 "cells": [
  {
   "cell_type": "markdown",
   "id": "8d77df27",
   "metadata": {},
   "source": [
    "Question 1\n",
    "Given three integer arrays arr1, arr2 and arr3 sorted in strictly increasing order, return a sorted array of only the integers that appeared in all three arrays."
   ]
  },
  {
   "cell_type": "code",
   "execution_count": 2,
   "id": "b12147a8",
   "metadata": {},
   "outputs": [
    {
     "name": "stdout",
     "output_type": "stream",
     "text": [
      "[1, 5]\n"
     ]
    }
   ],
   "source": [
    "def Elements(arr1, arr2, arr3):\n",
    "    set1 = set(arr1)\n",
    "    set2 = set(arr2)\n",
    "    set3 = set(arr3)\n",
    "\n",
    "    common = set1.intersection(set2, set3)\n",
    "\n",
    "    return sorted(common)\n",
    "\n",
    "arr1 = [1, 2, 3, 4, 5]\n",
    "arr2 = [1, 2, 5, 7, 9]\n",
    "arr3 = [1, 3, 4, 5, 8]\n",
    "print(Elements(arr1, arr2, arr3)) "
   ]
  },
  {
   "cell_type": "code",
   "execution_count": null,
   "id": "3b5c6b28",
   "metadata": {},
   "outputs": [],
   "source": []
  },
  {
   "cell_type": "markdown",
   "id": "362912d7",
   "metadata": {},
   "source": [
    "\n",
    "Question 2\n",
    "\n",
    "Given two **0-indexed** integer arrays nums1 and nums2, return *a list* answer *of size* 2 *where:*\n",
    "\n",
    "- answer[0] *is a list of all **distinct** integers in* nums1 *which are **not** present in* nums2*.*\n",
    "- answer[1] *is a list of all **distinct** integers in* nums2 *which are **not** present in* nums1.\n",
    "\n",
    "Note - that the integers in the lists may be returned in **any** order.\n",
    "\n"
   ]
  },
  {
   "cell_type": "code",
   "execution_count": 3,
   "id": "6a1cf03b",
   "metadata": {},
   "outputs": [
    {
     "name": "stdout",
     "output_type": "stream",
     "text": [
      "[[1, 3], [4, 6]]\n"
     ]
    }
   ],
   "source": [
    "def Disjoint(nums1, nums2):\n",
    "    set1 = set(nums1)\n",
    "    set2 = set(nums2)\n",
    "\n",
    "    distinct_nums1 = [num for num in set1 if num not in set2]\n",
    "    distinct_nums2 = [num for num in set2 if num not in set1]\n",
    "\n",
    "    return [distinct_nums1, distinct_nums2]\n",
    "\n",
    "# Test the function\n",
    "nums1 = [1, 2, 3]\n",
    "nums2 = [2, 4, 6]\n",
    "print(Disjoint(nums1, nums2))  # Output: [[1, 3], [4, 6]]"
   ]
  },
  {
   "cell_type": "code",
   "execution_count": null,
   "id": "e4dddfa0",
   "metadata": {},
   "outputs": [],
   "source": []
  },
  {
   "cell_type": "markdown",
   "id": "0f841cc8",
   "metadata": {},
   "source": [
    "\n",
    "💡 **Question 3**\n",
    "Given a 2D integer array matrix, return *the **transpose** of* matrix.\n",
    "\n",
    "The **transpose** of a matrix is the matrix flipped over its main diagonal, switching the matrix's row and column indices.\n",
    "\n",
    "**Example 1:**\n",
    "\n",
    "Input: matrix = [[1,2,3],[4,5,6],[7,8,9]]\n",
    "\n",
    "Output: [[1,4,7],[2,5,8],[3,6,9]]\n",
    "\n"
   ]
  },
  {
   "cell_type": "code",
   "execution_count": 4,
   "id": "014f6abb",
   "metadata": {},
   "outputs": [
    {
     "name": "stdout",
     "output_type": "stream",
     "text": [
      "[[1, 4, 7], [2, 5, 8], [3, 6, 9]]\n"
     ]
    }
   ],
   "source": [
    "def transpose(matrix):\n",
    "    m = len(matrix)\n",
    "    n = len(matrix[0])\n",
    "\n",
    "    transposed = [[0 for _ in range(m)] for _ in range(n)]\n",
    "\n",
    "    for i in range(m):\n",
    "        for j in range(n):\n",
    "            transposed[j][i] = matrix[i][j]\n",
    "\n",
    "    return transposed\n",
    "\n",
    "matrix = [[1, 2, 3], [4, 5, 6], [7, 8, 9]]\n",
    "print(transpose(matrix))"
   ]
  },
  {
   "cell_type": "code",
   "execution_count": null,
   "id": "37d9ba4b",
   "metadata": {},
   "outputs": [],
   "source": []
  },
  {
   "cell_type": "markdown",
   "id": "9f381261",
   "metadata": {},
   "source": [
    "Question 4\n",
    "Given an integer array nums of 2n integers, group these integers into n pairs (a1, b1), (a2, b2), ..., (an, bn) such that the sum of min(ai, bi) for all i is maximized. Return the maximized sum."
   ]
  },
  {
   "cell_type": "code",
   "execution_count": 5,
   "id": "a55f7e5e",
   "metadata": {},
   "outputs": [
    {
     "name": "stdout",
     "output_type": "stream",
     "text": [
      "4\n"
     ]
    }
   ],
   "source": [
    "def Sum(nums):\n",
    "    nums.sort()  \n",
    "    max_sum = 0\n",
    "\n",
    "    for i in range(0, len(nums), 2):\n",
    "        max_sum += nums[i]\n",
    "\n",
    "    return max_sum\n",
    "\n",
    "nums = [1, 4, 3, 2]\n",
    "print(Sum(nums))"
   ]
  },
  {
   "cell_type": "code",
   "execution_count": null,
   "id": "f8635db0",
   "metadata": {},
   "outputs": [],
   "source": []
  },
  {
   "cell_type": "markdown",
   "id": "657d43d2",
   "metadata": {},
   "source": [
    "Question 6\n",
    "Given an integer array nums sorted in non-decreasing order, return an array of the squares of each number sorted in non-decreasing order."
   ]
  },
  {
   "cell_type": "code",
   "execution_count": 8,
   "id": "ac0be8c8",
   "metadata": {},
   "outputs": [
    {
     "name": "stdout",
     "output_type": "stream",
     "text": [
      "[0, 1, 9, 16, 100]\n"
     ]
    }
   ],
   "source": [
    "def Squares(nums):\n",
    "    squares = [num * num for num in nums]\n",
    "\n",
    "    squares.sort()\n",
    "\n",
    "    return squares\n",
    "\n",
    "\n",
    "nums = [-4, -1, 0, 3, 10]\n",
    "print(Squares(nums))"
   ]
  },
  {
   "cell_type": "code",
   "execution_count": null,
   "id": "4cd03224",
   "metadata": {},
   "outputs": [],
   "source": []
  },
  {
   "cell_type": "markdown",
   "id": "d4f1db0b",
   "metadata": {},
   "source": [
    "**Question 8**\n",
    "\n",
    "Given the array nums consisting of 2n elements in the form [x1,x2,...,xn,y1,y2,...,yn].\n",
    "\n",
    "*Return the array in the form* [x1,y1,x2,y2,...,xn,yn].\n"
   ]
  },
  {
   "cell_type": "code",
   "execution_count": 9,
   "id": "2ce46fc0",
   "metadata": {},
   "outputs": [
    {
     "name": "stdout",
     "output_type": "stream",
     "text": [
      "[2, 3, 5, 4, 1, 7]\n"
     ]
    }
   ],
   "source": [
    "def mix(nums, n):\n",
    "    result = []\n",
    "    for i in range(n):\n",
    "        result.append(nums[i])\n",
    "        result.append(nums[i + n])\n",
    "    return result\n",
    "\n",
    "# Test the function\n",
    "nums = [2, 5, 1, 3, 4, 7]\n",
    "n = 3\n",
    "print(mix(nums, n))"
   ]
  },
  {
   "cell_type": "code",
   "execution_count": null,
   "id": "706fef8e",
   "metadata": {},
   "outputs": [],
   "source": []
  },
  {
   "cell_type": "code",
   "execution_count": null,
   "id": "f369fc88",
   "metadata": {},
   "outputs": [],
   "source": []
  },
  {
   "cell_type": "code",
   "execution_count": null,
   "id": "4bedac57",
   "metadata": {},
   "outputs": [],
   "source": []
  },
  {
   "cell_type": "code",
   "execution_count": null,
   "id": "f6c3ab63",
   "metadata": {},
   "outputs": [],
   "source": []
  }
 ],
 "metadata": {
  "kernelspec": {
   "display_name": "Python 3 (ipykernel)",
   "language": "python",
   "name": "python3"
  },
  "language_info": {
   "codemirror_mode": {
    "name": "ipython",
    "version": 3
   },
   "file_extension": ".py",
   "mimetype": "text/x-python",
   "name": "python",
   "nbconvert_exporter": "python",
   "pygments_lexer": "ipython3",
   "version": "3.9.12"
  }
 },
 "nbformat": 4,
 "nbformat_minor": 5
}
