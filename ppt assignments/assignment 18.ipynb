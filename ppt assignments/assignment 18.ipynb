{
 "cells": [
  {
   "cell_type": "markdown",
   "id": "3e9882c1",
   "metadata": {},
   "source": [
    "<aside>\n",
    "💡 1. **Merge Intervals**\n",
    "\n",
    "Given an array of `intervals` where `intervals[i] = [starti, endi]`, merge all overlapping intervals, and return *an array of the non-overlapping intervals that cover all the intervals in the input*.\n",
    "\n",
    "</aside>"
   ]
  },
  {
   "cell_type": "code",
   "execution_count": 1,
   "id": "a8a0bfdd",
   "metadata": {},
   "outputs": [
    {
     "name": "stdout",
     "output_type": "stream",
     "text": [
      "[[1, 6], [8, 10], [15, 18]]\n",
      "[[1, 5]]\n"
     ]
    }
   ],
   "source": [
    "def mergeIntervals(intervals):\n",
    "    intervals.sort(key=lambda x: x[0])  \n",
    "    merged = [intervals[0]]  \n",
    "\n",
    "    for interval in intervals[1:]:\n",
    "        if interval[0] <= merged[-1][1]:  \n",
    "            merged[-1][1] = max(merged[-1][1], interval[1])  \n",
    "        else:\n",
    "            merged.append(interval) \n",
    "\n",
    "    return merged\n",
    "\n",
    "\n",
    "intervals = [[1, 3], [2, 6], [8, 10], [15, 18]]\n",
    "print(mergeIntervals(intervals))  \n",
    "\n",
    "intervals = [[1, 4], [4, 5]]\n",
    "print(mergeIntervals(intervals))  "
   ]
  },
  {
   "cell_type": "markdown",
   "id": "fc78b64f",
   "metadata": {},
   "source": [
    "<aside>\n",
    "💡 2. **Sort Colors**\n",
    "\n",
    "Given an array `nums` with `n` objects colored red, white, or blue, sort them **[in-place](https://en.wikipedia.org/wiki/In-place_algorithm)** so that objects of the same color are adjacent, with the colors in the order red, white, and blue.\n",
    "\n",
    "We will use the integers `0`, `1`, and `2` to represent the color red, white, and blue, respectively.\n",
    "\n",
    "You must solve this problem without using the library's sort function.\n",
    "\n",
    "</aside>"
   ]
  },
  {
   "cell_type": "code",
   "execution_count": 2,
   "id": "a604e0f6",
   "metadata": {},
   "outputs": [
    {
     "name": "stdout",
     "output_type": "stream",
     "text": [
      "[0, 0, 1, 1, 2, 2]\n",
      "[0, 1, 2]\n"
     ]
    }
   ],
   "source": [
    "def sortColors(nums):\n",
    "    left = 0  \n",
    "    right = len(nums) - 1  \n",
    "    curr = 0 \n",
    "\n",
    "    while curr <= right:\n",
    "        if nums[curr] == 0: \n",
    "            nums[curr], nums[left] = nums[left], nums[curr]  \n",
    "            left += 1 \n",
    "            curr += 1 \n",
    "        elif nums[curr] == 2:  \n",
    "            nums[curr], nums[right] = nums[right], nums[curr]  \n",
    "            right -= 1 \n",
    "        else:  \n",
    "            curr += 1  \n",
    "\n",
    "\n",
    "nums = [2, 0, 2, 1, 1, 0]\n",
    "sortColors(nums)\n",
    "print(nums) \n",
    "\n",
    "nums = [2, 0, 1]\n",
    "sortColors(nums)\n",
    "print(nums)  \n"
   ]
  },
  {
   "cell_type": "code",
   "execution_count": null,
   "id": "b769c8a4",
   "metadata": {},
   "outputs": [],
   "source": []
  },
  {
   "cell_type": "markdown",
   "id": "64cd991c",
   "metadata": {},
   "source": [
    "<aside>\n",
    "💡 3. **First Bad Version Solution**\n",
    "\n",
    "You are a product manager and currently leading a team to develop a new product. Unfortunately, the latest version of your product fails the quality check. Since each version is developed based on the previous version, all the versions after a bad version are also bad.\n",
    "\n",
    "Suppose you have `n` versions `[1, 2, ..., n]` and you want to find out the first bad one, which causes all the following ones to be bad.\n",
    "\n",
    "You are given an API `bool isBadVersion(version)` which returns whether `version` is bad. Implement a function to find the first bad version. You should minimize the number of calls to the API.\n",
    "\n",
    "</aside>"
   ]
  },
  {
   "cell_type": "code",
   "execution_count": 4,
   "id": "554ceed1",
   "metadata": {},
   "outputs": [
    {
     "name": "stdout",
     "output_type": "stream",
     "text": [
      "5\n",
      "1\n"
     ]
    }
   ],
   "source": [
    "def isBadVersion(version):\n",
    "   \n",
    "    pass\n",
    "\n",
    "def firstBadVersion(n):\n",
    "    left = 1\n",
    "    right = n\n",
    "\n",
    "    while left < right:\n",
    "        mid = left + (right - left) // 2\n",
    "        if isBadVersion(mid):\n",
    "            right = mid\n",
    "        else:\n",
    "            left = mid + 1\n",
    "\n",
    "    return left\n",
    "\n",
    "\n",
    "n = 5\n",
    "bad = 4\n",
    "result = firstBadVersion(n)\n",
    "print(result)  \n",
    "\n",
    "\n",
    "n = 1\n",
    "bad = 1\n",
    "result = firstBadVersion(n)\n",
    "print(result)  \n"
   ]
  },
  {
   "cell_type": "code",
   "execution_count": null,
   "id": "2035a2a2",
   "metadata": {},
   "outputs": [],
   "source": []
  },
  {
   "cell_type": "markdown",
   "id": "50423541",
   "metadata": {},
   "source": [
    "<aside>\n",
    "💡 4. **Maximum Gap**\n",
    "\n",
    "Given an integer array `nums`, return *the maximum difference between two successive elements in its sorted form*. If the array contains less than two elements, return `0`.\n",
    "\n",
    "You must write an algorithm that runs in linear time and uses linear extra space.\n",
    "\n",
    "</aside>"
   ]
  },
  {
   "cell_type": "code",
   "execution_count": 5,
   "id": "16f6798e",
   "metadata": {},
   "outputs": [
    {
     "name": "stdout",
     "output_type": "stream",
     "text": [
      "3\n",
      "0\n"
     ]
    }
   ],
   "source": [
    "def maximumGap(nums):\n",
    "    if len(nums) < 2:\n",
    "        return 0\n",
    "    \n",
    "    \n",
    "    min_num = min(nums)\n",
    "    max_num = max(nums)\n",
    "    \n",
    "    bucket_size = max(1, (max_num - min_num) // (len(nums) - 1))\n",
    "    \n",
    "    \n",
    "    num_buckets = (max_num - min_num) // bucket_size + 1\n",
    "    \n",
    "    \n",
    "    buckets = [[float('inf'), float('-inf')] for _ in range(num_buckets)]\n",
    "    \n",
    "    \n",
    "    for num in nums:\n",
    "        bucket_index = (num - min_num) // bucket_size\n",
    "        bucket = buckets[bucket_index]\n",
    "        bucket[0] = min(bucket[0], num)\n",
    "        bucket[1] = max(bucket[1], num)\n",
    "    \n",
    "\n",
    "    max_gap = 0\n",
    "    prev_max = min_num\n",
    "    for bucket in buckets:\n",
    "        if bucket[0] == float('inf') or bucket[1] == float('-inf'):\n",
    "            continue\n",
    "        max_gap = max(max_gap, bucket[0] - prev_max)\n",
    "        prev_max = bucket[1]\n",
    "    \n",
    "    return max_gap\n",
    "\n",
    "\n",
    "nums = [3, 6, 9, 1]\n",
    "result = maximumGap(nums)\n",
    "print(result)  \n",
    "\n",
    "\n",
    "nums = [10]\n",
    "result = maximumGap(nums)\n",
    "print(result)  \n"
   ]
  },
  {
   "cell_type": "code",
   "execution_count": null,
   "id": "1be168de",
   "metadata": {},
   "outputs": [],
   "source": []
  },
  {
   "cell_type": "markdown",
   "id": "62df287d",
   "metadata": {},
   "source": [
    "<aside>\n",
    "💡 5. **Contains Duplicate**\n",
    "\n",
    "Given an integer array `nums`, return `true` if any value appears **at least twice** in the array, and return `false` if every element is distinct.\n",
    "\n",
    "</aside>"
   ]
  },
  {
   "cell_type": "code",
   "execution_count": 6,
   "id": "70b03b78",
   "metadata": {},
   "outputs": [
    {
     "name": "stdout",
     "output_type": "stream",
     "text": [
      "True\n",
      "False\n"
     ]
    }
   ],
   "source": [
    "def containsDuplicate(nums):\n",
    "   \n",
    "    unique_set = set()\n",
    "    \n",
    "   \n",
    "    for num in nums:\n",
    "        \n",
    "        if num in unique_set:\n",
    "            return True\n",
    "        \n",
    "        unique_set.add(num)\n",
    "    \n",
    "   \n",
    "    return False\n",
    "\n",
    "\n",
    "nums = [1, 2, 3, 1]\n",
    "result = containsDuplicate(nums)\n",
    "print(result)  \n",
    "\n",
    "\n",
    "nums = [1, 2, 3, 4]\n",
    "result = containsDuplicate(nums)\n",
    "print(result)  \n"
   ]
  },
  {
   "cell_type": "code",
   "execution_count": null,
   "id": "8789c14e",
   "metadata": {},
   "outputs": [],
   "source": []
  },
  {
   "cell_type": "markdown",
   "id": "4afd0bf6",
   "metadata": {},
   "source": [
    "<aside>\n",
    "💡 6. **Minimum Number of Arrows to Burst Balloons**\n",
    "\n",
    "There are some spherical balloons taped onto a flat wall that represents the XY-plane. The balloons are represented as a 2D integer array `points` where `points[i] = [xstart, xend]` denotes a balloon whose **horizontal diameter** stretches between `xstart` and `xend`. You do not know the exact y-coordinates of the balloons.\n",
    "\n",
    "Arrows can be shot up **directly vertically** (in the positive y-direction) from different points along the x-axis. A balloon with `xstart` and `xend` is **burst** by an arrow shot at `x` if `xstart <= x <= xend`. There is **no limit** to the number of arrows that can be shot. A shot arrow keeps traveling up infinitely, bursting any balloons in its path.\n",
    "\n",
    "Given the array `points`, return *the **minimum** number of arrows that must be shot to burst all balloons*.\n",
    "\n",
    "</aside>"
   ]
  },
  {
   "cell_type": "code",
   "execution_count": 7,
   "id": "d94c4d6a",
   "metadata": {},
   "outputs": [
    {
     "name": "stdout",
     "output_type": "stream",
     "text": [
      "2\n",
      "4\n",
      "2\n"
     ]
    }
   ],
   "source": [
    "def findMinArrowShots(points):\n",
    "    if not points:\n",
    "        return 0\n",
    "    \n",
    "   \n",
    "    points.sort(key=lambda x: x[1])\n",
    "    \n",
    "    arrows = 1\n",
    "    end = points[0][1]\n",
    "    \n",
    "    \n",
    "    for i in range(1, len(points)):\n",
    "        \n",
    "        if points[i][0] > end:\n",
    "            arrows += 1\n",
    "            end = points[i][1]  \n",
    "        \n",
    "    return arrows\n",
    "\n",
    "\n",
    "points = [[10, 16], [2, 8], [1, 6], [7, 12]]\n",
    "result = findMinArrowShots(points)\n",
    "print(result)  \n",
    "\n",
    "\n",
    "points = [[1, 2], [3, 4], [5, 6], [7, 8]]\n",
    "result = findMinArrowShots(points)\n",
    "print(result) \n",
    "\n",
    "\n",
    "points = [[1, 2], [2, 3], [3, 4], [4, 5]]\n",
    "result = findMinArrowShots(points)\n",
    "print(result)  \n"
   ]
  },
  {
   "cell_type": "code",
   "execution_count": null,
   "id": "96e848ea",
   "metadata": {},
   "outputs": [],
   "source": []
  },
  {
   "cell_type": "markdown",
   "id": "e12234eb",
   "metadata": {},
   "source": [
    "<aside>\n",
    "💡 7. **Longest Increasing Subsequence**\n",
    "\n",
    "Given an integer array `nums`, return *the length of the longest **strictly increasing***\n",
    "\n",
    "***subsequence***\n",
    "\n",
    "</aside>"
   ]
  },
  {
   "cell_type": "code",
   "execution_count": 8,
   "id": "1804bd56",
   "metadata": {},
   "outputs": [
    {
     "name": "stdout",
     "output_type": "stream",
     "text": [
      "4\n",
      "4\n",
      "1\n"
     ]
    }
   ],
   "source": [
    "def lengthOfLIS(nums):\n",
    "    n = len(nums)\n",
    "    dp = [1] * n  \n",
    "    \n",
    "    for i in range(1, n):\n",
    "        for j in range(i):\n",
    "            if nums[i] > nums[j]:\n",
    "                dp[i] = max(dp[i], dp[j] + 1)\n",
    "    \n",
    "    return max(dp)\n",
    "\n",
    "\n",
    "nums = [10, 9, 2, 5, 3, 7, 101, 18]\n",
    "result = lengthOfLIS(nums)\n",
    "print(result)  # Output: 4\n",
    "\n",
    "\n",
    "nums = [0, 1, 0, 3, 2, 3]\n",
    "result = lengthOfLIS(nums)\n",
    "print(result)  \n",
    "\n",
    "\n",
    "nums = [7, 7, 7, 7, 7, 7, 7]\n",
    "result = lengthOfLIS(nums)\n",
    "print(result)  \n"
   ]
  },
  {
   "cell_type": "code",
   "execution_count": null,
   "id": "c8418638",
   "metadata": {},
   "outputs": [],
   "source": []
  },
  {
   "cell_type": "markdown",
   "id": "c95162c8",
   "metadata": {},
   "source": [
    "<aside>\n",
    "💡 8. **132 Pattern**\n",
    "\n",
    "Given an array of `n` integers `nums`, a **132 pattern** is a subsequence of three integers `nums[i]`, `nums[j]` and `nums[k]` such that `i < j < k` and `nums[i] < nums[k] < nums[j]`.\n",
    "\n",
    "Return `true` *if there is a **132 pattern** in* `nums`*, otherwise, return* `false`*.*\n",
    "\n",
    "</aside>"
   ]
  },
  {
   "cell_type": "code",
   "execution_count": 9,
   "id": "c9b801e9",
   "metadata": {},
   "outputs": [
    {
     "name": "stdout",
     "output_type": "stream",
     "text": [
      "False\n",
      "True\n",
      "True\n"
     ]
    }
   ],
   "source": [
    "def find132pattern(nums):\n",
    "    stack = []\n",
    "    s3 = float('-inf')\n",
    "    \n",
    "    for num in reversed(nums):\n",
    "        if num < s3:\n",
    "            return True\n",
    "        while stack and stack[-1] < num:\n",
    "            s3 = stack.pop()\n",
    "        stack.append(num)\n",
    "    \n",
    "    return False\n",
    "\n",
    "\n",
    "nums = [1, 2, 3, 4]\n",
    "result = find132pattern(nums)\n",
    "print(result)  \n",
    "\n",
    "\n",
    "nums = [3, 1, 4, 2]\n",
    "result = find132pattern(nums)\n",
    "print(result)  \n",
    "\n",
    "\n",
    "nums = [-1, 3, 2, 0]\n",
    "result = find132pattern(nums)\n",
    "print(result)  \n"
   ]
  },
  {
   "cell_type": "code",
   "execution_count": null,
   "id": "86a0152a",
   "metadata": {},
   "outputs": [],
   "source": []
  },
  {
   "cell_type": "code",
   "execution_count": null,
   "id": "ec7d40f8",
   "metadata": {},
   "outputs": [],
   "source": []
  },
  {
   "cell_type": "code",
   "execution_count": null,
   "id": "89759595",
   "metadata": {},
   "outputs": [],
   "source": []
  },
  {
   "cell_type": "code",
   "execution_count": null,
   "id": "bae31d29",
   "metadata": {},
   "outputs": [],
   "source": []
  }
 ],
 "metadata": {
  "kernelspec": {
   "display_name": "Python 3 (ipykernel)",
   "language": "python",
   "name": "python3"
  },
  "language_info": {
   "codemirror_mode": {
    "name": "ipython",
    "version": 3
   },
   "file_extension": ".py",
   "mimetype": "text/x-python",
   "name": "python",
   "nbconvert_exporter": "python",
   "pygments_lexer": "ipython3",
   "version": "3.9.12"
  }
 },
 "nbformat": 4,
 "nbformat_minor": 5
}
