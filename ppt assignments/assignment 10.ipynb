{
 "cells": [
  {
   "cell_type": "markdown",
   "id": "d998b068",
   "metadata": {},
   "source": [
    "<aside>\n",
    "💡 **Question 1**\n",
    "\n",
    "Given an integer `n`, return *`true` if it is a power of three. Otherwise, return `false`*.\n",
    "\n",
    "An integer `n` is a power of three, if there exists an integer `x` such that `n == 3x`.\n",
    "\n",
    "</aside>"
   ]
  },
  {
   "cell_type": "code",
   "execution_count": 1,
   "id": "4dc8441b",
   "metadata": {},
   "outputs": [
    {
     "name": "stdout",
     "output_type": "stream",
     "text": [
      "True\n",
      "False\n",
      "True\n",
      "False\n"
     ]
    }
   ],
   "source": [
    "def power_of_three(n):\n",
    "    if n <= 0:\n",
    "        return False\n",
    "    while n % 3 == 0:\n",
    "        n //= 3\n",
    "    return n == 1\n",
    "\n",
    "\n",
    "print(power_of_three(27)) \n",
    "print(power_of_three(0))  \n",
    "print(power_of_three(9)) \n",
    "print(power_of_three(45))"
   ]
  },
  {
   "cell_type": "code",
   "execution_count": null,
   "id": "d94315ca",
   "metadata": {},
   "outputs": [],
   "source": []
  },
  {
   "cell_type": "markdown",
   "id": "7c8489df",
   "metadata": {},
   "source": [
    "<aside>\n",
    "💡 **Question 2**\n",
    "\n",
    "You have a list `arr` of all integers in the range `[1, n]` sorted in a strictly increasing order. Apply the following algorithm on `arr`:\n",
    "\n",
    "- Starting from left to right, remove the first number and every other number afterward until you reach the end of the list.\n",
    "- Repeat the previous step again, but this time from right to left, remove the rightmost number and every other number from the remaining numbers.\n",
    "- Keep repeating the steps again, alternating left to right and right to left, until a single number remains.\n",
    "\n",
    "Given the integer `n`, return *the last number that remains in* `arr`.\n",
    "\n",
    "</aside>"
   ]
  },
  {
   "cell_type": "code",
   "execution_count": 2,
   "id": "2d7fe75a",
   "metadata": {},
   "outputs": [
    {
     "name": "stdout",
     "output_type": "stream",
     "text": [
      "6\n",
      "6\n",
      "2\n",
      "1\n"
     ]
    }
   ],
   "source": [
    "def last_remaining(n):\n",
    "    left_to_right = True\n",
    "    remaining = n\n",
    "    step = 1\n",
    "    start = 1\n",
    "\n",
    "    while remaining > 1:\n",
    "        if left_to_right or remaining % 2 == 1:\n",
    "            start += step\n",
    "\n",
    "        remaining //= 2\n",
    "        step *= 2\n",
    "        left_to_right = not left_to_right\n",
    "\n",
    "    return start\n",
    "\n",
    "print(last_remaining(9))   \n",
    "print(last_remaining(12))  \n",
    "print(last_remaining(5))   \n",
    "print(last_remaining(1))   "
   ]
  },
  {
   "cell_type": "code",
   "execution_count": null,
   "id": "812165c1",
   "metadata": {},
   "outputs": [],
   "source": []
  },
  {
   "cell_type": "markdown",
   "id": "836bf103",
   "metadata": {},
   "source": [
    "<aside>\n",
    "💡 **Question 3**\n",
    "\n",
    "****Given a set represented as a string, write a recursive code to print all subsets of it. The subsets can be printed in any order.\n",
    "\n",
    "</aside>"
   ]
  },
  {
   "cell_type": "code",
   "execution_count": 3,
   "id": "d04c942d",
   "metadata": {},
   "outputs": [
    {
     "name": "stdout",
     "output_type": "stream",
     "text": [
      "\n",
      "a\n",
      "ab\n",
      "abc\n",
      "ac\n",
      "b\n",
      "bc\n",
      "c\n"
     ]
    }
   ],
   "source": [
    "def print_subsets(s):\n",
    "    helper(s, '', 0)\n",
    "\n",
    "def helper(s, current, index):\n",
    "    print(current)\n",
    "\n",
    "    for i in range(index, len(s)):\n",
    "        helper(s, current + s[i], i + 1)\n",
    "\n",
    "# Test the function\n",
    "print_subsets(\"abc\")"
   ]
  },
  {
   "cell_type": "code",
   "execution_count": null,
   "id": "c82beaa4",
   "metadata": {},
   "outputs": [],
   "source": []
  },
  {
   "cell_type": "markdown",
   "id": "a16fb5c8",
   "metadata": {},
   "source": [
    "<aside>\n",
    "💡 **Question 4**\n",
    "\n",
    "Given a string calculate length of the string using recursion.\n",
    "\n",
    "</aside>"
   ]
  },
  {
   "cell_type": "code",
   "execution_count": 4,
   "id": "5fa32636",
   "metadata": {},
   "outputs": [
    {
     "name": "stdout",
     "output_type": "stream",
     "text": [
      "Length of the string: 13\n"
     ]
    }
   ],
   "source": [
    "def calculate_length(s):\n",
    "    if s == '':\n",
    "        return 0\n",
    "    else:\n",
    "        return 1 + calculate_length(s[1:])\n",
    "\n",
    "string = \"Hello, World!\"\n",
    "length = calculate_length(string)\n",
    "print(\"Length of the string:\", length)"
   ]
  },
  {
   "cell_type": "code",
   "execution_count": null,
   "id": "f3cc618b",
   "metadata": {},
   "outputs": [],
   "source": []
  },
  {
   "cell_type": "markdown",
   "id": "4dbfedec",
   "metadata": {},
   "source": [
    "<aside>\n",
    "💡 **Question 5**\n",
    "\n",
    "We are given a string S, we need to find count of all contiguous substrings starting and ending with same character.\n",
    "\n",
    "</aside>"
   ]
  },
  {
   "cell_type": "code",
   "execution_count": 5,
   "id": "040ba9dd",
   "metadata": {},
   "outputs": [
    {
     "name": "stdout",
     "output_type": "stream",
     "text": [
      "Count of substrings: 7\n",
      "Count of substrings: 4\n"
     ]
    }
   ],
   "source": [
    "def count_substrings(s):\n",
    "    count = 0\n",
    "    n = len(s)\n",
    "\n",
    "    for i in range(n):\n",
    "        for j in range(i, n):\n",
    "            if s[i] == s[j]:\n",
    "                count += 1\n",
    "\n",
    "    return count\n",
    "\n",
    "\n",
    "string = \"abcab\"\n",
    "count = count_substrings(string)\n",
    "print(\"Count of substrings:\", count)\n",
    "\n",
    "\n",
    "string = \"aba\"\n",
    "count = count_substrings(string)\n",
    "print(\"Count of substrings:\", count)"
   ]
  },
  {
   "cell_type": "code",
   "execution_count": null,
   "id": "143a10e7",
   "metadata": {},
   "outputs": [],
   "source": []
  },
  {
   "cell_type": "markdown",
   "id": "461922bc",
   "metadata": {},
   "source": [
    "<aside>\n",
    "💡 **Question 6**\n",
    "\n",
    "The [tower of Hanoi](https://en.wikipedia.org/wiki/Tower_of_Hanoi) is a famous puzzle where we have three rods and **N** disks. The objective of the puzzle is to move the entire stack to another rod. You are given the number of discs **N**. Initially, these discs are in the rod 1. You need to print all the steps of discs movement so that all the discs reach the 3rd rod. Also, you need to find the total moves.**Note:** The discs are arranged such that the **top disc is numbered 1** and the **bottom-most disc is numbered N**. Also, all the discs have **different sizes** and a bigger disc **cannot** be put on the top of a smaller disc. Refer the provided link to get a better clarity about the puzzle.\n",
    "\n",
    "</aside>"
   ]
  },
  {
   "cell_type": "code",
   "execution_count": 6,
   "id": "a1907583",
   "metadata": {},
   "outputs": [
    {
     "name": "stdout",
     "output_type": "stream",
     "text": [
      "Example 1:\n",
      "Move disk 1 from rod 1 to rod 2\n",
      "Move disk 2 from rod 1 to rod 3\n",
      "Move disk 1 from rod 2 to rod 3\n",
      "Total moves: 3\n",
      "\n",
      "Example 2:\n",
      "Move disk 1 from rod 1 to rod 3\n",
      "Move disk 2 from rod 1 to rod 2\n",
      "Move disk 1 from rod 3 to rod 2\n",
      "Move disk 3 from rod 1 to rod 3\n",
      "Move disk 1 from rod 2 to rod 1\n",
      "Move disk 2 from rod 2 to rod 3\n",
      "Move disk 1 from rod 1 to rod 3\n",
      "Total moves: 7\n"
     ]
    }
   ],
   "source": [
    "def tower_of_hanoi(n, source, destination, auxiliary):\n",
    "    if n == 1:\n",
    "        print(\"Move disk 1 from rod\", source, \"to rod\", destination)\n",
    "        return 1\n",
    "\n",
    "    moves = tower_of_hanoi(n-1, source, auxiliary, destination)\n",
    "    print(\"Move disk\", n, \"from rod\", source, \"to rod\", destination)\n",
    "    moves += 1\n",
    "    moves += tower_of_hanoi(n-1, auxiliary, destination, source)\n",
    "\n",
    "    return moves\n",
    "\n",
    "\n",
    "\n",
    "print(\"Example 1:\")\n",
    "n = 2\n",
    "moves = tower_of_hanoi(n, 1, 3, 2)\n",
    "print(\"Total moves:\", moves)\n",
    "print()\n",
    "\n",
    "\n",
    "print(\"Example 2:\")\n",
    "n = 3\n",
    "moves = tower_of_hanoi(n, 1, 3, 2)\n",
    "print(\"Total moves:\", moves)"
   ]
  },
  {
   "cell_type": "code",
   "execution_count": null,
   "id": "cede8770",
   "metadata": {},
   "outputs": [],
   "source": []
  },
  {
   "cell_type": "markdown",
   "id": "7b9f37b0",
   "metadata": {},
   "source": [
    "<aside>\n",
    "💡 **Question 7**\n",
    "\n",
    "Given a string **str**, the task is to print all the permutations of **str**. A **permutation** is an arrangement of all or part of a set of objects, with regard to the order of the arrangement. For instance, the words ‘bat’ and ‘tab’ represents two distinct permutation (or arrangements) of a similar three letter word.\n",
    "\n",
    "</aside>"
   ]
  },
  {
   "cell_type": "code",
   "execution_count": 8,
   "id": "aea4700b",
   "metadata": {},
   "outputs": [
    {
     "name": "stdout",
     "output_type": "stream",
     "text": [
      "Input: cd\n",
      "Output: cd dc\n",
      "\n",
      "Input: abb\n",
      "Output: abb abb bab bba bab bba\n"
     ]
    }
   ],
   "source": [
    "def permutations(string):\n",
    "    if len(string) == 1:\n",
    "        return [string]\n",
    "\n",
    "    perms = []\n",
    "    for i in range(len(string)):\n",
    "        first_char = string[i]\n",
    "        remaining_chars = string[:i] + string[i+1:]\n",
    "        sub_perms = permutations(remaining_chars)\n",
    "        for sub_perm in sub_perms:\n",
    "            perms.append(first_char + sub_perm)\n",
    "\n",
    "    return perms\n",
    "\n",
    "\n",
    "str1 = \"cd\"\n",
    "print(\"Input:\", str1)\n",
    "print(\"Output:\", \" \".join(permutations(str1)))\n",
    "print()\n",
    "\n",
    "str2 = \"abb\"\n",
    "print(\"Input:\", str2)\n",
    "print(\"Output:\", \" \".join(permutations(str2)))"
   ]
  },
  {
   "cell_type": "code",
   "execution_count": null,
   "id": "724bf887",
   "metadata": {},
   "outputs": [],
   "source": []
  },
  {
   "cell_type": "markdown",
   "id": "0917a8fe",
   "metadata": {},
   "source": [
    "<aside>\n",
    "💡 **Question 8**\n",
    "\n",
    "Given a string, count total number of consonants in it. A consonant is an English alphabet character that is not vowel (a, e, i, o and u). Examples of constants are b, c, d, f, and g.\n",
    "\n",
    "</aside>"
   ]
  },
  {
   "cell_type": "code",
   "execution_count": 9,
   "id": "3f5e083d",
   "metadata": {},
   "outputs": [
    {
     "name": "stdout",
     "output_type": "stream",
     "text": [
      "Input: abc de\n",
      "Output: 3\n",
      "\n",
      "Input: geeksforgeeks portal\n",
      "Output: 12\n"
     ]
    }
   ],
   "source": [
    "def count_consonants(string):\n",
    "    consonants = \"bcdfghjklmnpqrstvwxyzBCDFGHJKLMNPQRSTVWXYZ\"\n",
    "    count = 0\n",
    "\n",
    "    for char in string:\n",
    "        if char in consonants:\n",
    "            count += 1\n",
    "\n",
    "    return count\n",
    "\n",
    "str1 = \"abc de\"\n",
    "print(\"Input:\", str1)\n",
    "print(\"Output:\", count_consonants(str1))\n",
    "print()\n",
    "\n",
    "str2 = \"geeksforgeeks portal\"\n",
    "print(\"Input:\", str2)\n",
    "print(\"Output:\", count_consonants(str2))"
   ]
  },
  {
   "cell_type": "code",
   "execution_count": null,
   "id": "c905fd4e",
   "metadata": {},
   "outputs": [],
   "source": []
  }
 ],
 "metadata": {
  "kernelspec": {
   "display_name": "Python 3 (ipykernel)",
   "language": "python",
   "name": "python3"
  },
  "language_info": {
   "codemirror_mode": {
    "name": "ipython",
    "version": 3
   },
   "file_extension": ".py",
   "mimetype": "text/x-python",
   "name": "python",
   "nbconvert_exporter": "python",
   "pygments_lexer": "ipython3",
   "version": "3.9.12"
  }
 },
 "nbformat": 4,
 "nbformat_minor": 5
}
