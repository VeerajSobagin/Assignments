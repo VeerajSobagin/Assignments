{
 "cells": [
  {
   "cell_type": "markdown",
   "id": "8db12f02",
   "metadata": {},
   "source": [
    "#### Question-1\n",
    "\n",
    "Given a binary tree, your task is to find subtree with maximum sum in tree."
   ]
  },
  {
   "cell_type": "code",
   "execution_count": 1,
   "id": "6ca688ca",
   "metadata": {},
   "outputs": [
    {
     "name": "stdout",
     "output_type": "stream",
     "text": [
      "28\n"
     ]
    }
   ],
   "source": [
    "class TreeNode:\n",
    "    def __init__(self, val=0, left=None, right=None):\n",
    "        self.val = val\n",
    "        self.left = left\n",
    "        self.right = right\n",
    "\n",
    "def maxSubtreeSum(root):\n",
    "    if root is None:\n",
    "        return 0\n",
    "    \n",
    "    left_sum = maxSubtreeSum(root.left)\n",
    "    right_sum = maxSubtreeSum(root.right)\n",
    "\n",
    "    subtree_sum = left_sum + right_sum + root.val\n",
    "    \n",
    "    if maxSubtreeSum.max_sum is None or subtree_sum > maxSubtreeSum.max_sum:\n",
    "        maxSubtreeSum.max_sum = subtree_sum\n",
    "    \n",
    "    return subtree_sum\n",
    "\n",
    "\n",
    "maxSubtreeSum.max_sum = None\n",
    "\n",
    "# Example\n",
    "root = TreeNode(1)\n",
    "root.left = TreeNode(2)\n",
    "root.right = TreeNode(3)\n",
    "root.left.left = TreeNode(4)\n",
    "root.left.right = TreeNode(5)\n",
    "root.right.left = TreeNode(6)\n",
    "root.right.right = TreeNode(7)\n",
    "\n",
    "maxSubtreeSum(root)\n",
    "\n",
    "# Print\n",
    "print(maxSubtreeSum.max_sum)"
   ]
  },
  {
   "cell_type": "markdown",
   "id": "5be614d4",
   "metadata": {},
   "source": [
    "#### Question-2\n",
    "\n",
    "Construct the BST (Binary Search Tree) from its given level order traversal."
   ]
  },
  {
   "cell_type": "code",
   "execution_count": 2,
   "id": "6f22dc8a",
   "metadata": {},
   "outputs": [
    {
     "name": "stdout",
     "output_type": "stream",
     "text": [
      "[1, 3, 4, 5, 6, 7, 8, 10, 12]\n"
     ]
    }
   ],
   "source": [
    "class TreeNode:\n",
    "    def __init__(self, val=0, left=None, right=None):\n",
    "        self.val = val\n",
    "        self.left = left\n",
    "        self.right = right\n",
    "\n",
    "def insertNode(root, val):\n",
    "    if root is None:\n",
    "        return TreeNode(val)\n",
    "    \n",
    "    if val < root.val:\n",
    "        root.left = insertNode(root.left, val)\n",
    "    elif val > root.val:\n",
    "        root.right = insertNode(root.right, val)\n",
    "    \n",
    "    return root\n",
    "\n",
    "def constructBST(level_order):\n",
    "    if len(level_order) == 0:\n",
    "        return None\n",
    "    \n",
    "    root = None\n",
    "    \n",
    "    for val in level_order:\n",
    "        root = insertNode(root, val)\n",
    "    \n",
    "    return root\n",
    "\n",
    "def inorderTraversal(root):\n",
    "    if root is None:\n",
    "        return []\n",
    "    \n",
    "    result = []\n",
    "    \n",
    "    result.extend(inorderTraversal(root.left))\n",
    "    result.append(root.val)\n",
    "    result.extend(inorderTraversal(root.right))\n",
    "    \n",
    "    return result\n",
    "\n",
    "\n",
    "level_order = [7, 4, 12, 3, 6, 8, 1, 5, 10]\n",
    "\n",
    "root = constructBST(level_order)\n",
    "\n",
    "inorder = inorderTraversal(root)\n",
    "\n",
    "print(inorder)"
   ]
  },
  {
   "cell_type": "markdown",
   "id": "af7737d2",
   "metadata": {},
   "source": [
    "#### Question-3\n",
    "\n",
    "Given an array of size n. The problem is to check whether the given array can represent the level order traversal of a Binary Search Tree or not."
   ]
  },
  {
   "cell_type": "code",
   "execution_count": 3,
   "id": "4244e5ca",
   "metadata": {},
   "outputs": [
    {
     "name": "stdout",
     "output_type": "stream",
     "text": [
      "Yes\n",
      "Yes\n"
     ]
    }
   ],
   "source": [
    "def isLevelOrderBST(arr):\n",
    "    n = len(arr)\n",
    "    if n == 0:\n",
    "        return \"Yes\"\n",
    "\n",
    "    i = 1\n",
    "    stack = [arr[0]]\n",
    "\n",
    "    while i < n:\n",
    "        temp_stack = []\n",
    "\n",
    "        while len(stack) > 0 and arr[i] > stack[-1]:\n",
    "            temp_stack.append(stack.pop())\n",
    "\n",
    "        if len(temp_stack) > 0 and arr[i] <= temp_stack[-1]:\n",
    "            return \"No\"\n",
    "\n",
    "        stack.append(arr[i])\n",
    "        stack.extend(temp_stack)\n",
    "\n",
    "        i += 1\n",
    "\n",
    "    return \"Yes\"\n",
    "\n",
    "# Example\n",
    "arr1 = [7, 4, 12, 3, 6, 8, 1, 5, 10]\n",
    "arr2 = [11, 6, 13, 5, 12, 10]\n",
    "\n",
    "result1 = isLevelOrderBST(arr1)\n",
    "result2 = isLevelOrderBST(arr2)\n",
    "\n",
    "print(result1) \n",
    "print(result2) "
   ]
  }
 ],
 "metadata": {
  "kernelspec": {
   "display_name": "Python 3 (ipykernel)",
   "language": "python",
   "name": "python3"
  },
  "language_info": {
   "codemirror_mode": {
    "name": "ipython",
    "version": 3
   },
   "file_extension": ".py",
   "mimetype": "text/x-python",
   "name": "python",
   "nbconvert_exporter": "python",
   "pygments_lexer": "ipython3",
   "version": "3.9.12"
  }
 },
 "nbformat": 4,
 "nbformat_minor": 5
}
