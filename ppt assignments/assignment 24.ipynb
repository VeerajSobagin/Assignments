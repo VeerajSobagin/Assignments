{
 "cells": [
  {
   "cell_type": "markdown",
   "id": "7400be40",
   "metadata": {},
   "source": [
    "<aside>\n",
    "💡 1. **Roman to Integer**\n",
    "\n",
    "Roman numerals are represented by seven different symbols: `I`, `V`, `X`, `L`, `C`, `D` and `M`.\n",
    "\n",
    "```\n",
    "SymbolValue\n",
    "I             1\n",
    "V             5\n",
    "X             10\n",
    "L             50\n",
    "C             100\n",
    "D             500\n",
    "M             1000\n",
    "```\n",
    "\n",
    "For example, `2` is written as `II` in Roman numeral, just two ones added together. `12` is written as `XII`, which is simply `X + II`. The number `27` is written as `XXVII`, which is `XX + V + II`.\n",
    "\n",
    "Roman numerals are usually written largest to smallest from left to right. However, the numeral for four is not `IIII`. Instead, the number four is written as `IV`. Because the one is before the five we subtract it making four. The same principle applies to the number nine, which is written as `IX`. There are six instances where subtraction is used:\n",
    "\n",
    "- `I` can be placed before `V` (5) and `X` (10) to make 4 and 9.\n",
    "- `X` can be placed before `L` (50) and `C` (100) to make 40 and 90.\n",
    "- `C` can be placed before `D` (500) and `M` (1000) to make 400 and 900.\n",
    "\n",
    "Given a roman numeral, convert it to an integer.\n",
    "\n",
    "</aside>"
   ]
  },
  {
   "cell_type": "code",
   "execution_count": 1,
   "id": "deef7bf4",
   "metadata": {},
   "outputs": [
    {
     "name": "stdout",
     "output_type": "stream",
     "text": [
      "Example 1:\n",
      "Integer: 3\n",
      "Example 2:\n",
      "Integer: 58\n"
     ]
    }
   ],
   "source": [
    "def roman_to_integer(s):\n",
    "    roman_map = {\n",
    "        'I': 1,\n",
    "        'V': 5,\n",
    "        'X': 10,\n",
    "        'L': 50,\n",
    "        'C': 100,\n",
    "        'D': 500,\n",
    "        'M': 1000\n",
    "    }\n",
    "    \n",
    "    total = 0\n",
    "    n = len(s)\n",
    "    \n",
    "    for i in range(n):\n",
    "        if i < n-1 and roman_map[s[i]] < roman_map[s[i+1]]:\n",
    "            total -= roman_map[s[i]]\n",
    "        else:\n",
    "            total += roman_map[s[i]]\n",
    "    \n",
    "    return total\n",
    "\n",
    "\n",
    "s1 = \"III\"\n",
    "print(\"Example 1:\")\n",
    "\n",
    "print(\"Integer:\", roman_to_integer(s1))\n",
    "\n",
    "s2 = \"LVIII\"\n",
    "print(\"Example 2:\")\n",
    "# Output: 58\n",
    "print(\"Integer:\", roman_to_integer(s2))\n"
   ]
  },
  {
   "cell_type": "code",
   "execution_count": null,
   "id": "ccf2ecc6",
   "metadata": {},
   "outputs": [],
   "source": []
  },
  {
   "cell_type": "markdown",
   "id": "e8258559",
   "metadata": {},
   "source": [
    "<aside>\n",
    "💡 2. **Longest Substring Without Repeating Characters**\n",
    "\n",
    "Given a string `s`, find the length of the **longest substring** without repeating characters.\n",
    "\n",
    "</aside>"
   ]
  },
  {
   "cell_type": "code",
   "execution_count": 2,
   "id": "3bd9e140",
   "metadata": {},
   "outputs": [
    {
     "name": "stdout",
     "output_type": "stream",
     "text": [
      "Example 1:\n",
      "Length: 3\n",
      "Example 2:\n",
      "Length: 1\n"
     ]
    }
   ],
   "source": [
    "def length_of_longest_substring(s):\n",
    "    n = len(s)\n",
    "    if n == 0:\n",
    "        return 0\n",
    "    \n",
    "    max_length = 0\n",
    "    window_start = 0\n",
    "    char_map = {}\n",
    "    \n",
    "    for window_end in range(n):\n",
    "        current_char = s[window_end]\n",
    "        \n",
    "        \n",
    "        if current_char in char_map and window_start <= char_map[current_char]:\n",
    "            window_start = char_map[current_char] + 1\n",
    "        \n",
    "        \n",
    "        char_map[current_char] = window_end\n",
    "        \n",
    "        \n",
    "        max_length = max(max_length, window_end - window_start + 1)\n",
    "    \n",
    "    return max_length\n",
    "\n",
    "\n",
    "s1 = \"abcabcbb\"\n",
    "print(\"Example 1:\")\n",
    "\n",
    "print(\"Length:\", length_of_longest_substring(s1))\n",
    "\n",
    "\n",
    "s2 = \"bbbbb\"\n",
    "print(\"Example 2:\")\n",
    "\n",
    "print(\"Length:\", length_of_longest_substring(s2))\n"
   ]
  },
  {
   "cell_type": "code",
   "execution_count": null,
   "id": "950955e7",
   "metadata": {},
   "outputs": [],
   "source": []
  },
  {
   "cell_type": "markdown",
   "id": "ca72edca",
   "metadata": {},
   "source": [
    "<aside>\n",
    "💡 3. **Majority Element**\n",
    "\n",
    "Given an array `nums` of size `n`, return *the majority element*.\n",
    "\n",
    "The majority element is the element that appears more than `⌊n / 2⌋` times. You may assume that the majority element always exists in the array.\n",
    "\n",
    "</aside>"
   ]
  },
  {
   "cell_type": "code",
   "execution_count": 3,
   "id": "ca92d85a",
   "metadata": {},
   "outputs": [
    {
     "name": "stdout",
     "output_type": "stream",
     "text": [
      "Example 1:\n",
      "Majority Element: 3\n",
      "Example 2:\n",
      "Majority Element: 2\n"
     ]
    }
   ],
   "source": [
    "def majority_element(nums):\n",
    "    count = 0\n",
    "    candidate = None\n",
    "    \n",
    "    for num in nums:\n",
    "        if count == 0:\n",
    "            candidate = num\n",
    "        if num == candidate:\n",
    "            count += 1\n",
    "        else:\n",
    "            count -= 1\n",
    "    \n",
    "    return candidate\n",
    "\n",
    "\n",
    "nums1 = [3, 2, 3]\n",
    "print(\"Example 1:\")\n",
    "\n",
    "print(\"Majority Element:\", majority_element(nums1))\n",
    "\n",
    "\n",
    "nums2 = [2, 2, 1, 1, 1, 2, 2]\n",
    "print(\"Example 2:\")\n",
    "\n",
    "print(\"Majority Element:\", majority_element(nums2))\n"
   ]
  },
  {
   "cell_type": "code",
   "execution_count": null,
   "id": "9f9d6d4a",
   "metadata": {},
   "outputs": [],
   "source": []
  },
  {
   "cell_type": "markdown",
   "id": "8e01fd08",
   "metadata": {},
   "source": [
    "<aside>\n",
    "💡 5. **Ugly Numbers**\n",
    "\n",
    "An **ugly number** is a positive integer whose prime factors are limited to `2`, `3`, and `5`.\n",
    "\n",
    "Given an integer `n`, return *the* `nth` ***ugly number***.\n",
    "\n",
    "</aside>"
   ]
  },
  {
   "cell_type": "code",
   "execution_count": 4,
   "id": "355dd0f0",
   "metadata": {},
   "outputs": [
    {
     "name": "stdout",
     "output_type": "stream",
     "text": [
      "Example 1:\n",
      "Nth Ugly Number: 12\n",
      "Example 2:\n",
      "Nth Ugly Number: 1\n"
     ]
    }
   ],
   "source": [
    "def nth_ugly_number(n):\n",
    "    ugly_numbers = [1]\n",
    "    p2 = p3 = p5 = 0\n",
    "    \n",
    "    for _ in range(1, n):\n",
    "        next_ugly = min(ugly_numbers[p2] * 2, ugly_numbers[p3] * 3, ugly_numbers[p5] * 5)\n",
    "        ugly_numbers.append(next_ugly)\n",
    "        \n",
    "        if next_ugly == ugly_numbers[p2] * 2:\n",
    "            p2 += 1\n",
    "        if next_ugly == ugly_numbers[p3] * 3:\n",
    "            p3 += 1\n",
    "        if next_ugly == ugly_numbers[p5] * 5:\n",
    "            p5 += 1\n",
    "    \n",
    "    return ugly_numbers[-1]\n",
    "\n",
    "\n",
    "n1 = 10\n",
    "print(\"Example 1:\")\n",
    "# Output: 12\n",
    "print(\"Nth Ugly Number:\", nth_ugly_number(n1))\n",
    "\n",
    "\n",
    "n2 = 1\n",
    "print(\"Example 2:\")\n",
    "# Output: 1\n",
    "print(\"Nth Ugly Number:\", nth_ugly_number(n2))\n"
   ]
  },
  {
   "cell_type": "code",
   "execution_count": null,
   "id": "3980e2d6",
   "metadata": {},
   "outputs": [],
   "source": []
  },
  {
   "cell_type": "markdown",
   "id": "e9246f0f",
   "metadata": {},
   "source": [
    "<aside>\n",
    "💡 6. **Top K Frequent Words**\n",
    "\n",
    "Given an array of strings `words` and an integer `k`, return *the* `k` *most frequent strings*.\n",
    "\n",
    "Return the answer **sorted** by **the frequency** from highest to lowest. Sort the words with the same frequency by their **lexicographical order**.\n",
    "\n",
    "</aside>"
   ]
  },
  {
   "cell_type": "code",
   "execution_count": 5,
   "id": "0c422163",
   "metadata": {},
   "outputs": [
    {
     "name": "stdout",
     "output_type": "stream",
     "text": [
      "Example:\n",
      "Top K Frequent Words: ['i', 'love']\n"
     ]
    }
   ],
   "source": [
    "from collections import Counter\n",
    "\n",
    "def top_k_frequent_words(words, k):\n",
    "    \n",
    "    word_counts = Counter(words)\n",
    "    \n",
    "    \n",
    "    sorted_words = sorted(word_counts.keys(), key=lambda word: (-word_counts[word], word))\n",
    "    \n",
    "    \n",
    "    top_k_words = sorted_words[:k]\n",
    "    \n",
    "    return top_k_words\n",
    "words = [\"i\", \"love\", \"leetcode\", \"i\", \"love\", \"coding\"]\n",
    "k = 2\n",
    "print(\"Example:\")\n",
    "\n",
    "print(\"Top K Frequent Words:\", top_k_frequent_words(words, k))\n"
   ]
  },
  {
   "cell_type": "code",
   "execution_count": null,
   "id": "e2b6fdd2",
   "metadata": {},
   "outputs": [],
   "source": []
  },
  {
   "cell_type": "markdown",
   "id": "bf43d0b3",
   "metadata": {},
   "source": [
    "<aside>\n",
    "💡 7. **Sliding Window Maximum**\n",
    "\n",
    "You are given an array of integers `nums`, there is a sliding window of size `k` which is moving from the very left of the array to the very right. You can only see the `k` numbers in the window. Each time the sliding window moves right by one position.\n",
    "\n",
    "Return *the max sliding window*.\n",
    "\n",
    "</aside>"
   ]
  },
  {
   "cell_type": "code",
   "execution_count": 6,
   "id": "500d6cf4",
   "metadata": {},
   "outputs": [
    {
     "name": "stdout",
     "output_type": "stream",
     "text": [
      "Example:\n",
      "Max Sliding Window: [3, 3, 5, 5, 6, 7]\n"
     ]
    }
   ],
   "source": [
    "def max_sliding_window(nums, k):\n",
    "    result = []\n",
    "    window = []\n",
    "    \n",
    "    for i in range(len(nums)):\n",
    "        \n",
    "        if window and window[0] <= i - k:\n",
    "            window.pop(0)\n",
    "        \n",
    "        \n",
    "        while window and nums[window[-1]] <= nums[i]:\n",
    "            window.pop()\n",
    "        \n",
    "        \n",
    "        window.append(i)\n",
    "        \n",
    "        \n",
    "        if i >= k - 1:\n",
    "            result.append(nums[window[0]])\n",
    "    \n",
    "    return result\n",
    "\n",
    "\n",
    "nums = [1, 3, -1, -3, 5, 3, 6, 7]\n",
    "k = 3\n",
    "print(\"Example:\")\n",
    "\n",
    "print(\"Max Sliding Window:\", max_sliding_window(nums, k))\n"
   ]
  },
  {
   "cell_type": "code",
   "execution_count": null,
   "id": "8eb1fb78",
   "metadata": {},
   "outputs": [],
   "source": []
  },
  {
   "cell_type": "markdown",
   "id": "e7a1590c",
   "metadata": {},
   "source": [
    "<aside>\n",
    "💡 8. **Find K Closest Elements**\n",
    "\n",
    "Given a **sorted** integer array `arr`, two integers `k` and `x`, return the `k` closest integers to `x` in the array. The result should also be sorted in ascending order.\n",
    "\n",
    "An integer `a` is closer to `x` than an integer `b` if:\n",
    "\n",
    "- `|a - x| < |b - x|`, or\n",
    "- `|a - x| == |b - x|` and `a < b`\n",
    "</aside>"
   ]
  },
  {
   "cell_type": "code",
   "execution_count": 7,
   "id": "b4fcf2d7",
   "metadata": {},
   "outputs": [
    {
     "name": "stdout",
     "output_type": "stream",
     "text": [
      "Example:\n",
      "Closest Elements: [1, 2, 3, 4]\n"
     ]
    }
   ],
   "source": [
    "def find_closest_elements(arr, k, x):\n",
    "    left = 0\n",
    "    right = len(arr) - 1\n",
    "    \n",
    "    while right - left + 1 > k:\n",
    "        if abs(arr[left] - x) > abs(arr[right] - x):\n",
    "            left += 1\n",
    "        else:\n",
    "            right -= 1\n",
    "    \n",
    "    return arr[left:right+1]\n",
    "\n",
    "\n",
    "arr = [1, 2, 3, 4, 5]\n",
    "k = 4\n",
    "x = 3\n",
    "print(\"Example:\")\n",
    "\n",
    "print(\"Closest Elements:\", find_closest_elements(arr, k, x))\n"
   ]
  },
  {
   "cell_type": "code",
   "execution_count": null,
   "id": "7bb58a42",
   "metadata": {},
   "outputs": [],
   "source": []
  },
  {
   "cell_type": "code",
   "execution_count": null,
   "id": "466508da",
   "metadata": {},
   "outputs": [],
   "source": []
  },
  {
   "cell_type": "code",
   "execution_count": null,
   "id": "0bdae880",
   "metadata": {},
   "outputs": [],
   "source": []
  },
  {
   "cell_type": "code",
   "execution_count": null,
   "id": "137ad86a",
   "metadata": {},
   "outputs": [],
   "source": []
  },
  {
   "cell_type": "code",
   "execution_count": null,
   "id": "0d437de4",
   "metadata": {},
   "outputs": [],
   "source": []
  },
  {
   "cell_type": "code",
   "execution_count": null,
   "id": "a9a088b2",
   "metadata": {},
   "outputs": [],
   "source": []
  },
  {
   "cell_type": "code",
   "execution_count": null,
   "id": "a4f19131",
   "metadata": {},
   "outputs": [],
   "source": []
  },
  {
   "cell_type": "markdown",
   "id": "7a0880f5",
   "metadata": {},
   "source": []
  }
 ],
 "metadata": {
  "kernelspec": {
   "display_name": "Python 3 (ipykernel)",
   "language": "python",
   "name": "python3"
  },
  "language_info": {
   "codemirror_mode": {
    "name": "ipython",
    "version": 3
   },
   "file_extension": ".py",
   "mimetype": "text/x-python",
   "name": "python",
   "nbconvert_exporter": "python",
   "pygments_lexer": "ipython3",
   "version": "3.9.12"
  }
 },
 "nbformat": 4,
 "nbformat_minor": 5
}
