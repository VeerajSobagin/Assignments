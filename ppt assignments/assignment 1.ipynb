{
 "cells": [
  {
   "cell_type": "markdown",
   "id": "08245980",
   "metadata": {},
   "source": [
    "Q1. Given an array of integers nums and an integer target, return indices of the two numbers such that they add up to target.\n",
    "\n",
    "You may assume that each input would have exactly one solution, and you may not use the same element twice.\n",
    "\n",
    "You can return the answer in any order.\n"
   ]
  },
  {
   "cell_type": "code",
   "execution_count": 1,
   "id": "84376351",
   "metadata": {},
   "outputs": [
    {
     "name": "stdout",
     "output_type": "stream",
     "text": [
      "[0, 1]\n"
     ]
    }
   ],
   "source": [
    "def sumof(nums, target):\n",
    "    solutions = {}\n",
    "    \n",
    "    for i in range(len(nums)):\n",
    "        x = target - nums[i]\n",
    "    \n",
    "        if x in solutions:\n",
    "            return [solutions[x], i]\n",
    "        \n",
    "        solutions[nums[i]] = i\n",
    "    \n",
    "    return []\n",
    "\n",
    "\n",
    "nums = [2, 7, 11, 15]\n",
    "target = 9\n",
    "result = sumof(nums, target)\n",
    "print(result)"
   ]
  },
  {
   "cell_type": "markdown",
   "id": "fa420941",
   "metadata": {},
   "source": [
    "\n",
    "Q2. Given an integer array nums and an integer val, remove all occurrences of val in nums in-place. The order of the elements may be changed. Then return the number of elements in nums which are not equal to val.\n",
    "\n",
    "Consider the number of elements in nums which are not equal to val be k, to get accepted, you need to do the following things:\n",
    "\n",
    "- Change the array nums such that the first k elements of nums contain the elements which are not equal to val. The remaining elements of nums are not important as well as the size of nums.\n",
    "- Return k."
   ]
  },
  {
   "cell_type": "code",
   "execution_count": 5,
   "id": "48ebb75d",
   "metadata": {},
   "outputs": [
    {
     "name": "stdout",
     "output_type": "stream",
     "text": [
      "k = 2\n",
      "nums = [2, 2]\n"
     ]
    }
   ],
   "source": [
    "def removeel(nums, val):\n",
    "    while val in nums:\n",
    "        nums.remove(val)\n",
    "    return len(nums)\n",
    "\n",
    "nums = [3, 2, 2, 3]\n",
    "val = 3\n",
    "k = removeel(nums, val)\n",
    "print(\"k =\", k)\n",
    "print(\"nums =\", nums)"
   ]
  },
  {
   "cell_type": "markdown",
   "id": "df19402c",
   "metadata": {},
   "source": [
    "Q3. Given a sorted array of distinct integers and a target value, return the index if the target is found. If not, return the index where it would be if it were inserted in order.\n",
    "\n",
    "You must write an algorithm with O(log n) runtime complexity."
   ]
  },
  {
   "cell_type": "code",
   "execution_count": 7,
   "id": "946155de",
   "metadata": {},
   "outputs": [
    {
     "name": "stdout",
     "output_type": "stream",
     "text": [
      "2\n"
     ]
    }
   ],
   "source": [
    "def search(nums, target):\n",
    "    left = 0\n",
    "    right = len(nums) - 1\n",
    "    \n",
    "    while left <= right:\n",
    "        mid = (left + right) // 2\n",
    "        \n",
    "        \n",
    "        if nums[mid] == target:\n",
    "            return mid\n",
    "        elif nums[mid] < target:\n",
    "            left = mid + 1\n",
    "        else:\n",
    "            right = mid - 1\n",
    "    return left\n",
    "\n",
    "nums = [1, 3, 5, 6]\n",
    "target = 5\n",
    "index = search(nums, target)\n",
    "print(index)"
   ]
  },
  {
   "cell_type": "markdown",
   "id": "6ce7199f",
   "metadata": {},
   "source": [
    "Q4. You are given a large integer represented as an integer array digits, where each digits[i] is the ith digit of the integer. The digits are ordered from most significant to least significant in left-to-right order. The large integer does not contain any leading 0's.\n",
    "\n",
    "Increment the large integer by one and return the resulting array of digits."
   ]
  },
  {
   "cell_type": "code",
   "execution_count": 9,
   "id": "ad258214",
   "metadata": {},
   "outputs": [
    {
     "name": "stdout",
     "output_type": "stream",
     "text": [
      "[1, 2, 4]\n"
     ]
    }
   ],
   "source": [
    "def adding(digits):\n",
    "    for i in range(len(digits) - 1, -1, -1):\n",
    "        digits[i] += 1\n",
    "        \n",
    "        if digits[i] < 10:\n",
    "            return digits\n",
    "        else:\n",
    "            digits[i] = 0\n",
    "    digits.insert(0, 1)\n",
    "    \n",
    "    return digits\n",
    "\n",
    "digits = [1, 2, 3]\n",
    "result = adding(digits)\n",
    "print(result)"
   ]
  },
  {
   "cell_type": "markdown",
   "id": "11f3d96d",
   "metadata": {},
   "source": [
    "Q5. You are given two integer arrays nums1 and nums2, sorted in non-decreasing order, and two integers m and n, representing the number of elements in nums1 and nums2 respectively.\n",
    "\n",
    "Merge nums1 and nums2 into a single array sorted in non-decreasing order.\n",
    "\n",
    "The final sorted array should not be returned by the function, but instead be stored inside the array nums1. To accommodate this, nums1 has a length of m + n, where the first m elements denote the elements that should be merged, and the last n elements are set to 0 and should be ignored. nums2 has a length of n."
   ]
  },
  {
   "cell_type": "code",
   "execution_count": 10,
   "id": "42aa3b3f",
   "metadata": {},
   "outputs": [
    {
     "name": "stdout",
     "output_type": "stream",
     "text": [
      "[1, 2, 2, 3, 5, 6]\n"
     ]
    }
   ],
   "source": [
    "def merge(nums1, m, nums2, n):\n",
    "    i = m - 1\n",
    "    j = n - 1\n",
    "    k = m + n - 1\n",
    "    \n",
    "    while i >= 0 and j >= 0:\n",
    "        if nums1[i] >= nums2[j]:\n",
    "            nums1[k] = nums1[i]\n",
    "            i -= 1\n",
    "        else:\n",
    "            nums1[k] = nums2[j]\n",
    "            j -= 1\n",
    "        k -= 1\n",
    "    while j >= 0:\n",
    "        nums1[k] = nums2[j]\n",
    "        j -= 1\n",
    "        k -= 1\n",
    "\n",
    "nums1 = [1, 2, 3, 0, 0, 0]\n",
    "m = 3\n",
    "nums2 = [2, 5, 6]\n",
    "n = 3\n",
    "\n",
    "merge(nums1, m, nums2, n)\n",
    "print(nums1)"
   ]
  },
  {
   "cell_type": "markdown",
   "id": "34e9b0a5",
   "metadata": {},
   "source": [
    " Q6. Given an integer array nums, return true if any value appears at least twice in the array, and return false if every element is distinct"
   ]
  },
  {
   "cell_type": "code",
   "execution_count": 11,
   "id": "3f307dc6",
   "metadata": {},
   "outputs": [
    {
     "name": "stdout",
     "output_type": "stream",
     "text": [
      "True\n"
     ]
    }
   ],
   "source": [
    "def Duplicate(nums):\n",
    "    unique_nums = set()\n",
    "    \n",
    "    for num in nums:\n",
    "        if num in unique_nums:\n",
    "            return True\n",
    "        unique_nums.add(num)\n",
    "    return False\n",
    "\n",
    "nums = [1, 2, 3, 1]\n",
    "result = Duplicate(nums)\n",
    "print(result)"
   ]
  },
  {
   "cell_type": "markdown",
   "id": "6d79f937",
   "metadata": {},
   "source": [
    "Q7. Given an integer array nums, move all 0's to the end of it while maintaining the relative order of the nonzero elements.\n",
    "\n",
    "Note that you must do this in-place without making a copy of the array."
   ]
  },
  {
   "cell_type": "code",
   "execution_count": 14,
   "id": "ccdb37be",
   "metadata": {},
   "outputs": [
    {
     "name": "stdout",
     "output_type": "stream",
     "text": [
      "[1, 3, 12, 0, 0]\n"
     ]
    }
   ],
   "source": [
    "def Zeroes(nums):\n",
    "    next_non_zero = 0\n",
    "    \n",
    "    for i in range(len(nums)):\n",
    "        if nums[i] != 0:\n",
    "            nums[i], nums[next_non_zero] = nums[next_non_zero], nums[i]\n",
    "            next_non_zero += 1\n",
    "\n",
    "\n",
    "nums = [0, 1, 0, 3, 12]\n",
    "Zeroes(nums)\n",
    "print(nums)"
   ]
  },
  {
   "cell_type": "markdown",
   "id": "e3de310b",
   "metadata": {},
   "source": [
    "\n",
    "Q8.You have a set of integers s, which originally contains all the numbers from 1 to n. Unfortunately, due to some error, one of the numbers in s got duplicated to another number in the set, which results in repetition of one number and loss of another number.\n",
    "\n",
    "You are given an integer array nums representing the data status of this set after the error.\n",
    "\n",
    "Find the number that occurs twice and the number that is missing and return them in the form of an array."
   ]
  },
  {
   "cell_type": "code",
   "execution_count": 15,
   "id": "e9cc8490",
   "metadata": {},
   "outputs": [
    {
     "name": "stdout",
     "output_type": "stream",
     "text": [
      "[2, 3]\n"
     ]
    }
   ],
   "source": [
    "def findErrors(nums):\n",
    "    duplicate = -1\n",
    "    missing = -1\n",
    "    \n",
    "    num_set = set()\n",
    "    for num in nums:\n",
    "        if num in num_set:\n",
    "            duplicate = num\n",
    "        num_set.add(num)\n",
    "    \n",
    "    for i in range(1, len(nums) + 1):\n",
    "        if i not in num_set:\n",
    "            missing = i\n",
    "            break\n",
    "    \n",
    "    return [duplicate, missing]\n",
    "\n",
    "nums = [1, 2, 2, 4]\n",
    "result = findErrors(nums)\n",
    "print(result)\n"
   ]
  },
  {
   "cell_type": "code",
   "execution_count": null,
   "id": "49232873",
   "metadata": {},
   "outputs": [],
   "source": []
  },
  {
   "cell_type": "code",
   "execution_count": null,
   "id": "80d0e304",
   "metadata": {},
   "outputs": [],
   "source": []
  },
  {
   "cell_type": "code",
   "execution_count": null,
   "id": "b1c63051",
   "metadata": {},
   "outputs": [],
   "source": []
  },
  {
   "cell_type": "code",
   "execution_count": null,
   "id": "16324b08",
   "metadata": {},
   "outputs": [],
   "source": []
  },
  {
   "cell_type": "code",
   "execution_count": null,
   "id": "daac00a3",
   "metadata": {},
   "outputs": [],
   "source": []
  },
  {
   "cell_type": "code",
   "execution_count": null,
   "id": "2aac91e5",
   "metadata": {},
   "outputs": [],
   "source": []
  },
  {
   "cell_type": "code",
   "execution_count": null,
   "id": "1c5dce76",
   "metadata": {},
   "outputs": [],
   "source": []
  },
  {
   "cell_type": "code",
   "execution_count": null,
   "id": "66f20f1e",
   "metadata": {},
   "outputs": [],
   "source": []
  },
  {
   "cell_type": "code",
   "execution_count": null,
   "id": "da955216",
   "metadata": {},
   "outputs": [],
   "source": []
  },
  {
   "cell_type": "code",
   "execution_count": null,
   "id": "e63d5d50",
   "metadata": {},
   "outputs": [],
   "source": []
  },
  {
   "cell_type": "code",
   "execution_count": null,
   "id": "6d5b2467",
   "metadata": {},
   "outputs": [],
   "source": []
  },
  {
   "cell_type": "code",
   "execution_count": null,
   "id": "3ddce6de",
   "metadata": {},
   "outputs": [],
   "source": []
  },
  {
   "cell_type": "code",
   "execution_count": null,
   "id": "30260586",
   "metadata": {},
   "outputs": [],
   "source": []
  },
  {
   "cell_type": "code",
   "execution_count": null,
   "id": "2e96dd9b",
   "metadata": {},
   "outputs": [],
   "source": []
  },
  {
   "cell_type": "code",
   "execution_count": null,
   "id": "93b244a3",
   "metadata": {},
   "outputs": [],
   "source": []
  },
  {
   "cell_type": "code",
   "execution_count": null,
   "id": "7bf9344c",
   "metadata": {},
   "outputs": [],
   "source": []
  },
  {
   "cell_type": "code",
   "execution_count": null,
   "id": "5f31b225",
   "metadata": {},
   "outputs": [],
   "source": []
  },
  {
   "cell_type": "code",
   "execution_count": null,
   "id": "9d0c72b6",
   "metadata": {},
   "outputs": [],
   "source": []
  },
  {
   "cell_type": "code",
   "execution_count": null,
   "id": "50a9ac03",
   "metadata": {},
   "outputs": [],
   "source": []
  },
  {
   "cell_type": "code",
   "execution_count": null,
   "id": "5e863459",
   "metadata": {},
   "outputs": [],
   "source": []
  },
  {
   "cell_type": "code",
   "execution_count": null,
   "id": "c7ac48bf",
   "metadata": {},
   "outputs": [],
   "source": []
  },
  {
   "cell_type": "code",
   "execution_count": null,
   "id": "a22dbd1a",
   "metadata": {},
   "outputs": [],
   "source": []
  },
  {
   "cell_type": "code",
   "execution_count": null,
   "id": "da16fbaf",
   "metadata": {},
   "outputs": [],
   "source": []
  },
  {
   "cell_type": "code",
   "execution_count": null,
   "id": "c0bd03df",
   "metadata": {},
   "outputs": [],
   "source": []
  },
  {
   "cell_type": "code",
   "execution_count": null,
   "id": "0bda64d4",
   "metadata": {},
   "outputs": [],
   "source": []
  },
  {
   "cell_type": "code",
   "execution_count": null,
   "id": "13dc926e",
   "metadata": {},
   "outputs": [],
   "source": []
  },
  {
   "cell_type": "code",
   "execution_count": null,
   "id": "bd44bb1e",
   "metadata": {},
   "outputs": [],
   "source": []
  },
  {
   "cell_type": "code",
   "execution_count": null,
   "id": "6284efbb",
   "metadata": {},
   "outputs": [],
   "source": []
  },
  {
   "cell_type": "code",
   "execution_count": null,
   "id": "1b00b26c",
   "metadata": {},
   "outputs": [],
   "source": []
  },
  {
   "cell_type": "code",
   "execution_count": null,
   "id": "f77f4218",
   "metadata": {},
   "outputs": [],
   "source": []
  },
  {
   "cell_type": "code",
   "execution_count": null,
   "id": "8ffd51e5",
   "metadata": {},
   "outputs": [],
   "source": []
  },
  {
   "cell_type": "code",
   "execution_count": null,
   "id": "a57d730f",
   "metadata": {},
   "outputs": [],
   "source": []
  },
  {
   "cell_type": "code",
   "execution_count": null,
   "id": "39184e6e",
   "metadata": {},
   "outputs": [],
   "source": []
  }
 ],
 "metadata": {
  "kernelspec": {
   "display_name": "Python 3 (ipykernel)",
   "language": "python",
   "name": "python3"
  },
  "language_info": {
   "codemirror_mode": {
    "name": "ipython",
    "version": 3
   },
   "file_extension": ".py",
   "mimetype": "text/x-python",
   "name": "python",
   "nbconvert_exporter": "python",
   "pygments_lexer": "ipython3",
   "version": "3.9.12"
  }
 },
 "nbformat": 4,
 "nbformat_minor": 5
}
