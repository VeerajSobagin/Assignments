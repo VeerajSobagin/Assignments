{
 "cells": [
  {
   "cell_type": "markdown",
   "id": "72ea600d",
   "metadata": {},
   "source": [
    "<aside>\n",
    "💡 Question-1:\n",
    "\n",
    "Given a Binary Tree (Bt), convert it to a Doubly Linked List(DLL). The left and right pointers in nodes are to be used as previous and next pointers respectively in converted DLL. The order of nodes in DLL must be the same as in Inorder for the given Binary Tree. The first node of Inorder traversal (leftmost node in BT) must be the head node of the DLL.\n",
    "\n",
    "</aside>"
   ]
  },
  {
   "cell_type": "code",
   "execution_count": 3,
   "id": "38002ffa",
   "metadata": {},
   "outputs": [
    {
     "name": "stdout",
     "output_type": "stream",
     "text": [
      "1 2 3 4 5 "
     ]
    }
   ],
   "source": [
    "class Node:\n",
    "    def __init__(self, data):\n",
    "        self.data = data\n",
    "        self.left = None\n",
    "        self.right = None\n",
    "\n",
    "def binary_tree_to_dll(root):\n",
    "    if root is None:\n",
    "        return None\n",
    "    \n",
    "    binary_tree_to_dll.prev = None\n",
    "    \n",
    "    head, _ = convert_to_dll(root)\n",
    "    \n",
    "    return head\n",
    "\n",
    "def convert_to_dll(root):\n",
    "    if root is None:\n",
    "        return None, None\n",
    "    \n",
    "    left_head, left_tail = convert_to_dll(root.left)\n",
    "    \n",
    "    if binary_tree_to_dll.prev is None:\n",
    "        head = root\n",
    "    else:\n",
    "        root.left = binary_tree_to_dll.prev\n",
    "        binary_tree_to_dll.prev.right = root\n",
    "    \n",
    "    binary_tree_to_dll.prev = root\n",
    "    \n",
    "    right_head, right_tail = convert_to_dll(root.right)\n",
    "    \n",
    "    root.right = right_head\n",
    "    if right_head is not None:\n",
    "        right_head.left = root\n",
    "    \n",
    "    if left_head is None:\n",
    "        head = root\n",
    "    else:\n",
    "        head = left_head\n",
    "    \n",
    "    if right_tail is None:\n",
    "        tail = root\n",
    "    else:\n",
    "        tail = right_tail\n",
    "    \n",
    "    return head, tail\n",
    "\n",
    "root = Node(4)\n",
    "root.left = Node(2)\n",
    "root.right = Node(5)\n",
    "root.left.left = Node(1)\n",
    "root.left.right = Node(3)\n",
    "\n",
    "head = binary_tree_to_dll(root)\n",
    "\n",
    "while head is not None:\n",
    "    print(head.data, end=\" \")\n",
    "    head = head.right\n"
   ]
  },
  {
   "cell_type": "markdown",
   "id": "221046df",
   "metadata": {},
   "source": [
    "<aside>\n",
    "💡 Question-2\n",
    "\n",
    "A Given a binary tree, the task is to flip the binary tree towards the right direction that is clockwise. See the below examples to see the transformation.\n",
    "\n",
    "In the flip operation, the leftmost node becomes the root of the flipped tree and its parent becomes its right child and the right sibling becomes its left child and the same should be done for all left most nodes recursively.\n",
    "\n",
    "</aside>"
   ]
  },
  {
   "cell_type": "code",
   "execution_count": 5,
   "id": "b47b2fcb",
   "metadata": {},
   "outputs": [
    {
     "name": "stdout",
     "output_type": "stream",
     "text": [
      "Original Binary Tree:\n",
      "1 2 4 5 3 \n",
      "Flipped Binary Tree:\n",
      "1 3 2 5 4 "
     ]
    }
   ],
   "source": [
    "class Node:\n",
    "    def __init__(self, data):\n",
    "        self.data = data\n",
    "        self.left = None\n",
    "        self.right = None\n",
    "\n",
    "def flip_binary_tree(root):\n",
    "    if root is None:\n",
    "        return None\n",
    "    \n",
    "    \n",
    "    if root.left is None and root.right is None:\n",
    "        return root\n",
    "    \n",
    "    \n",
    "    flipped_left = flip_binary_tree(root.left)\n",
    "    flipped_right = flip_binary_tree(root.right)\n",
    "    \n",
    "    \n",
    "    root.left = flipped_right\n",
    "    root.right = flipped_left\n",
    "    \n",
    "    return root\n",
    "\n",
    "\n",
    "root = Node(1)\n",
    "root.left = Node(2)\n",
    "root.right = Node(3)\n",
    "root.left.left = Node(4)\n",
    "root.left.right = Node(5)\n",
    "\n",
    "\n",
    "print(\"Original Binary Tree:\")\n",
    "#       1\n",
    "#      / \\\n",
    "#     2   3\n",
    "#    / \\\n",
    "#   4   5\n",
    "def print_binary_tree(root):\n",
    "    if root is None:\n",
    "        return\n",
    "    \n",
    "    print(root.data, end=\" \")\n",
    "    print_binary_tree(root.left)\n",
    "    print_binary_tree(root.right)\n",
    "\n",
    "print_binary_tree(root)\n",
    "print()\n",
    "\n",
    "flipped_root = flip_binary_tree(root)\n",
    "\n",
    "print(\"Flipped Binary Tree:\")\n",
    "#       1\n",
    "#      / \\\n",
    "#     3   2\n",
    "#        / \\\n",
    "#       5   4\n",
    "print_binary_tree(flipped_root)\n"
   ]
  },
  {
   "cell_type": "code",
   "execution_count": null,
   "id": "3d818431",
   "metadata": {},
   "outputs": [],
   "source": []
  },
  {
   "cell_type": "markdown",
   "id": "853a3b46",
   "metadata": {},
   "source": [
    "<aside>\n",
    "💡 Question-3:\n",
    "\n",
    "Given a binary tree, print all its root-to-leaf paths without using recursion. For example, consider the following Binary Tree.\n",
    "\n",
    "</aside>"
   ]
  },
  {
   "cell_type": "code",
   "execution_count": 6,
   "id": "c7e92770",
   "metadata": {},
   "outputs": [
    {
     "name": "stdout",
     "output_type": "stream",
     "text": [
      "Root-to-Leaf Paths:\n",
      "6->3->2\n",
      "6->3->5->7\n",
      "6->3->5->4\n",
      "6->5->4\n"
     ]
    }
   ],
   "source": [
    "from collections import deque\n",
    "\n",
    "class Node:\n",
    "    def __init__(self, data):\n",
    "        self.data = data\n",
    "        self.left = None\n",
    "        self.right = None\n",
    "\n",
    "def print_root_to_leaf_paths(root):\n",
    "    if root is None:\n",
    "        return\n",
    "    \n",
    "    stack = [(root, str(root.data))]\n",
    "    \n",
    "    while stack:\n",
    "        node, path = stack.pop()\n",
    "        \n",
    "        if node.left is None and node.right is None:\n",
    "            print(path)\n",
    "        \n",
    "        if node.right:\n",
    "            stack.append((node.right, path + \"->\" + str(node.right.data)))\n",
    "        \n",
    "        if node.left:\n",
    "            stack.append((node.left, path + \"->\" + str(node.left.data)))\n",
    "\n",
    "\n",
    "root = Node(6)\n",
    "root.left = Node(3)\n",
    "root.right = Node(5)\n",
    "root.left.left = Node(2)\n",
    "root.left.right = Node(5)\n",
    "root.left.right.left = Node(7)\n",
    "root.left.right.right = Node(4)\n",
    "root.right.right = Node(4)\n",
    "\n",
    "\n",
    "print(\"Root-to-Leaf Paths:\")\n",
    "# 6->3->2\n",
    "# 6->3->5->7\n",
    "# 6->3->5->4\n",
    "# 6->5->4\n",
    "print_root_to_leaf_paths(root)\n"
   ]
  },
  {
   "cell_type": "code",
   "execution_count": null,
   "id": "5b252984",
   "metadata": {},
   "outputs": [],
   "source": []
  },
  {
   "cell_type": "code",
   "execution_count": null,
   "id": "485ca822",
   "metadata": {},
   "outputs": [],
   "source": []
  },
  {
   "cell_type": "markdown",
   "id": "852bfbed",
   "metadata": {},
   "source": [
    "<aside>\n",
    "💡 Question-4:\n",
    "\n",
    "Given Preorder, Inorder and Postorder traversals of some tree. Write a program to check if they all are of the same tree.\n",
    "\n",
    "</aside>"
   ]
  },
  {
   "cell_type": "code",
   "execution_count": 7,
   "id": "bcdcde57",
   "metadata": {},
   "outputs": [
    {
     "name": "stdout",
     "output_type": "stream",
     "text": [
      "Example 1:\n",
      "Yes\n",
      "Example 2:\n",
      "Yes\n"
     ]
    }
   ],
   "source": [
    "def check_traversals(preorder, inorder, postorder):\n",
    "    if len(preorder) != len(inorder) != len(postorder):\n",
    "        return False\n",
    "    \n",
    "    if not preorder:\n",
    "        return True\n",
    "    \n",
    "    root = preorder[0]\n",
    "    idx = inorder.index(root)\n",
    "    \n",
    "    left_inorder = inorder[:idx]\n",
    "    right_inorder = inorder[idx+1:]\n",
    "    \n",
    "    left_preorder = preorder[1:idx+1]\n",
    "    right_preorder = preorder[idx+1:]\n",
    "    \n",
    "    left_postorder = postorder[:idx]\n",
    "    right_postorder = postorder[idx:-1]\n",
    "    \n",
    "    return (check_traversals(left_preorder, left_inorder, left_postorder) and\n",
    "            check_traversals(right_preorder, right_inorder, right_postorder))\n",
    "\n",
    "inorder1 = [4, 2, 5, 1, 3]\n",
    "preorder1 = [1, 2, 4, 5, 3]\n",
    "postorder1 = [4, 5, 2, 3, 1]\n",
    "print(\"Example 1:\")\n",
    "if check_traversals(preorder1, inorder1, postorder1):\n",
    "    print(\"Yes\")\n",
    "else:\n",
    "    print(\"No\")\n",
    "\n",
    "inorder2 = [4, 2, 5, 1, 3]\n",
    "preorder2 = [1, 5, 4, 2, 3]\n",
    "postorder2 = [4, 1, 2, 3, 5]\n",
    "print(\"Example 2:\")\n",
    "if check_traversals(preorder2, inorder2, postorder2):\n",
    "    print(\"Yes\")\n",
    "else:\n",
    "    print(\"No\")\n"
   ]
  },
  {
   "cell_type": "code",
   "execution_count": null,
   "id": "3c10da5e",
   "metadata": {},
   "outputs": [],
   "source": []
  },
  {
   "cell_type": "code",
   "execution_count": null,
   "id": "5be6f926",
   "metadata": {},
   "outputs": [],
   "source": []
  },
  {
   "cell_type": "code",
   "execution_count": null,
   "id": "c8f8748f",
   "metadata": {},
   "outputs": [],
   "source": []
  },
  {
   "cell_type": "code",
   "execution_count": null,
   "id": "af488ccb",
   "metadata": {},
   "outputs": [],
   "source": []
  },
  {
   "cell_type": "code",
   "execution_count": null,
   "id": "c06df458",
   "metadata": {},
   "outputs": [],
   "source": []
  },
  {
   "cell_type": "code",
   "execution_count": null,
   "id": "2d45fe36",
   "metadata": {},
   "outputs": [],
   "source": []
  },
  {
   "cell_type": "code",
   "execution_count": null,
   "id": "d747dc65",
   "metadata": {},
   "outputs": [],
   "source": []
  },
  {
   "cell_type": "code",
   "execution_count": null,
   "id": "752f8b5f",
   "metadata": {},
   "outputs": [],
   "source": []
  },
  {
   "cell_type": "code",
   "execution_count": null,
   "id": "a777aec1",
   "metadata": {},
   "outputs": [],
   "source": []
  },
  {
   "cell_type": "code",
   "execution_count": null,
   "id": "741d1fd5",
   "metadata": {},
   "outputs": [],
   "source": []
  },
  {
   "cell_type": "code",
   "execution_count": null,
   "id": "da005768",
   "metadata": {},
   "outputs": [],
   "source": []
  },
  {
   "cell_type": "code",
   "execution_count": null,
   "id": "1b353bc6",
   "metadata": {},
   "outputs": [],
   "source": []
  },
  {
   "cell_type": "code",
   "execution_count": null,
   "id": "cddba98b",
   "metadata": {},
   "outputs": [],
   "source": []
  },
  {
   "cell_type": "code",
   "execution_count": null,
   "id": "7a1b579a",
   "metadata": {},
   "outputs": [],
   "source": []
  },
  {
   "cell_type": "code",
   "execution_count": null,
   "id": "26e2a460",
   "metadata": {},
   "outputs": [],
   "source": []
  },
  {
   "cell_type": "code",
   "execution_count": null,
   "id": "e2a49826",
   "metadata": {},
   "outputs": [],
   "source": []
  },
  {
   "cell_type": "code",
   "execution_count": null,
   "id": "babc0487",
   "metadata": {},
   "outputs": [],
   "source": []
  },
  {
   "cell_type": "code",
   "execution_count": null,
   "id": "2bfdfbf5",
   "metadata": {},
   "outputs": [],
   "source": []
  },
  {
   "cell_type": "code",
   "execution_count": null,
   "id": "842e4d9f",
   "metadata": {},
   "outputs": [],
   "source": []
  },
  {
   "cell_type": "code",
   "execution_count": null,
   "id": "49fa5aaf",
   "metadata": {},
   "outputs": [],
   "source": []
  }
 ],
 "metadata": {
  "kernelspec": {
   "display_name": "Python 3 (ipykernel)",
   "language": "python",
   "name": "python3"
  },
  "language_info": {
   "codemirror_mode": {
    "name": "ipython",
    "version": 3
   },
   "file_extension": ".py",
   "mimetype": "text/x-python",
   "name": "python",
   "nbconvert_exporter": "python",
   "pygments_lexer": "ipython3",
   "version": "3.9.12"
  }
 },
 "nbformat": 4,
 "nbformat_minor": 5
}
