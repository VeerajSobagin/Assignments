{
 "cells": [
  {
   "cell_type": "markdown",
   "id": "83b335db",
   "metadata": {},
   "source": [
    "1.Given a non-negative integer x, return the square root of x rounded down to the nearest integer. The returned integer should be non-negative as well. You must not use any built-in exponent function or operator. \n",
    "\n",
    " Example 1:\n",
    "Input: x = 4 Output: 2 Explanation: The square root of 4 is 2, so we return 2.\n",
    "Example 2:\n",
    "\n",
    "Input: x = 8 Output: 2 Explanation: The square root of 8 is 2.82842..., and since we round it down to the nearest integer, 2 is returned.\n",
    "Constraints:\n",
    "\n",
    "0 <= x <= 2^31 - 1"
   ]
  },
  {
   "cell_type": "code",
   "execution_count": 1,
   "id": "28d07ec3",
   "metadata": {},
   "outputs": [
    {
     "name": "stdout",
     "output_type": "stream",
     "text": [
      "Input: x = 4\n",
      "Output: 2\n",
      "Input: x = 8\n",
      "Output: 2\n"
     ]
    }
   ],
   "source": [
    "def Sqrt(x):\n",
    "    if x == 0:\n",
    "        return 0\n",
    "\n",
    "    left, right = 1, x\n",
    "    while left <= right:\n",
    "        mid = (left + right) // 2\n",
    "        if mid * mid <= x < (mid + 1) * (mid + 1):\n",
    "            return mid\n",
    "        elif mid * mid < x:\n",
    "            left = mid + 1\n",
    "        else:\n",
    "            right = mid - 1\n",
    "\n",
    "    return -1  \n",
    "\n",
    "\n",
    "x1 = 4\n",
    "print(\"Input: x =\", x1)\n",
    "print(\"Output:\", Sqrt(x1))\n",
    "\n",
    "\n",
    "\n",
    "x2 = 8\n",
    "print(\"Input: x =\", x2)\n",
    "print(\"Output:\", Sqrt(x2))\n",
    "# Expected output: 2\n"
   ]
  },
  {
   "cell_type": "code",
   "execution_count": null,
   "id": "9756b8d2",
   "metadata": {},
   "outputs": [],
   "source": []
  },
  {
   "cell_type": "code",
   "execution_count": null,
   "id": "8aa2408a",
   "metadata": {},
   "outputs": [],
   "source": []
  },
  {
   "cell_type": "code",
   "execution_count": null,
   "id": "799fbc0d",
   "metadata": {},
   "outputs": [],
   "source": []
  },
  {
   "cell_type": "code",
   "execution_count": null,
   "id": "1f82003c",
   "metadata": {},
   "outputs": [],
   "source": []
  },
  {
   "cell_type": "code",
   "execution_count": null,
   "id": "414718fc",
   "metadata": {},
   "outputs": [],
   "source": []
  },
  {
   "cell_type": "code",
   "execution_count": null,
   "id": "e355ff10",
   "metadata": {},
   "outputs": [],
   "source": []
  },
  {
   "cell_type": "code",
   "execution_count": null,
   "id": "840494e6",
   "metadata": {},
   "outputs": [],
   "source": []
  },
  {
   "cell_type": "code",
   "execution_count": null,
   "id": "b39e1d90",
   "metadata": {},
   "outputs": [],
   "source": []
  },
  {
   "cell_type": "code",
   "execution_count": null,
   "id": "3f22abab",
   "metadata": {},
   "outputs": [],
   "source": []
  }
 ],
 "metadata": {
  "kernelspec": {
   "display_name": "Python 3 (ipykernel)",
   "language": "python",
   "name": "python3"
  },
  "language_info": {
   "codemirror_mode": {
    "name": "ipython",
    "version": 3
   },
   "file_extension": ".py",
   "mimetype": "text/x-python",
   "name": "python",
   "nbconvert_exporter": "python",
   "pygments_lexer": "ipython3",
   "version": "3.9.12"
  }
 },
 "nbformat": 4,
 "nbformat_minor": 5
}
