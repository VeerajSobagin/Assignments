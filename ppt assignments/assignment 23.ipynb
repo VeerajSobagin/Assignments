{
 "cells": [
  {
   "cell_type": "markdown",
   "id": "8cc00972",
   "metadata": {},
   "source": [
    "<aside>\n",
    "💡 Question-1:\n",
    "\n",
    "Given preorder of a binary tree, calculate its **[depth(or height)](https://www.geeksforgeeks.org/write-a-c-program-to-find-the-maximum-depth-or-height-of-a-tree/)** [starting from depth 0]. The preorder is given as a string with two possible characters.\n",
    "\n",
    "1. ‘l’ denotes the leaf\n",
    "2. ‘n’ denotes internal node\n",
    "\n",
    "The given tree can be seen as a full binary tree where every node has 0 or two children. The two children of a node can ‘n’ or ‘l’ or mix of both.\n",
    "\n",
    "</aside>"
   ]
  },
  {
   "cell_type": "code",
   "execution_count": 1,
   "id": "11d44521",
   "metadata": {},
   "outputs": [
    {
     "name": "stdout",
     "output_type": "stream",
     "text": [
      "Example 1:\n",
      "Depth: 1\n",
      "Example 2:\n",
      "Depth: 2\n"
     ]
    }
   ],
   "source": [
    "def calculate_depth(preorder):\n",
    "    depth = 0\n",
    "    max_depth = 0\n",
    "    \n",
    "    for char in preorder:\n",
    "        if char == 'n':\n",
    "            depth += 1\n",
    "            max_depth = max(max_depth, depth)\n",
    "        elif char == 'l':\n",
    "            depth -= 1\n",
    "    \n",
    "    return max_depth\n",
    "\n",
    "preorder1 = \"nlnll\"\n",
    "print(\"Example 1:\")\n",
    "depth1 = calculate_depth(preorder1)\n",
    "print(\"Depth:\", depth1)\n",
    "\n",
    "preorder2 = \"nlnnlll\"\n",
    "print(\"Example 2:\")\n",
    "depth2 = calculate_depth(preorder2)\n",
    "print(\"Depth:\", depth2)\n"
   ]
  },
  {
   "cell_type": "code",
   "execution_count": null,
   "id": "723fa43d",
   "metadata": {},
   "outputs": [],
   "source": []
  },
  {
   "cell_type": "markdown",
   "id": "326f4f20",
   "metadata": {},
   "source": [
    "<aside>\n",
    "💡 Question-2:\n",
    "\n",
    "Given a Binary tree, the task is to print the **left view** of the Binary Tree. The left view of a Binary Tree is a set of leftmost nodes for every level.\n",
    "\n",
    "</aside>"
   ]
  },
  {
   "cell_type": "code",
   "execution_count": 2,
   "id": "ae669703",
   "metadata": {},
   "outputs": [
    {
     "name": "stdout",
     "output_type": "stream",
     "text": [
      "Left View:\n",
      "4 5 3 6 \n",
      "Left View:\n",
      "1 2 4 5 6 \n"
     ]
    }
   ],
   "source": [
    "from collections import deque\n",
    "\n",
    "class Node:\n",
    "    def __init__(self, data):\n",
    "        self.data = data\n",
    "        self.left = None\n",
    "        self.right = None\n",
    "\n",
    "def print_left_view(root):\n",
    "    if root is None:\n",
    "        return\n",
    "    \n",
    "    \n",
    "    queue = deque()\n",
    "    queue.append(root)\n",
    "    \n",
    "    \n",
    "    while queue:\n",
    "        \n",
    "        level_size = len(queue)\n",
    "        \n",
    "        \n",
    "        print(queue[0].data, end=\" \")\n",
    "        \n",
    "        \n",
    "        for _ in range(level_size):\n",
    "            node = queue.popleft()\n",
    "            \n",
    "            \n",
    "            if node.left:\n",
    "                queue.append(node.left)\n",
    "            \n",
    "            \n",
    "            if node.right:\n",
    "                queue.append(node.right)\n",
    "\n",
    "\n",
    "root = Node(4)\n",
    "root.left = Node(5)\n",
    "root.right = Node(2)\n",
    "root.right.left = Node(3)\n",
    "root.right.right = Node(1)\n",
    "root.right.left.left = Node(6)\n",
    "root.right.left.right = Node(7)\n",
    "\n",
    "print(\"Left View:\")\n",
    "\n",
    "print_left_view(root)\n",
    "print()\n",
    "\n",
    "root2 = Node(1)\n",
    "root2.left = Node(2)\n",
    "root2.right = Node(3)\n",
    "root2.left.right = Node(4)\n",
    "root2.left.right.right = Node(5)\n",
    "root2.left.right.right.right = Node(6)\n",
    "\n",
    "print(\"Left View:\")\n",
    "print_left_view(root2)\n",
    "print()\n"
   ]
  },
  {
   "cell_type": "code",
   "execution_count": null,
   "id": "65d8a4f3",
   "metadata": {},
   "outputs": [],
   "source": []
  },
  {
   "cell_type": "markdown",
   "id": "cb88f2e8",
   "metadata": {},
   "source": [
    "<aside>\n",
    "💡 Question-3:\n",
    "\n",
    "Given a Binary Tree, print the Right view of it.\n",
    "\n",
    "The right view of a Binary Tree is a set of nodes visible when the tree is visited from the Right side.\n",
    "\n",
    "</aside>"
   ]
  },
  {
   "cell_type": "code",
   "execution_count": 3,
   "id": "789fc741",
   "metadata": {},
   "outputs": [
    {
     "name": "stdout",
     "output_type": "stream",
     "text": [
      "Right View:\n",
      "1 3 7 8 \n",
      "Right View:\n",
      "1 8 7 \n"
     ]
    }
   ],
   "source": [
    "from collections import deque\n",
    "\n",
    "class Node:\n",
    "    def __init__(self, data):\n",
    "        self.data = data\n",
    "        self.left = None\n",
    "        self.right = None\n",
    "\n",
    "def print_right_view(root):\n",
    "    if root is None:\n",
    "        return\n",
    "    \n",
    "\n",
    "    queue = deque()\n",
    "    queue.append(root)\n",
    "    \n",
    "    \n",
    "    while queue:\n",
    "        \n",
    "        level_size = len(queue)\n",
    "        \n",
    "        \n",
    "        for i in range(level_size):\n",
    "            node = queue.popleft()\n",
    "            \n",
    "            \n",
    "            if i == level_size - 1:\n",
    "                print(node.data, end=\" \")\n",
    "            \n",
    "            \n",
    "            if node.left:\n",
    "                queue.append(node.left)\n",
    "            \n",
    "            \n",
    "            if node.right:\n",
    "                queue.append(node.right)\n",
    "\n",
    "\n",
    "root = Node(1)\n",
    "root.left = Node(2)\n",
    "root.right = Node(3)\n",
    "root.left.left = Node(4)\n",
    "root.left.right = Node(5)\n",
    "root.right.left = Node(6)\n",
    "root.right.right = Node(7)\n",
    "root.right.left.right = Node(8)\n",
    "\n",
    "\n",
    "print(\"Right View:\")\n",
    "\n",
    "print_right_view(root)\n",
    "print()\n",
    "\n",
    "\n",
    "root2 = Node(1)\n",
    "root2.left = Node(8)\n",
    "root2.left.left = Node(7)\n",
    "\n",
    "print(\"Right View:\")\n",
    "\n",
    "print_right_view(root2)\n",
    "print()\n"
   ]
  },
  {
   "cell_type": "code",
   "execution_count": null,
   "id": "9497734b",
   "metadata": {},
   "outputs": [],
   "source": []
  },
  {
   "cell_type": "markdown",
   "id": "982695fe",
   "metadata": {},
   "source": [
    "<aside>\n",
    "💡 Question-4:\n",
    "\n",
    "Given a Binary Tree, The task is to print the **bottom view** from left to right. A node **x** is there in output if x is the bottommost node at its horizontal distance. The horizontal distance of the left child of a node x is equal to a horizontal distance of x minus 1, and that of a right child is the horizontal distance of x plus 1.\n",
    "\n",
    "</aside>"
   ]
  },
  {
   "cell_type": "code",
   "execution_count": 4,
   "id": "e162d7c3",
   "metadata": {},
   "outputs": [
    {
     "name": "stdout",
     "output_type": "stream",
     "text": [
      "Bottom View:\n",
      "5 10 3 14 25 \n",
      "Bottom View:\n",
      "5 10 4 14 25 \n"
     ]
    }
   ],
   "source": [
    "from collections import deque\n",
    "\n",
    "class Node:\n",
    "    def __init__(self, data):\n",
    "        self.data = data\n",
    "        self.left = None\n",
    "        self.right = None\n",
    "\n",
    "def print_bottom_view(root):\n",
    "    if root is None:\n",
    "        return\n",
    "    \n",
    "    \n",
    "    queue = deque()\n",
    "    queue.append((root, 0))  \n",
    "    \n",
    "    \n",
    "    bottom_view = {}\n",
    "    \n",
    "\n",
    "    while queue:\n",
    "        node, hd = queue.popleft()\n",
    "        \n",
    "        \n",
    "        bottom_view[hd] = node.data\n",
    "        \n",
    "        \n",
    "        if node.left:\n",
    "            queue.append((node.left, hd - 1))\n",
    "        \n",
    "        \n",
    "        if node.right:\n",
    "            queue.append((node.right, hd + 1))\n",
    "    \n",
    "    \n",
    "    for hd in sorted(bottom_view.keys()):\n",
    "        print(bottom_view[hd], end=\" \")\n",
    "\n",
    "\n",
    "root = Node(20)\n",
    "root.left = Node(8)\n",
    "root.right = Node(22)\n",
    "root.left.left = Node(5)\n",
    "root.left.right = Node(3)\n",
    "root.right.right = Node(25)\n",
    "root.left.right.left = Node(10)\n",
    "root.left.right.right = Node(14)\n",
    "\n",
    "\n",
    "print(\"Bottom View:\")\n",
    "print_bottom_view(root)\n",
    "print()\n",
    "\n",
    "root2 = Node(20)\n",
    "root2.left = Node(8)\n",
    "root2.right = Node(22)\n",
    "root2.left.left = Node(5)\n",
    "root2.left.right = Node(3)\n",
    "root2.right.left = Node(4)\n",
    "root2.right.right = Node(25)\n",
    "root2.left.right.left = Node(10)\n",
    "root2.left.right.right = Node(14)\n",
    "\n",
    "print(\"Bottom View:\")\n",
    "print_bottom_view(root2)\n",
    "print()\n"
   ]
  },
  {
   "cell_type": "code",
   "execution_count": null,
   "id": "78f8796f",
   "metadata": {},
   "outputs": [],
   "source": []
  },
  {
   "cell_type": "code",
   "execution_count": null,
   "id": "c7f43088",
   "metadata": {},
   "outputs": [],
   "source": []
  },
  {
   "cell_type": "code",
   "execution_count": null,
   "id": "d895aab9",
   "metadata": {},
   "outputs": [],
   "source": []
  },
  {
   "cell_type": "code",
   "execution_count": null,
   "id": "b18b6395",
   "metadata": {},
   "outputs": [],
   "source": []
  },
  {
   "cell_type": "code",
   "execution_count": null,
   "id": "ccf26be4",
   "metadata": {},
   "outputs": [],
   "source": []
  },
  {
   "cell_type": "code",
   "execution_count": null,
   "id": "ce8cceb8",
   "metadata": {},
   "outputs": [],
   "source": []
  },
  {
   "cell_type": "code",
   "execution_count": null,
   "id": "e7ded197",
   "metadata": {},
   "outputs": [],
   "source": []
  },
  {
   "cell_type": "code",
   "execution_count": null,
   "id": "43ec14a3",
   "metadata": {},
   "outputs": [],
   "source": []
  },
  {
   "cell_type": "code",
   "execution_count": null,
   "id": "fa3c7f99",
   "metadata": {},
   "outputs": [],
   "source": []
  },
  {
   "cell_type": "code",
   "execution_count": null,
   "id": "2a8a847b",
   "metadata": {},
   "outputs": [],
   "source": []
  },
  {
   "cell_type": "code",
   "execution_count": null,
   "id": "2cabfbee",
   "metadata": {},
   "outputs": [],
   "source": []
  },
  {
   "cell_type": "code",
   "execution_count": null,
   "id": "6f83b763",
   "metadata": {},
   "outputs": [],
   "source": []
  },
  {
   "cell_type": "code",
   "execution_count": null,
   "id": "e2bb9b37",
   "metadata": {},
   "outputs": [],
   "source": []
  },
  {
   "cell_type": "code",
   "execution_count": null,
   "id": "f607869f",
   "metadata": {},
   "outputs": [],
   "source": []
  },
  {
   "cell_type": "code",
   "execution_count": null,
   "id": "a1cb1f86",
   "metadata": {},
   "outputs": [],
   "source": []
  }
 ],
 "metadata": {
  "kernelspec": {
   "display_name": "Python 3 (ipykernel)",
   "language": "python",
   "name": "python3"
  },
  "language_info": {
   "codemirror_mode": {
    "name": "ipython",
    "version": 3
   },
   "file_extension": ".py",
   "mimetype": "text/x-python",
   "name": "python",
   "nbconvert_exporter": "python",
   "pygments_lexer": "ipython3",
   "version": "3.9.12"
  }
 },
 "nbformat": 4,
 "nbformat_minor": 5
}
