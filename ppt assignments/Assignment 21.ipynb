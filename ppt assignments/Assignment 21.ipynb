{
 "cells": [
  {
   "cell_type": "markdown",
   "id": "07fef07d",
   "metadata": {},
   "source": [
    "#### Question-1\n",
    "\n",
    "You are given a binary tree. The binary tree is represented using the TreeNode class. Each TreeNode has an integer value and left and right children, represented using the TreeNode class itself. Convert this binary tree into a binary search tree."
   ]
  },
  {
   "cell_type": "code",
   "execution_count": 1,
   "id": "cea2fc25",
   "metadata": {},
   "outputs": [
    {
     "name": "stdout",
     "output_type": "stream",
     "text": [
      "2\n",
      "4\n",
      "7\n",
      "8\n",
      "10\n"
     ]
    }
   ],
   "source": [
    "class TreeNode:\n",
    "    def __init__(self, value):\n",
    "        self.val = value\n",
    "        self.left = None\n",
    "        self.right = None\n",
    "\n",
    "def inorder_traversal(node, values):\n",
    "    if node:\n",
    "        inorder_traversal(node.left, values)\n",
    "        values.append(node.val)\n",
    "        inorder_traversal(node.right, values)\n",
    "\n",
    "def convert_to_bst(node, values):\n",
    "    if node:\n",
    "        convert_to_bst(node.left, values)\n",
    "        node.val = values.pop(0)\n",
    "        convert_to_bst(node.right, values)\n",
    "\n",
    "def binary_tree_to_bst(root):\n",
    "    values = []\n",
    "    inorder_traversal(root, values)\n",
    "    values.sort()\n",
    "    convert_to_bst(root, values)\n",
    "    return root\n",
    "\n",
    "\n",
    "root = TreeNode(10)\n",
    "root.left = TreeNode(2)\n",
    "root.right = TreeNode(7)\n",
    "root.left.left = TreeNode(8)\n",
    "root.left.right = TreeNode(4)\n",
    "\n",
    "\n",
    "bst_root = binary_tree_to_bst(root)\n",
    "\n",
    "\n",
    "def print_tree_inorder(node):\n",
    "    if node:\n",
    "        print_tree_inorder(node.left)\n",
    "        print(node.val)\n",
    "        print_tree_inorder(node.right)\n",
    "\n",
    "print_tree_inorder(bst_root)"
   ]
  },
  {
   "cell_type": "markdown",
   "id": "264b33ac",
   "metadata": {},
   "source": [
    "#### Question-2:\n",
    "\n",
    "Given a Binary Search Tree with all unique values and two keys. Find the distance between two nodes in BST. The given keys always exist in BST."
   ]
  },
  {
   "cell_type": "code",
   "execution_count": 2,
   "id": "194f8723",
   "metadata": {},
   "outputs": [
    {
     "name": "stdout",
     "output_type": "stream",
     "text": [
      "The distance between the two keys = 4\n"
     ]
    }
   ],
   "source": [
    "class TreeNode:\n",
    "    def __init__(self, value):\n",
    "        self.val = value\n",
    "        self.left = None\n",
    "        self.right = None\n",
    "\n",
    "def find_distance(root, node1, node2):\n",
    "    if root is None:\n",
    "        return 0\n",
    "\n",
    "    if node1 < root.val and node2 < root.val:\n",
    "        return find_distance(root.left, node1, node2)\n",
    "\n",
    "    if node1 > root.val and node2 > root.val:\n",
    "        return find_distance(root.right, node1, node2)\n",
    "\n",
    "    distance_node1 = find_node_distance(root, node1, 0)\n",
    "    distance_node2 = find_node_distance(root, node2, 0)\n",
    "\n",
    "    # Return the sum of the distances\n",
    "    return distance_node1 + distance_node2\n",
    "\n",
    "def find_node_distance(root, node, distance):\n",
    "    if root is None:\n",
    "        return 0\n",
    "\n",
    "    if root.val == node:\n",
    "        return distance\n",
    "\n",
    "    if node < root.val:\n",
    "        return find_node_distance(root.left, node, distance + 1)\n",
    "\n",
    "    if node > root.val:\n",
    "        return find_node_distance(root.right, node, distance + 1)\n",
    "\n",
    "# Create the Binary Search Tree\n",
    "root = TreeNode(8)\n",
    "root.left = TreeNode(3)\n",
    "root.left.left = TreeNode(1)\n",
    "root.left.right = TreeNode(6)\n",
    "root.left.right.left = TreeNode(4)\n",
    "root.left.right.right = TreeNode(7)\n",
    "root.right = TreeNode(10)\n",
    "root.right.right = TreeNode(14)\n",
    "root.right.right.left = TreeNode(13)\n",
    "\n",
    "\n",
    "node1 = 6\n",
    "node2 = 14\n",
    "\n",
    "distance = find_distance(root, node1, node2)\n",
    "print(\"The distance between the two keys =\", distance)"
   ]
  },
  {
   "cell_type": "markdown",
   "id": "337a225d",
   "metadata": {},
   "source": [
    "#### Question-3:\n",
    "\n",
    "Write a program to convert a binary tree to a doubly linked list."
   ]
  },
  {
   "cell_type": "code",
   "execution_count": 3,
   "id": "e31ebfaf",
   "metadata": {},
   "outputs": [
    {
     "name": "stdout",
     "output_type": "stream",
     "text": [
      "5 10 30 20 35 \n"
     ]
    }
   ],
   "source": [
    "class Node:\n",
    "    def __init__(self, value):\n",
    "        self.val = value\n",
    "        self.left = None\n",
    "        self.right = None\n",
    "\n",
    "def binary_tree_to_dll(root):\n",
    "    if root is None:\n",
    "        return None\n",
    "\n",
    "    left_dll = binary_tree_to_dll(root.left)\n",
    "\n",
    "    predecessor = left_dll\n",
    "    while predecessor and predecessor.right:\n",
    "        predecessor = predecessor.right\n",
    "\n",
    "    if predecessor:\n",
    "        predecessor.right = root\n",
    "        root.left = predecessor\n",
    "\n",
    "    right_dll = binary_tree_to_dll(root.right)\n",
    "\n",
    "    if right_dll:\n",
    "        right_dll.left = root\n",
    "        root.right = right_dll\n",
    "\n",
    "    return left_dll if left_dll else root\n",
    "\n",
    "def print_doubly_linked_list(head):\n",
    "    while head:\n",
    "        print(head.val, end=\" \")\n",
    "        head = head.right\n",
    "    print()\n",
    "\n",
    "# Create the binary tree\n",
    "root = Node(10)\n",
    "root.left = Node(5)\n",
    "root.right = Node(20)\n",
    "root.right.left = Node(30)\n",
    "root.right.right = Node(35)\n",
    "\n",
    "\n",
    "dll_head = binary_tree_to_dll(root)\n",
    "\n",
    "print_doubly_linked_list(dll_head)"
   ]
  },
  {
   "cell_type": "markdown",
   "id": "96fd71d3",
   "metadata": {},
   "source": [
    "#### Question-4:\n",
    "\n",
    "Write a program to connect nodes at the same level."
   ]
  },
  {
   "cell_type": "code",
   "execution_count": 4,
   "id": "2a4713b1",
   "metadata": {},
   "outputs": [
    {
     "name": "stdout",
     "output_type": "stream",
     "text": [
      "1 → -1\n",
      "2 → 3 → -1\n",
      "4 → 5 → 6 → 7 → -1\n"
     ]
    }
   ],
   "source": [
    "class Node:\n",
    "    def __init__(self, value):\n",
    "        self.val = value\n",
    "        self.left = None\n",
    "        self.right = None\n",
    "        self.next = None\n",
    "\n",
    "def connect_nodes_at_same_level(root):\n",
    "    if root is None:\n",
    "        return root\n",
    "\n",
    "    queue = [root]\n",
    "\n",
    "    while queue:\n",
    "        level_size = len(queue)\n",
    "\n",
    "        for i in range(level_size):\n",
    "            node = queue.pop(0)\n",
    "\n",
    "            if i < level_size - 1:\n",
    "                node.next = queue[0]\n",
    "\n",
    "            if node.left:\n",
    "                queue.append(node.left)\n",
    "            if node.right:\n",
    "                queue.append(node.right)\n",
    "\n",
    "    return root\n",
    "\n",
    "def print_connected_nodes(root):\n",
    "    while root:\n",
    "        curr = root\n",
    "        while curr:\n",
    "            print(curr.val, end=\" → \")\n",
    "            curr = curr.next\n",
    "        print(\"-1\")\n",
    "        root = root.left\n",
    "\n",
    "# Create the binary tree\n",
    "root = Node(1)\n",
    "root.left = Node(2)\n",
    "root.right = Node(3)\n",
    "root.left.left = Node(4)\n",
    "root.left.right = Node(5)\n",
    "root.right.left = Node(6)\n",
    "root.right.right = Node(7)\n",
    "\n",
    "\n",
    "connect_nodes_at_same_level(root)\n",
    "\n",
    "\n",
    "print_connected_nodes(root)"
   ]
  }
 ],
 "metadata": {
  "kernelspec": {
   "display_name": "Python 3 (ipykernel)",
   "language": "python",
   "name": "python3"
  },
  "language_info": {
   "codemirror_mode": {
    "name": "ipython",
    "version": 3
   },
   "file_extension": ".py",
   "mimetype": "text/x-python",
   "name": "python",
   "nbconvert_exporter": "python",
   "pygments_lexer": "ipython3",
   "version": "3.9.12"
  }
 },
 "nbformat": 4,
 "nbformat_minor": 5
}
