{
 "cells": [
  {
   "cell_type": "markdown",
   "id": "1ae3c2a4",
   "metadata": {},
   "source": [
    "#### 1. Write a Python program to reverse a string without using any built-in string reversal functions."
   ]
  },
  {
   "cell_type": "code",
   "execution_count": 1,
   "id": "c6c3c0c7",
   "metadata": {},
   "outputs": [
    {
     "data": {
      "text/plain": [
       "'jkhfx'"
      ]
     },
     "execution_count": 1,
     "metadata": {},
     "output_type": "execute_result"
    }
   ],
   "source": [
    "def rev(x):\n",
    "    y=''\n",
    "    for i in range(len(x)):\n",
    "        y+=x[-i-1]\n",
    "    return y\n",
    "\n",
    "rev('xfhkj')"
   ]
  },
  {
   "cell_type": "markdown",
   "id": "8fc276d2",
   "metadata": {},
   "source": [
    "#### 2. Implement a function to check if a given string is a palindrome."
   ]
  },
  {
   "cell_type": "code",
   "execution_count": 2,
   "id": "0ba5f455",
   "metadata": {},
   "outputs": [
    {
     "data": {
      "text/plain": [
       "'palindrome'"
      ]
     },
     "execution_count": 2,
     "metadata": {},
     "output_type": "execute_result"
    }
   ],
   "source": [
    "def pal(x):\n",
    "    y=x[::-1]\n",
    "    if x==y:\n",
    "        return 'palindrome'\n",
    "    else:\n",
    "        return 'not'\n",
    "    \n",
    "pal('cac')"
   ]
  },
  {
   "cell_type": "markdown",
   "id": "98ac635a",
   "metadata": {},
   "source": [
    "#### 3. Write a program to find the largest element in a given list."
   ]
  },
  {
   "cell_type": "code",
   "execution_count": 3,
   "id": "816c9a82",
   "metadata": {},
   "outputs": [
    {
     "data": {
      "text/plain": [
       "45"
      ]
     },
     "execution_count": 3,
     "metadata": {},
     "output_type": "execute_result"
    }
   ],
   "source": [
    "def lar(x):\n",
    "    y=x[0]\n",
    "    for i in x:\n",
    "        if i>y:\n",
    "            y=i\n",
    "        else:\n",
    "            pass\n",
    "    return y\n",
    "\n",
    "lar([1,4,8,9,45])"
   ]
  },
  {
   "cell_type": "markdown",
   "id": "077ed6e7",
   "metadata": {},
   "source": [
    "#### 4. Implement a function to count the occurrence of each element in a list."
   ]
  },
  {
   "cell_type": "code",
   "execution_count": 4,
   "id": "c531153a",
   "metadata": {},
   "outputs": [
    {
     "data": {
      "text/plain": [
       "{1: 1, 2: 2, 3: 3, 4: 1, 7: 1}"
      ]
     },
     "execution_count": 4,
     "metadata": {},
     "output_type": "execute_result"
    }
   ],
   "source": [
    "def count(l):\n",
    "    o={}\n",
    "    for i in l:\n",
    "        o[i]=l.count(i)\n",
    "    return o\n",
    "\n",
    "count([1,2,2,3,3,3,4,7])"
   ]
  },
  {
   "cell_type": "markdown",
   "id": "6e024562",
   "metadata": {},
   "source": [
    "#### 5. Write a Python program to find the second largest number in a list."
   ]
  },
  {
   "cell_type": "code",
   "execution_count": 5,
   "id": "07798043",
   "metadata": {},
   "outputs": [
    {
     "data": {
      "text/plain": [
       "4"
      ]
     },
     "execution_count": 5,
     "metadata": {},
     "output_type": "execute_result"
    }
   ],
   "source": [
    "def slar(x):\n",
    "    y=x[0]\n",
    "    \n",
    "    for i in x:\n",
    "        if i>y:\n",
    "            y=i\n",
    "    x.remove(y)\n",
    "    \n",
    "    z=0\n",
    "    for i in x:\n",
    "        if i>z:\n",
    "            z=i\n",
    "    return z\n",
    "\n",
    "slar([1,2,2,3,3,3,4,7])"
   ]
  },
  {
   "cell_type": "markdown",
   "id": "067e921a",
   "metadata": {},
   "source": [
    "#### 6. Implement a function to remove duplicate elements from a list."
   ]
  },
  {
   "cell_type": "code",
   "execution_count": 6,
   "id": "2a7138eb",
   "metadata": {},
   "outputs": [
    {
     "data": {
      "text/plain": [
       "[1, 2, 3, 4, 7]"
      ]
     },
     "execution_count": 6,
     "metadata": {},
     "output_type": "execute_result"
    }
   ],
   "source": [
    "def uni(l):\n",
    "    x=[]\n",
    "    for i in l:\n",
    "        if i in x:\n",
    "            pass\n",
    "        else:\n",
    "            x.append(i)\n",
    "    return x\n",
    "\n",
    "uni([1,2,2,3,3,3,4,7])"
   ]
  },
  {
   "cell_type": "markdown",
   "id": "05b7ebf4",
   "metadata": {},
   "source": [
    "#### 7. Write a program to calculate the factorial of a given number."
   ]
  },
  {
   "cell_type": "code",
   "execution_count": 7,
   "id": "16cbf4be",
   "metadata": {},
   "outputs": [
    {
     "data": {
      "text/plain": [
       "120"
      ]
     },
     "execution_count": 7,
     "metadata": {},
     "output_type": "execute_result"
    }
   ],
   "source": [
    "def fact(x):\n",
    "    y=1\n",
    "    for i in range(1,x+1):\n",
    "        y*=i\n",
    "    return y\n",
    "\n",
    "fact(5)   "
   ]
  },
  {
   "cell_type": "markdown",
   "id": "e7341fd7",
   "metadata": {},
   "source": [
    "#### 8. Implement a function to check if a given number is prime."
   ]
  },
  {
   "cell_type": "code",
   "execution_count": 8,
   "id": "91a74ef8",
   "metadata": {},
   "outputs": [
    {
     "data": {
      "text/plain": [
       "(3, 'is prime number')"
      ]
     },
     "execution_count": 8,
     "metadata": {},
     "output_type": "execute_result"
    }
   ],
   "source": [
    "def prime(n):\n",
    "    \n",
    "    for i in range(2,n):\n",
    "        if n%i==0:\n",
    "            return n, 'not prime number'\n",
    "            break\n",
    "    else:\n",
    "        return n, 'is prime number'\n",
    "        \n",
    "prime(3)"
   ]
  },
  {
   "cell_type": "markdown",
   "id": "354091de",
   "metadata": {},
   "source": [
    "#### 9. Write a Python program to sort a list of integers in ascending order."
   ]
  },
  {
   "cell_type": "code",
   "execution_count": 9,
   "id": "74a98d51",
   "metadata": {},
   "outputs": [
    {
     "data": {
      "text/plain": [
       "[1, 2, 3, 5, 8]"
      ]
     },
     "execution_count": 9,
     "metadata": {},
     "output_type": "execute_result"
    }
   ],
   "source": [
    "def sort_list(nums):\n",
    "    nums.sort()\n",
    "    return nums\n",
    "\n",
    "# Example\n",
    "sort_list([5, 2, 8, 1, 3])"
   ]
  },
  {
   "cell_type": "markdown",
   "id": "a4795966",
   "metadata": {},
   "source": [
    "#### 10. Implement a function to find the sum of all numbers in a list."
   ]
  },
  {
   "cell_type": "code",
   "execution_count": 10,
   "id": "2a4a5872",
   "metadata": {},
   "outputs": [
    {
     "data": {
      "text/plain": [
       "6"
      ]
     },
     "execution_count": 10,
     "metadata": {},
     "output_type": "execute_result"
    }
   ],
   "source": [
    "def su(l):\n",
    "    s=0\n",
    "    for i in l:\n",
    "        s+=i\n",
    "    return s\n",
    "\n",
    "su([1,2,3])"
   ]
  },
  {
   "cell_type": "markdown",
   "id": "8c0d93a7",
   "metadata": {},
   "source": [
    "#### 11. Write a program to find the common elements between two lists."
   ]
  },
  {
   "cell_type": "code",
   "execution_count": 11,
   "id": "a89c59f0",
   "metadata": {},
   "outputs": [
    {
     "data": {
      "text/plain": [
       "[1, 4, 5]"
      ]
     },
     "execution_count": 11,
     "metadata": {},
     "output_type": "execute_result"
    }
   ],
   "source": [
    "def com(l,x):\n",
    "    y=[]\n",
    "    for i in l:\n",
    "        if i in x:\n",
    "            y.append(i)\n",
    "    return y\n",
    "\n",
    "com([1,2,3,4,5],[1,4,6,5])"
   ]
  },
  {
   "cell_type": "markdown",
   "id": "a67016d9",
   "metadata": {},
   "source": [
    "#### 12. Implement a function to check if a given string is an anagram of another string."
   ]
  },
  {
   "cell_type": "code",
   "execution_count": 12,
   "id": "27b91ed9",
   "metadata": {},
   "outputs": [
    {
     "data": {
      "text/plain": [
       "'anagam'"
      ]
     },
     "execution_count": 12,
     "metadata": {},
     "output_type": "execute_result"
    }
   ],
   "source": [
    "def ang(x,y):\n",
    "    if sorted(x)==sorted(y):\n",
    "        return 'anagam'\n",
    "    else:\n",
    "        return 'not'\n",
    "    \n",
    "ang('abcdef', 'bdacef')"
   ]
  },
  {
   "cell_type": "markdown",
   "id": "3c118db7",
   "metadata": {},
   "source": [
    "#### 13. Write a Python program to generate all permutations of a given string."
   ]
  },
  {
   "cell_type": "code",
   "execution_count": 13,
   "id": "70f14583",
   "metadata": {},
   "outputs": [
    {
     "data": {
      "text/plain": [
       "['abc', 'acb', 'bac', 'bca', 'cab', 'cba']"
      ]
     },
     "execution_count": 13,
     "metadata": {},
     "output_type": "execute_result"
    }
   ],
   "source": [
    "import itertools\n",
    "\n",
    "def generate_permutations(string):\n",
    "    chars = list(string)\n",
    "\n",
    "    permutations = list(itertools.permutations(chars))\n",
    "    \n",
    "    result = [''.join(perm) for perm in permutations]\n",
    "    \n",
    "    return result\n",
    "\n",
    "# Example\n",
    "\n",
    "generate_permutations(\"abc\")"
   ]
  },
  {
   "cell_type": "markdown",
   "id": "d3ec918f",
   "metadata": {},
   "source": [
    "#### 14. Implement a function to calculate the Fibonacci sequence up to a given number of terms."
   ]
  },
  {
   "cell_type": "code",
   "execution_count": 14,
   "id": "efccafd6",
   "metadata": {},
   "outputs": [
    {
     "data": {
      "text/plain": [
       "[0, 1, 1, 2, 3, 5, 8, 13, 21, 34]"
      ]
     },
     "execution_count": 14,
     "metadata": {},
     "output_type": "execute_result"
    }
   ],
   "source": [
    "def fibonacci(n):\n",
    "    if n <= 0:\n",
    "        return []\n",
    "\n",
    "    sequence = [0, 1]\n",
    "\n",
    "    while len(sequence) < n:\n",
    "        next_term = sequence[-1] + sequence[-2]\n",
    "        sequence.append(next_term)\n",
    "\n",
    "    return sequence\n",
    "\n",
    "# Example\n",
    "fibonacci(10)"
   ]
  },
  {
   "cell_type": "markdown",
   "id": "331d2a29",
   "metadata": {},
   "source": [
    "#### 15. Write a program to find the median of a list of numbers."
   ]
  },
  {
   "cell_type": "code",
   "execution_count": 15,
   "id": "1328bb59",
   "metadata": {},
   "outputs": [
    {
     "data": {
      "text/plain": [
       "5.0"
      ]
     },
     "execution_count": 15,
     "metadata": {},
     "output_type": "execute_result"
    }
   ],
   "source": [
    "def median(l):\n",
    "    x=sorted(l)\n",
    "    if len(l)%2==0:\n",
    "        return x[len(x)//2]\n",
    "    else:\n",
    "        return (x[len(x)//2]+x[len(x)//2+1])/2\n",
    "    \n",
    "median([1,2,4,3,6,7,8])"
   ]
  },
  {
   "cell_type": "markdown",
   "id": "121f2b48",
   "metadata": {},
   "source": [
    "#### 16. Implement a function to check if a given list is sorted in non-decreasing order."
   ]
  },
  {
   "cell_type": "code",
   "execution_count": 16,
   "id": "cc4a74ff",
   "metadata": {},
   "outputs": [
    {
     "name": "stdout",
     "output_type": "stream",
     "text": [
      "True\n",
      "False\n"
     ]
    }
   ],
   "source": [
    "def is_sorted(arr):\n",
    "    if len(arr) <= 1:\n",
    "        return True\n",
    "    \n",
    "    for i in range(1, len(arr)):\n",
    "        if arr[i] < arr[i-1]:\n",
    "            return False\n",
    "\n",
    "    return True\n",
    "\n",
    "# Example\n",
    "lst = [1, 2, 3, 4, 5]\n",
    "print(is_sorted(lst))\n",
    "\n",
    "lst = [5, 4, 3, 2, 1]\n",
    "print(is_sorted(lst))\n"
   ]
  },
  {
   "cell_type": "markdown",
   "id": "7d463c25",
   "metadata": {},
   "source": [
    "#### 17. Write a Python program to find the intersection of two lists."
   ]
  },
  {
   "cell_type": "code",
   "execution_count": 17,
   "id": "9cab0026",
   "metadata": {},
   "outputs": [
    {
     "data": {
      "text/plain": [
       "[2]"
      ]
     },
     "execution_count": 17,
     "metadata": {},
     "output_type": "execute_result"
    }
   ],
   "source": [
    "def inter(x,l):\n",
    "    y=[]\n",
    "    for i in x:\n",
    "        if i in l:\n",
    "            y.append(i)\n",
    "    return y\n",
    "\n",
    "inter([1,2,3,4],[2,5,7])"
   ]
  },
  {
   "cell_type": "markdown",
   "id": "129446a9",
   "metadata": {},
   "source": [
    "#### 18. Implement a function to find the maximum subarray sum in a given list."
   ]
  },
  {
   "cell_type": "code",
   "execution_count": 18,
   "id": "2c1d5e81",
   "metadata": {},
   "outputs": [
    {
     "data": {
      "text/plain": [
       "6"
      ]
     },
     "execution_count": 18,
     "metadata": {},
     "output_type": "execute_result"
    }
   ],
   "source": [
    "def max_subarray_sum(arr):\n",
    "    max_sum = arr[0]  \n",
    "    current_sum = arr[0]\n",
    "\n",
    "    for i in range(1, len(arr)):\n",
    "        current_sum = max(arr[i], current_sum + arr[i])\n",
    "\n",
    "        max_sum = max(max_sum, current_sum)\n",
    "\n",
    "    return max_sum\n",
    "\n",
    "# Example\n",
    "max_subarray_sum([-2, 1, -3, 4, -1, 2, 1, -5, 4])"
   ]
  },
  {
   "cell_type": "markdown",
   "id": "ec5c4183",
   "metadata": {},
   "source": [
    "#### 19. Write a program to remove all vowels from a given string."
   ]
  },
  {
   "cell_type": "code",
   "execution_count": 19,
   "id": "41d555e5",
   "metadata": {},
   "outputs": [
    {
     "data": {
      "text/plain": [
       "'dgfbndhw'"
      ]
     },
     "execution_count": 19,
     "metadata": {},
     "output_type": "execute_result"
    }
   ],
   "source": [
    "def vowel(s):\n",
    "    v='AEIOUaeiou'\n",
    "    x=''\n",
    "    for i in s:\n",
    "        if i in v:\n",
    "            continue\n",
    "        else:\n",
    "            x+=i\n",
    "    return x\n",
    "\n",
    "vowel('dgfbnadhaw')"
   ]
  },
  {
   "cell_type": "markdown",
   "id": "d109c3ec",
   "metadata": {},
   "source": [
    "#### 20. Implement a function to reverse the order of words in a given sentence."
   ]
  },
  {
   "cell_type": "code",
   "execution_count": 20,
   "id": "52c19f89",
   "metadata": {},
   "outputs": [
    {
     "data": {
      "text/plain": [
       "'you? are How world! Hello,'"
      ]
     },
     "execution_count": 20,
     "metadata": {},
     "output_type": "execute_result"
    }
   ],
   "source": [
    "def reverse_words(sentence):\n",
    "    words = sentence.split()\n",
    "    reversed_words = words[::-1]\n",
    "    reversed_sentence = ' '.join(reversed_words)\n",
    "    return reversed_sentence\n",
    "\n",
    "# Example\n",
    "\n",
    "reverse_words(\"Hello, world! How are you?\")"
   ]
  },
  {
   "cell_type": "markdown",
   "id": "73fe36cd",
   "metadata": {},
   "source": [
    "#### 21. Write a Python program to check if two strings are anagrams of each other."
   ]
  },
  {
   "cell_type": "code",
   "execution_count": 21,
   "id": "3d2cc62e",
   "metadata": {},
   "outputs": [
    {
     "data": {
      "text/plain": [
       "'anagam'"
      ]
     },
     "execution_count": 21,
     "metadata": {},
     "output_type": "execute_result"
    }
   ],
   "source": [
    "def ang(x,y):\n",
    "    if sorted(x)==sorted(y):\n",
    "        return 'anagam'\n",
    "    else:\n",
    "        return 'not'\n",
    "    \n",
    "ang('abcdef', 'bdacef')"
   ]
  },
  {
   "cell_type": "markdown",
   "id": "4840620b",
   "metadata": {},
   "source": [
    "#### 22. Implement a function to find the first non-repeating character in a string."
   ]
  },
  {
   "cell_type": "code",
   "execution_count": 22,
   "id": "5e37a7fe",
   "metadata": {},
   "outputs": [
    {
     "data": {
      "text/plain": [
       "'h'"
      ]
     },
     "execution_count": 22,
     "metadata": {},
     "output_type": "execute_result"
    }
   ],
   "source": [
    "def first_non_repeating_char(string):\n",
    "    char_count = {}\n",
    "    \n",
    "    for char in string:\n",
    "        char_count[char] = char_count.get(char, 0) + 1\n",
    "    \n",
    "    for char in string:\n",
    "        if char_count[char] == 1:\n",
    "            return char\n",
    "    \n",
    "    return None\n",
    "\n",
    "# Example\n",
    "first_non_repeating_char(\"hello world\")"
   ]
  },
  {
   "cell_type": "markdown",
   "id": "ef845d9f",
   "metadata": {},
   "source": [
    "#### 23. Write a program to find the prime factors of a given number."
   ]
  },
  {
   "cell_type": "code",
   "execution_count": 23,
   "id": "c15eb6ce",
   "metadata": {},
   "outputs": [
    {
     "data": {
      "text/plain": [
       "[2, 2, 3, 3]"
      ]
     },
     "execution_count": 23,
     "metadata": {},
     "output_type": "execute_result"
    }
   ],
   "source": [
    "def prime_factors(n):\n",
    "    factors = []\n",
    "    i = 2\n",
    "\n",
    "    while i * i <= n:\n",
    "        if n % i:\n",
    "            i += 1\n",
    "        else:\n",
    "            n //= i\n",
    "            factors.append(i)\n",
    "    \n",
    "    if n > 1:\n",
    "        factors.append(n)\n",
    "    \n",
    "    return factors\n",
    "\n",
    "# Example\n",
    "prime_factors(36)"
   ]
  },
  {
   "cell_type": "markdown",
   "id": "464fa0c0",
   "metadata": {},
   "source": [
    "#### 24. Implement a function to check if a given number is a power of two."
   ]
  },
  {
   "cell_type": "code",
   "execution_count": 24,
   "id": "583f7c1f",
   "metadata": {},
   "outputs": [
    {
     "data": {
      "text/plain": [
       "True"
      ]
     },
     "execution_count": 24,
     "metadata": {},
     "output_type": "execute_result"
    }
   ],
   "source": [
    "def is_power_of_two(n):\n",
    "    if n <= 0:\n",
    "        return False\n",
    "    \n",
    "    while n > 1:\n",
    "        if n % 2 != 0:\n",
    "            return False\n",
    "        n //= 2\n",
    "    \n",
    "    return True\n",
    "\n",
    "# Example\n",
    "is_power_of_two(16)"
   ]
  },
  {
   "cell_type": "markdown",
   "id": "942dff99",
   "metadata": {},
   "source": [
    "#### 25. Write a Python program to merge two sorted lists into a single sorted list.\n"
   ]
  },
  {
   "cell_type": "code",
   "execution_count": null,
   "id": "3f75b600",
   "metadata": {},
   "outputs": [],
   "source": []
  },
  {
   "cell_type": "markdown",
   "id": "7bf01715",
   "metadata": {},
   "source": [
    "#### 26. Implement a function to find the mode of a list of numbers."
   ]
  },
  {
   "cell_type": "code",
   "execution_count": 25,
   "id": "da20e698",
   "metadata": {},
   "outputs": [
    {
     "name": "stdout",
     "output_type": "stream",
     "text": [
      "4\n",
      "5\n"
     ]
    }
   ],
   "source": [
    "def mode(l):\n",
    "    s=set(l)  \n",
    "    \n",
    "    d={}\n",
    "    for i in s:\n",
    "        d[i]=l.count(i)\n",
    "    m= max(d.values())\n",
    "    \n",
    "    for a,b in d.items():\n",
    "        if b==m:\n",
    "            print(a)\n",
    "\n",
    "r = [1, 2, 2, 3, 4, 4, 4, 5, 5,5]              \n",
    "mode(r)"
   ]
  },
  {
   "cell_type": "markdown",
   "id": "edb1b31f",
   "metadata": {},
   "source": [
    "#### 27. Write a program to find the greatest common divisor (GCD) of two numbers."
   ]
  },
  {
   "cell_type": "code",
   "execution_count": 26,
   "id": "45ee5e12",
   "metadata": {},
   "outputs": [
    {
     "data": {
      "text/plain": [
       "9"
      ]
     },
     "execution_count": 26,
     "metadata": {},
     "output_type": "execute_result"
    }
   ],
   "source": [
    "def gcd(a,b):\n",
    "    y=min(a,b)\n",
    "    x=1\n",
    "    \n",
    "    for i in range(1,y+1):\n",
    "        if a%i==0 and b%i==0:\n",
    "            x=i\n",
    "    return x\n",
    "\n",
    "gcd(9,18)"
   ]
  },
  {
   "cell_type": "markdown",
   "id": "b7424050",
   "metadata": {},
   "source": [
    "#### 28. Implement a function to calculate the square root of a given number."
   ]
  },
  {
   "cell_type": "code",
   "execution_count": 27,
   "id": "576d7053",
   "metadata": {},
   "outputs": [
    {
     "data": {
      "text/plain": [
       "3.0"
      ]
     },
     "execution_count": 27,
     "metadata": {},
     "output_type": "execute_result"
    }
   ],
   "source": [
    "def sqr(x):\n",
    "    return x**0.5\n",
    "\n",
    "sqr(9)"
   ]
  },
  {
   "cell_type": "markdown",
   "id": "18474b96",
   "metadata": {},
   "source": [
    "#### 29. Write a Python program to check if a given string is a valid palindrome ignoring non-alphanumeric characters."
   ]
  },
  {
   "cell_type": "code",
   "execution_count": 28,
   "id": "e12d352a",
   "metadata": {},
   "outputs": [
    {
     "name": "stdout",
     "output_type": "stream",
     "text": [
      "True\n",
      "False\n"
     ]
    }
   ],
   "source": [
    "import re\n",
    "\n",
    "def is_valid_palindrome(s):\n",
    "    # Remove non-alphanumeric characters from the string and convert to lowercase\n",
    "    s = re.sub(r'[^a-zA-Z0-9]', '', s.lower())\n",
    "    \n",
    "    # Check if the resulting string is a palindrome\n",
    "    return s == s[::-1]\n",
    "\n",
    "# Example usage\n",
    "string1 = \"A man, a plan, a canal: Panama\"\n",
    "string2 = \"race a car\"\n",
    "print(is_valid_palindrome(string1))  # Output: True\n",
    "print(is_valid_palindrome(string2))  # Output: False\n"
   ]
  },
  {
   "cell_type": "markdown",
   "id": "859fae09",
   "metadata": {},
   "source": [
    "#### 30. Implement a function to find the minimum element in a rotated sorted list."
   ]
  },
  {
   "cell_type": "code",
   "execution_count": null,
   "id": "93f8148a",
   "metadata": {},
   "outputs": [],
   "source": []
  },
  {
   "cell_type": "markdown",
   "id": "96242e9a",
   "metadata": {},
   "source": [
    "#### 31. Write a program to find the sum of all even numbers in a list."
   ]
  },
  {
   "cell_type": "code",
   "execution_count": 29,
   "id": "47d0f888",
   "metadata": {},
   "outputs": [
    {
     "data": {
      "text/plain": [
       "20"
      ]
     },
     "execution_count": 29,
     "metadata": {},
     "output_type": "execute_result"
    }
   ],
   "source": [
    "def evsum(l):\n",
    "    s=0\n",
    "    for i in l:\n",
    "        if i%2==0:\n",
    "            s+=i\n",
    "    return s\n",
    "\n",
    "evsum([1,2,3,4,5,6,7,8])"
   ]
  },
  {
   "cell_type": "markdown",
   "id": "889303f7",
   "metadata": {},
   "source": [
    "#### 32. Implement a function to calculate the power of a number using recursion."
   ]
  },
  {
   "cell_type": "code",
   "execution_count": 30,
   "id": "472b831f",
   "metadata": {},
   "outputs": [
    {
     "data": {
      "text/plain": [
       "8"
      ]
     },
     "execution_count": 30,
     "metadata": {},
     "output_type": "execute_result"
    }
   ],
   "source": [
    "def power(base, exponent):\n",
    "    if exponent == 0:\n",
    "        return 1\n",
    "    else:\n",
    "        return base * power(base, exponent - 1)\n",
    "\n",
    "power(2, 3)"
   ]
  },
  {
   "cell_type": "markdown",
   "id": "6cad9d0c",
   "metadata": {},
   "source": [
    "#### 33. Write a Python program to remove duplicates from a list while preserving the order."
   ]
  },
  {
   "cell_type": "code",
   "execution_count": 31,
   "id": "77578d93",
   "metadata": {},
   "outputs": [
    {
     "data": {
      "text/plain": [
       "[1, 2, 3, 4, 5, 7]"
      ]
     },
     "execution_count": 31,
     "metadata": {},
     "output_type": "execute_result"
    }
   ],
   "source": [
    "def dup(l):\n",
    "    x=[]\n",
    "    for i in l:\n",
    "        if i not in x:\n",
    "            x.append(i)\n",
    "    return x\n",
    "\n",
    "dup([1,2,2,3,4,5,4,7])"
   ]
  },
  {
   "cell_type": "markdown",
   "id": "65b16a51",
   "metadata": {},
   "source": [
    "#### 34. Implement a function to find the longest common prefix among a list of strings."
   ]
  },
  {
   "cell_type": "code",
   "execution_count": 32,
   "id": "95d8e126",
   "metadata": {},
   "outputs": [
    {
     "data": {
      "text/plain": [
       "'fl'"
      ]
     },
     "execution_count": 32,
     "metadata": {},
     "output_type": "execute_result"
    }
   ],
   "source": [
    "def longest_common_prefix(strs):\n",
    "    if not strs:\n",
    "        return \"\"\n",
    "    \n",
    "    prefix = strs[0]\n",
    "    \n",
    "    for string in strs[1:]:\n",
    "        while string.find(prefix) != 0:\n",
    "            prefix = prefix[:-1]\n",
    "            if not prefix:\n",
    "                return \"\"\n",
    "    \n",
    "    return prefix\n",
    "\n",
    "# Example \n",
    "longest_common_prefix([\"flower\", \"flow\", \"flight\"])"
   ]
  },
  {
   "cell_type": "markdown",
   "id": "f0630df5",
   "metadata": {},
   "source": [
    "#### 35. Write a program to check if a given number is a perfect square."
   ]
  },
  {
   "cell_type": "code",
   "execution_count": 33,
   "id": "c812114f",
   "metadata": {},
   "outputs": [
    {
     "name": "stdout",
     "output_type": "stream",
     "text": [
      "True\n",
      "False\n"
     ]
    }
   ],
   "source": [
    "def is_perfect_square(num):\n",
    "    if num < 0:\n",
    "        return False\n",
    "    \n",
    "    if num == 0 or num == 1:\n",
    "        return True\n",
    "    \n",
    "    left = 1\n",
    "    right = num\n",
    "    \n",
    "    while left <= right:\n",
    "        mid = (left + right) // 2\n",
    "        square = mid * mid\n",
    "        \n",
    "        if square == num:\n",
    "            return True\n",
    "        elif square < num:\n",
    "            left = mid + 1\n",
    "        else:\n",
    "            right = mid - 1\n",
    "    \n",
    "    return False\n",
    "\n",
    "# Example\n",
    "print(is_perfect_square(16))\n",
    "print(is_perfect_square(17))"
   ]
  },
  {
   "cell_type": "markdown",
   "id": "a3401681",
   "metadata": {},
   "source": [
    "#### 36. Implement a function to calculate the product of all elements in a list."
   ]
  },
  {
   "cell_type": "code",
   "execution_count": 34,
   "id": "16393e00",
   "metadata": {},
   "outputs": [
    {
     "data": {
      "text/plain": [
       "162"
      ]
     },
     "execution_count": 34,
     "metadata": {},
     "output_type": "execute_result"
    }
   ],
   "source": [
    "def prod(l):\n",
    "    x=1\n",
    "    for i in l:\n",
    "        x*=i\n",
    "    return x\n",
    "\n",
    "prod([1,3,6,9])"
   ]
  },
  {
   "cell_type": "markdown",
   "id": "55750a53",
   "metadata": {},
   "source": [
    "#### 37. Write a Python program to reverse the order of words in a sentence while preserving the word order."
   ]
  },
  {
   "cell_type": "code",
   "execution_count": 35,
   "id": "4064d9ce",
   "metadata": {},
   "outputs": [
    {
     "data": {
      "text/plain": [
       "'you? are How world! Hello,'"
      ]
     },
     "execution_count": 35,
     "metadata": {},
     "output_type": "execute_result"
    }
   ],
   "source": [
    "def reverse_words(sentence):\n",
    "    words = sentence.split()\n",
    "    \n",
    "    reversed_words = words[::-1]\n",
    "    \n",
    "    reversed_sentence = ' '.join(reversed_words)\n",
    "    \n",
    "    return reversed_sentence\n",
    "\n",
    "# Example\n",
    "reverse_words(\"Hello, world! How are you?\")"
   ]
  },
  {
   "cell_type": "markdown",
   "id": "6463ccf0",
   "metadata": {},
   "source": [
    "#### 38. Implement a function to find the missing number in a given list of consecutive numbers."
   ]
  },
  {
   "cell_type": "code",
   "execution_count": 36,
   "id": "2e96fa45",
   "metadata": {},
   "outputs": [
    {
     "data": {
      "text/plain": [
       "4"
      ]
     },
     "execution_count": 36,
     "metadata": {},
     "output_type": "execute_result"
    }
   ],
   "source": [
    "def find_missing_number(numbers):\n",
    "    n = len(numbers) + 1\n",
    "    expected_sum = (n * (n + 1)) // 2\n",
    "    actual_sum = sum(numbers)\n",
    "    missing_number = expected_sum - actual_sum\n",
    "    return missing_number\n",
    "\n",
    "# Example\n",
    "find_missing_number([1, 2, 3, 5, 6, 7, 8])"
   ]
  },
  {
   "cell_type": "markdown",
   "id": "16c4ae63",
   "metadata": {},
   "source": [
    "#### 39. Write a program to find the sum of digits of a given number."
   ]
  },
  {
   "cell_type": "code",
   "execution_count": 37,
   "id": "c07a0de2",
   "metadata": {},
   "outputs": [
    {
     "data": {
      "text/plain": [
       "12"
      ]
     },
     "execution_count": 37,
     "metadata": {},
     "output_type": "execute_result"
    }
   ],
   "source": [
    "def su(y):\n",
    "    if y == 0:\n",
    "        return 0\n",
    "\n",
    "    return y % 10 + su(y // 10)\n",
    "\n",
    "su(219)"
   ]
  },
  {
   "cell_type": "markdown",
   "id": "3ddc11c0",
   "metadata": {},
   "source": [
    "#### 40. Implement a function to check if a given string is a valid palindrome considering case sensitivity."
   ]
  },
  {
   "cell_type": "code",
   "execution_count": 38,
   "id": "9c1d6d44",
   "metadata": {},
   "outputs": [
    {
     "data": {
      "text/plain": [
       "True"
      ]
     },
     "execution_count": 38,
     "metadata": {},
     "output_type": "execute_result"
    }
   ],
   "source": [
    "def is_valid_palindrome(s):\n",
    "    s = ''.join(char.lower() for char in s if char.isalnum())\n",
    "    return s == s[::-1]\n",
    "\n",
    "# Example\n",
    "is_valid_palindrome(\"A man, a plan, a canal: Panama\")"
   ]
  },
  {
   "cell_type": "markdown",
   "id": "c4238d2c",
   "metadata": {},
   "source": [
    "#### 41. Write a Python program to find the smallest missing positive integer in a list."
   ]
  },
  {
   "cell_type": "code",
   "execution_count": null,
   "id": "146db459",
   "metadata": {},
   "outputs": [],
   "source": []
  },
  {
   "cell_type": "markdown",
   "id": "56d3ce3f",
   "metadata": {},
   "source": [
    "#### 42. Implement a function to find the longest palindrome substring in a given string."
   ]
  },
  {
   "cell_type": "code",
   "execution_count": null,
   "id": "fdee3ec8",
   "metadata": {},
   "outputs": [],
   "source": []
  },
  {
   "cell_type": "markdown",
   "id": "a14ebdc2",
   "metadata": {},
   "source": [
    "#### 43. Write a program to find the number of occurrences of a given element in a list."
   ]
  },
  {
   "cell_type": "code",
   "execution_count": 39,
   "id": "69ae7616",
   "metadata": {},
   "outputs": [
    {
     "data": {
      "text/plain": [
       "3"
      ]
     },
     "execution_count": 39,
     "metadata": {},
     "output_type": "execute_result"
    }
   ],
   "source": [
    "def occ(l,a):\n",
    "    c=0\n",
    "    for i in l:\n",
    "        if i==a:\n",
    "            c+=1\n",
    "    return c\n",
    "\n",
    "occ([1,3,2,2,2],2)"
   ]
  },
  {
   "cell_type": "markdown",
   "id": "8f362eef",
   "metadata": {},
   "source": [
    "#### 44. Implement a function to check if a given number is a perfect number."
   ]
  },
  {
   "cell_type": "code",
   "execution_count": 40,
   "id": "8f715880",
   "metadata": {},
   "outputs": [
    {
     "data": {
      "text/plain": [
       "'perfect num'"
      ]
     },
     "execution_count": 40,
     "metadata": {},
     "output_type": "execute_result"
    }
   ],
   "source": [
    "def per(x):\n",
    "    y=0\n",
    "    for i in range(1,x):\n",
    "        if x%i==0:\n",
    "            y+=i\n",
    "    if y==x:\n",
    "        return 'perfect num'\n",
    "    else:\n",
    "        return 'not perfect'\n",
    "    \n",
    "per(6)"
   ]
  },
  {
   "cell_type": "markdown",
   "id": "3f5517c0",
   "metadata": {},
   "source": [
    "#### 45. Write a Python program to remove all duplicates from a string."
   ]
  },
  {
   "cell_type": "code",
   "execution_count": 41,
   "id": "105d220d",
   "metadata": {},
   "outputs": [
    {
     "data": {
      "text/plain": [
       "'hgskjbfad'"
      ]
     },
     "execution_count": 41,
     "metadata": {},
     "output_type": "execute_result"
    }
   ],
   "source": [
    "def dup(s):\n",
    "    x=''\n",
    "    for i in s:\n",
    "        if i not in x:\n",
    "            x+=i\n",
    "    return x\n",
    "\n",
    "dup('hgskjbfghsafd')"
   ]
  },
  {
   "cell_type": "markdown",
   "id": "090d6e07",
   "metadata": {},
   "source": [
    "#### 46. Implement a function to find the first missing positive"
   ]
  },
  {
   "cell_type": "code",
   "execution_count": 42,
   "id": "26e44858",
   "metadata": {},
   "outputs": [
    {
     "data": {
      "text/plain": [
       "2"
      ]
     },
     "execution_count": 42,
     "metadata": {},
     "output_type": "execute_result"
    }
   ],
   "source": [
    "def find_first_missing_positive(nums):\n",
    "    n = len(nums)\n",
    "    \n",
    "    for i in range(n):\n",
    "        while 1 <= nums[i] <= n and nums[i] != nums[nums[i] - 1]:\n",
    "            nums[nums[i] - 1], nums[i] = nums[i], nums[nums[i] - 1]\n",
    "    \n",
    "    for i in range(n):\n",
    "        if nums[i] != i + 1:\n",
    "            return i + 1\n",
    "    \n",
    "    return n + 1\n",
    "\n",
    "# Example usage\n",
    "\n",
    "find_first_missing_positive([3, 4, -1, 1])"
   ]
  }
 ],
 "metadata": {
  "kernelspec": {
   "display_name": "Python 3 (ipykernel)",
   "language": "python",
   "name": "python3"
  },
  "language_info": {
   "codemirror_mode": {
    "name": "ipython",
    "version": 3
   },
   "file_extension": ".py",
   "mimetype": "text/x-python",
   "name": "python",
   "nbconvert_exporter": "python",
   "pygments_lexer": "ipython3",
   "version": "3.9.12"
  }
 },
 "nbformat": 4,
 "nbformat_minor": 5
}
