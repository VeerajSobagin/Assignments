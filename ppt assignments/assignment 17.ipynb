{
 "cells": [
  {
   "cell_type": "markdown",
   "id": "f4913365",
   "metadata": {},
   "source": [
    "<aside>\n",
    "💡 **Question 1**\n",
    "\n",
    "Given a string `s`, *find the first non-repeating character in it and return its index*. If it does not exist, return `-1`.\n",
    "\n",
    "</aside>"
   ]
  },
  {
   "cell_type": "code",
   "execution_count": 3,
   "id": "5a68f16e",
   "metadata": {},
   "outputs": [
    {
     "name": "stdout",
     "output_type": "stream",
     "text": [
      "Index of the first non-repeating character: 0\n",
      "Index of the first non-repeating character: 2\n",
      "Index of the first non-repeating character: -1\n"
     ]
    }
   ],
   "source": [
    "def firstUniqChar(s):\n",
    "    frequency = {}\n",
    "\n",
    "    \n",
    "    for char in s:\n",
    "        if char in frequency:\n",
    "            frequency[char] += 1\n",
    "        else:\n",
    "            frequency[char] = 1\n",
    "\n",
    "    \n",
    "    for i, char in enumerate(s):\n",
    "        if frequency[char] == 1:\n",
    "            return i\n",
    "\n",
    "    \n",
    "    return -1\n",
    "\n",
    "\n",
    "s = \"leetcode\"\n",
    "result = firstUniqChar(s)\n",
    "print(\"Index of the first non-repeating character:\", result)\n",
    "\n",
    "s = \"loveleetcode\"\n",
    "result = firstUniqChar(s)\n",
    "print(\"Index of the first non-repeating character:\", result)\n",
    "\n",
    "s = \"aabb\"\n",
    "result = firstUniqChar(s)\n",
    "print(\"Index of the first non-repeating character:\", result)\n",
    "\n",
    "\n"
   ]
  },
  {
   "cell_type": "code",
   "execution_count": null,
   "id": "27412c18",
   "metadata": {},
   "outputs": [],
   "source": []
  },
  {
   "cell_type": "markdown",
   "id": "0f1ff580",
   "metadata": {},
   "source": [
    "<aside>\n",
    "💡 **Question 2**\n",
    "\n",
    "Given a **circular integer array** `nums` of length `n`, return *the maximum possible sum of a non-empty **subarray** of* `nums`.\n",
    "\n",
    "A **circular array** means the end of the array connects to the beginning of the array. Formally, the next element of `nums[i]` is `nums[(i + 1) % n]` and the previous element of `nums[i]` is `nums[(i - 1 + n) % n]`.\n",
    "\n",
    "A **subarray** may only include each element of the fixed buffer `nums` at most once. Formally, for a subarray `nums[i], nums[i + 1], ..., nums[j]`, there does not exist `i <= k1`, `k2 <= j` with `k1 % n == k2 % n`.\n",
    "\n",
    "</aside>"
   ]
  },
  {
   "cell_type": "code",
   "execution_count": 4,
   "id": "63d7e9c3",
   "metadata": {},
   "outputs": [
    {
     "name": "stdout",
     "output_type": "stream",
     "text": [
      "Maximum possible sum of a non-empty subarray (Example 1): 3\n",
      "Maximum possible sum of a non-empty subarray (Example 2): 10\n",
      "Maximum possible sum of a non-empty subarray (Example 3): -2\n"
     ]
    }
   ],
   "source": [
    "def maxSubarraySumCircular(nums):\n",
    "    \n",
    "    max_sum = kadane(nums)\n",
    "\n",
    "    \n",
    "    \n",
    "    total_sum = sum(nums)\n",
    "\n",
    "    \n",
    "    inverted_nums = [-num for num in nums]\n",
    "\n",
    "    \n",
    "    min_sum = kadane(inverted_nums)\n",
    "\n",
    "    \n",
    "    circular_sum = total_sum + min_sum\n",
    "\n",
    "    \n",
    "    if circular_sum > max_sum and circular_sum != 0:\n",
    "        return circular_sum\n",
    "\n",
    "    \n",
    "    return max_sum\n",
    "\n",
    "def kadane(nums):\n",
    "    max_sum = float('-inf')\n",
    "    current_sum = 0\n",
    "\n",
    "    for num in nums:\n",
    "        current_sum = max(num, current_sum + num)\n",
    "        max_sum = max(max_sum, current_sum)\n",
    "\n",
    "    return max_sum\n",
    "\n",
    "\n",
    "nums1 = [1, -2, 3, -2]\n",
    "nums2 = [5, -3, 5]\n",
    "nums3 = [-3, -2, -3]\n",
    "\n",
    "result1 = maxSubarraySumCircular(nums1)\n",
    "result2 = maxSubarraySumCircular(nums2)\n",
    "result3 = maxSubarraySumCircular(nums3)\n",
    "\n",
    "print(\"Maximum possible sum of a non-empty subarray (Example 1):\", result1)\n",
    "print(\"Maximum possible sum of a non-empty subarray (Example 2):\", result2)\n",
    "print(\"Maximum possible sum of a non-empty subarray (Example 3):\", result3)\n"
   ]
  },
  {
   "cell_type": "code",
   "execution_count": null,
   "id": "f72a99bd",
   "metadata": {},
   "outputs": [],
   "source": []
  },
  {
   "cell_type": "markdown",
   "id": "661ffbdd",
   "metadata": {},
   "source": [
    "<aside>\n",
    "💡 **Question 3**\n",
    "\n",
    "The school cafeteria offers circular and square sandwiches at lunch break, referred to by numbers `0` and `1` respectively. All students stand in a queue. Each student either prefers square or circular sandwiches.\n",
    "\n",
    "The number of sandwiches in the cafeteria is equal to the number of students. The sandwiches are placed in a **stack**. At each step:\n",
    "\n",
    "- If the student at the front of the queue **prefers** the sandwich on the top of the stack, they will **take it** and leave the queue.\n",
    "- Otherwise, they will **leave it** and go to the queue's end.\n",
    "\n",
    "This continues until none of the queue students want to take the top sandwich and are thus unable to eat.\n",
    "\n",
    "You are given two integer arrays `students` and `sandwiches` where `sandwiches[i]` is the type of the `ith` sandwich in the stack (`i = 0` is the top of the stack) and `students[j]` is the preference of the `jth` student in the initial queue (`j = 0` is the front of the queue). Return *the number of students that are unable to eat.*\n",
    "\n",
    "</aside>"
   ]
  },
  {
   "cell_type": "code",
   "execution_count": 5,
   "id": "d9f73e2c",
   "metadata": {},
   "outputs": [
    {
     "name": "stdout",
     "output_type": "stream",
     "text": [
      "Number of students unable to eat: 0\n"
     ]
    }
   ],
   "source": [
    "def countStudents(students, sandwiches):\n",
    "    count = 0 \n",
    "\n",
    "    while students:\n",
    "        if students[0] == sandwiches[0]:\n",
    "         \n",
    "            students.pop(0)\n",
    "            sandwiches.pop(0)\n",
    "            count = 0 \n",
    "        else:\n",
    "           \n",
    "            students.append(students.pop(0))\n",
    "            count += 1\n",
    "\n",
    "        \n",
    "        if count == len(students):\n",
    "            break\n",
    "\n",
    "    return len(students)\n",
    "\n",
    "\n",
    "students = [1, 1, 0, 0]\n",
    "sandwiches = [0, 1, 0, 1]\n",
    "result = countStudents(students, sandwiches)\n",
    "print(\"Number of students unable to eat:\", result)\n"
   ]
  },
  {
   "cell_type": "code",
   "execution_count": null,
   "id": "d19aa5dd",
   "metadata": {},
   "outputs": [],
   "source": []
  },
  {
   "cell_type": "markdown",
   "id": "9c6b7285",
   "metadata": {},
   "source": [
    "<aside>\n",
    "💡 **Question 4**\n",
    "\n",
    "You have a `RecentCounter` class which counts the number of recent requests within a certain time frame.\n",
    "\n",
    "Implement the `RecentCounter` class:\n",
    "\n",
    "- `RecentCounter()` Initializes the counter with zero recent requests.\n",
    "- `int ping(int t)` Adds a new request at time `t`, where `t` represents some time in milliseconds, and returns the number of requests that has happened in the past `3000` milliseconds (including the new request). Specifically, return the number of requests that have happened in the inclusive range `[t - 3000, t]`.\n",
    "\n",
    "It is **guaranteed** that every call to `ping` uses a strictly larger value of `t` than the previous call.\n",
    "\n",
    "</aside>"
   ]
  },
  {
   "cell_type": "code",
   "execution_count": 6,
   "id": "a3acf0cd",
   "metadata": {},
   "outputs": [
    {
     "name": "stdout",
     "output_type": "stream",
     "text": [
      "1\n",
      "2\n",
      "3\n",
      "3\n"
     ]
    }
   ],
   "source": [
    "class RecentCounter:\n",
    "    def __init__(self):\n",
    "        self.requests = []\n",
    "\n",
    "    def ping(self, t: int) -> int:\n",
    "        self.requests.append(t)  \n",
    "\n",
    "        \n",
    "        lower_bound = t - 3000\n",
    "\n",
    "        \n",
    "        count = 0\n",
    "        for request in self.requests:\n",
    "            if request >= lower_bound:\n",
    "                count += 1\n",
    "\n",
    "        return count\n",
    "\n",
    "\n",
    "recentCounter = RecentCounter()\n",
    "print(recentCounter.ping(1))    \n",
    "print(recentCounter.ping(100))   \n",
    "print(recentCounter.ping(3001))\n",
    "print(recentCounter.ping(3002))  \n"
   ]
  },
  {
   "cell_type": "code",
   "execution_count": null,
   "id": "f61c634f",
   "metadata": {},
   "outputs": [],
   "source": []
  },
  {
   "cell_type": "markdown",
   "id": "42c6dcf6",
   "metadata": {},
   "source": [
    "<aside>\n",
    "💡 **Question 5**\n",
    "\n",
    "There are `n` friends that are playing a game. The friends are sitting in a circle and are numbered from `1` to `n` in **clockwise order**. More formally, moving clockwise from the `ith` friend brings you to the `(i+1)th` friend for `1 <= i < n`, and moving clockwise from the `nth` friend brings you to the `1st` friend.\n",
    "\n",
    "The rules of the game are as follows:\n",
    "\n",
    "1. **Start** at the `1st` friend.\n",
    "2. Count the next `k` friends in the clockwise direction **including** the friend you started at. The counting wraps around the circle and may count some friends more than once.\n",
    "3. The last friend you counted leaves the circle and loses the game.\n",
    "4. If there is still more than one friend in the circle, go back to step `2` **starting** from the friend **immediately clockwise** of the friend who just lost and repeat.\n",
    "5. Else, the last friend in the circle wins the game.\n",
    "\n",
    "Given the number of friends, `n`, and an integer `k`, return *the winner of the game*.\n",
    "\n",
    "</aside>"
   ]
  },
  {
   "cell_type": "code",
   "execution_count": 7,
   "id": "d2f3702d",
   "metadata": {},
   "outputs": [
    {
     "name": "stdout",
     "output_type": "stream",
     "text": [
      "3\n",
      "1\n"
     ]
    }
   ],
   "source": [
    "def findTheWinner(n: int, k: int) -> int:\n",
    "    \n",
    "    friends = list(range(1, n+1))\n",
    "\n",
    "   \n",
    "    start = 0\n",
    "\n",
    "    while len(friends) > 1:\n",
    "        \n",
    "        start = (start + k - 1) % len(friends)\n",
    "\n",
    "       \n",
    "        friends.pop(start)\n",
    "\n",
    "   \n",
    "    return friends[0]\n",
    "\n",
    "\n",
    "print(findTheWinner(5, 2))  \n",
    "print(findTheWinner(6, 5)) \n"
   ]
  },
  {
   "cell_type": "code",
   "execution_count": null,
   "id": "98482caa",
   "metadata": {},
   "outputs": [],
   "source": []
  },
  {
   "cell_type": "markdown",
   "id": "c9a1da56",
   "metadata": {},
   "source": [
    "<aside>\n",
    "💡 **Question 6**\n",
    "\n",
    "You are given an integer array `deck`. There is a deck of cards where every card has a unique integer. The integer on the `ith` card is `deck[i]`.\n",
    "\n",
    "You can order the deck in any order you want. Initially, all the cards start face down (unrevealed) in one deck.\n",
    "\n",
    "You will do the following steps repeatedly until all cards are revealed:\n",
    "\n",
    "1. Take the top card of the deck, reveal it, and take it out of the deck.\n",
    "2. If there are still cards in the deck then put the next top card of the deck at the bottom of the deck.\n",
    "3. If there are still unrevealed cards, go back to step 1. Otherwise, stop.\n",
    "\n",
    "Return *an ordering of the deck that would reveal the cards in increasing order*.\n",
    "\n",
    "**Note** that the first entry in the answer is considered to be the top of the deck.\n",
    "\n",
    "</aside>"
   ]
  },
  {
   "cell_type": "code",
   "execution_count": 8,
   "id": "e73801b6",
   "metadata": {},
   "outputs": [
    {
     "name": "stdout",
     "output_type": "stream",
     "text": [
      "[2, 13, 3, 11, 5, 17, 7]\n",
      "[1, 1000]\n"
     ]
    }
   ],
   "source": [
    "from collections import deque\n",
    "import math\n",
    "\n",
    "def deckRevealedIncreasing(deck):\n",
    "    n = len(deck)\n",
    "    deck.sort()  \n",
    "    result = deque() \n",
    "\n",
    "    \n",
    "    for i in range(n):\n",
    "        result.append(None)\n",
    "\n",
    "    \n",
    "    indices = deque(range(n))\n",
    "    step = 2  \n",
    "\n",
    "    while indices:\n",
    "        index = indices.popleft() \n",
    "        result[index] = deck.pop(0)  \n",
    "\n",
    "        if indices:\n",
    "            \n",
    "            indices.append(indices.popleft())\n",
    "\n",
    "    return list(result)\n",
    "\n",
    "\n",
    "print(deckRevealedIncreasing([17,13,11,2,3,5,7]))  \n",
    "print(deckRevealedIncreasing([1,1000])) "
   ]
  },
  {
   "cell_type": "code",
   "execution_count": null,
   "id": "267001a6",
   "metadata": {},
   "outputs": [],
   "source": []
  },
  {
   "cell_type": "markdown",
   "id": "75853c8c",
   "metadata": {},
   "source": [
    "<aside>\n",
    "💡 **Question 7**\n",
    "\n",
    "Design a queue that supports `push` and `pop` operations in the front, middle, and back.\n",
    "\n",
    "Implement the `FrontMiddleBack` class:\n",
    "\n",
    "- `FrontMiddleBack()` Initializes the queue.\n",
    "- `void pushFront(int val)` Adds `val` to the **front** of the queue.\n",
    "- `void pushMiddle(int val)` Adds `val` to the **middle** of the queue.\n",
    "- `void pushBack(int val)` Adds `val` to the **back** of the queue.\n",
    "- `int popFront()` Removes the **front** element of the queue and returns it. If the queue is empty, return `1`.\n",
    "- `int popMiddle()` Removes the **middle** element of the queue and returns it. If the queue is empty, return `1`.\n",
    "- `int popBack()` Removes the **back** element of the queue and returns it. If the queue is empty, return `1`.\n",
    "\n",
    "**Notice** that when there are **two** middle position choices, the operation is performed on the **frontmost** middle position choice. For example:\n",
    "\n",
    "- Pushing `6` into the middle of `[1, 2, 3, 4, 5]` results in `[1, 2, 6, 3, 4, 5]`.\n",
    "- Popping the middle from `[1, 2, 3, 4, 5, 6]` returns `3` and results in `[1, 2, 4, 5, 6]`.\n",
    "</aside>"
   ]
  },
  {
   "cell_type": "code",
   "execution_count": 9,
   "id": "486ef469",
   "metadata": {},
   "outputs": [
    {
     "name": "stdout",
     "output_type": "stream",
     "text": [
      "1\n",
      "4\n"
     ]
    },
    {
     "ename": "AttributeError",
     "evalue": "'NoneType' object has no attribute 'prev'",
     "output_type": "error",
     "traceback": [
      "\u001b[1;31m---------------------------------------------------------------------------\u001b[0m",
      "\u001b[1;31mAttributeError\u001b[0m                            Traceback (most recent call last)",
      "Input \u001b[1;32mIn [9]\u001b[0m, in \u001b[0;36m<cell line: 109>\u001b[1;34m()\u001b[0m\n\u001b[0;32m    107\u001b[0m \u001b[38;5;28mprint\u001b[39m(q\u001b[38;5;241m.\u001b[39mpopFront())    \n\u001b[0;32m    108\u001b[0m \u001b[38;5;28mprint\u001b[39m(q\u001b[38;5;241m.\u001b[39mpopMiddle())   \n\u001b[1;32m--> 109\u001b[0m \u001b[38;5;28mprint\u001b[39m(\u001b[43mq\u001b[49m\u001b[38;5;241;43m.\u001b[39;49m\u001b[43mpopMiddle\u001b[49m\u001b[43m(\u001b[49m\u001b[43m)\u001b[49m)   \n\u001b[0;32m    110\u001b[0m \u001b[38;5;28mprint\u001b[39m(q\u001b[38;5;241m.\u001b[39mpopBack())    \n\u001b[0;32m    111\u001b[0m \u001b[38;5;28mprint\u001b[39m(q\u001b[38;5;241m.\u001b[39mpopFront())\n",
      "Input \u001b[1;32mIn [9]\u001b[0m, in \u001b[0;36mFrontMiddleBackQueue.popMiddle\u001b[1;34m(self)\u001b[0m\n\u001b[0;32m     81\u001b[0m \u001b[38;5;28;01mif\u001b[39;00m \u001b[38;5;28mself\u001b[39m\u001b[38;5;241m.\u001b[39msize \u001b[38;5;241m%\u001b[39m \u001b[38;5;241m2\u001b[39m \u001b[38;5;241m==\u001b[39m \u001b[38;5;241m0\u001b[39m:\n\u001b[0;32m     82\u001b[0m     curr\u001b[38;5;241m.\u001b[39mprev\u001b[38;5;241m.\u001b[39mnext \u001b[38;5;241m=\u001b[39m curr\u001b[38;5;241m.\u001b[39mnext\n\u001b[1;32m---> 83\u001b[0m     curr\u001b[38;5;241m.\u001b[39mnext\u001b[38;5;241m.\u001b[39mprev \u001b[38;5;241m=\u001b[39m curr\u001b[38;5;241m.\u001b[39mprev\n\u001b[0;32m     84\u001b[0m \u001b[38;5;28;01melse\u001b[39;00m:\n\u001b[0;32m     85\u001b[0m     curr\u001b[38;5;241m.\u001b[39mprev\u001b[38;5;241m.\u001b[39mnext \u001b[38;5;241m=\u001b[39m curr\u001b[38;5;241m.\u001b[39mnext\n",
      "\u001b[1;31mAttributeError\u001b[0m: 'NoneType' object has no attribute 'prev'"
     ]
    }
   ],
   "source": [
    "class Node:\n",
    "    def __init__(self, val):\n",
    "        self.val = val\n",
    "        self.prev = None\n",
    "        self.next = None\n",
    "\n",
    "\n",
    "class FrontMiddleBackQueue:\n",
    "    def __init__(self):\n",
    "        self.head = None\n",
    "        self.tail = None\n",
    "        self.size = 0\n",
    "\n",
    "    def pushFront(self, val):\n",
    "        new_node = Node(val)\n",
    "        if not self.head:\n",
    "            self.head = self.tail = new_node\n",
    "        else:\n",
    "            new_node.next = self.head\n",
    "            self.head.prev = new_node\n",
    "            self.head = new_node\n",
    "        self.size += 1\n",
    "\n",
    "    def pushBack(self, val):\n",
    "        new_node = Node(val)\n",
    "        if not self.tail:\n",
    "            self.head = self.tail = new_node\n",
    "        else:\n",
    "            new_node.prev = self.tail\n",
    "            self.tail.next = new_node\n",
    "            self.tail = new_node\n",
    "        self.size += 1\n",
    "\n",
    "    def pushMiddle(self, val):\n",
    "        if self.size == 0:\n",
    "            self.pushFront(val)\n",
    "            return\n",
    "\n",
    "        middle = self.size // 2\n",
    "        curr = self.head\n",
    "        for _ in range(middle):\n",
    "            curr = curr.next\n",
    "\n",
    "        new_node = Node(val)\n",
    "        if self.size % 2 == 0:\n",
    "            new_node.prev = curr.prev\n",
    "            new_node.next = curr\n",
    "            curr.prev.next = new_node\n",
    "            curr.prev = new_node\n",
    "        else:\n",
    "            new_node.prev = curr\n",
    "            new_node.next = curr.next\n",
    "            curr.next.prev = new_node\n",
    "            curr.next = new_node\n",
    "\n",
    "        self.size += 1\n",
    "\n",
    "    def popFront(self):\n",
    "        if not self.head:\n",
    "            return -1\n",
    "\n",
    "        val = self.head.val\n",
    "        if self.size == 1:\n",
    "            self.head = self.tail = None\n",
    "        else:\n",
    "            self.head = self.head.next\n",
    "            self.head.prev = None\n",
    "        self.size -= 1\n",
    "        return val\n",
    "\n",
    "    def popMiddle(self):\n",
    "        if not self.head:\n",
    "            return -1\n",
    "\n",
    "        middle = self.size // 2\n",
    "        curr = self.head\n",
    "        for _ in range(middle):\n",
    "            curr = curr.next\n",
    "\n",
    "        val = curr.val\n",
    "        if self.size % 2 == 0:\n",
    "            curr.prev.next = curr.next\n",
    "            curr.next.prev = curr.prev\n",
    "        else:\n",
    "            curr.prev.next = curr.next\n",
    "            curr.next.prev = curr.prev\n",
    "        self.size -= 1\n",
    "        return val\n",
    "\n",
    "    def popBack(self):\n",
    "        if not self.tail:\n",
    "            return -1\n",
    "\n",
    "        val = self.tail.val\n",
    "        if self.size == 1:\n",
    "            self.head = self.tail = None\n",
    "        else:\n",
    "            self.tail = self.tail.prev\n",
    "            self.tail.next = None\n",
    "        self.size -= 1\n",
    "        return val\n",
    "q = FrontMiddleBackQueue()\n",
    "q.pushFront(1)\n",
    "q.pushBack(2)\n",
    "q.pushMiddle(3)\n",
    "q.pushMiddle(4)\n",
    "print(q.popFront())    \n",
    "print(q.popMiddle())   \n",
    "print(q.popMiddle())   \n",
    "print(q.popBack())    \n",
    "print(q.popFront())    \n"
   ]
  },
  {
   "cell_type": "code",
   "execution_count": null,
   "id": "1de72fb8",
   "metadata": {},
   "outputs": [],
   "source": []
  },
  {
   "cell_type": "markdown",
   "id": "55fc9812",
   "metadata": {},
   "source": [
    "<aside>\n",
    "💡 **Question 8**\n",
    "\n",
    "For a stream of integers, implement a data structure that checks if the last `k` integers parsed in the stream are **equal** to `value`.\n",
    "\n",
    "Implement the **DataStream** class:\n",
    "\n",
    "- `DataStream(int value, int k)` Initializes the object with an empty integer stream and the two integers `value` and `k`.\n",
    "- `boolean consec(int num)` Adds `num` to the stream of integers. Returns `true` if the last `k` integers are equal to `value`, and `false` otherwise. If there are less than `k` integers, the condition does not hold true, so returns `false`.\n",
    "</aside>"
   ]
  },
  {
   "cell_type": "code",
   "execution_count": 10,
   "id": "90c58405",
   "metadata": {},
   "outputs": [
    {
     "name": "stdout",
     "output_type": "stream",
     "text": [
      "False\n",
      "False\n",
      "True\n",
      "False\n"
     ]
    }
   ],
   "source": [
    "from collections import deque\n",
    "\n",
    "class DataStream:\n",
    "    def __init__(self, value, k):\n",
    "        self.value = value\n",
    "        self.k = k\n",
    "        self.stream = deque()\n",
    "\n",
    "    def consec(self, num):\n",
    "        self.stream.append(num)\n",
    "        if len(self.stream) < self.k:\n",
    "            return False\n",
    "        if len(self.stream) > self.k:\n",
    "            self.stream.popleft()\n",
    "        return all(x == self.value for x in self.stream)\n",
    "\n",
    "\n",
    "dataStream = DataStream(4, 3)\n",
    "print(dataStream.consec(4))  \n",
    "print(dataStream.consec(4))  \n",
    "print(dataStream.consec(4))  \n",
    "print(dataStream.consec(3)) \n"
   ]
  },
  {
   "cell_type": "code",
   "execution_count": null,
   "id": "8ebaeab9",
   "metadata": {},
   "outputs": [],
   "source": []
  },
  {
   "cell_type": "code",
   "execution_count": null,
   "id": "e4faade4",
   "metadata": {},
   "outputs": [],
   "source": []
  },
  {
   "cell_type": "code",
   "execution_count": null,
   "id": "09d706dc",
   "metadata": {},
   "outputs": [],
   "source": []
  },
  {
   "cell_type": "code",
   "execution_count": null,
   "id": "9c8c5420",
   "metadata": {},
   "outputs": [],
   "source": []
  },
  {
   "cell_type": "code",
   "execution_count": null,
   "id": "83cd5fbc",
   "metadata": {},
   "outputs": [],
   "source": []
  },
  {
   "cell_type": "code",
   "execution_count": null,
   "id": "192d09a2",
   "metadata": {},
   "outputs": [],
   "source": []
  },
  {
   "cell_type": "code",
   "execution_count": null,
   "id": "529b993c",
   "metadata": {},
   "outputs": [],
   "source": []
  }
 ],
 "metadata": {
  "kernelspec": {
   "display_name": "Python 3 (ipykernel)",
   "language": "python",
   "name": "python3"
  },
  "language_info": {
   "codemirror_mode": {
    "name": "ipython",
    "version": 3
   },
   "file_extension": ".py",
   "mimetype": "text/x-python",
   "name": "python",
   "nbconvert_exporter": "python",
   "pygments_lexer": "ipython3",
   "version": "3.9.12"
  }
 },
 "nbformat": 4,
 "nbformat_minor": 5
}
