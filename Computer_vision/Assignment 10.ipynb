{
 "cells": [
  {
   "cell_type": "markdown",
   "id": "d4891c09",
   "metadata": {},
   "source": [
    "### 1. Why don't we start all of the weights with zeros?\n",
    "We don't start all weights with zeros because it would result in symmetrical activation and the same gradients for every weight, leading to all weights learning the same thing and a lack of model diversity."
   ]
  },
  {
   "cell_type": "markdown",
   "id": "daa9060f",
   "metadata": {},
   "source": [
    "### 2. Why is it beneficial to start weights with a mean zero distribution?\n",
    "Starting weights with a mean zero distribution is beneficial because it results in a diverse range of activations and gradients, leading to better model diversity and convergence during training."
   ]
  },
  {
   "cell_type": "markdown",
   "id": "9dab1b43",
   "metadata": {},
   "source": [
    "### 3. What is dilated convolution, and how does it work?\n",
    "Dilated convolution is a convolution operation that involves skipping one or more pixels between two neighboring inputs in a filter, effectively expanding the receptive field without increasing the number of parameters."
   ]
  },
  {
   "cell_type": "markdown",
   "id": "872886ec",
   "metadata": {},
   "source": [
    "### 4. What is TRANSPOSED CONVOLUTION, and how does it work?\n",
    "Transposed convolution, also known as deconvolution, is a convolution operation that performs the opposite operation of a convolution by expanding the output dimensions rather than reducing them."
   ]
  },
  {
   "cell_type": "markdown",
   "id": "55f4bc50",
   "metadata": {},
   "source": [
    "### 5.Explain Separable convolution\n",
    "Separable convolution involves breaking a standard convolution operation into two separate operations: depthwise convolution and pointwise convolution, which significantly reduces the number of parameters and computational complexity while maintaining model accuracy."
   ]
  },
  {
   "cell_type": "markdown",
   "id": "8cb3c7aa",
   "metadata": {},
   "source": [
    "### 6.What is depthwise convolution, and how does it work?\n",
    "Depthwise convolution is a convolution operation that applies a separate filter to each input channel of a multi-channel input, resulting in an output with the same number of channels."
   ]
  },
  {
   "cell_type": "markdown",
   "id": "ff85a66e",
   "metadata": {},
   "source": [
    "### 7.What is Depthwise separable convolution, and how does it work?\n",
    "Depthwise separable convolution is a combination of depthwise convolution and pointwise convolution, which reduces the number of parameters and computational complexity while maintaining model accuracy."
   ]
  },
  {
   "cell_type": "markdown",
   "id": "0a2d5529",
   "metadata": {},
   "source": [
    "### 8.Capsule networks are what they sound like.\n",
    "Capsule networks are a type of neural network architecture that aim to overcome the limitations of traditional neural networks by using groups of neurons, or capsules, to represent different features and relationships between them."
   ]
  },
  {
   "cell_type": "markdown",
   "id": "0ed2d55e",
   "metadata": {},
   "source": [
    "### 9. Why is POOLING such an important operation in CNNs?\n",
    "Pooling is an important operation in CNNs because it reduces the dimensionality of the feature maps while retaining the most important information, helping to prevent overfitting and reduce computational complexity."
   ]
  },
  {
   "cell_type": "markdown",
   "id": "1af44344",
   "metadata": {},
   "source": [
    "### 10. What are receptive fields and how do they work?\n",
    "Receptive fields are the area of the input that a single neuron or filter is sensitive to, determined by the size of the filter and its position in the network. Receptive fields are used to determine the feature hierarchy and spatial resolution of a CNN."
   ]
  }
 ],
 "metadata": {
  "kernelspec": {
   "display_name": "Python 3 (ipykernel)",
   "language": "python",
   "name": "python3"
  },
  "language_info": {
   "codemirror_mode": {
    "name": "ipython",
    "version": 3
   },
   "file_extension": ".py",
   "mimetype": "text/x-python",
   "name": "python",
   "nbconvert_exporter": "python",
   "pygments_lexer": "ipython3",
   "version": "3.9.12"
  }
 },
 "nbformat": 4,
 "nbformat_minor": 5
}
