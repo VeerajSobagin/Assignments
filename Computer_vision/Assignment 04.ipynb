{
 "cells": [
  {
   "cell_type": "markdown",
   "id": "2c7b7b09",
   "metadata": {},
   "source": [
    "### 1. What is the concept of cyclical momentum?\n",
    "Cyclical momentum is a technique used in optimization algorithms, where the momentum parameter is cycled between two values. This helps in faster convergence to the minima by avoiding oscillations and overshoots. By using cyclical momentum, the model can jump out of a local minima and explore other regions of the loss surface."
   ]
  },
  {
   "cell_type": "markdown",
   "id": "19b89eae",
   "metadata": {},
   "source": [
    "### 2. What callback keeps track of hyperparameter values (along with other data) during training?\n",
    "The Recorder callback keeps track of hyperparameter values, losses, and metrics during training. It stores the data in a pandas dataframe that can be used for further analysis and visualization."
   ]
  },
  {
   "cell_type": "markdown",
   "id": "c587bf82",
   "metadata": {},
   "source": [
    "### 3. In the color dim plot, what does one column of pixels represent?\n",
    "In the color dim plot, each column of pixels represents a single pixel in the image, with its RGB values visualized as a color. By stacking these columns side by side, the full color image can be visualized."
   ]
  },
  {
   "cell_type": "markdown",
   "id": "80c31dd4",
   "metadata": {},
   "source": [
    "### 4. In color dim, what does \"poor teaching\" look like? What is the reason for this?\n",
    "Poor teaching in color dim looks like a lack of distinction between different colors. This can happen when the model is not able to learn the complex patterns in the dataset, leading to poor generalization. This can be caused by several factors such as insufficient training data, overfitting, or inadequate model architecture."
   ]
  },
  {
   "cell_type": "markdown",
   "id": "20017748",
   "metadata": {},
   "source": [
    "### 5. Does a batch normalization layer have any trainable parameters?\n",
    "Yes, a batch normalization layer has trainable parameters such as scale and shift parameters, which are learned during training to adjust the mean and variance of the batch."
   ]
  },
  {
   "cell_type": "markdown",
   "id": "2f597930",
   "metadata": {},
   "source": [
    "### 6. In batch normalization during preparation, what statistics are used to normalize? What about during the validation process?\n",
    "During training, batch normalization uses the mean and variance of the current batch to normalize the activations. During validation, the running mean and variance of the entire dataset are used."
   ]
  },
  {
   "cell_type": "markdown",
   "id": "a829bca3",
   "metadata": {},
   "source": [
    "### 7. Why do batch normalization layers help models generalize better?\n",
    "Batch normalization layers help models generalize better by reducing the internal covariate shift. This means that the mean and variance of the activations are normalized, which helps to reduce the sensitivity of the model to changes in the input distribution. This improves the stability of the model and allows for faster convergence during training."
   ]
  },
  {
   "cell_type": "markdown",
   "id": "e904a95c",
   "metadata": {},
   "source": [
    "### 8.Explain between MAX POOLING and AVERAGE POOLING is number eight.\n",
    "MAX POOLING and AVERAGE POOLING are two types of pooling layers used in CNNs. MAX POOLING returns the maximum value in a pool of values, while AVERAGE POOLING returns the average value. MAX POOLING is commonly used to extract features that are invariant to small changes in the input, while AVERAGE POOLING is used to reduce the dimensionality of the input."
   ]
  },
  {
   "cell_type": "markdown",
   "id": "e4f1d0dc",
   "metadata": {},
   "source": [
    "### 9. What is the purpose of the POOLING LAYER?\n",
    "The purpose of the POOLING LAYER is to reduce the dimensionality of the input while preserving the important features. It does this by partitioning the input into non-overlapping regions and applying a pooling function such as MAX or AVERAGE POOLING."
   ]
  },
  {
   "cell_type": "markdown",
   "id": "da96847f",
   "metadata": {},
   "source": [
    "### 10. Why do we end up with Completely CONNECTED LAYERS?\n",
    "We end up with Completely CONNECTED LAYERS to perform the final classification step by mapping the output of the last convolutional or pooling layer to a vector of class probabilities. The output of these layers is passed through a softmax activation function to obtain the final class probabilities."
   ]
  },
  {
   "cell_type": "markdown",
   "id": "3c544074",
   "metadata": {},
   "source": [
    "### 11. What do you mean by PARAMETERS?\n",
    "Parameters are the variables that the model learns during training, such as weights and biases. These variables are adjusted during training to minimize the loss function and improve the model's performance."
   ]
  },
  {
   "cell_type": "markdown",
   "id": "e71733ea",
   "metadata": {},
   "source": [
    "### 12. What formulas are used to measure these PARAMETERS?\n",
    "The formulas used to measure the parameters depend on the type of layer and activation function used. For example, the parameters of a fully connected layer can be measured using the dot product between the weight matrix and the input vector, while the parameters of a convolutional layer can be measured using the convolution operation."
   ]
  }
 ],
 "metadata": {
  "kernelspec": {
   "display_name": "Python 3 (ipykernel)",
   "language": "python",
   "name": "python3"
  },
  "language_info": {
   "codemirror_mode": {
    "name": "ipython",
    "version": 3
   },
   "file_extension": ".py",
   "mimetype": "text/x-python",
   "name": "python",
   "nbconvert_exporter": "python",
   "pygments_lexer": "ipython3",
   "version": "3.9.12"
  }
 },
 "nbformat": 4,
 "nbformat_minor": 5
}
