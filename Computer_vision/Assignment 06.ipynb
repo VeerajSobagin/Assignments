{
 "cells": [
  {
   "cell_type": "markdown",
   "id": "583cbf7e",
   "metadata": {},
   "source": [
    "### 1. What is the difference between TRAINABLE and NON-TRAINABLE PARAMETERS?\n",
    "Trainable parameters are the weights and biases of the neural network that are updated during the training process. Non-trainable parameters are fixed and do not change during training, such as the hyperparameters of the model or pre-trained weights of a pre-existing model."
   ]
  },
  {
   "cell_type": "markdown",
   "id": "e59831fa",
   "metadata": {},
   "source": [
    "### 2. In the CNN architecture, where does the DROPOUT LAYER go?\n",
    "Dropout layers are typically placed after the convolutional or dense layers in the CNN architecture."
   ]
  },
  {
   "cell_type": "markdown",
   "id": "98f2ff0d",
   "metadata": {},
   "source": [
    "### 3. What is the optimal number of hidden layers to stack?\n",
    "The optimal number of hidden layers to stack in a neural network depends on the complexity of the problem and the amount of available data. Generally, one to three hidden layers are sufficient for most problems."
   ]
  },
  {
   "cell_type": "markdown",
   "id": "504a6e92",
   "metadata": {},
   "source": [
    "### 4. In each layer, how many secret units or filters should there be?\n",
    "The number of units or filters in each layer depends on the complexity of the problem and the amount of available data. A good starting point is to use smaller numbers of filters or units in the first layers and gradually increase the number in deeper layers."
   ]
  },
  {
   "cell_type": "markdown",
   "id": "748a9aea",
   "metadata": {},
   "source": [
    "### 5. What should your initial learning rate be?\n",
    "The initial learning rate should be set to a value that is not too high, to avoid the model from diverging, but also not too low, to ensure the model can converge in a reasonable amount of time. A good starting point is 0.001."
   ]
  },
  {
   "cell_type": "markdown",
   "id": "e33019dd",
   "metadata": {},
   "source": [
    "### 6. What do you do with the activation function?\n",
    "The activation function is used to introduce non-linearity in the neural network, which is essential for the network to learn complex patterns in the data."
   ]
  },
  {
   "cell_type": "markdown",
   "id": "177cb113",
   "metadata": {},
   "source": [
    "### 7. What is NORMALIZATION OF DATA?\n",
    "Normalization of data refers to the process of scaling the input data to have a similar range or distribution. This can help improve the performance and stability of the neural network during training."
   ]
  },
  {
   "cell_type": "markdown",
   "id": "e1d11877",
   "metadata": {},
   "source": [
    "### 8. What is IMAGE AUGMENTATION and how does it work?\n",
    "Image augmentation is a technique used to increase the size of the training dataset by applying various transformations to the images, such as rotation, scaling, or flipping. This can help the model generalize better to new and unseen data."
   ]
  },
  {
   "cell_type": "markdown",
   "id": "570cfe30",
   "metadata": {},
   "source": [
    "### 9. What is DECLINE IN LEARNING RATE?\n",
    "A decline in learning rate refers to the process of gradually decreasing the learning rate over time, to fine-tune the model and avoid overshooting the global minimum."
   ]
  },
  {
   "cell_type": "markdown",
   "id": "17360ea6",
   "metadata": {},
   "source": [
    "### 10. What does EARLY STOPPING CRITERIA mean?\n",
    "Early stopping criteria is a technique used to prevent overfitting by stopping the training process when the performance on a validation set stops improving, instead of continuing to train until the model converges on the training set. This can help the model generalize better to new and unseen data."
   ]
  }
 ],
 "metadata": {
  "kernelspec": {
   "display_name": "Python 3 (ipykernel)",
   "language": "python",
   "name": "python3"
  },
  "language_info": {
   "codemirror_mode": {
    "name": "ipython",
    "version": 3
   },
   "file_extension": ".py",
   "mimetype": "text/x-python",
   "name": "python",
   "nbconvert_exporter": "python",
   "pygments_lexer": "ipython3",
   "version": "3.9.12"
  }
 },
 "nbformat": 4,
 "nbformat_minor": 5
}
