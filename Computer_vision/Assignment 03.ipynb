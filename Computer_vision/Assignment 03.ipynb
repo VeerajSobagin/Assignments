{
 "cells": [
  {
   "cell_type": "markdown",
   "id": "e078805f",
   "metadata": {},
   "source": [
    "### 1. After each stride-2 conv, why do we double the number of filters?\n",
    "Doubling the number of filters after each stride-2 conv is a common practice to increase the number of features learned by the CNN. It helps to capture more complex patterns and features at a higher abstraction level, while also maintaining a manageable number of parameters in the model."
   ]
  },
  {
   "cell_type": "markdown",
   "id": "9ca70f8b",
   "metadata": {},
   "source": [
    "### 2. Why do we use a larger kernel with MNIST (with simple cnn) in the first conv?\n",
    "Using a larger kernel in the first conv layer of MNIST CNN helps to capture larger patterns and features in the input image. This is because the first layer is responsible for detecting low-level features such as edges and corners, which can be better captured using a larger kernel size."
   ]
  },
  {
   "cell_type": "markdown",
   "id": "37dc2b05",
   "metadata": {},
   "source": [
    "### 3. What data is saved by ActivationStats for each layer?\n",
    "ActivationStats saves the maximum, minimum, and mean values of activations for each layer during training. This information can be useful for diagnosing issues with the network's learning, such as vanishing gradients or dead neurons."
   ]
  },
  {
   "cell_type": "markdown",
   "id": "57bf9202",
   "metadata": {},
   "source": [
    "### 4. How do we get a learner's callback after they've completed training?\n",
    "To get a learner's callback after they've completed training, we can pass the callback function to the fit method of the learner object. The callback function will be executed at the end of each training epoch, allowing us to monitor and record various metrics."
   ]
  },
  {
   "cell_type": "markdown",
   "id": "7d61fbc2",
   "metadata": {},
   "source": [
    "### 5. What are the drawbacks of activations above zero?\n",
    "The main drawback of activations above zero is the potential for exploding gradients, which can cause the network to diverge during training. This can happen when the activations become too large, leading to very large gradients that cause the weights to update too much, and the model's accuracy to decrease."
   ]
  },
  {
   "cell_type": "markdown",
   "id": "88c5a415",
   "metadata": {},
   "source": [
    "### 6.Draw up the benefits and drawbacks of practicing in larger batches?\n",
    "Practicing in larger batches can have benefits such as faster training times and smoother convergence due to reduced variance in the gradient estimates. However, drawbacks include higher memory requirements, potential overfitting, and a reduced ability to generalize to new data."
   ]
  },
  {
   "cell_type": "markdown",
   "id": "77192447",
   "metadata": {},
   "source": [
    "### 7. Why should we avoid starting training with a high learning rate?\n",
    "Starting training with a high learning rate can cause the model's weights to update too much and lead to unstable training. This can result in the model diverging, oscillating, or getting stuck in suboptimal solutions."
   ]
  },
  {
   "cell_type": "markdown",
   "id": "25d91510",
   "metadata": {},
   "source": [
    "### 8. What are the pros of studying with a high rate of learning?\n",
    "Pros of studying with a high rate of learning include faster training times and a greater ability to escape local minima. It can also lead to better generalization in some cases by promoting the model's ability to learn more robust features."
   ]
  },
  {
   "cell_type": "markdown",
   "id": "6e822898",
   "metadata": {},
   "source": [
    "### 9. Why do we want to end the training with a low learning rate?\n",
    "Ending training with a low learning rate helps to stabilize the model's weights and prevent them from oscillating or diverging. It can also improve the model's ability to generalize to new data by fine-tuning the weights to better fit the training data."
   ]
  }
 ],
 "metadata": {
  "kernelspec": {
   "display_name": "Python 3 (ipykernel)",
   "language": "python",
   "name": "python3"
  },
  "language_info": {
   "codemirror_mode": {
    "name": "ipython",
    "version": 3
   },
   "file_extension": ".py",
   "mimetype": "text/x-python",
   "name": "python",
   "nbconvert_exporter": "python",
   "pygments_lexer": "ipython3",
   "version": "3.9.12"
  }
 },
 "nbformat": 4,
 "nbformat_minor": 5
}
