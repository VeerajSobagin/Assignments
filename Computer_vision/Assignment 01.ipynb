{
 "cells": [
  {
   "cell_type": "markdown",
   "id": "13a9d9f9",
   "metadata": {},
   "source": [
    "### 1. What exactly is a feature?\n",
    "In machine learning, a feature refers to a measurable aspect or characteristic of a data point that can be used to make predictions or classifications. It can be a numerical value, categorical label, or any other form of data representation."
   ]
  },
  {
   "cell_type": "markdown",
   "id": "935440db",
   "metadata": {},
   "source": [
    "### 2. For a top edge detector, write out the convolutional kernel matrix.\n",
    "A top edge detector convolutional kernel matrix is:\n",
    "\n",
    "[-1, -1, -1]\n",
    "[ 0,  0,  0]\n",
    "[ 1,  1,  1]\n",
    "This kernel is used to highlight the top edges in an image by subtracting the pixel values in the bottom row from those in the top row."
   ]
  },
  {
   "cell_type": "markdown",
   "id": "c5d1c13e",
   "metadata": {},
   "source": [
    "### 3. Describe the mathematical operation that a 3x3 kernel performs on a single pixel in an image.\n",
    "A 3x3 kernel performs a convolution operation on a single pixel by multiplying the kernel values with the corresponding pixel values in its local neighborhood, summing the products, and then placing the result in the center pixel of a new output image. This process is repeated for each pixel in the image."
   ]
  },
  {
   "cell_type": "markdown",
   "id": "36f06531",
   "metadata": {},
   "source": [
    "### 4. What is the significance of a convolutional kernel added to a 3x3 matrix of zeroes?\n",
    "Adding a convolutional kernel to a 3x3 matrix of zeroes creates a filter that only computes the convolution of the kernel with the image pixels and ignores the zeros. This is equivalent to applying a border of padding around the image before performing the convolution."
   ]
  },
  {
   "cell_type": "markdown",
   "id": "39904c3e",
   "metadata": {},
   "source": [
    "### 5. What exactly is padding?\n",
    "Padding refers to the process of adding additional pixels around the edges of an image before performing convolution. Padding can help preserve the spatial dimensions of the input image and prevent the output from shrinking too much."
   ]
  },
  {
   "cell_type": "markdown",
   "id": "4866192b",
   "metadata": {},
   "source": [
    "### 6. What is the concept of stride?\n",
    "Stride refers to the number of pixels that the convolutional kernel moves horizontally and vertically at each step when performing convolution on an image. A larger stride results in a smaller output image."
   ]
  },
  {
   "cell_type": "markdown",
   "id": "f9bff21f",
   "metadata": {},
   "source": [
    "### 7. What are the shapes of PyTorch's 2D convolution's input and weight parameters?\n",
    "PyTorch's 2D convolution's input parameter has the shape (batch_size, num_input_channels, height, width), while the weight parameter has the shape (num_output_channels, num_input_channels, kernel_height, kernel_width)."
   ]
  },
  {
   "cell_type": "markdown",
   "id": "2094c9df",
   "metadata": {},
   "source": [
    "### 8. What exactly is a channel?\n",
    "In the context of deep learning, a channel refers to a set of feature maps that capture different aspects or representations of an image. A 3-channel image, for example, has separate feature maps for the red, green, and blue color channels."
   ]
  },
  {
   "cell_type": "markdown",
   "id": "20647a65",
   "metadata": {},
   "source": [
    "### 9.Explain relationship between matrix multiplication and a convolution?\n",
    "Convolution can be viewed as a specialized form of matrix multiplication, where the kernel is the weight matrix and the local pixel values are the input matrix. The dot product between the kernel and the input is computed at each position in the image to produce the output feature map."
   ]
  }
 ],
 "metadata": {
  "kernelspec": {
   "display_name": "Python 3 (ipykernel)",
   "language": "python",
   "name": "python3"
  },
  "language_info": {
   "codemirror_mode": {
    "name": "ipython",
    "version": 3
   },
   "file_extension": ".py",
   "mimetype": "text/x-python",
   "name": "python",
   "nbconvert_exporter": "python",
   "pygments_lexer": "ipython3",
   "version": "3.9.12"
  }
 },
 "nbformat": 4,
 "nbformat_minor": 5
}
