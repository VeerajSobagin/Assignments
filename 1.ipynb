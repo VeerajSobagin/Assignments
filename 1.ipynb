{
 "cells": [
  {
   "cell_type": "code",
   "execution_count": 1,
   "id": "2228eb33",
   "metadata": {},
   "outputs": [
    {
     "data": {
      "text/plain": [
       "[1, 3, 12, 0, 0]"
      ]
     },
     "execution_count": 1,
     "metadata": {},
     "output_type": "execute_result"
    }
   ],
   "source": [
    "def moveZeroes(nums):\n",
    "    nonZeroIndex = 0\n",
    "    for current in range(len(nums)):\n",
    "        if nums[current] != 0:\n",
    "            nums[current], nums[nonZeroIndex] = nums[nonZeroIndex], nums[current]\n",
    "            nonZeroIndex += 1\n",
    "    \n",
    "    for i in range(nonZeroIndex, len(nums)):\n",
    "        nums[i] = 0\n",
    "    \n",
    "    return nums\n",
    "\n",
    "# example \n",
    "nums = [0,1,0,3,12]\n",
    "\n",
    "moveZeroes(nums)"
   ]
  },
  {
   "cell_type": "code",
   "execution_count": null,
   "id": "72be771f",
   "metadata": {},
   "outputs": [],
   "source": []
  }
 ],
 "metadata": {
  "kernelspec": {
   "display_name": "Python 3 (ipykernel)",
   "language": "python",
   "name": "python3"
  },
  "language_info": {
   "codemirror_mode": {
    "name": "ipython",
    "version": 3
   },
   "file_extension": ".py",
   "mimetype": "text/x-python",
   "name": "python",
   "nbconvert_exporter": "python",
   "pygments_lexer": "ipython3",
   "version": "3.9.7"
  }
 },
 "nbformat": 4,
 "nbformat_minor": 5
}
