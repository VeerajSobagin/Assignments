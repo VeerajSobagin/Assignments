{
 "cells": [
  {
   "cell_type": "markdown",
   "id": "7adb7fe7",
   "metadata": {},
   "source": [
    "### 1. What is the underlying concept of Support Vector Machines?\n",
    "Support Vector Machines (SVM) are a supervised learning algorithm that aims to find the optimal boundary between classes in a dataset."
   ]
  },
  {
   "cell_type": "markdown",
   "id": "ac3dc1e0",
   "metadata": {},
   "source": [
    "### 2. What is the concept of a support vector?\n",
    "A support vector is a data point that is closest to the decision boundary, and its position affects the margin and classification of other data points."
   ]
  },
  {
   "cell_type": "markdown",
   "id": "0257e752",
   "metadata": {},
   "source": [
    "### 3. When using SVMs, why is it necessary to scale the inputs?\n",
    "Scaling the inputs is necessary because SVMs are sensitive to the scale of the features, and unbalanced features may result in biased classification."
   ]
  },
  {
   "cell_type": "markdown",
   "id": "3cfc1de2",
   "metadata": {},
   "source": [
    "### 4. When an SVM classifier classifies a case, can it output a confidence score? What about a percentage chance?\n",
    "An SVM classifier can output a confidence score, but it does not provide a percentage chance."
   ]
  },
  {
   "cell_type": "markdown",
   "id": "e694a924",
   "metadata": {},
   "source": [
    "### 5. Should you train a model on a training set with millions of instances and hundreds of features using the primal or dual form of the SVM problem?\n",
    "Using the dual form is preferred for large datasets with many features because it is computationally more efficient."
   ]
  },
  {
   "cell_type": "markdown",
   "id": "84f0e091",
   "metadata": {},
   "source": [
    "### 6. Let's say you've used an RBF kernel to train an SVM classifier, but it appears to underfit the training collection. Is it better to raise or lower (gamma)? What about the letter C?\n",
    "If an SVM classifier underfits the training data with an RBF kernel, increasing gamma or C may improve the model's performance."
   ]
  },
  {
   "cell_type": "markdown",
   "id": "9d76f405",
   "metadata": {},
   "source": [
    "### 7. To solve the soft margin linear SVM classifier problem with an off-the-shelf QP solver, how should the QP parameters (H, f, A, and b) be set?\n",
    "The QP parameters for the soft margin linear SVM classifier should be set based on the training data and penalty parameters."
   ]
  },
  {
   "cell_type": "markdown",
   "id": "3d9cd918",
   "metadata": {},
   "source": [
    "### 8. On a linearly separable dataset, train a LinearSVC. Then, using the same dataset, train an SVC and an SGDClassifier. See if you can get them to make a model that is similar to yours.\n",
    "The LinearSVC, SVC, and SGDClassifier can be trained on a linearly separable dataset to produce similar models, but the training time and accuracy may vary."
   ]
  },
  {
   "cell_type": "markdown",
   "id": "0c85558e",
   "metadata": {},
   "source": [
    "### 9. On the MNIST dataset, train an SVM classifier. You'll need to use one-versus-the-rest to assign all 10 digits because SVM classifiers are binary classifiers. To accelerate up the process, you might want to tune the hyperparameters using small validation sets. What level of precision can you achieve?\n",
    "An SVM classifier can be trained on the MNIST dataset using one-versus-the-rest and hyperparameter tuning. The level of precision achieved depends on the complexity of the model and the size of the validation set."
   ]
  },
  {
   "cell_type": "markdown",
   "id": "6a42ad56",
   "metadata": {},
   "source": [
    "### 10. On the California housing dataset, train an SVM regressor.\n",
    "An SVM regressor can be trained on the California housing dataset to predict the median house value based on other features. The accuracy of the model depends on the choice of kernel and hyperparameters."
   ]
  }
 ],
 "metadata": {
  "kernelspec": {
   "display_name": "Python 3 (ipykernel)",
   "language": "python",
   "name": "python3"
  },
  "language_info": {
   "codemirror_mode": {
    "name": "ipython",
    "version": 3
   },
   "file_extension": ".py",
   "mimetype": "text/x-python",
   "name": "python",
   "nbconvert_exporter": "python",
   "pygments_lexer": "ipython3",
   "version": "3.9.12"
  }
 },
 "nbformat": 4,
 "nbformat_minor": 5
}
