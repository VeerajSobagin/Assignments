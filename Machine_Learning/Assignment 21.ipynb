{
 "cells": [
  {
   "cell_type": "markdown",
   "id": "254adbf6",
   "metadata": {},
   "source": [
    "### 1. What is the estimated depth of a Decision Tree trained (unrestricted) on a one million instance training set?\n",
    "The estimated depth of a Decision Tree trained on a one million instance training set is around 20-30 levels deep, depending on the complexity of the problem."
   ]
  },
  {
   "cell_type": "markdown",
   "id": "ffa21eea",
   "metadata": {},
   "source": [
    "### 2. Is the Gini impurity of a node usually lower or higher than that of its parent? Is it always lower/greater, or is it usually lower/greater?\n",
    "The Gini impurity of a node is usually lower than that of its parent, and it is not always lower or greater but mostly lower. The goal is to minimize the impurity at each level."
   ]
  },
  {
   "cell_type": "markdown",
   "id": "4c720faa",
   "metadata": {},
   "source": [
    "### 3. Explain if its a good idea to reduce max depth if a Decision Tree is overfitting the training set?\n",
    "Yes, reducing the maximum depth of a Decision Tree is a good idea if it is overfitting the training set as it will simplify the model and reduce overfitting."
   ]
  },
  {
   "cell_type": "markdown",
   "id": "8c18b347",
   "metadata": {},
   "source": [
    "### 4. Explain if its a good idea to try scaling the input features if a Decision Tree underfits the training set?\n",
    "No, scaling the input features is not necessary to improve the underfitting of a Decision Tree, as it is insensitive to the scale of the input features."
   ]
  },
  {
   "cell_type": "markdown",
   "id": "f836d675",
   "metadata": {},
   "source": [
    "### 5. How much time will it take to train another Decision Tree on a training set of 10 million instances if it takes an hour to train a Decision Tree on a training set with 1 million instances?\n",
    "It will take around 10 hours to train another Decision Tree on a training set of 10 million instances, assuming the training time scales linearly with the number of instances."
   ]
  },
  {
   "cell_type": "markdown",
   "id": "bd72bf9b",
   "metadata": {},
   "source": [
    "### 6. Will setting presort=True speed up training if your training set has 100,000 instances?\n",
    "It depends on the dataset's size and complexity. In general, presorting can speed up training for smaller datasets but slow down training for larger ones, as the cost of presorting can be significant."
   ]
  },
  {
   "cell_type": "markdown",
   "id": "c975d45f",
   "metadata": {},
   "source": [
    "### 7. Follow these steps to train and fine-tune a Decision Tree for the moons dataset:\n",
    "\n",
    "    a. To build a moons dataset, use make moons(n samples=10000, noise=0.4).\n",
    "\n",
    "    b. Divide the dataset into a training and a test collection with train test split().\n",
    "\n",
    "    c. To find good hyperparameters values for a DecisionTreeClassifier, use grid search with cross- validation (with the GridSearchCV class). Try different values for max leaf nodes.\n",
    "\n",
    "    d. Use these hyperparameters to train the model on the entire training set, and then assess its output on the test set. You can achieve an accuracy of 85 to 87 percent.\n",
    "\n",
    "a. Use make_moons(n_samples=10000, noise=0.4) to generate the dataset.\n",
    "b. Split the dataset into training and test sets using train_test_split().\n",
    "c. Use GridSearchCV with cross-validation to find good hyperparameter values for DecisionTreeClassifier, trying different max_leaf_nodes values.\n",
    "d. Train the model on the entire training set using the chosen hyperparameters and evaluate its accuracy on the test set, which should be around 85-87%."
   ]
  },
  {
   "cell_type": "markdown",
   "id": "b41c59e5",
   "metadata": {},
   "source": [
    "### 8. Follow these steps to grow a forest:\n",
    "\n",
    "    a. Using the same method as before, create 1,000 subsets of the training set, each containing 100 instances chosen at random. You can do this with Scikit-ShuffleSplit Learn's class.\n",
    "\n",
    "    b. Using the best hyperparameter values found in the previous exercise, train one Decision Tree on each subset. On the test collection, evaluate these 1,000 Decision Trees. These Decision Trees would likely perform worse than the first Decision Tree, achieving only around 80% accuracy, since they were trained on smaller sets.\n",
    "\n",
    "    c. Now the magic begins. Create 1,000 Decision Tree predictions for each test set case, and keep only the most common prediction (you can do this with SciPy's mode() function). Over the test collection, this method gives you majority-vote predictions.\n",
    "\n",
    "    d. On the test range, evaluate these predictions: you should achieve a slightly higher accuracy than the first model (approx 0.5 to 1.5 percent higher). You've successfully learned a Random Forest classifier!\n",
    "    \n",
    "    \n",
    "a. Use ShuffleSplit to create 1,000 subsets of 100 instances each from the training set.\n",
    "b. Train 1 Decision Tree on each subset using the best hyperparameters. Evaluate them on the test set; expect around 80% accuracy.\n",
    "c. Generate 1,000 Decision Tree predictions for each test instance, and keep the most common one using SciPy's mode() function.\n",
    "d. Evaluate the majority-vote predictions on the test set, which should achieve slightly higher accuracy than the first model. "
   ]
  }
 ],
 "metadata": {
  "kernelspec": {
   "display_name": "Python 3 (ipykernel)",
   "language": "python",
   "name": "python3"
  },
  "language_info": {
   "codemirror_mode": {
    "name": "ipython",
    "version": 3
   },
   "file_extension": ".py",
   "mimetype": "text/x-python",
   "name": "python",
   "nbconvert_exporter": "python",
   "pygments_lexer": "ipython3",
   "version": "3.9.12"
  }
 },
 "nbformat": 4,
 "nbformat_minor": 5
}
