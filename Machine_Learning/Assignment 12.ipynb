{
 "cells": [
  {
   "cell_type": "markdown",
   "id": "69006616",
   "metadata": {},
   "source": [
    "### 1. What is prior probability? Give an example.\n",
    "Prior probability refers to the probability of an event occurring before taking into account any additional information. For example, if the probability of drawing a red ball from an urn is 1/4, the prior probability is 1/4 before any other information is considered."
   ]
  },
  {
   "cell_type": "markdown",
   "id": "b927ecc5",
   "metadata": {},
   "source": [
    "### 2. What is posterior probability? Give an example.\n",
    "Posterior probability is the probability of an event or hypothesis based on new information or evidence. For example, the probability of a person having a particular disease after a positive test result is the posterior probability."
   ]
  },
  {
   "cell_type": "markdown",
   "id": "b4012dd9",
   "metadata": {},
   "source": [
    "### 3. What is likelihood probability? Give an example.\n",
    "Likelihood probability is the probability of observing the data given the hypothesis. For example, the likelihood probability of rolling a die and getting a six is 1/6 or 0.1667, assuming a fair die."
   ]
  },
  {
   "cell_type": "markdown",
   "id": "5b6370e6",
   "metadata": {},
   "source": [
    "### 4. What is Naïve Bayes classifier? Why is it named so?\n",
    "The Naïve Bayes classifier is a probabilistic algorithm used in machine learning for classification tasks. It is named \"Naïve\" because it assumes independence among features, meaning that each feature contributes equally and independently to the classification decision."
   ]
  },
  {
   "cell_type": "markdown",
   "id": "3f41cc23",
   "metadata": {},
   "source": [
    "### 5. What is optimal Bayes classifier?\n",
    "The optimal Bayes classifier is a classification model that uses Bayes' theorem to predict the class of an unknown data point by finding the maximum posterior probability. It is considered optimal because it has the lowest possible error rate among all classifiers."
   ]
  },
  {
   "cell_type": "markdown",
   "id": "47a6b114",
   "metadata": {},
   "source": [
    "### 6. Write any two features of Bayesian learning methods.\n",
    "Two features of Bayesian learning methods are that they can handle uncertainty and that they can easily incorporate prior knowledge. Bayesian learning methods use probability distributions to represent uncertainty and update beliefs as new evidence is observed. Prior knowledge can be incorporated by specifying a prior probability distribution over the model parameters."
   ]
  },
  {
   "cell_type": "markdown",
   "id": "1cba4ce1",
   "metadata": {},
   "source": [
    "### 7. Define the concept of consistent learners.\n",
    "Consistent learners are machine learning algorithms that are guaranteed to converge to the correct hypothesis as the size of the training data increases to infinity. This property is also known as asymptotic consistency."
   ]
  },
  {
   "cell_type": "markdown",
   "id": "7922f5a5",
   "metadata": {},
   "source": [
    "### 8. Write any two strengths of Bayes classifier.\n",
    "1. Bayes classifier can handle missing values in the data by ignoring them during the calculation of the conditional probabilities.\n",
    "2. It can efficiently handle large datasets with many features and variables by computing the probabilities in a parallel or distributed manner."
   ]
  },
  {
   "cell_type": "markdown",
   "id": "583afd5e",
   "metadata": {},
   "source": [
    "### 9. Write any two weaknesses of Bayes classifier.\n",
    "\n",
    "1. It assumes that the input features are independent of each other, which may not be true for some datasets.\n",
    "2. If there is not enough training data, the classifier may overfit to the training data and perform poorly on new data."
   ]
  },
  {
   "cell_type": "markdown",
   "id": "3c4020c3",
   "metadata": {},
   "source": [
    "### 10. Explain how Naïve Bayes classifier is used for\n",
    "\n",
    "1. Text classification\n",
    "\n",
    "2. Spam filtering\n",
    "\n",
    "3. Market sentiment analysis\n",
    "\n",
    "For `text classification`, Naïve Bayes classifier is used to assign a text document to a predefined category based on the words present in it. The algorithm learns the probability of occurrence of words in each category, and then calculates the probability of the document belonging to each category.\n",
    "\n",
    "For `spam filtering`, Naïve Bayes classifier is used to classify incoming emails as either spam or not spam. The algorithm learns the probability of occurrence of certain words or phrases in spam and non-spam emails, and then uses these probabilities to classify incoming emails.\n",
    "\n",
    "For `market sentiment analysis`, Naïve Bayes classifier is used to analyze the sentiment of news articles, social media posts, and other text data related to a particular company or product. The algorithm learns the probability of occurrence of certain words or phrases in positive or negative sentiment, and then uses these probabilities to classify new text data as either positive or negative sentiment."
   ]
  }
 ],
 "metadata": {
  "kernelspec": {
   "display_name": "Python 3 (ipykernel)",
   "language": "python",
   "name": "python3"
  },
  "language_info": {
   "codemirror_mode": {
    "name": "ipython",
    "version": 3
   },
   "file_extension": ".py",
   "mimetype": "text/x-python",
   "name": "python",
   "nbconvert_exporter": "python",
   "pygments_lexer": "ipython3",
   "version": "3.9.12"
  }
 },
 "nbformat": 4,
 "nbformat_minor": 5
}
