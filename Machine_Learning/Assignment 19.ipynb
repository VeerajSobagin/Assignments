{
 "cells": [
  {
   "cell_type": "markdown",
   "id": "14b1054b",
   "metadata": {},
   "source": [
    "### 1. A set of one-dimensional data points is given to you: 5, 10, 15, 20, 25, 30, 35. Assume that k = 2 and that the first set of random centroid is 15, 32, and that the second set is 12, 30.\n",
    "    a) Using the k-means method, create two clusters for each set of centroid described above.\n",
    "    b) For each set of centroid values, calculate the SSE.\n",
    "\n",
    "a) Using k-means with the given centroid values, cluster the data points into two clusters. Cluster 1: {5, 10, 15, 20, 25} and Cluster 2: {30, 35}.\n",
    "b) For the first set of centroids (15, 32), the SSE is 150, and for the second set of centroids (12, 30), the SSE is 146."
   ]
  },
  {
   "cell_type": "markdown",
   "id": "4dbad061",
   "metadata": {},
   "source": [
    "### 2. Describe how the Market Basket Research makes use of association analysis concepts.\n",
    "Market basket analysis is a technique that uses association analysis concepts to identify patterns in customer purchasing behavior. It involves identifying items that are frequently purchased together and using that information to make decisions about product placement and promotions."
   ]
  },
  {
   "cell_type": "markdown",
   "id": "4fc3e606",
   "metadata": {},
   "source": [
    "### 3. Give an example of the Apriori algorithm for learning association rules.\n",
    "Suppose you have a transaction database that contains the following items: {A, B, C, D, E}. The minimum support threshold is set to 2. The first iteration identifies frequent itemsets {A, B}, {A, C}, and {B, C}. The second iteration identifies {A, B, C} and {B, C, D}. The association rules can then be generated, such as {A, C} => {B}."
   ]
  },
  {
   "cell_type": "markdown",
   "id": "fd0ee255",
   "metadata": {},
   "source": [
    "### 4. In hierarchical clustering, how is the distance between clusters measured? Explain how this metric is used to decide when to end the iteration.\n",
    "In hierarchical clustering, the distance between clusters is typically measured using one of several metrics, such as single linkage, complete linkage, or average linkage. The metric is used to determine which two clusters to merge at each iteration, with the goal of minimizing the distance between the resulting clusters."
   ]
  },
  {
   "cell_type": "markdown",
   "id": "bf925653",
   "metadata": {},
   "source": [
    "### 5. In the k-means algorithm, how do you recompute the cluster centroids?\n",
    "To recompute the cluster centroids in k-means, the mean value of all the data points in each cluster is taken to be the new centroid. This process is repeated until the centroids no longer change."
   ]
  },
  {
   "cell_type": "markdown",
   "id": "f88af77e",
   "metadata": {},
   "source": [
    "### 6. At the start of the clustering exercise, discuss one method for determining the required number of clusters.\n",
    "One method for determining the required number of clusters is the elbow method. This involves plotting the SSE against the number of clusters and selecting the number of clusters at the point where the SSE begins to level off."
   ]
  },
  {
   "cell_type": "markdown",
   "id": "cb9bcf9d",
   "metadata": {},
   "source": [
    "### 7. Discuss the k-means algorithm's advantages and disadvantages.\n",
    "The advantages of the k-means algorithm include its simplicity and efficiency for large datasets. Its disadvantages include sensitivity to initial centroid values and the requirement to specify the number of clusters in advance."
   ]
  },
  {
   "cell_type": "markdown",
   "id": "4a9999d8",
   "metadata": {},
   "source": [
    "### 8. Draw a diagram to demonstrate the principle of clustering.\n",
    "Clustering is the process of grouping similar data points together based on some similarity metric. A diagram of clustering might show data points grouped together into distinct clusters, with some distance metric used to measure the similarity between points."
   ]
  },
  {
   "cell_type": "markdown",
   "id": "1fe4126d",
   "metadata": {},
   "source": [
    "### 9. During your study, you discovered seven findings, which are listed in the data points below. Using the K-means algorithm, you want to build three clusters from these observations. The clusters C1, C2, and C3 have the following findings after the first iteration:\n",
    "\n",
    "    C1: (2,2), (4,4), (6,6); C2: (2,2), (4,4), (6,6); C3: (2,2), (4,4),\n",
    "\n",
    "    C2: (0,4), (4,0), (0,4), (0,4), (0,4), (0,4), (0,4), (0,4), (0,\n",
    "\n",
    "    C3: (5,5) and (9,9)\n",
    "\n",
    "What would the cluster centroids be if you were to run a second iteration? What would this\n",
    "clustering's SSE be?\n",
    "\n",
    "After the first iteration, the cluster centroids would be: C1: (4.0, 4.0), C2: (0.0, 4.0), C3: (7.0, 7.0). The SSE would be 16.0."
   ]
  },
  {
   "cell_type": "markdown",
   "id": "0476a06f",
   "metadata": {},
   "source": [
    "### 10. In a software project, the team is attempting to determine if software flaws discovered during testing are identical. Based on the text analytics of the defect details, they decided to build 5 clusters of related defects. Any new defect formed after the 5 clusters of defects have been identified must be listed as one of the forms identified by clustering. A simple diagram can be used to explain this process. Assume you have 20 defect data points that are clustered into 5 clusters and you used the k-means algorithm.\n",
    "\n",
    "In the software project, the team used the k-means algorithm to cluster 20 defect data points into 5 clusters. Any new defect that is discovered is assigned to one of the 5 clusters based on its similarity to the existing clusters. This allows the team to quickly identify the type of defect and take appropriate action."
   ]
  }
 ],
 "metadata": {
  "kernelspec": {
   "display_name": "Python 3 (ipykernel)",
   "language": "python",
   "name": "python3"
  },
  "language_info": {
   "codemirror_mode": {
    "name": "ipython",
    "version": 3
   },
   "file_extension": ".py",
   "mimetype": "text/x-python",
   "name": "python",
   "nbconvert_exporter": "python",
   "pygments_lexer": "ipython3",
   "version": "3.9.12"
  }
 },
 "nbformat": 4,
 "nbformat_minor": 5
}
