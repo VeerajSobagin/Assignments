{
 "cells": [
  {
   "cell_type": "markdown",
   "id": "739a2798",
   "metadata": {},
   "source": [
    "### 1. What are the key tasks involved in getting ready to work with machine learning modeling?\n",
    "`Data gathering and preparation:` This involves identifying and collecting relevant data, cleaning the data, and preparing it for use in modeling.\n",
    "\n",
    "`Exploratory data analysis (EDA):` This involves understanding the data through statistical analysis, data visualization, and summarization to identify patterns and relationships.\n",
    "\n",
    "`Feature selection and engineering:` This involves selecting the most relevant features that will help in achieving the modeling objectives and engineering new features if necessary.\n",
    "\n",
    "`Model selection:` This involves identifying the appropriate model(s) to use for the task at hand.\n",
    "\n",
    "`Training the model:` This involves using the data to train the model and adjusting hyperparameters to optimize performance.\n",
    "\n",
    "`Evaluation and validation:` This involves testing the model's performance on new data and validating that it is accurate and generalizable.\n",
    "\n",
    "`Deployment:` This involves integrating the model into a production environment, such as a web application, and monitoring its performance over time."
   ]
  },
  {
   "cell_type": "markdown",
   "id": "af9bf7b8",
   "metadata": {},
   "source": [
    "### 2. What are the different forms of data used in machine learning? Give a specific example for each of them \n",
    "'Numerical data:' This includes data that can be measured and quantified, such as age, temperature, or price. An example of numerical data is a dataset containing the heights and weights of people.\n",
    "\n",
    "'Categorical data:' This type of data represents qualities, such as color, gender, or brand. It is divided into nominal (unranked) and ordinal (ranked) categories. An example of categorical data is a dataset containing the colors of different cars.\n",
    "\n",
    "'Text data:' This includes any data that is in a textual form, such as articles, reviews, or tweets. An example of text data is a dataset containing customer reviews for a product.\n",
    "\n",
    "Other forms of data used in machine learning include image and audio data, which can be used for tasks such as image recognition or speech-to-text conversion."
   ]
  },
  {
   "cell_type": "markdown",
   "id": "97003851",
   "metadata": {},
   "source": [
    "### 3. Distinguish:\n",
    "\n",
    "1. Numeric vs. categorical attributes\n",
    "\n",
    "2. Feature selection vs. dimensionality reduction\n",
    "\n",
    "`Numeric vs. categorical attributes:`\n",
    "Numeric attributes are variables with numerical values, such as height, weight, and temperature, while categorical attributes are variables with non-numerical values, such as color, gender, or country of origin.\n",
    "\n",
    "`Feature selection vs. dimensionality reduction:`\n",
    "Feature selection is the process of selecting a subset of relevant features for use in the model, while dimensionality reduction is the process of transforming high-dimensional data into a lower-dimensional space while preserving as much information as possible. Feature selection aims to eliminate irrelevant or redundant features, whereas dimensionality reduction techniques, such as principal component analysis (PCA) or t-distributed stochastic neighbor embedding (t-SNE), aim to reduce the number of features while retaining as much of the data's variance as possible."
   ]
  },
  {
   "cell_type": "markdown",
   "id": "9e4e9b10",
   "metadata": {},
   "source": [
    "### 4. Make quick notes on any two of the following:\n",
    "\n",
    "1. The histogram\n",
    "\n",
    "2. Use a scatter plot\n",
    "\n",
    "3. PCA (Personal Computer Aid)\n",
    "\n",
    "The `histogram` is a graphical representation of the distribution of numerical data. It represents the data by dividing it into intervals called bins and plotting the frequency of data points falling into each bin. The histogram is useful for visualizing the shape of the distribution, identifying outliers, and selecting appropriate machine learning models.\n",
    "\n",
    "A `scatter plot` is a two-dimensional graph that displays the relationship between two variables. It is used to investigate the correlation between two variables, and each point on the scatter plot represents a pair of values for two variables. Scatter plots can help identify trends, patterns, clusters, and outliers in the data, which are useful for feature engineering and model selection."
   ]
  },
  {
   "cell_type": "markdown",
   "id": "6ce18a5d",
   "metadata": {},
   "source": [
    "### 5. Why is it necessary to investigate data? Is there a discrepancy in how qualitative and quantitative data are explored?\n",
    "Exploring data is essential to understand the characteristics, patterns, and potential problems in the data. The approach to exploring qualitative and quantitative data may differ, but the goal remains the same: to gain insights and identify any issues that may affect machine learning model performance."
   ]
  },
  {
   "cell_type": "markdown",
   "id": "17387ff3",
   "metadata": {},
   "source": [
    "### 6. What are the various histogram shapes? What exactly are ‘bins' ?\n",
    "1. Normal distribution\n",
    "2. Skewed distribution\n",
    "3. Bimodal distribution"
   ]
  },
  {
   "cell_type": "markdown",
   "id": "42e4bda0",
   "metadata": {},
   "source": [
    "### 7. How do we deal with data outliers?\n",
    "Outliers are data points that are significantly different from other observations in a dataset. There are several methods to handle outliers, including removing them from the dataset, replacing them with other values, or using robust statistical techniques that are not affected by outliers."
   ]
  },
  {
   "cell_type": "markdown",
   "id": "bdca2e13",
   "metadata": {},
   "source": [
    "### 8. What are the various central inclination measures? Why does mean vary too much from median in certain data sets?\n",
    "The various central inclination measures are mean, median, and mode. Mean can vary too much from median in certain data sets, such as those with outliers or skewed distributions, as it is more sensitive to extreme values than the median."
   ]
  },
  {
   "cell_type": "markdown",
   "id": "eba4bc7c",
   "metadata": {},
   "source": [
    "### 9. Describe how a scatter plot can be used to investigate bivariate relationships. Is it possible to find outliers using a scatter plot?\n",
    "A scatter plot is a useful tool for investigating bivariate relationships between two variables. It displays each observation as a point in a graph, with one variable on the x-axis and the other on the y-axis. Outliers can be identified on a scatter plot by observing any points that are significantly different from the rest of the data points, either in terms of their position or their distance from the trend line."
   ]
  },
  {
   "cell_type": "markdown",
   "id": "993e428d",
   "metadata": {},
   "source": [
    "### 10. Describe how cross-tabs can be used to figure out how two variables are related.\n",
    "Cross-tabs, or contingency tables, are used to examine the relationship between two categorical variables. They show the frequency distribution of each combination of categories for the two variables, allowing for an analysis of how the variables are related to each other."
   ]
  }
 ],
 "metadata": {
  "kernelspec": {
   "display_name": "Python 3 (ipykernel)",
   "language": "python",
   "name": "python3"
  },
  "language_info": {
   "codemirror_mode": {
    "name": "ipython",
    "version": 3
   },
   "file_extension": ".py",
   "mimetype": "text/x-python",
   "name": "python",
   "nbconvert_exporter": "python",
   "pygments_lexer": "ipython3",
   "version": "3.9.12"
  }
 },
 "nbformat": 4,
 "nbformat_minor": 5
}
