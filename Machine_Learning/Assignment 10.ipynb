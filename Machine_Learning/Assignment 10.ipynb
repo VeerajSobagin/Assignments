{
 "cells": [
  {
   "cell_type": "markdown",
   "id": "375a161e",
   "metadata": {},
   "source": [
    "### 1. Define the Bayesian interpretation of probability.\n",
    "The Bayesian interpretation of probability is a subjective or personalistic approach that interprets probability as a measure of an individual's degree of belief in a particular event, given all available information or evidence. "
   ]
  },
  {
   "cell_type": "markdown",
   "id": "0a8b8976",
   "metadata": {},
   "source": [
    "### 2. Define probability of a union of two events with equation.\n",
    "The probability of the union of two events A and B is given by P(A U B) = P(A) + P(B) - P(A ∩ B), where P(A ∩ B) is the probability of the intersection of events A and B."
   ]
  },
  {
   "cell_type": "markdown",
   "id": "58966515",
   "metadata": {},
   "source": [
    "### 3. What is joint probability? What is its formula?\n",
    "Joint probability is the probability of two or more events occurring simultaneously. It is calculated by multiplying the individual probabilities of the events. The formula for joint probability of events A and B is P(A ∩ B) = P(A) * P(B|A)."
   ]
  },
  {
   "cell_type": "markdown",
   "id": "94578bab",
   "metadata": {},
   "source": [
    "### 4. What is chain rule of probability?\n",
    "The chain rule of probability is a rule that allows the calculation of the joint probability of multiple events by breaking it down into conditional probabilities of each event given the occurrence of the previous events in the chain. It can be expressed as P(A and B and C) = P(A) * P(B|A) * P(C|A and B)."
   ]
  },
  {
   "cell_type": "markdown",
   "id": "33891598",
   "metadata": {},
   "source": [
    "### 5. What is conditional probability means? What is the formula of it?\n",
    "Conditional probability is the probability of an event occurring given that another event has already occurred. It is denoted by P(A|B) and is calculated as the probability of A and B occurring together divided by the probability of B occurring. The formula for conditional probability is P(A|B) = P(A and B) / P(B)."
   ]
  },
  {
   "cell_type": "markdown",
   "id": "36283471",
   "metadata": {},
   "source": [
    "### 6. What are continuous random variables?\n",
    "Continuous random variables are variables that can take on any value within a specified range or interval of values and are described using probability density functions."
   ]
  },
  {
   "cell_type": "markdown",
   "id": "e5ba8656",
   "metadata": {},
   "source": [
    "### 7. What are Bernoulli distributions? What is the formula of it?\n",
    "The Bernoulli distribution is a discrete probability distribution that describes a single experiment that can result in two possible outcomes, typically labeled as success or failure. It is defined by a single parameter, the probability of success, denoted as p. The formula for Bernoulli distribution is P(X = 1) = p and P(X = 0) = 1-p, where X is a random variable that takes values 1 or 0 representing success or failure, respectively."
   ]
  },
  {
   "cell_type": "markdown",
   "id": "f1758e4e",
   "metadata": {},
   "source": [
    "### 8. What is binomial distribution? What is the formula?\n",
    "Binomial distribution is a discrete probability distribution that describes the number of successes in a fixed number of independent Bernoulli trials, where each trial has the same probability of success. The formula for binomial distribution is P(x) = (n choose x) * p^x * (1-p)^(n-x), where n is the number of trials, p is the probability of success, and x is the number of successes."
   ]
  },
  {
   "cell_type": "markdown",
   "id": "97452a8b",
   "metadata": {},
   "source": [
    "### 9. What is Poisson distribution? What is the formula?\n",
    "The Poisson distribution is a discrete probability distribution that describes the probability of a given number of events occurring in a fixed interval of time or space. It is commonly used in situations where the events occur independently at a constant rate. The formula for Poisson distribution is P(X = k) = (e^-λ * λ^k) / k!, where λ is the mean or average rate of occurrence and k is the number of events."
   ]
  },
  {
   "cell_type": "markdown",
   "id": "fe7a4cf2",
   "metadata": {},
   "source": [
    "### 10. Define covariance.\n",
    "Covariance is a measure of how two variables change together, indicating the direction of the linear relationship between them. A positive covariance indicates that the variables are positively related, while a negative covariance indicates an inverse relationship."
   ]
  },
  {
   "cell_type": "markdown",
   "id": "bc41bbe4",
   "metadata": {},
   "source": [
    "### 11. Define correlation\n",
    "Correlation is a statistical measure that describes the strength and direction of the relationship between two variables. It measures how much one variable changes when the other variable changes. Correlation values range from -1 to 1, where -1 indicates a perfect negative correlation, 0 indicates no correlation, and 1 indicates a perfect positive correlation."
   ]
  },
  {
   "cell_type": "markdown",
   "id": "21702c4b",
   "metadata": {},
   "source": [
    "### 12. Define sampling with replacement. Give example.\n",
    "Sampling with replacement is a method of selecting data from a population where each item has an equal probability of being chosen and may be chosen multiple times. For example, if you randomly select a ball from a bag and put it back in the bag before the next selection, you are using sampling with replacement."
   ]
  },
  {
   "cell_type": "markdown",
   "id": "bea072b5",
   "metadata": {},
   "source": [
    "### 13. What is sampling without replacement? Give example.\n",
    "Sampling without replacement is a method of selecting a subset of individuals from a population without putting back the selected individuals. An example would be selecting a sample of five marbles from a bag of 20 marbles without putting back the selected marbles. The size of the population decreases with each selection."
   ]
  },
  {
   "cell_type": "markdown",
   "id": "7c4d6eef",
   "metadata": {},
   "source": [
    "### 14. What is hypothesis? Give example.\n",
    "Hypothesis is a statement or assumption about a population parameter that needs to be tested with the available sample data. For instance, a hypothesis could be that the mean height of male students in a certain university is greater than 6 feet."
   ]
  }
 ],
 "metadata": {
  "kernelspec": {
   "display_name": "Python 3 (ipykernel)",
   "language": "python",
   "name": "python3"
  },
  "language_info": {
   "codemirror_mode": {
    "name": "ipython",
    "version": 3
   },
   "file_extension": ".py",
   "mimetype": "text/x-python",
   "name": "python",
   "nbconvert_exporter": "python",
   "pygments_lexer": "ipython3",
   "version": "3.9.12"
  }
 },
 "nbformat": 4,
 "nbformat_minor": 5
}
