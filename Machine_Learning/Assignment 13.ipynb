{
 "cells": [
  {
   "cell_type": "markdown",
   "id": "54591103",
   "metadata": {},
   "source": [
    "### 1. Provide an example of the concepts of Prior, Posterior, and Likelihood.\n",
    "Suppose a patient comes to a doctor with symptoms of a disease that occurs in 1% of the population. The prior probability of the patient having the disease is 0.01. The doctor performs a test that has a sensitivity of 90% (likelihood), and the test result comes back positive. The posterior probability of the patient having the disease is now 0.08, calculated using Bayes' theorem."
   ]
  },
  {
   "cell_type": "markdown",
   "id": "954a1090",
   "metadata": {},
   "source": [
    "### 2. What role does Bayes' theorem play in the concept learning principle?\n",
    "Bayes' theorem is a fundamental principle used in the concept learning process to update the learner's prior knowledge by incorporating new evidence. It provides a way to calculate the posterior probability of a hypothesis given the observed data and the prior probability of the hypothesis. By applying Bayes' theorem iteratively, the learner can refine their hypothesis and improve their understanding of the underlying concept."
   ]
  },
  {
   "cell_type": "markdown",
   "id": "0b8c9116",
   "metadata": {},
   "source": [
    "### 3. Offer an example of how the Nave Bayes classifier is used in real life.\n",
    "One example of how the Naive Bayes classifier is used in real life is for spam filtering in email clients. The classifier uses the content and metadata of the email to predict if it's spam or not based on a training set of previously labeled emails."
   ]
  },
  {
   "cell_type": "markdown",
   "id": "ba18885a",
   "metadata": {},
   "source": [
    "### 4. Can the Nave Bayes classifier be used on continuous numeric data? If so, how can you go about doing it?\n",
    "Yes, Naive Bayes classifier can be used on continuous numeric data by discretizing the data into categories or by assuming a probability distribution function for the data, such as Gaussian distribution. The continuous values are then mapped into the corresponding category or probability distribution function."
   ]
  },
  {
   "cell_type": "markdown",
   "id": "e390fe64",
   "metadata": {},
   "source": [
    "### 5. What are Bayesian Belief Networks, and how do they work? What are their applications? Are they capable of resolving a wide range of issues?\n",
    "Bayesian belief networks (BBNs) are probabilistic graphical models that represent uncertain knowledge in terms of conditional probabilities. They work by calculating the probability of events based on evidence and prior knowledge. BBNs have applications in many areas, including medical diagnosis, risk analysis, and decision making. They can be used to solve a wide range of problems that involve uncertainty and multiple variables."
   ]
  },
  {
   "cell_type": "markdown",
   "id": "fe4c4af8",
   "metadata": {},
   "source": [
    "### 6. Passengers are checked in an airport screening system to see if there is an intruder. Let I be the random variable that indicates whether someone is an intruder I = 1) or not I = 0), and A be the variable that indicates alarm I = 0). If an intruder is detected with probability P(A = 1|I = 1) = 0.98 and a non-intruder is detected with probability P(A = 1|I = 0) = 0.001, an alarm will be triggered, implying the error factor. The likelihood of an intruder in the passenger population is P(I = 1) = 0.00001. What are the chances that an alarm would be triggered when an individual is actually an intruder?\n",
    "\n",
    "P(I = 1|A = 1) = P(A = 1|I = 1) * P(I = 1) / [P(A = 1|I = 1) * P(I = 1) + P(A = 1|I = 0) * P(I = 0)]\n",
    "\n",
    "Substituting the given values:\n",
    "\n",
    "P(I = 1|A = 1) = 0.98 * 0.00001 / [0.98 * 0.00001 + 0.001 * (1 - 0.00001)]\n",
    "\n",
    "P(I = 1|A = 1) = 0.0096 or approximately 0.96%\n",
    "\n",
    "Therefore, the chances that an alarm would be triggered when an individual is actually an intruder are approximately 0.96%."
   ]
  },
  {
   "cell_type": "markdown",
   "id": "6852aa66",
   "metadata": {},
   "source": [
    "### 7. An antibiotic resistance test (random variable T) has 1% false positives (i.e., 1% of those who are not immune to an antibiotic display a positive result in the test) and 5% false negatives (i.e., 1% of those who are not resistant to an antibiotic show a positive result in the test) (i.e. 5 percent of those actually resistant to an antibiotic test negative). Assume that 2% of those who were screened were antibiotic-resistant. Calculate the likelihood that a person who tests positive is actually immune (random variable D).\n",
    "\n",
    "Given:\n",
    "\n",
    "False positive rate: P(T=1|D=0) = 0.01\n",
    "False negative rate: P(T=0|D=1) = 0.05\n",
    "Prevalence: P(D=1) = 0.02\n",
    "To find:\n",
    "\n",
    "Probability that a person who tests positive is actually immune: P(D=1|T=1)\n",
    "We can use Bayes' theorem to calculate P(D=1|T=1):\n",
    "\n",
    "P(D=1|T=1) = P(T=1|D=1) * P(D=1) / P(T=1)\n",
    "\n",
    "We can calculate the denominator using the law of total probability:\n",
    "\n",
    "P(T=1) = P(T=1|D=1) * P(D=1) + P(T=1|D=0) * P(D=0)\n",
    "\n",
    "We are given P(T=1|D=0) and P(D=0) = 1 - P(D=1), so we can calculate P(T=1|D=1) and P(T=1) as follows:\n",
    "\n",
    "P(T=1|D=1) = 1 - P(T=0|D=1) = 1 - 0.05 = 0.95\n",
    "P(D=0) = 1 - P(D=1) = 1 - 0.02 = 0.98\n",
    "P(T=1) = P(T=1|D=1) * P(D=1) + P(T=1|D=0) * P(D=0) = 0.95 * 0.02 + 0.01 * 0.98 = 0.0291\n",
    "\n",
    "Finally, we can calculate P(D=1|T=1):\n",
    "\n",
    "P(D=1|T=1) = P(T=1|D=1) * P(D=1) / P(T=1) = 0.95 * 0.02 / 0.0291 = 0.651\n",
    "\n",
    "Therefore, the probability that a person who tests positive is actually immune is 0.651, or about 65.1%."
   ]
  },
  {
   "cell_type": "markdown",
   "id": "99c6662b",
   "metadata": {},
   "source": [
    "### 8. In order to prepare for the test, a student knows that there will be one question in the exam that is either form A, B, or C. The chances of getting an A, B, or C on the exam are 30 percent, 20%, and 50 percent, respectively. During the planning, the student solved 9 of 10 type A problems, 2 of 10 type B problems, and 6 of 10 type C problems.\n",
    "\n",
    "1. What is the likelihood that the student can solve the exam problem?\n",
    "\n",
    "2. Given the student's solution, what is the likelihood that the problem was of form A?\n",
    "\n",
    "i. The probability that the student can solve the exam problem is the weighted sum of the probability of getting each type of problem:\n",
    "P(can solve) = 0.3 * 9/10 + 0.2 * 2/10 + 0.5 * 6/10 = 0.54\n",
    "\n",
    "So there is a 54% chance that the student can solve the exam problem.\n",
    "\n",
    "ii. Given that the student has solved the problem, we want to find the probability that the problem was of form A. Using Bayes' theorem, we can write:\n",
    "P(A|S) = P(S|A) * P(A) / P(S)\n",
    "\n",
    "where P(S) is the probability of the student solving the problem, which we have already calculated as 0.53. We also know that P(A) = 0.3 and P(S|A) = 0.9. Substituting these values, we get:\n",
    "\n",
    "P(A|S) = 0.9 * 0.3 / 0.53 = 0.5094\n",
    "\n",
    "Therefore, the likelihood that the problem was of form A, given that the student has solved the problem, is 0.5094 or about 51%."
   ]
  },
  {
   "cell_type": "markdown",
   "id": "cc487158",
   "metadata": {},
   "source": [
    "### 9. A bank installs a CCTV system to track and photograph incoming customers. Despite the constant influx of customers, we divide the timeline into 5 minute bins. There may be a customer coming into the bank with a 5% chance in each 5-minute time period, or there may be no customer (again, for simplicity, we assume that either there is 1 customer or none, not the case of multiple customers). If there is a client, the CCTV will detect them with a 99 percent probability. If there is no customer, the camera can take a false photograph with a 10% chance of detecting movement from other objects.\n",
    "\n",
    "1. How many customers come into the bank on a daily basis (10 hours)?\n",
    "\n",
    "2. On a daily basis, how many fake photographs (photographs taken when there is no customer) and how many missed photographs (photographs taken when there is a customer) are there?\n",
    "\n",
    "3. Explain likelihood that there is a customer if there is a photograph?\n",
    "\n"
   ]
  },
  {
   "cell_type": "markdown",
   "id": "36eaa6a2",
   "metadata": {},
   "source": [
    "### 10. Create the conditional probability table associated with the node Won Toss in the Bayesian Belief network to represent the conditional independence assumptions of the Nave Bayes classifier for the match winning prediction problem in Section 6.4.4.\n"
   ]
  }
 ],
 "metadata": {
  "kernelspec": {
   "display_name": "Python 3 (ipykernel)",
   "language": "python",
   "name": "python3"
  },
  "language_info": {
   "codemirror_mode": {
    "name": "ipython",
    "version": 3
   },
   "file_extension": ".py",
   "mimetype": "text/x-python",
   "name": "python",
   "nbconvert_exporter": "python",
   "pygments_lexer": "ipython3",
   "version": "3.9.12"
  }
 },
 "nbformat": 4,
 "nbformat_minor": 5
}
