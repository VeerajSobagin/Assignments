{
 "cells": [
  {
   "cell_type": "markdown",
   "id": "cc5fc0a5",
   "metadata": {},
   "source": [
    "### 1. In a linear equation, what is the difference between a dependent variable and an independent variable?\n",
    "The dependent variable in a linear equation is the variable that is being predicted or explained, while the independent variable is the variable used to make that prediction or explanation."
   ]
  },
  {
   "cell_type": "markdown",
   "id": "40c85dd2",
   "metadata": {},
   "source": [
    "### 2. What is the concept of simple linear regression? Give a specific example.\n",
    "Simple linear regression is a statistical method used to study the relationship between two continuous variables, where one variable is the predictor or independent variable and the other variable is the outcome or dependent variable. For example, studying the relationship between years of education and salary."
   ]
  },
  {
   "cell_type": "markdown",
   "id": "d755456a",
   "metadata": {},
   "source": [
    "### 3. In a linear regression, define the slope.\n",
    "The slope in a linear regression equation represents the change in the dependent variable for every one-unit change in the independent variable."
   ]
  },
  {
   "cell_type": "markdown",
   "id": "b9280136",
   "metadata": {},
   "source": [
    "### 4. Determine the graph's slope, where the lower point on the line is represented as (3, 2) and the higher point is represented as (2, 2).\n",
    "The slope of the line is undefined because the two points have the same y-coordinate, making the line vertical."
   ]
  },
  {
   "cell_type": "markdown",
   "id": "b19e03fe",
   "metadata": {},
   "source": [
    "### 5. In linear regression, what are the conditions for a positive slope?\n",
    "A positive slope occurs when the independent variable increases, and the dependent variable also increases."
   ]
  },
  {
   "cell_type": "markdown",
   "id": "2479bf82",
   "metadata": {},
   "source": [
    "### 6. In linear regression, what are the conditions for a negative slope?\n",
    "A negative slope occurs when the independent variable increases, and the dependent variable decreases."
   ]
  },
  {
   "cell_type": "markdown",
   "id": "a22a9fa3",
   "metadata": {},
   "source": [
    "### 7. What is multiple linear regression and how does it work?\n",
    "Multiple linear regression is a statistical method used to study the relationship between multiple predictor variables and a single outcome variable. For example, studying the relationship between years of education, work experience, and age on salary."
   ]
  },
  {
   "cell_type": "markdown",
   "id": "b8efcf6c",
   "metadata": {},
   "source": [
    "### 8. In multiple linear regression, define the number of squares due to error.\n",
    "The sum of the squared differences between the predicted values and the actual values is known as the sum of squares due to error."
   ]
  },
  {
   "cell_type": "markdown",
   "id": "cfb48b47",
   "metadata": {},
   "source": [
    "### 9. In multiple linear regression, define the number of squares due to regression.\n",
    "The sum of the squared differences between the predicted values and the mean value of the dependent variable is known as the sum of squares due to regression."
   ]
  },
  {
   "cell_type": "markdown",
   "id": "9bef6847",
   "metadata": {},
   "source": [
    "### 10 In a regression equation, what is multicollinearity?\n",
    "Multicollinearity is a phenomenon in which predictor variables in a regression model are highly correlated, making it difficult to interpret the impact of each predictor variable on the outcome variable."
   ]
  },
  {
   "cell_type": "markdown",
   "id": "3feb5a2e",
   "metadata": {},
   "source": [
    "### 11. What is heteroskedasticity, and what does it mean?\n",
    "Heteroskedasticity occurs when the variance of the error term is not constant across different levels of the predictor variable. This violates one of the assumptions of linear regression and can lead to biased estimates."
   ]
  },
  {
   "cell_type": "markdown",
   "id": "c4b2517a",
   "metadata": {},
   "source": [
    "### 12. Describe the concept of ridge regression.\n",
    "Ridge regression is a method used to address multicollinearity in which a penalty term is added to the regression equation to shrink the estimates of the predictor variables towards zero."
   ]
  },
  {
   "cell_type": "markdown",
   "id": "ff06d048",
   "metadata": {},
   "source": [
    "### 13. Describe the concept of lasso regression.\n",
    "Lasso regression is a method used to address multicollinearity in which a penalty term is added to the regression equation to set some of the estimates of the predictor variables to zero."
   ]
  },
  {
   "cell_type": "markdown",
   "id": "a556361a",
   "metadata": {},
   "source": [
    "### 14. What is polynomial regression and how does it work?\n",
    "Polynomial regression is a statistical method used to study the relationship between two continuous variables when a linear relationship does not exist. This is done by adding polynomial terms of the independent variable to the regression equation."
   ]
  },
  {
   "cell_type": "markdown",
   "id": "02460c35",
   "metadata": {},
   "source": [
    "### 15. Describe the basis function.\n",
    "A basis function is a function used in polynomial regression to transform the independent variable into a different form, such as a quadratic or cubic term."
   ]
  },
  {
   "cell_type": "markdown",
   "id": "ff7d3d81",
   "metadata": {},
   "source": [
    "### 16. Describe how logistic regression works.\n",
    "Logistic regression is a statistical method used to model the relationship between a binary outcome variable and one or more predictor variables. The logistic regression model estimates the probability of the binary outcome based on the values of the predictor variables."
   ]
  }
 ],
 "metadata": {
  "kernelspec": {
   "display_name": "Python 3 (ipykernel)",
   "language": "python",
   "name": "python3"
  },
  "language_info": {
   "codemirror_mode": {
    "name": "ipython",
    "version": 3
   },
   "file_extension": ".py",
   "mimetype": "text/x-python",
   "name": "python",
   "nbconvert_exporter": "python",
   "pygments_lexer": "ipython3",
   "version": "3.9.12"
  }
 },
 "nbformat": 4,
 "nbformat_minor": 5
}
