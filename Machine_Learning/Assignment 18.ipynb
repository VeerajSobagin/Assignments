{
 "cells": [
  {
   "cell_type": "markdown",
   "id": "0be08502",
   "metadata": {},
   "source": [
    "### 1. What is the difference between supervised and unsupervised learning? Give some examples to illustrate your point.\n",
    "Supervised learning involves training a model with labeled data, while unsupervised learning involves finding patterns and relationships in unlabeled data. Examples of supervised learning include image classification and spam detection, while examples of unsupervised learning include anomaly detection and clustering."
   ]
  },
  {
   "cell_type": "markdown",
   "id": "834c2128",
   "metadata": {},
   "source": [
    "### 2. Mention a few unsupervised learning applications.\n",
    "Unsupervised learning applications include anomaly detection, clustering, and dimensionality reduction."
   ]
  },
  {
   "cell_type": "markdown",
   "id": "f233d5aa",
   "metadata": {},
   "source": [
    "### 3. What are the three main types of clustering methods? Briefly describe the characteristics of each.\n",
    "The three main types of clustering methods are partitioning, hierarchical, and density-based. Partitioning methods involve dividing data into non-overlapping clusters, while hierarchical methods involve creating a tree-like structure of nested clusters. Density-based methods involve finding areas of high density to create clusters."
   ]
  },
  {
   "cell_type": "markdown",
   "id": "55e5d5e0",
   "metadata": {},
   "source": [
    "### 4. Explain how the k-means algorithm determines the consistency of clustering.\n",
    "The k-means algorithm determines the consistency of clustering by minimizing the sum of the squared distances between data points and their assigned cluster centers."
   ]
  },
  {
   "cell_type": "markdown",
   "id": "9d95ca4a",
   "metadata": {},
   "source": [
    "### 5. With a simple illustration, explain the key difference between the k-means and k-medoids algorithms.\n",
    "The key difference between the k-means and k-medoids algorithms is that k-means uses the mean of data points as the cluster center, while k-medoids uses an actual data point as the cluster center."
   ]
  },
  {
   "cell_type": "markdown",
   "id": "6263c8d5",
   "metadata": {},
   "source": [
    "### 6. What is a dendrogram, and how does it work? Explain how to do it.\n",
    "A dendrogram is a tree-like diagram that shows the hierarchical relationship between data points. It works by grouping similar data points together and creating a tree-like structure of nested clusters."
   ]
  },
  {
   "cell_type": "markdown",
   "id": "c30c32a8",
   "metadata": {},
   "source": [
    "### 7. What exactly is SSE? What role does it play in the k-means algorithm?\n",
    "SSE (Sum of Squared Errors) is a measure of how spread out data points are from their assigned cluster centers. It plays a role in the k-means algorithm by minimizing the SSE to determine the optimal number of clusters."
   ]
  },
  {
   "cell_type": "markdown",
   "id": "73732cd1",
   "metadata": {},
   "source": [
    "### 8. With a step-by-step algorithm, explain the k-means procedure.\n",
    "The k-means procedure involves initializing cluster centers, assigning data points to the nearest cluster center, recalculating cluster centers, and repeating until convergence."
   ]
  },
  {
   "cell_type": "markdown",
   "id": "71b40c4b",
   "metadata": {},
   "source": [
    "### 9. In the sense of hierarchical clustering, define the terms single link and complete link.\n",
    "In hierarchical clustering, single link refers to the method of measuring distance between clusters based on the shortest distance between any two points in the clusters, while complete link refers to the method of measuring distance based on the farthest distance between any two points in the clusters."
   ]
  },
  {
   "cell_type": "markdown",
   "id": "cd747aa3",
   "metadata": {},
   "source": [
    "### 10. How does the apriori concept aid in the reduction of measurement overhead in a business basket analysis? Give an example to demonstrate your point.\n",
    "The apriori concept aids in the reduction of measurement overhead in business basket analysis by identifying frequent itemsets and reducing the number of itemsets that need to be measured. For example, if the frequent itemset {bread, milk} is identified, it can be measured as a single itemset instead of measuring bread and milk separately."
   ]
  }
 ],
 "metadata": {
  "kernelspec": {
   "display_name": "Python 3 (ipykernel)",
   "language": "python",
   "name": "python3"
  },
  "language_info": {
   "codemirror_mode": {
    "name": "ipython",
    "version": 3
   },
   "file_extension": ".py",
   "mimetype": "text/x-python",
   "name": "python",
   "nbconvert_exporter": "python",
   "pygments_lexer": "ipython3",
   "version": "3.9.12"
  }
 },
 "nbformat": 4,
 "nbformat_minor": 5
}
